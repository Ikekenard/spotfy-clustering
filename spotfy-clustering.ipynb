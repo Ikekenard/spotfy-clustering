{
 "cells": [
  {
   "cell_type": "markdown",
   "metadata": {},
   "source": [
    "## Clustering aplicado: recomendando músicas com K-Means"
   ]
  },
  {
   "cell_type": "markdown",
   "metadata": {
    "vscode": {
     "languageId": "plaintext"
    }
   },
   "source": [
    "## Aula 1: Etendendo o problema"
   ]
  },
  {
   "cell_type": "markdown",
   "metadata": {},
   "source": [
    "Bases udadas:\n",
    "\n",
    "* Dados gerais de músicas\n",
    "\n",
    "* Dados relacionados à gêneros\n",
    "\n",
    "* Dados relacionados aos anos"
   ]
  },
  {
   "cell_type": "markdown",
   "metadata": {},
   "source": [
    "### `Meta data`"
   ]
  },
  {
   "cell_type": "markdown",
   "metadata": {},
   "source": [
    "* `Acousticness/Acústica:` Variável numérica, medida de confiança de 0,0 a 1,0 se a faixa é acústica. 1.0 representa alta confiança de que a faixa é acústica.\n",
    "\n",
    "* `Danceability/Dançabilidade:` Variável numérica, a dançabilidade descreve o quão adequada uma faixa é para dançar com base em uma combinação de elementos musicais, incluindo tempo, estabilidade do ritmo, força da batida e regularidade geral. Um valor de 0,0 é o menos dançável e 1,0 é o mais dançável.\n",
    "\n",
    "* `Duration_ms:` Variável numérica, a duração da trilha em milissegundos.\n",
    "\n",
    "* `Duration_min:` Variável numérica, a duração da faixa em minutos.\n",
    "\n",
    "* `Energy/Energia:` Variável numérica, Energia é uma medida de 0,0 a 1,0 e representa uma medida perceptiva de intensidade e atividade. Normalmente, as faixas energéticas parecem rápidas, altas e barulhentas. Por exemplo, o death metal tem alta energia, enquanto um prelúdio de Bach tem uma pontuação baixa na escala. As características perceptivas que contribuem para este atributo incluem faixa dinâmica, intensidade percebida, timbre, taxa de início e entropia geral.\n",
    "\n",
    "* `Explicit/Explícito:` Variável categórica, se a faixa tem ou não letras explícitas (verdadeiro = sim (1); falso = não(0), não OU desconhecido).\n",
    "\n",
    "* `Id:` O ID do Spotify para a faixa.\n",
    "\n",
    "* `Instrumentalness/Instrumentalidade:` Variável numérica, prevê se uma faixa não contém vocais. Os sons “Ooh” e “aah” são tratados como instrumentais neste contexto. Faixas de rap ou de palavras faladas são claramente “vocais”. Quanto mais próximo o valor de instrumentalidade estiver de 1,0, maior a probabilidade de a faixa não conter conteúdo vocal. Valores acima de 0,5 destinam-se a representar faixas instrumentais, mas a confiança é maior à medida que o valor se aproxima de 1,0.\n",
    "\n",
    "* `Key/Chave:` Variável numérica, a chave geral estimada da faixa. Os inteiros são mapeados para pitchs usando a notação padrão de Pitch Class. Por exemplo. 0 = C, 1 = C#/Db, 2 = D, e assim por diante. Se nenhuma chave foi detectada, o valor é -1.\n",
    "\n",
    "* `Liveness/ Ao vivo:` Variável numérica, detecta a presença de um público na gravação. Valores mais altos de vivacidade representam uma probabilidade maior de que a faixa tenha sido executada ao vivo. Um valor acima de 0,8 fornece uma forte probabilidade de que a faixa esteja ativa.\n",
    "\n",
    "* `Loudness/ Volume em dB:` Variável numérica, volume geral de uma faixa em decibéis (dB). Os valores de volume são calculados em média em toda a faixa e são úteis para comparar o volume relativo das faixas. A sonoridade é a qualidade de um som que é o principal correlato psicológico da força física (amplitude). Os valores típicos variam entre -60 e 0 db.\n",
    "\n",
    "* `Mode/ Modo:` Variável numérica, o modo indica a modalidade (maior ou menor) de uma faixa, o tipo de escala da qual seu conteúdo melódico é derivado. Maior é representado por 1 e menor é 0.\n",
    "\n",
    "* `Popularity/Popularidade:` Variável numérica, a popularidade de uma faixa é um valor entre 0 e 100, sendo 100 o mais popular. A popularidade é calculada por algoritmo e é baseada, em grande parte, no número total de execuções que a faixa teve e quão recentes são essas execuções.\n",
    "\n",
    "* `Speechiness/Fala:` Variável numérica, a fala detecta a presença de palavras faladas em uma faixa. Quanto mais exclusivamente falada a gravação (por exemplo, talk show, audiolivro, poesia), mais próximo de 1,0 o valor do atributo. Valores acima de 0,66 descrevem faixas que provavelmente são feitas inteiramente de palavras faladas. Valores entre 0,33 e 0,66 descrevem faixas que podem conter música e fala, seja em seções ou em camadas, incluindo casos como música rap. Os valores abaixo de 0,33 provavelmente representam músicas e outras faixas que não são de fala.\n",
    "\n",
    "* `Tempo:` Variável numérica, Tempo estimado geral de uma faixa em batidas por minuto (BPM). Na terminologia musical, tempo é a velocidade ou ritmo de uma determinada peça e deriva diretamente da duração média da batida.\n",
    "\n",
    "* `Valence/Valência:` Variável numérica, Medida de 0,0 a 1,0 descrevendo a positividade musical transmitida por uma faixa. Faixas com alta valência soam mais positivas (por exemplo, feliz, alegre, eufórica), enquanto faixas com baixa valência soam mais negativas (por exemplo, triste, deprimida, irritada).\n",
    "\n",
    "* `Year/Ano:` Ano em que a música foi lançada.\n"
   ]
  },
  {
   "cell_type": "markdown",
   "metadata": {
    "vscode": {
     "languageId": "plaintext"
    }
   },
   "source": [
    "### `Preparando ambiente`"
   ]
  },
  {
   "cell_type": "code",
   "execution_count": 1,
   "metadata": {},
   "outputs": [
    {
     "name": "stderr",
     "output_type": "stream",
     "text": [
      "/home/ike/.local/lib/python3.10/site-packages/pandas/core/arrays/masked.py:62: UserWarning: Pandas requires version '1.3.4' or newer of 'bottleneck' (version '1.3.2' currently installed).\n",
      "  from pandas.core import (\n"
     ]
    }
   ],
   "source": [
    "import pandas as pd\n",
    "import numpy as np\n",
    "import plotly.express as px\n",
    "import matplotlib.pyplot as plt"
   ]
  },
  {
   "cell_type": "markdown",
   "metadata": {},
   "source": [
    "### `Análise dos dados`"
   ]
  },
  {
   "cell_type": "code",
   "execution_count": 2,
   "metadata": {},
   "outputs": [],
   "source": [
    "# Importando os dados\n",
    "df = pd.read_csv('https://raw.githubusercontent.com/sthemonica/music-clustering/main/Dados/Dados_totais.csv')\n",
    "df_generos = pd.read_csv('https://raw.githubusercontent.com/sthemonica/music-clustering/main/Dados/data_by_genres.csv')\n",
    "df_anos = pd.read_csv('https://raw.githubusercontent.com/sthemonica/music-clustering/main/Dados/data_by_year.csv')"
   ]
  },
  {
   "cell_type": "markdown",
   "metadata": {},
   "source": [
    "#### Dados gerais\n",
    "---"
   ]
  },
  {
   "cell_type": "code",
   "execution_count": 3,
   "metadata": {},
   "outputs": [
    {
     "data": {
      "text/html": [
       "<div>\n",
       "<style scoped>\n",
       "    .dataframe tbody tr th:only-of-type {\n",
       "        vertical-align: middle;\n",
       "    }\n",
       "\n",
       "    .dataframe tbody tr th {\n",
       "        vertical-align: top;\n",
       "    }\n",
       "\n",
       "    .dataframe thead th {\n",
       "        text-align: right;\n",
       "    }\n",
       "</style>\n",
       "<table border=\"1\" class=\"dataframe\">\n",
       "  <thead>\n",
       "    <tr style=\"text-align: right;\">\n",
       "      <th></th>\n",
       "      <th>valence</th>\n",
       "      <th>year</th>\n",
       "      <th>acousticness</th>\n",
       "      <th>artists</th>\n",
       "      <th>danceability</th>\n",
       "      <th>duration_ms</th>\n",
       "      <th>energy</th>\n",
       "      <th>explicit</th>\n",
       "      <th>id</th>\n",
       "      <th>instrumentalness</th>\n",
       "      <th>key</th>\n",
       "      <th>liveness</th>\n",
       "      <th>loudness</th>\n",
       "      <th>mode</th>\n",
       "      <th>name</th>\n",
       "      <th>popularity</th>\n",
       "      <th>speechiness</th>\n",
       "      <th>tempo</th>\n",
       "      <th>artists_song</th>\n",
       "    </tr>\n",
       "  </thead>\n",
       "  <tbody>\n",
       "    <tr>\n",
       "      <th>0</th>\n",
       "      <td>0.285</td>\n",
       "      <td>2000</td>\n",
       "      <td>0.00239</td>\n",
       "      <td>Coldplay</td>\n",
       "      <td>0.429</td>\n",
       "      <td>266773</td>\n",
       "      <td>0.661</td>\n",
       "      <td>0</td>\n",
       "      <td>3AJwUDP919kvQ9QcozQPxg</td>\n",
       "      <td>0.000121</td>\n",
       "      <td>11</td>\n",
       "      <td>0.2340</td>\n",
       "      <td>-7.227</td>\n",
       "      <td>1</td>\n",
       "      <td>Yellow</td>\n",
       "      <td>84</td>\n",
       "      <td>0.0281</td>\n",
       "      <td>173.372</td>\n",
       "      <td>Coldplay - Yellow</td>\n",
       "    </tr>\n",
       "    <tr>\n",
       "      <th>1</th>\n",
       "      <td>0.613</td>\n",
       "      <td>2000</td>\n",
       "      <td>0.14300</td>\n",
       "      <td>OutKast</td>\n",
       "      <td>0.843</td>\n",
       "      <td>270507</td>\n",
       "      <td>0.806</td>\n",
       "      <td>1</td>\n",
       "      <td>0I3q5fE6wg7LIfHGngUTnV</td>\n",
       "      <td>0.000000</td>\n",
       "      <td>4</td>\n",
       "      <td>0.0771</td>\n",
       "      <td>-5.946</td>\n",
       "      <td>0</td>\n",
       "      <td>Ms. Jackson</td>\n",
       "      <td>80</td>\n",
       "      <td>0.2690</td>\n",
       "      <td>94.948</td>\n",
       "      <td>OutKast - Ms. Jackson</td>\n",
       "    </tr>\n",
       "  </tbody>\n",
       "</table>\n",
       "</div>"
      ],
      "text/plain": [
       "   valence  year  acousticness   artists  danceability  duration_ms  energy  \\\n",
       "0    0.285  2000       0.00239  Coldplay         0.429       266773   0.661   \n",
       "1    0.613  2000       0.14300   OutKast         0.843       270507   0.806   \n",
       "\n",
       "   explicit                      id  instrumentalness  key  liveness  \\\n",
       "0         0  3AJwUDP919kvQ9QcozQPxg          0.000121   11    0.2340   \n",
       "1         1  0I3q5fE6wg7LIfHGngUTnV          0.000000    4    0.0771   \n",
       "\n",
       "   loudness  mode         name  popularity  speechiness    tempo  \\\n",
       "0    -7.227     1       Yellow          84       0.0281  173.372   \n",
       "1    -5.946     0  Ms. Jackson          80       0.2690   94.948   \n",
       "\n",
       "            artists_song  \n",
       "0      Coldplay - Yellow  \n",
       "1  OutKast - Ms. Jackson  "
      ]
     },
     "execution_count": 3,
     "metadata": {},
     "output_type": "execute_result"
    }
   ],
   "source": [
    "df.head(2)"
   ]
  },
  {
   "cell_type": "code",
   "execution_count": 4,
   "metadata": {},
   "outputs": [
    {
     "name": "stdout",
     "output_type": "stream",
     "text": [
      "<class 'pandas.core.frame.DataFrame'>\n",
      "RangeIndex: 20311 entries, 0 to 20310\n",
      "Data columns (total 19 columns):\n",
      " #   Column            Non-Null Count  Dtype  \n",
      "---  ------            --------------  -----  \n",
      " 0   valence           20311 non-null  float64\n",
      " 1   year              20311 non-null  int64  \n",
      " 2   acousticness      20311 non-null  float64\n",
      " 3   artists           20311 non-null  object \n",
      " 4   danceability      20311 non-null  float64\n",
      " 5   duration_ms       20311 non-null  int64  \n",
      " 6   energy            20311 non-null  float64\n",
      " 7   explicit          20311 non-null  int64  \n",
      " 8   id                20311 non-null  object \n",
      " 9   instrumentalness  20311 non-null  float64\n",
      " 10  key               20311 non-null  int64  \n",
      " 11  liveness          20311 non-null  float64\n",
      " 12  loudness          20311 non-null  float64\n",
      " 13  mode              20311 non-null  int64  \n",
      " 14  name              20311 non-null  object \n",
      " 15  popularity        20311 non-null  int64  \n",
      " 16  speechiness       20311 non-null  float64\n",
      " 17  tempo             20311 non-null  float64\n",
      " 18  artists_song      20311 non-null  object \n",
      "dtypes: float64(9), int64(6), object(4)\n",
      "memory usage: 2.9+ MB\n"
     ]
    }
   ],
   "source": [
    "df.info()"
   ]
  },
  {
   "cell_type": "code",
   "execution_count": 5,
   "metadata": {},
   "outputs": [
    {
     "data": {
      "text/plain": [
       "array([2000, 2001, 2002, 2003, 2004, 2005, 2006, 2007, 2008, 2009, 2010,\n",
       "       2011, 2012, 2013, 2014, 2015, 2016, 2017, 2018, 2019, 2020])"
      ]
     },
     "execution_count": 5,
     "metadata": {},
     "output_type": "execute_result"
    }
   ],
   "source": [
    "# Checando os anos das musicas\n",
    "\n",
    "df['year'].unique()"
   ]
  },
  {
   "cell_type": "code",
   "execution_count": 6,
   "metadata": {},
   "outputs": [
    {
     "data": {
      "text/plain": [
       "(20311, 19)"
      ]
     },
     "execution_count": 6,
     "metadata": {},
     "output_type": "execute_result"
    }
   ],
   "source": [
    "# Verificando dimensções do df\n",
    "\n",
    "df.shape"
   ]
  },
  {
   "cell_type": "code",
   "execution_count": 7,
   "metadata": {},
   "outputs": [
    {
     "name": "stdout",
     "output_type": "stream",
     "text": [
      "(20311, 16)\n"
     ]
    },
    {
     "data": {
      "text/html": [
       "<div>\n",
       "<style scoped>\n",
       "    .dataframe tbody tr th:only-of-type {\n",
       "        vertical-align: middle;\n",
       "    }\n",
       "\n",
       "    .dataframe tbody tr th {\n",
       "        vertical-align: top;\n",
       "    }\n",
       "\n",
       "    .dataframe thead th {\n",
       "        text-align: right;\n",
       "    }\n",
       "</style>\n",
       "<table border=\"1\" class=\"dataframe\">\n",
       "  <thead>\n",
       "    <tr style=\"text-align: right;\">\n",
       "      <th></th>\n",
       "      <th>valence</th>\n",
       "      <th>year</th>\n",
       "      <th>acousticness</th>\n",
       "      <th>artists</th>\n",
       "      <th>danceability</th>\n",
       "      <th>duration_ms</th>\n",
       "      <th>energy</th>\n",
       "      <th>id</th>\n",
       "      <th>instrumentalness</th>\n",
       "      <th>liveness</th>\n",
       "      <th>loudness</th>\n",
       "      <th>name</th>\n",
       "      <th>popularity</th>\n",
       "      <th>speechiness</th>\n",
       "      <th>tempo</th>\n",
       "      <th>artists_song</th>\n",
       "    </tr>\n",
       "  </thead>\n",
       "  <tbody>\n",
       "    <tr>\n",
       "      <th>0</th>\n",
       "      <td>0.285</td>\n",
       "      <td>2000</td>\n",
       "      <td>0.00239</td>\n",
       "      <td>Coldplay</td>\n",
       "      <td>0.429</td>\n",
       "      <td>266773</td>\n",
       "      <td>0.661</td>\n",
       "      <td>3AJwUDP919kvQ9QcozQPxg</td>\n",
       "      <td>0.000121</td>\n",
       "      <td>0.2340</td>\n",
       "      <td>-7.227</td>\n",
       "      <td>Yellow</td>\n",
       "      <td>84</td>\n",
       "      <td>0.0281</td>\n",
       "      <td>173.372</td>\n",
       "      <td>Coldplay - Yellow</td>\n",
       "    </tr>\n",
       "    <tr>\n",
       "      <th>1</th>\n",
       "      <td>0.613</td>\n",
       "      <td>2000</td>\n",
       "      <td>0.14300</td>\n",
       "      <td>OutKast</td>\n",
       "      <td>0.843</td>\n",
       "      <td>270507</td>\n",
       "      <td>0.806</td>\n",
       "      <td>0I3q5fE6wg7LIfHGngUTnV</td>\n",
       "      <td>0.000000</td>\n",
       "      <td>0.0771</td>\n",
       "      <td>-5.946</td>\n",
       "      <td>Ms. Jackson</td>\n",
       "      <td>80</td>\n",
       "      <td>0.2690</td>\n",
       "      <td>94.948</td>\n",
       "      <td>OutKast - Ms. Jackson</td>\n",
       "    </tr>\n",
       "  </tbody>\n",
       "</table>\n",
       "</div>"
      ],
      "text/plain": [
       "   valence  year  acousticness   artists  danceability  duration_ms  energy  \\\n",
       "0    0.285  2000       0.00239  Coldplay         0.429       266773   0.661   \n",
       "1    0.613  2000       0.14300   OutKast         0.843       270507   0.806   \n",
       "\n",
       "                       id  instrumentalness  liveness  loudness         name  \\\n",
       "0  3AJwUDP919kvQ9QcozQPxg          0.000121    0.2340    -7.227       Yellow   \n",
       "1  0I3q5fE6wg7LIfHGngUTnV          0.000000    0.0771    -5.946  Ms. Jackson   \n",
       "\n",
       "   popularity  speechiness    tempo           artists_song  \n",
       "0          84       0.0281  173.372      Coldplay - Yellow  \n",
       "1          80       0.2690   94.948  OutKast - Ms. Jackson  "
      ]
     },
     "execution_count": 7,
     "metadata": {},
     "output_type": "execute_result"
    }
   ],
   "source": [
    "# Removendo 'explicit', 'key', 'mode' do conjunto de dados\n",
    "\n",
    "df.drop(columns=['explicit', 'key', 'mode'], inplace=True)\n",
    "print(df.shape)\n",
    "df.head(2)"
   ]
  },
  {
   "cell_type": "code",
   "execution_count": 8,
   "metadata": {},
   "outputs": [
    {
     "data": {
      "text/plain": [
       "valence             0\n",
       "year                0\n",
       "acousticness        0\n",
       "artists             0\n",
       "danceability        0\n",
       "duration_ms         0\n",
       "energy              0\n",
       "id                  0\n",
       "instrumentalness    0\n",
       "liveness            0\n",
       "loudness            0\n",
       "name                0\n",
       "popularity          0\n",
       "speechiness         0\n",
       "tempo               0\n",
       "artists_song        0\n",
       "dtype: int64"
      ]
     },
     "execution_count": 8,
     "metadata": {},
     "output_type": "execute_result"
    }
   ],
   "source": [
    "# Checando valores nulos \n",
    "\n",
    "df.isna().sum()"
   ]
  },
  {
   "cell_type": "markdown",
   "metadata": {},
   "source": [
    "#### Dados_gereneros\n",
    "---"
   ]
  },
  {
   "cell_type": "code",
   "execution_count": 9,
   "metadata": {},
   "outputs": [
    {
     "data": {
      "text/html": [
       "<div>\n",
       "<style scoped>\n",
       "    .dataframe tbody tr th:only-of-type {\n",
       "        vertical-align: middle;\n",
       "    }\n",
       "\n",
       "    .dataframe tbody tr th {\n",
       "        vertical-align: top;\n",
       "    }\n",
       "\n",
       "    .dataframe thead th {\n",
       "        text-align: right;\n",
       "    }\n",
       "</style>\n",
       "<table border=\"1\" class=\"dataframe\">\n",
       "  <thead>\n",
       "    <tr style=\"text-align: right;\">\n",
       "      <th></th>\n",
       "      <th>mode</th>\n",
       "      <th>genres</th>\n",
       "      <th>acousticness</th>\n",
       "      <th>danceability</th>\n",
       "      <th>duration_ms</th>\n",
       "      <th>energy</th>\n",
       "      <th>instrumentalness</th>\n",
       "      <th>liveness</th>\n",
       "      <th>loudness</th>\n",
       "      <th>speechiness</th>\n",
       "      <th>tempo</th>\n",
       "      <th>valence</th>\n",
       "      <th>popularity</th>\n",
       "      <th>key</th>\n",
       "    </tr>\n",
       "  </thead>\n",
       "  <tbody>\n",
       "    <tr>\n",
       "      <th>0</th>\n",
       "      <td>1</td>\n",
       "      <td>21st century classical</td>\n",
       "      <td>0.979333</td>\n",
       "      <td>0.162883</td>\n",
       "      <td>1.602977e+05</td>\n",
       "      <td>0.071317</td>\n",
       "      <td>0.606834</td>\n",
       "      <td>0.3616</td>\n",
       "      <td>-31.514333</td>\n",
       "      <td>0.040567</td>\n",
       "      <td>75.336500</td>\n",
       "      <td>0.103783</td>\n",
       "      <td>27.833333</td>\n",
       "      <td>6</td>\n",
       "    </tr>\n",
       "    <tr>\n",
       "      <th>1</th>\n",
       "      <td>1</td>\n",
       "      <td>432hz</td>\n",
       "      <td>0.494780</td>\n",
       "      <td>0.299333</td>\n",
       "      <td>1.048887e+06</td>\n",
       "      <td>0.450678</td>\n",
       "      <td>0.477762</td>\n",
       "      <td>0.1310</td>\n",
       "      <td>-16.854000</td>\n",
       "      <td>0.076817</td>\n",
       "      <td>120.285667</td>\n",
       "      <td>0.221750</td>\n",
       "      <td>52.500000</td>\n",
       "      <td>5</td>\n",
       "    </tr>\n",
       "  </tbody>\n",
       "</table>\n",
       "</div>"
      ],
      "text/plain": [
       "   mode                  genres  acousticness  danceability   duration_ms  \\\n",
       "0     1  21st century classical      0.979333      0.162883  1.602977e+05   \n",
       "1     1                   432hz      0.494780      0.299333  1.048887e+06   \n",
       "\n",
       "     energy  instrumentalness  liveness   loudness  speechiness       tempo  \\\n",
       "0  0.071317          0.606834    0.3616 -31.514333     0.040567   75.336500   \n",
       "1  0.450678          0.477762    0.1310 -16.854000     0.076817  120.285667   \n",
       "\n",
       "    valence  popularity  key  \n",
       "0  0.103783   27.833333    6  \n",
       "1  0.221750   52.500000    5  "
      ]
     },
     "execution_count": 9,
     "metadata": {},
     "output_type": "execute_result"
    }
   ],
   "source": [
    "df_generos.head(2)"
   ]
  },
  {
   "cell_type": "code",
   "execution_count": 10,
   "metadata": {},
   "outputs": [
    {
     "name": "stdout",
     "output_type": "stream",
     "text": [
      "(2973, 12)\n"
     ]
    },
    {
     "data": {
      "text/html": [
       "<div>\n",
       "<style scoped>\n",
       "    .dataframe tbody tr th:only-of-type {\n",
       "        vertical-align: middle;\n",
       "    }\n",
       "\n",
       "    .dataframe tbody tr th {\n",
       "        vertical-align: top;\n",
       "    }\n",
       "\n",
       "    .dataframe thead th {\n",
       "        text-align: right;\n",
       "    }\n",
       "</style>\n",
       "<table border=\"1\" class=\"dataframe\">\n",
       "  <thead>\n",
       "    <tr style=\"text-align: right;\">\n",
       "      <th></th>\n",
       "      <th>genres</th>\n",
       "      <th>acousticness</th>\n",
       "      <th>danceability</th>\n",
       "      <th>duration_ms</th>\n",
       "      <th>energy</th>\n",
       "      <th>instrumentalness</th>\n",
       "      <th>liveness</th>\n",
       "      <th>loudness</th>\n",
       "      <th>speechiness</th>\n",
       "      <th>tempo</th>\n",
       "      <th>valence</th>\n",
       "      <th>popularity</th>\n",
       "    </tr>\n",
       "  </thead>\n",
       "  <tbody>\n",
       "    <tr>\n",
       "      <th>0</th>\n",
       "      <td>21st century classical</td>\n",
       "      <td>0.979333</td>\n",
       "      <td>0.162883</td>\n",
       "      <td>1.602977e+05</td>\n",
       "      <td>0.071317</td>\n",
       "      <td>0.606834</td>\n",
       "      <td>0.3616</td>\n",
       "      <td>-31.514333</td>\n",
       "      <td>0.040567</td>\n",
       "      <td>75.336500</td>\n",
       "      <td>0.103783</td>\n",
       "      <td>27.833333</td>\n",
       "    </tr>\n",
       "    <tr>\n",
       "      <th>1</th>\n",
       "      <td>432hz</td>\n",
       "      <td>0.494780</td>\n",
       "      <td>0.299333</td>\n",
       "      <td>1.048887e+06</td>\n",
       "      <td>0.450678</td>\n",
       "      <td>0.477762</td>\n",
       "      <td>0.1310</td>\n",
       "      <td>-16.854000</td>\n",
       "      <td>0.076817</td>\n",
       "      <td>120.285667</td>\n",
       "      <td>0.221750</td>\n",
       "      <td>52.500000</td>\n",
       "    </tr>\n",
       "  </tbody>\n",
       "</table>\n",
       "</div>"
      ],
      "text/plain": [
       "                   genres  acousticness  danceability   duration_ms    energy  \\\n",
       "0  21st century classical      0.979333      0.162883  1.602977e+05  0.071317   \n",
       "1                   432hz      0.494780      0.299333  1.048887e+06  0.450678   \n",
       "\n",
       "   instrumentalness  liveness   loudness  speechiness       tempo   valence  \\\n",
       "0          0.606834    0.3616 -31.514333     0.040567   75.336500  0.103783   \n",
       "1          0.477762    0.1310 -16.854000     0.076817  120.285667  0.221750   \n",
       "\n",
       "   popularity  \n",
       "0   27.833333  \n",
       "1   52.500000  "
      ]
     },
     "execution_count": 10,
     "metadata": {},
     "output_type": "execute_result"
    }
   ],
   "source": [
    "# Removendo 'key' e 'mode' por não serem colunas de intesse\n",
    "df_generos.drop(columns=['key', 'mode'], inplace=True)\n",
    "print(df_generos.shape)\n",
    "df_generos.head(2)"
   ]
  },
  {
   "cell_type": "code",
   "execution_count": 11,
   "metadata": {},
   "outputs": [
    {
     "data": {
      "text/plain": [
       "genres              0\n",
       "acousticness        0\n",
       "danceability        0\n",
       "duration_ms         0\n",
       "energy              0\n",
       "instrumentalness    0\n",
       "liveness            0\n",
       "loudness            0\n",
       "speechiness         0\n",
       "tempo               0\n",
       "valence             0\n",
       "popularity          0\n",
       "dtype: int64"
      ]
     },
     "execution_count": 11,
     "metadata": {},
     "output_type": "execute_result"
    }
   ],
   "source": [
    "df_generos.isna().sum()"
   ]
  },
  {
   "cell_type": "markdown",
   "metadata": {},
   "source": [
    "#### Dados_anos\n",
    "---"
   ]
  },
  {
   "cell_type": "code",
   "execution_count": 12,
   "metadata": {},
   "outputs": [
    {
     "data": {
      "text/html": [
       "<div>\n",
       "<style scoped>\n",
       "    .dataframe tbody tr th:only-of-type {\n",
       "        vertical-align: middle;\n",
       "    }\n",
       "\n",
       "    .dataframe tbody tr th {\n",
       "        vertical-align: top;\n",
       "    }\n",
       "\n",
       "    .dataframe thead th {\n",
       "        text-align: right;\n",
       "    }\n",
       "</style>\n",
       "<table border=\"1\" class=\"dataframe\">\n",
       "  <thead>\n",
       "    <tr style=\"text-align: right;\">\n",
       "      <th></th>\n",
       "      <th>mode</th>\n",
       "      <th>year</th>\n",
       "      <th>acousticness</th>\n",
       "      <th>danceability</th>\n",
       "      <th>duration_ms</th>\n",
       "      <th>energy</th>\n",
       "      <th>instrumentalness</th>\n",
       "      <th>liveness</th>\n",
       "      <th>loudness</th>\n",
       "      <th>speechiness</th>\n",
       "      <th>tempo</th>\n",
       "      <th>valence</th>\n",
       "      <th>popularity</th>\n",
       "      <th>key</th>\n",
       "    </tr>\n",
       "  </thead>\n",
       "  <tbody>\n",
       "    <tr>\n",
       "      <th>0</th>\n",
       "      <td>1</td>\n",
       "      <td>1921</td>\n",
       "      <td>0.886896</td>\n",
       "      <td>0.418597</td>\n",
       "      <td>260537.166667</td>\n",
       "      <td>0.231815</td>\n",
       "      <td>0.344878</td>\n",
       "      <td>0.20571</td>\n",
       "      <td>-17.048667</td>\n",
       "      <td>0.073662</td>\n",
       "      <td>101.531493</td>\n",
       "      <td>0.379327</td>\n",
       "      <td>0.653333</td>\n",
       "      <td>2</td>\n",
       "    </tr>\n",
       "    <tr>\n",
       "      <th>1</th>\n",
       "      <td>1</td>\n",
       "      <td>1922</td>\n",
       "      <td>0.938592</td>\n",
       "      <td>0.482042</td>\n",
       "      <td>165469.746479</td>\n",
       "      <td>0.237815</td>\n",
       "      <td>0.434195</td>\n",
       "      <td>0.24072</td>\n",
       "      <td>-19.275282</td>\n",
       "      <td>0.116655</td>\n",
       "      <td>100.884521</td>\n",
       "      <td>0.535549</td>\n",
       "      <td>0.140845</td>\n",
       "      <td>10</td>\n",
       "    </tr>\n",
       "  </tbody>\n",
       "</table>\n",
       "</div>"
      ],
      "text/plain": [
       "   mode  year  acousticness  danceability    duration_ms    energy  \\\n",
       "0     1  1921      0.886896      0.418597  260537.166667  0.231815   \n",
       "1     1  1922      0.938592      0.482042  165469.746479  0.237815   \n",
       "\n",
       "   instrumentalness  liveness   loudness  speechiness       tempo   valence  \\\n",
       "0          0.344878   0.20571 -17.048667     0.073662  101.531493  0.379327   \n",
       "1          0.434195   0.24072 -19.275282     0.116655  100.884521  0.535549   \n",
       "\n",
       "   popularity  key  \n",
       "0    0.653333    2  \n",
       "1    0.140845   10  "
      ]
     },
     "execution_count": 12,
     "metadata": {},
     "output_type": "execute_result"
    }
   ],
   "source": [
    "df_anos.head(2)"
   ]
  },
  {
   "cell_type": "code",
   "execution_count": 13,
   "metadata": {},
   "outputs": [
    {
     "data": {
      "text/plain": [
       "array([1921, 1922, 1923, 1924, 1925, 1926, 1927, 1928, 1929, 1930, 1931,\n",
       "       1932, 1933, 1934, 1935, 1936, 1937, 1938, 1939, 1940, 1941, 1942,\n",
       "       1943, 1944, 1945, 1946, 1947, 1948, 1949, 1950, 1951, 1952, 1953,\n",
       "       1954, 1955, 1956, 1957, 1958, 1959, 1960, 1961, 1962, 1963, 1964,\n",
       "       1965, 1966, 1967, 1968, 1969, 1970, 1971, 1972, 1973, 1974, 1975,\n",
       "       1976, 1977, 1978, 1979, 1980, 1981, 1982, 1983, 1984, 1985, 1986,\n",
       "       1987, 1988, 1989, 1990, 1991, 1992, 1993, 1994, 1995, 1996, 1997,\n",
       "       1998, 1999, 2000, 2001, 2002, 2003, 2004, 2005, 2006, 2007, 2008,\n",
       "       2009, 2010, 2011, 2012, 2013, 2014, 2015, 2016, 2017, 2018, 2019,\n",
       "       2020])"
      ]
     },
     "execution_count": 13,
     "metadata": {},
     "output_type": "execute_result"
    }
   ],
   "source": [
    "df_anos['year'].unique()"
   ]
  },
  {
   "cell_type": "code",
   "execution_count": 14,
   "metadata": {},
   "outputs": [
    {
     "data": {
      "text/html": [
       "<div>\n",
       "<style scoped>\n",
       "    .dataframe tbody tr th:only-of-type {\n",
       "        vertical-align: middle;\n",
       "    }\n",
       "\n",
       "    .dataframe tbody tr th {\n",
       "        vertical-align: top;\n",
       "    }\n",
       "\n",
       "    .dataframe thead th {\n",
       "        text-align: right;\n",
       "    }\n",
       "</style>\n",
       "<table border=\"1\" class=\"dataframe\">\n",
       "  <thead>\n",
       "    <tr style=\"text-align: right;\">\n",
       "      <th></th>\n",
       "      <th>year</th>\n",
       "      <th>acousticness</th>\n",
       "      <th>danceability</th>\n",
       "      <th>duration_ms</th>\n",
       "      <th>energy</th>\n",
       "      <th>instrumentalness</th>\n",
       "      <th>liveness</th>\n",
       "      <th>loudness</th>\n",
       "      <th>speechiness</th>\n",
       "      <th>tempo</th>\n",
       "      <th>valence</th>\n",
       "      <th>popularity</th>\n",
       "    </tr>\n",
       "  </thead>\n",
       "  <tbody>\n",
       "    <tr>\n",
       "      <th>0</th>\n",
       "      <td>2000</td>\n",
       "      <td>0.289323</td>\n",
       "      <td>0.590918</td>\n",
       "      <td>242724.642638</td>\n",
       "      <td>0.625413</td>\n",
       "      <td>0.101168</td>\n",
       "      <td>0.197686</td>\n",
       "      <td>-8.247766</td>\n",
       "      <td>0.089205</td>\n",
       "      <td>118.999323</td>\n",
       "      <td>0.559475</td>\n",
       "      <td>46.684049</td>\n",
       "    </tr>\n",
       "    <tr>\n",
       "      <th>1</th>\n",
       "      <td>2001</td>\n",
       "      <td>0.286842</td>\n",
       "      <td>0.583318</td>\n",
       "      <td>240307.796010</td>\n",
       "      <td>0.626986</td>\n",
       "      <td>0.107214</td>\n",
       "      <td>0.187026</td>\n",
       "      <td>-8.305095</td>\n",
       "      <td>0.089182</td>\n",
       "      <td>117.765399</td>\n",
       "      <td>0.541479</td>\n",
       "      <td>48.750125</td>\n",
       "    </tr>\n",
       "    <tr>\n",
       "      <th>2</th>\n",
       "      <td>2002</td>\n",
       "      <td>0.282624</td>\n",
       "      <td>0.576160</td>\n",
       "      <td>239503.283000</td>\n",
       "      <td>0.641270</td>\n",
       "      <td>0.088048</td>\n",
       "      <td>0.193911</td>\n",
       "      <td>-7.686640</td>\n",
       "      <td>0.084308</td>\n",
       "      <td>119.239738</td>\n",
       "      <td>0.542397</td>\n",
       "      <td>48.655500</td>\n",
       "    </tr>\n",
       "    <tr>\n",
       "      <th>3</th>\n",
       "      <td>2003</td>\n",
       "      <td>0.256471</td>\n",
       "      <td>0.575763</td>\n",
       "      <td>244670.575230</td>\n",
       "      <td>0.660165</td>\n",
       "      <td>0.083049</td>\n",
       "      <td>0.196976</td>\n",
       "      <td>-7.485545</td>\n",
       "      <td>0.093926</td>\n",
       "      <td>120.914622</td>\n",
       "      <td>0.530504</td>\n",
       "      <td>48.626407</td>\n",
       "    </tr>\n",
       "    <tr>\n",
       "      <th>4</th>\n",
       "      <td>2004</td>\n",
       "      <td>0.280559</td>\n",
       "      <td>0.567680</td>\n",
       "      <td>237378.708037</td>\n",
       "      <td>0.648868</td>\n",
       "      <td>0.077934</td>\n",
       "      <td>0.202199</td>\n",
       "      <td>-7.601655</td>\n",
       "      <td>0.094239</td>\n",
       "      <td>121.290346</td>\n",
       "      <td>0.524489</td>\n",
       "      <td>49.273143</td>\n",
       "    </tr>\n",
       "    <tr>\n",
       "      <th>5</th>\n",
       "      <td>2005</td>\n",
       "      <td>0.255764</td>\n",
       "      <td>0.572281</td>\n",
       "      <td>237229.588205</td>\n",
       "      <td>0.653209</td>\n",
       "      <td>0.090194</td>\n",
       "      <td>0.190082</td>\n",
       "      <td>-7.466159</td>\n",
       "      <td>0.093334</td>\n",
       "      <td>121.617967</td>\n",
       "      <td>0.532531</td>\n",
       "      <td>50.953333</td>\n",
       "    </tr>\n",
       "    <tr>\n",
       "      <th>6</th>\n",
       "      <td>2006</td>\n",
       "      <td>0.279986</td>\n",
       "      <td>0.568230</td>\n",
       "      <td>234042.914359</td>\n",
       "      <td>0.650326</td>\n",
       "      <td>0.077701</td>\n",
       "      <td>0.188289</td>\n",
       "      <td>-7.265501</td>\n",
       "      <td>0.085847</td>\n",
       "      <td>121.798615</td>\n",
       "      <td>0.520028</td>\n",
       "      <td>51.313846</td>\n",
       "    </tr>\n",
       "    <tr>\n",
       "      <th>7</th>\n",
       "      <td>2007</td>\n",
       "      <td>0.254081</td>\n",
       "      <td>0.563414</td>\n",
       "      <td>241049.962564</td>\n",
       "      <td>0.668305</td>\n",
       "      <td>0.072957</td>\n",
       "      <td>0.196127</td>\n",
       "      <td>-7.044536</td>\n",
       "      <td>0.084347</td>\n",
       "      <td>124.087516</td>\n",
       "      <td>0.516794</td>\n",
       "      <td>51.075897</td>\n",
       "    </tr>\n",
       "    <tr>\n",
       "      <th>8</th>\n",
       "      <td>2008</td>\n",
       "      <td>0.249192</td>\n",
       "      <td>0.579193</td>\n",
       "      <td>240107.315601</td>\n",
       "      <td>0.671461</td>\n",
       "      <td>0.063662</td>\n",
       "      <td>0.198431</td>\n",
       "      <td>-6.843804</td>\n",
       "      <td>0.077356</td>\n",
       "      <td>123.509934</td>\n",
       "      <td>0.527542</td>\n",
       "      <td>50.630179</td>\n",
       "    </tr>\n",
       "    <tr>\n",
       "      <th>9</th>\n",
       "      <td>2009</td>\n",
       "      <td>0.261929</td>\n",
       "      <td>0.564190</td>\n",
       "      <td>238140.013265</td>\n",
       "      <td>0.670749</td>\n",
       "      <td>0.075872</td>\n",
       "      <td>0.205252</td>\n",
       "      <td>-7.046015</td>\n",
       "      <td>0.085458</td>\n",
       "      <td>123.463808</td>\n",
       "      <td>0.507170</td>\n",
       "      <td>51.440816</td>\n",
       "    </tr>\n",
       "    <tr>\n",
       "      <th>10</th>\n",
       "      <td>2010</td>\n",
       "      <td>0.242687</td>\n",
       "      <td>0.572488</td>\n",
       "      <td>242811.804563</td>\n",
       "      <td>0.681778</td>\n",
       "      <td>0.082981</td>\n",
       "      <td>0.199701</td>\n",
       "      <td>-6.909904</td>\n",
       "      <td>0.081031</td>\n",
       "      <td>123.570215</td>\n",
       "      <td>0.520895</td>\n",
       "      <td>52.730159</td>\n",
       "    </tr>\n",
       "    <tr>\n",
       "      <th>11</th>\n",
       "      <td>2011</td>\n",
       "      <td>0.273183</td>\n",
       "      <td>0.552867</td>\n",
       "      <td>236998.787308</td>\n",
       "      <td>0.648301</td>\n",
       "      <td>0.103772</td>\n",
       "      <td>0.203309</td>\n",
       "      <td>-7.574986</td>\n",
       "      <td>0.087479</td>\n",
       "      <td>121.483997</td>\n",
       "      <td>0.472454</td>\n",
       "      <td>53.307387</td>\n",
       "    </tr>\n",
       "    <tr>\n",
       "      <th>12</th>\n",
       "      <td>2012</td>\n",
       "      <td>0.249953</td>\n",
       "      <td>0.570882</td>\n",
       "      <td>245807.457584</td>\n",
       "      <td>0.656571</td>\n",
       "      <td>0.085206</td>\n",
       "      <td>0.189733</td>\n",
       "      <td>-7.260550</td>\n",
       "      <td>0.081742</td>\n",
       "      <td>121.781736</td>\n",
       "      <td>0.462709</td>\n",
       "      <td>52.655013</td>\n",
       "    </tr>\n",
       "    <tr>\n",
       "      <th>13</th>\n",
       "      <td>2013</td>\n",
       "      <td>0.257488</td>\n",
       "      <td>0.571148</td>\n",
       "      <td>242267.661437</td>\n",
       "      <td>0.645597</td>\n",
       "      <td>0.098365</td>\n",
       "      <td>0.199631</td>\n",
       "      <td>-7.472039</td>\n",
       "      <td>0.093849</td>\n",
       "      <td>120.806829</td>\n",
       "      <td>0.454741</td>\n",
       "      <td>54.047065</td>\n",
       "    </tr>\n",
       "    <tr>\n",
       "      <th>14</th>\n",
       "      <td>2014</td>\n",
       "      <td>0.249313</td>\n",
       "      <td>0.589948</td>\n",
       "      <td>233728.314713</td>\n",
       "      <td>0.648795</td>\n",
       "      <td>0.076570</td>\n",
       "      <td>0.191822</td>\n",
       "      <td>-7.067440</td>\n",
       "      <td>0.084061</td>\n",
       "      <td>122.305263</td>\n",
       "      <td>0.463049</td>\n",
       "      <td>55.543142</td>\n",
       "    </tr>\n",
       "    <tr>\n",
       "      <th>15</th>\n",
       "      <td>2015</td>\n",
       "      <td>0.253952</td>\n",
       "      <td>0.593774</td>\n",
       "      <td>230029.046606</td>\n",
       "      <td>0.627064</td>\n",
       "      <td>0.106787</td>\n",
       "      <td>0.188856</td>\n",
       "      <td>-7.625639</td>\n",
       "      <td>0.096779</td>\n",
       "      <td>120.115411</td>\n",
       "      <td>0.432098</td>\n",
       "      <td>56.700608</td>\n",
       "    </tr>\n",
       "    <tr>\n",
       "      <th>16</th>\n",
       "      <td>2016</td>\n",
       "      <td>0.284171</td>\n",
       "      <td>0.600202</td>\n",
       "      <td>221396.510295</td>\n",
       "      <td>0.592855</td>\n",
       "      <td>0.093984</td>\n",
       "      <td>0.181170</td>\n",
       "      <td>-8.061056</td>\n",
       "      <td>0.104313</td>\n",
       "      <td>118.652630</td>\n",
       "      <td>0.431532</td>\n",
       "      <td>59.647190</td>\n",
       "    </tr>\n",
       "    <tr>\n",
       "      <th>17</th>\n",
       "      <td>2017</td>\n",
       "      <td>0.286099</td>\n",
       "      <td>0.612217</td>\n",
       "      <td>211115.696787</td>\n",
       "      <td>0.590421</td>\n",
       "      <td>0.097091</td>\n",
       "      <td>0.191713</td>\n",
       "      <td>-8.312630</td>\n",
       "      <td>0.110536</td>\n",
       "      <td>117.202740</td>\n",
       "      <td>0.416476</td>\n",
       "      <td>63.263554</td>\n",
       "    </tr>\n",
       "    <tr>\n",
       "      <th>18</th>\n",
       "      <td>2018</td>\n",
       "      <td>0.267633</td>\n",
       "      <td>0.663500</td>\n",
       "      <td>206001.007133</td>\n",
       "      <td>0.602435</td>\n",
       "      <td>0.054217</td>\n",
       "      <td>0.176326</td>\n",
       "      <td>-7.168785</td>\n",
       "      <td>0.127176</td>\n",
       "      <td>121.922308</td>\n",
       "      <td>0.447921</td>\n",
       "      <td>63.296243</td>\n",
       "    </tr>\n",
       "    <tr>\n",
       "      <th>19</th>\n",
       "      <td>2019</td>\n",
       "      <td>0.278299</td>\n",
       "      <td>0.644814</td>\n",
       "      <td>201024.788096</td>\n",
       "      <td>0.593224</td>\n",
       "      <td>0.077640</td>\n",
       "      <td>0.172616</td>\n",
       "      <td>-7.722192</td>\n",
       "      <td>0.121043</td>\n",
       "      <td>120.235644</td>\n",
       "      <td>0.458818</td>\n",
       "      <td>65.256542</td>\n",
       "    </tr>\n",
       "    <tr>\n",
       "      <th>20</th>\n",
       "      <td>2020</td>\n",
       "      <td>0.219931</td>\n",
       "      <td>0.692904</td>\n",
       "      <td>193728.397537</td>\n",
       "      <td>0.631232</td>\n",
       "      <td>0.016376</td>\n",
       "      <td>0.178535</td>\n",
       "      <td>-6.595067</td>\n",
       "      <td>0.141384</td>\n",
       "      <td>124.283129</td>\n",
       "      <td>0.501048</td>\n",
       "      <td>64.301970</td>\n",
       "    </tr>\n",
       "  </tbody>\n",
       "</table>\n",
       "</div>"
      ],
      "text/plain": [
       "    year  acousticness  danceability    duration_ms    energy  \\\n",
       "0   2000      0.289323      0.590918  242724.642638  0.625413   \n",
       "1   2001      0.286842      0.583318  240307.796010  0.626986   \n",
       "2   2002      0.282624      0.576160  239503.283000  0.641270   \n",
       "3   2003      0.256471      0.575763  244670.575230  0.660165   \n",
       "4   2004      0.280559      0.567680  237378.708037  0.648868   \n",
       "5   2005      0.255764      0.572281  237229.588205  0.653209   \n",
       "6   2006      0.279986      0.568230  234042.914359  0.650326   \n",
       "7   2007      0.254081      0.563414  241049.962564  0.668305   \n",
       "8   2008      0.249192      0.579193  240107.315601  0.671461   \n",
       "9   2009      0.261929      0.564190  238140.013265  0.670749   \n",
       "10  2010      0.242687      0.572488  242811.804563  0.681778   \n",
       "11  2011      0.273183      0.552867  236998.787308  0.648301   \n",
       "12  2012      0.249953      0.570882  245807.457584  0.656571   \n",
       "13  2013      0.257488      0.571148  242267.661437  0.645597   \n",
       "14  2014      0.249313      0.589948  233728.314713  0.648795   \n",
       "15  2015      0.253952      0.593774  230029.046606  0.627064   \n",
       "16  2016      0.284171      0.600202  221396.510295  0.592855   \n",
       "17  2017      0.286099      0.612217  211115.696787  0.590421   \n",
       "18  2018      0.267633      0.663500  206001.007133  0.602435   \n",
       "19  2019      0.278299      0.644814  201024.788096  0.593224   \n",
       "20  2020      0.219931      0.692904  193728.397537  0.631232   \n",
       "\n",
       "    instrumentalness  liveness  loudness  speechiness       tempo   valence  \\\n",
       "0           0.101168  0.197686 -8.247766     0.089205  118.999323  0.559475   \n",
       "1           0.107214  0.187026 -8.305095     0.089182  117.765399  0.541479   \n",
       "2           0.088048  0.193911 -7.686640     0.084308  119.239738  0.542397   \n",
       "3           0.083049  0.196976 -7.485545     0.093926  120.914622  0.530504   \n",
       "4           0.077934  0.202199 -7.601655     0.094239  121.290346  0.524489   \n",
       "5           0.090194  0.190082 -7.466159     0.093334  121.617967  0.532531   \n",
       "6           0.077701  0.188289 -7.265501     0.085847  121.798615  0.520028   \n",
       "7           0.072957  0.196127 -7.044536     0.084347  124.087516  0.516794   \n",
       "8           0.063662  0.198431 -6.843804     0.077356  123.509934  0.527542   \n",
       "9           0.075872  0.205252 -7.046015     0.085458  123.463808  0.507170   \n",
       "10          0.082981  0.199701 -6.909904     0.081031  123.570215  0.520895   \n",
       "11          0.103772  0.203309 -7.574986     0.087479  121.483997  0.472454   \n",
       "12          0.085206  0.189733 -7.260550     0.081742  121.781736  0.462709   \n",
       "13          0.098365  0.199631 -7.472039     0.093849  120.806829  0.454741   \n",
       "14          0.076570  0.191822 -7.067440     0.084061  122.305263  0.463049   \n",
       "15          0.106787  0.188856 -7.625639     0.096779  120.115411  0.432098   \n",
       "16          0.093984  0.181170 -8.061056     0.104313  118.652630  0.431532   \n",
       "17          0.097091  0.191713 -8.312630     0.110536  117.202740  0.416476   \n",
       "18          0.054217  0.176326 -7.168785     0.127176  121.922308  0.447921   \n",
       "19          0.077640  0.172616 -7.722192     0.121043  120.235644  0.458818   \n",
       "20          0.016376  0.178535 -6.595067     0.141384  124.283129  0.501048   \n",
       "\n",
       "    popularity  \n",
       "0    46.684049  \n",
       "1    48.750125  \n",
       "2    48.655500  \n",
       "3    48.626407  \n",
       "4    49.273143  \n",
       "5    50.953333  \n",
       "6    51.313846  \n",
       "7    51.075897  \n",
       "8    50.630179  \n",
       "9    51.440816  \n",
       "10   52.730159  \n",
       "11   53.307387  \n",
       "12   52.655013  \n",
       "13   54.047065  \n",
       "14   55.543142  \n",
       "15   56.700608  \n",
       "16   59.647190  \n",
       "17   63.263554  \n",
       "18   63.296243  \n",
       "19   65.256542  \n",
       "20   64.301970  "
      ]
     },
     "execution_count": 14,
     "metadata": {},
     "output_type": "execute_result"
    }
   ],
   "source": [
    "# Fazendo o recorte de musicas ate anos 2000\n",
    "\n",
    "df_anos = df_anos[df_anos['year']>=2000]\n",
    "df_anos['year'].unique()\n",
    "df_anos.drop(columns=['key', 'mode'], inplace = True)\n",
    "df_anos.reset_index(drop = True)"
   ]
  },
  {
   "cell_type": "code",
   "execution_count": 15,
   "metadata": {},
   "outputs": [
    {
     "data": {
      "text/plain": [
       "year                0\n",
       "acousticness        0\n",
       "danceability        0\n",
       "duration_ms         0\n",
       "energy              0\n",
       "instrumentalness    0\n",
       "liveness            0\n",
       "loudness            0\n",
       "speechiness         0\n",
       "tempo               0\n",
       "valence             0\n",
       "popularity          0\n",
       "dtype: int64"
      ]
     },
     "execution_count": 15,
     "metadata": {},
     "output_type": "execute_result"
    }
   ],
   "source": [
    "# Verificando nulos\n",
    "df_anos.isna().sum()"
   ]
  },
  {
   "cell_type": "markdown",
   "metadata": {},
   "source": [
    "### `Anpalise Gráfica`"
   ]
  },
  {
   "cell_type": "code",
   "execution_count": 16,
   "metadata": {},
   "outputs": [
    {
     "data": {
      "application/vnd.plotly.v1+json": {
       "config": {
        "plotlyServerURL": "https://plot.ly"
       },
       "data": [
        {
         "hovertemplate": "year=%{x}<br>loudness=%{y}<extra></extra>",
         "legendgroup": "",
         "line": {
          "color": "#636efa",
          "dash": "solid"
         },
         "marker": {
          "symbol": "circle"
         },
         "mode": "lines+markers",
         "name": "",
         "orientation": "v",
         "showlegend": false,
         "type": "scatter",
         "x": [
          2000,
          2001,
          2002,
          2003,
          2004,
          2005,
          2006,
          2007,
          2008,
          2009,
          2010,
          2011,
          2012,
          2013,
          2014,
          2015,
          2016,
          2017,
          2018,
          2019,
          2020
         ],
         "xaxis": "x",
         "y": [
          -8.247765848670758,
          -8.305095261845384,
          -7.686639500000013,
          -7.485545035823955,
          -7.601655137334684,
          -7.46615897435897,
          -7.265500512820514,
          -7.044535897435892,
          -6.8438040920716166,
          -7.0460147959183645,
          -6.9099042658730125,
          -7.574986117997006,
          -7.260549614395888,
          -7.472039473684207,
          -7.06743990024938,
          -7.625639311043569,
          -8.061056204785759,
          -8.31262951807228,
          -7.168785068949124,
          -7.722191893278596,
          -6.595066995073878
         ],
         "yaxis": "y"
        }
       ],
       "layout": {
        "legend": {
         "tracegroupgap": 0
        },
        "template": {
         "data": {
          "bar": [
           {
            "error_x": {
             "color": "#2a3f5f"
            },
            "error_y": {
             "color": "#2a3f5f"
            },
            "marker": {
             "line": {
              "color": "#E5ECF6",
              "width": 0.5
             },
             "pattern": {
              "fillmode": "overlay",
              "size": 10,
              "solidity": 0.2
             }
            },
            "type": "bar"
           }
          ],
          "barpolar": [
           {
            "marker": {
             "line": {
              "color": "#E5ECF6",
              "width": 0.5
             },
             "pattern": {
              "fillmode": "overlay",
              "size": 10,
              "solidity": 0.2
             }
            },
            "type": "barpolar"
           }
          ],
          "carpet": [
           {
            "aaxis": {
             "endlinecolor": "#2a3f5f",
             "gridcolor": "white",
             "linecolor": "white",
             "minorgridcolor": "white",
             "startlinecolor": "#2a3f5f"
            },
            "baxis": {
             "endlinecolor": "#2a3f5f",
             "gridcolor": "white",
             "linecolor": "white",
             "minorgridcolor": "white",
             "startlinecolor": "#2a3f5f"
            },
            "type": "carpet"
           }
          ],
          "choropleth": [
           {
            "colorbar": {
             "outlinewidth": 0,
             "ticks": ""
            },
            "type": "choropleth"
           }
          ],
          "contour": [
           {
            "colorbar": {
             "outlinewidth": 0,
             "ticks": ""
            },
            "colorscale": [
             [
              0,
              "#0d0887"
             ],
             [
              0.1111111111111111,
              "#46039f"
             ],
             [
              0.2222222222222222,
              "#7201a8"
             ],
             [
              0.3333333333333333,
              "#9c179e"
             ],
             [
              0.4444444444444444,
              "#bd3786"
             ],
             [
              0.5555555555555556,
              "#d8576b"
             ],
             [
              0.6666666666666666,
              "#ed7953"
             ],
             [
              0.7777777777777778,
              "#fb9f3a"
             ],
             [
              0.8888888888888888,
              "#fdca26"
             ],
             [
              1,
              "#f0f921"
             ]
            ],
            "type": "contour"
           }
          ],
          "contourcarpet": [
           {
            "colorbar": {
             "outlinewidth": 0,
             "ticks": ""
            },
            "type": "contourcarpet"
           }
          ],
          "heatmap": [
           {
            "colorbar": {
             "outlinewidth": 0,
             "ticks": ""
            },
            "colorscale": [
             [
              0,
              "#0d0887"
             ],
             [
              0.1111111111111111,
              "#46039f"
             ],
             [
              0.2222222222222222,
              "#7201a8"
             ],
             [
              0.3333333333333333,
              "#9c179e"
             ],
             [
              0.4444444444444444,
              "#bd3786"
             ],
             [
              0.5555555555555556,
              "#d8576b"
             ],
             [
              0.6666666666666666,
              "#ed7953"
             ],
             [
              0.7777777777777778,
              "#fb9f3a"
             ],
             [
              0.8888888888888888,
              "#fdca26"
             ],
             [
              1,
              "#f0f921"
             ]
            ],
            "type": "heatmap"
           }
          ],
          "heatmapgl": [
           {
            "colorbar": {
             "outlinewidth": 0,
             "ticks": ""
            },
            "colorscale": [
             [
              0,
              "#0d0887"
             ],
             [
              0.1111111111111111,
              "#46039f"
             ],
             [
              0.2222222222222222,
              "#7201a8"
             ],
             [
              0.3333333333333333,
              "#9c179e"
             ],
             [
              0.4444444444444444,
              "#bd3786"
             ],
             [
              0.5555555555555556,
              "#d8576b"
             ],
             [
              0.6666666666666666,
              "#ed7953"
             ],
             [
              0.7777777777777778,
              "#fb9f3a"
             ],
             [
              0.8888888888888888,
              "#fdca26"
             ],
             [
              1,
              "#f0f921"
             ]
            ],
            "type": "heatmapgl"
           }
          ],
          "histogram": [
           {
            "marker": {
             "pattern": {
              "fillmode": "overlay",
              "size": 10,
              "solidity": 0.2
             }
            },
            "type": "histogram"
           }
          ],
          "histogram2d": [
           {
            "colorbar": {
             "outlinewidth": 0,
             "ticks": ""
            },
            "colorscale": [
             [
              0,
              "#0d0887"
             ],
             [
              0.1111111111111111,
              "#46039f"
             ],
             [
              0.2222222222222222,
              "#7201a8"
             ],
             [
              0.3333333333333333,
              "#9c179e"
             ],
             [
              0.4444444444444444,
              "#bd3786"
             ],
             [
              0.5555555555555556,
              "#d8576b"
             ],
             [
              0.6666666666666666,
              "#ed7953"
             ],
             [
              0.7777777777777778,
              "#fb9f3a"
             ],
             [
              0.8888888888888888,
              "#fdca26"
             ],
             [
              1,
              "#f0f921"
             ]
            ],
            "type": "histogram2d"
           }
          ],
          "histogram2dcontour": [
           {
            "colorbar": {
             "outlinewidth": 0,
             "ticks": ""
            },
            "colorscale": [
             [
              0,
              "#0d0887"
             ],
             [
              0.1111111111111111,
              "#46039f"
             ],
             [
              0.2222222222222222,
              "#7201a8"
             ],
             [
              0.3333333333333333,
              "#9c179e"
             ],
             [
              0.4444444444444444,
              "#bd3786"
             ],
             [
              0.5555555555555556,
              "#d8576b"
             ],
             [
              0.6666666666666666,
              "#ed7953"
             ],
             [
              0.7777777777777778,
              "#fb9f3a"
             ],
             [
              0.8888888888888888,
              "#fdca26"
             ],
             [
              1,
              "#f0f921"
             ]
            ],
            "type": "histogram2dcontour"
           }
          ],
          "mesh3d": [
           {
            "colorbar": {
             "outlinewidth": 0,
             "ticks": ""
            },
            "type": "mesh3d"
           }
          ],
          "parcoords": [
           {
            "line": {
             "colorbar": {
              "outlinewidth": 0,
              "ticks": ""
             }
            },
            "type": "parcoords"
           }
          ],
          "pie": [
           {
            "automargin": true,
            "type": "pie"
           }
          ],
          "scatter": [
           {
            "fillpattern": {
             "fillmode": "overlay",
             "size": 10,
             "solidity": 0.2
            },
            "type": "scatter"
           }
          ],
          "scatter3d": [
           {
            "line": {
             "colorbar": {
              "outlinewidth": 0,
              "ticks": ""
             }
            },
            "marker": {
             "colorbar": {
              "outlinewidth": 0,
              "ticks": ""
             }
            },
            "type": "scatter3d"
           }
          ],
          "scattercarpet": [
           {
            "marker": {
             "colorbar": {
              "outlinewidth": 0,
              "ticks": ""
             }
            },
            "type": "scattercarpet"
           }
          ],
          "scattergeo": [
           {
            "marker": {
             "colorbar": {
              "outlinewidth": 0,
              "ticks": ""
             }
            },
            "type": "scattergeo"
           }
          ],
          "scattergl": [
           {
            "marker": {
             "colorbar": {
              "outlinewidth": 0,
              "ticks": ""
             }
            },
            "type": "scattergl"
           }
          ],
          "scattermapbox": [
           {
            "marker": {
             "colorbar": {
              "outlinewidth": 0,
              "ticks": ""
             }
            },
            "type": "scattermapbox"
           }
          ],
          "scatterpolar": [
           {
            "marker": {
             "colorbar": {
              "outlinewidth": 0,
              "ticks": ""
             }
            },
            "type": "scatterpolar"
           }
          ],
          "scatterpolargl": [
           {
            "marker": {
             "colorbar": {
              "outlinewidth": 0,
              "ticks": ""
             }
            },
            "type": "scatterpolargl"
           }
          ],
          "scatterternary": [
           {
            "marker": {
             "colorbar": {
              "outlinewidth": 0,
              "ticks": ""
             }
            },
            "type": "scatterternary"
           }
          ],
          "surface": [
           {
            "colorbar": {
             "outlinewidth": 0,
             "ticks": ""
            },
            "colorscale": [
             [
              0,
              "#0d0887"
             ],
             [
              0.1111111111111111,
              "#46039f"
             ],
             [
              0.2222222222222222,
              "#7201a8"
             ],
             [
              0.3333333333333333,
              "#9c179e"
             ],
             [
              0.4444444444444444,
              "#bd3786"
             ],
             [
              0.5555555555555556,
              "#d8576b"
             ],
             [
              0.6666666666666666,
              "#ed7953"
             ],
             [
              0.7777777777777778,
              "#fb9f3a"
             ],
             [
              0.8888888888888888,
              "#fdca26"
             ],
             [
              1,
              "#f0f921"
             ]
            ],
            "type": "surface"
           }
          ],
          "table": [
           {
            "cells": {
             "fill": {
              "color": "#EBF0F8"
             },
             "line": {
              "color": "white"
             }
            },
            "header": {
             "fill": {
              "color": "#C8D4E3"
             },
             "line": {
              "color": "white"
             }
            },
            "type": "table"
           }
          ]
         },
         "layout": {
          "annotationdefaults": {
           "arrowcolor": "#2a3f5f",
           "arrowhead": 0,
           "arrowwidth": 1
          },
          "autotypenumbers": "strict",
          "coloraxis": {
           "colorbar": {
            "outlinewidth": 0,
            "ticks": ""
           }
          },
          "colorscale": {
           "diverging": [
            [
             0,
             "#8e0152"
            ],
            [
             0.1,
             "#c51b7d"
            ],
            [
             0.2,
             "#de77ae"
            ],
            [
             0.3,
             "#f1b6da"
            ],
            [
             0.4,
             "#fde0ef"
            ],
            [
             0.5,
             "#f7f7f7"
            ],
            [
             0.6,
             "#e6f5d0"
            ],
            [
             0.7,
             "#b8e186"
            ],
            [
             0.8,
             "#7fbc41"
            ],
            [
             0.9,
             "#4d9221"
            ],
            [
             1,
             "#276419"
            ]
           ],
           "sequential": [
            [
             0,
             "#0d0887"
            ],
            [
             0.1111111111111111,
             "#46039f"
            ],
            [
             0.2222222222222222,
             "#7201a8"
            ],
            [
             0.3333333333333333,
             "#9c179e"
            ],
            [
             0.4444444444444444,
             "#bd3786"
            ],
            [
             0.5555555555555556,
             "#d8576b"
            ],
            [
             0.6666666666666666,
             "#ed7953"
            ],
            [
             0.7777777777777778,
             "#fb9f3a"
            ],
            [
             0.8888888888888888,
             "#fdca26"
            ],
            [
             1,
             "#f0f921"
            ]
           ],
           "sequentialminus": [
            [
             0,
             "#0d0887"
            ],
            [
             0.1111111111111111,
             "#46039f"
            ],
            [
             0.2222222222222222,
             "#7201a8"
            ],
            [
             0.3333333333333333,
             "#9c179e"
            ],
            [
             0.4444444444444444,
             "#bd3786"
            ],
            [
             0.5555555555555556,
             "#d8576b"
            ],
            [
             0.6666666666666666,
             "#ed7953"
            ],
            [
             0.7777777777777778,
             "#fb9f3a"
            ],
            [
             0.8888888888888888,
             "#fdca26"
            ],
            [
             1,
             "#f0f921"
            ]
           ]
          },
          "colorway": [
           "#636efa",
           "#EF553B",
           "#00cc96",
           "#ab63fa",
           "#FFA15A",
           "#19d3f3",
           "#FF6692",
           "#B6E880",
           "#FF97FF",
           "#FECB52"
          ],
          "font": {
           "color": "#2a3f5f"
          },
          "geo": {
           "bgcolor": "white",
           "lakecolor": "white",
           "landcolor": "#E5ECF6",
           "showlakes": true,
           "showland": true,
           "subunitcolor": "white"
          },
          "hoverlabel": {
           "align": "left"
          },
          "hovermode": "closest",
          "mapbox": {
           "style": "light"
          },
          "paper_bgcolor": "white",
          "plot_bgcolor": "#E5ECF6",
          "polar": {
           "angularaxis": {
            "gridcolor": "white",
            "linecolor": "white",
            "ticks": ""
           },
           "bgcolor": "#E5ECF6",
           "radialaxis": {
            "gridcolor": "white",
            "linecolor": "white",
            "ticks": ""
           }
          },
          "scene": {
           "xaxis": {
            "backgroundcolor": "#E5ECF6",
            "gridcolor": "white",
            "gridwidth": 2,
            "linecolor": "white",
            "showbackground": true,
            "ticks": "",
            "zerolinecolor": "white"
           },
           "yaxis": {
            "backgroundcolor": "#E5ECF6",
            "gridcolor": "white",
            "gridwidth": 2,
            "linecolor": "white",
            "showbackground": true,
            "ticks": "",
            "zerolinecolor": "white"
           },
           "zaxis": {
            "backgroundcolor": "#E5ECF6",
            "gridcolor": "white",
            "gridwidth": 2,
            "linecolor": "white",
            "showbackground": true,
            "ticks": "",
            "zerolinecolor": "white"
           }
          },
          "shapedefaults": {
           "line": {
            "color": "#2a3f5f"
           }
          },
          "ternary": {
           "aaxis": {
            "gridcolor": "white",
            "linecolor": "white",
            "ticks": ""
           },
           "baxis": {
            "gridcolor": "white",
            "linecolor": "white",
            "ticks": ""
           },
           "bgcolor": "#E5ECF6",
           "caxis": {
            "gridcolor": "white",
            "linecolor": "white",
            "ticks": ""
           }
          },
          "title": {
           "x": 0.05
          },
          "xaxis": {
           "automargin": true,
           "gridcolor": "white",
           "linecolor": "white",
           "ticks": "",
           "title": {
            "standoff": 15
           },
           "zerolinecolor": "white",
           "zerolinewidth": 2
          },
          "yaxis": {
           "automargin": true,
           "gridcolor": "white",
           "linecolor": "white",
           "ticks": "",
           "title": {
            "standoff": 15
           },
           "zerolinecolor": "white",
           "zerolinewidth": 2
          }
         }
        },
        "title": {
         "text": "Variação do lounds conforme os anos"
        },
        "xaxis": {
         "anchor": "y",
         "domain": [
          0,
          1
         ],
         "title": {
          "text": "year"
         }
        },
        "yaxis": {
         "anchor": "x",
         "domain": [
          0,
          1
         ],
         "title": {
          "text": "loudness"
         }
        }
       }
      }
     },
     "metadata": {},
     "output_type": "display_data"
    }
   ],
   "source": [
    "fig = px.line(df_anos, x = 'year', y = 'loudness', markers = True, title = 'Variação do lounds conforme os anos')\n",
    "fig"
   ]
  },
  {
   "cell_type": "code",
   "execution_count": 17,
   "metadata": {},
   "outputs": [],
   "source": [
    "import plotly.graph_objects as go"
   ]
  },
  {
   "cell_type": "code",
   "execution_count": 18,
   "metadata": {},
   "outputs": [
    {
     "data": {
      "application/vnd.plotly.v1+json": {
       "config": {
        "plotlyServerURL": "https://plot.ly"
       },
       "data": [
        {
         "name": "Acusticness",
         "type": "scatter",
         "x": [
          2000,
          2001,
          2002,
          2003,
          2004,
          2005,
          2006,
          2007,
          2008,
          2009,
          2010,
          2011,
          2012,
          2013,
          2014,
          2015,
          2016,
          2017,
          2018,
          2019,
          2020
         ],
         "y": [
          0.2893227005163599,
          0.2868424748428934,
          0.282624289885001,
          0.2564705181729783,
          0.2805589466225845,
          0.2557635068666665,
          0.2799863520256408,
          0.2540809575538463,
          0.2491917627212275,
          0.261928619096939,
          0.2426866435515872,
          0.2731826625185919,
          0.2499530443804624,
          0.2574880859564779,
          0.249312645880299,
          0.2539522577102332,
          0.2841710299554814,
          0.2860990665261043,
          0.2676329907750836,
          0.2782985863365824,
          0.2199308880935964
         ]
        },
        {
         "name": "Valence",
         "type": "scatter",
         "x": [
          2000,
          2001,
          2002,
          2003,
          2004,
          2005,
          2006,
          2007,
          2008,
          2009,
          2010,
          2011,
          2012,
          2013,
          2014,
          2015,
          2016,
          2017,
          2018,
          2019,
          2020
         ],
         "y": [
          0.5594754601226991,
          0.541479107231919,
          0.5423971500000008,
          0.5305042476970324,
          0.5244885554425227,
          0.5325309230769236,
          0.5200283076923078,
          0.5167938461538473,
          0.5275418925831203,
          0.5071696617346935,
          0.5208951587301589,
          0.4724536787307882,
          0.4627090128534706,
          0.4547411943319834,
          0.4630487780548628,
          0.4320983687943254,
          0.4315320589872012,
          0.4164763112449793,
          0.4479212743699474,
          0.4588176295536167,
          0.5010478078817729
         ]
        },
        {
         "name": "Danceability",
         "type": "scatter",
         "x": [
          2000,
          2001,
          2002,
          2003,
          2004,
          2005,
          2006,
          2007,
          2008,
          2009,
          2010,
          2011,
          2012,
          2013,
          2014,
          2015,
          2016,
          2017,
          2018,
          2019,
          2020
         ],
         "y": [
          0.590918047034764,
          0.5833178553615969,
          0.5761602999999997,
          0.5757633060388944,
          0.5676803662258397,
          0.5722805641025652,
          0.5682301538461539,
          0.5634143589743592,
          0.5791928388746803,
          0.5641903571428577,
          0.5724883432539687,
          0.5528669806643526,
          0.5708818508997433,
          0.5711480263157896,
          0.5899476807980057,
          0.5937740628166152,
          0.6002023928770179,
          0.6122170180722886,
          0.6635004755111744,
          0.6448141097998967,
          0.6929043349753701
         ]
        },
        {
         "name": "Energy",
         "type": "scatter",
         "x": [
          2000,
          2001,
          2002,
          2003,
          2004,
          2005,
          2006,
          2007,
          2008,
          2009,
          2010,
          2011,
          2012,
          2013,
          2014,
          2015,
          2016,
          2017,
          2018,
          2019,
          2020
         ],
         "y": [
          0.6254128323108387,
          0.6269855221945144,
          0.6412697960000012,
          0.6601652610030712,
          0.6488679450661226,
          0.653208511282051,
          0.6503262820512825,
          0.6683047743589737,
          0.6714608207672623,
          0.6707487551020408,
          0.6817778026289684,
          0.6483008934060499,
          0.6565714601542408,
          0.6455968914473688,
          0.6487954437905223,
          0.6270642715298895,
          0.5928552316082347,
          0.5904210208835337,
          0.6024346220161672,
          0.5932240360184717,
          0.6312316354679793
         ]
        },
        {
         "name": "Instrumentalness",
         "type": "scatter",
         "x": [
          2000,
          2001,
          2002,
          2003,
          2004,
          2005,
          2006,
          2007,
          2008,
          2009,
          2010,
          2011,
          2012,
          2013,
          2014,
          2015,
          2016,
          2017,
          2018,
          2019,
          2020
         ],
         "y": [
          0.1011677687934559,
          0.1072140189925186,
          0.0880483503149999,
          0.0830492746673491,
          0.0779340349084435,
          0.0901943611846154,
          0.0777014718769231,
          0.0729572680512819,
          0.0636620903171356,
          0.0758720736836735,
          0.0829805682192461,
          0.103772332166584,
          0.0852055206786631,
          0.0983650539170038,
          0.0765695548379051,
          0.1067868780547114,
          0.0939843871174179,
          0.0970906090662649,
          0.0542171216690441,
          0.0776402469728064,
          0.0163755243054187
         ]
        },
        {
         "name": "Liveness",
         "type": "scatter",
         "x": [
          2000,
          2001,
          2002,
          2003,
          2004,
          2005,
          2006,
          2007,
          2008,
          2009,
          2010,
          2011,
          2012,
          2013,
          2014,
          2015,
          2016,
          2017,
          2018,
          2019,
          2020
         ],
         "y": [
          0.1976860429447853,
          0.1870256359102248,
          0.1939111999999998,
          0.196976305015353,
          0.2021994404883014,
          0.1900816256410258,
          0.1882892820512821,
          0.1961265641025642,
          0.1984314066496162,
          0.2052522959183674,
          0.1997006448412699,
          0.2033088249876056,
          0.1897330077120824,
          0.1996308198380571,
          0.1918215960099752,
          0.1888564336372847,
          0.181169894268225,
          0.1917126004016064,
          0.1763255349500711,
          0.1726164186762446,
          0.1785354187192117
         ]
        },
        {
         "name": "Speechiness",
         "type": "scatter",
         "x": [
          2000,
          2001,
          2002,
          2003,
          2004,
          2005,
          2006,
          2007,
          2008,
          2009,
          2010,
          2011,
          2012,
          2013,
          2014,
          2015,
          2016,
          2017,
          2018,
          2019,
          2020
         ],
         "y": [
          0.0892054192229039,
          0.0891822942643391,
          0.0843075999999999,
          0.0939257420675538,
          0.0942388097660224,
          0.093333692307692,
          0.0858467692307692,
          0.0843473333333333,
          0.077356368286445,
          0.0854578061224489,
          0.0810314980158731,
          0.087479276152702,
          0.081742467866324,
          0.0938488866396761,
          0.0840605486284289,
          0.0967792299898684,
          0.1043132999443518,
          0.1105364959839356,
          0.1271755587256302,
          0.1210433555669573,
          0.1413836945812805
         ]
        }
       ],
       "layout": {
        "template": {
         "data": {
          "bar": [
           {
            "error_x": {
             "color": "#2a3f5f"
            },
            "error_y": {
             "color": "#2a3f5f"
            },
            "marker": {
             "line": {
              "color": "#E5ECF6",
              "width": 0.5
             },
             "pattern": {
              "fillmode": "overlay",
              "size": 10,
              "solidity": 0.2
             }
            },
            "type": "bar"
           }
          ],
          "barpolar": [
           {
            "marker": {
             "line": {
              "color": "#E5ECF6",
              "width": 0.5
             },
             "pattern": {
              "fillmode": "overlay",
              "size": 10,
              "solidity": 0.2
             }
            },
            "type": "barpolar"
           }
          ],
          "carpet": [
           {
            "aaxis": {
             "endlinecolor": "#2a3f5f",
             "gridcolor": "white",
             "linecolor": "white",
             "minorgridcolor": "white",
             "startlinecolor": "#2a3f5f"
            },
            "baxis": {
             "endlinecolor": "#2a3f5f",
             "gridcolor": "white",
             "linecolor": "white",
             "minorgridcolor": "white",
             "startlinecolor": "#2a3f5f"
            },
            "type": "carpet"
           }
          ],
          "choropleth": [
           {
            "colorbar": {
             "outlinewidth": 0,
             "ticks": ""
            },
            "type": "choropleth"
           }
          ],
          "contour": [
           {
            "colorbar": {
             "outlinewidth": 0,
             "ticks": ""
            },
            "colorscale": [
             [
              0,
              "#0d0887"
             ],
             [
              0.1111111111111111,
              "#46039f"
             ],
             [
              0.2222222222222222,
              "#7201a8"
             ],
             [
              0.3333333333333333,
              "#9c179e"
             ],
             [
              0.4444444444444444,
              "#bd3786"
             ],
             [
              0.5555555555555556,
              "#d8576b"
             ],
             [
              0.6666666666666666,
              "#ed7953"
             ],
             [
              0.7777777777777778,
              "#fb9f3a"
             ],
             [
              0.8888888888888888,
              "#fdca26"
             ],
             [
              1,
              "#f0f921"
             ]
            ],
            "type": "contour"
           }
          ],
          "contourcarpet": [
           {
            "colorbar": {
             "outlinewidth": 0,
             "ticks": ""
            },
            "type": "contourcarpet"
           }
          ],
          "heatmap": [
           {
            "colorbar": {
             "outlinewidth": 0,
             "ticks": ""
            },
            "colorscale": [
             [
              0,
              "#0d0887"
             ],
             [
              0.1111111111111111,
              "#46039f"
             ],
             [
              0.2222222222222222,
              "#7201a8"
             ],
             [
              0.3333333333333333,
              "#9c179e"
             ],
             [
              0.4444444444444444,
              "#bd3786"
             ],
             [
              0.5555555555555556,
              "#d8576b"
             ],
             [
              0.6666666666666666,
              "#ed7953"
             ],
             [
              0.7777777777777778,
              "#fb9f3a"
             ],
             [
              0.8888888888888888,
              "#fdca26"
             ],
             [
              1,
              "#f0f921"
             ]
            ],
            "type": "heatmap"
           }
          ],
          "heatmapgl": [
           {
            "colorbar": {
             "outlinewidth": 0,
             "ticks": ""
            },
            "colorscale": [
             [
              0,
              "#0d0887"
             ],
             [
              0.1111111111111111,
              "#46039f"
             ],
             [
              0.2222222222222222,
              "#7201a8"
             ],
             [
              0.3333333333333333,
              "#9c179e"
             ],
             [
              0.4444444444444444,
              "#bd3786"
             ],
             [
              0.5555555555555556,
              "#d8576b"
             ],
             [
              0.6666666666666666,
              "#ed7953"
             ],
             [
              0.7777777777777778,
              "#fb9f3a"
             ],
             [
              0.8888888888888888,
              "#fdca26"
             ],
             [
              1,
              "#f0f921"
             ]
            ],
            "type": "heatmapgl"
           }
          ],
          "histogram": [
           {
            "marker": {
             "pattern": {
              "fillmode": "overlay",
              "size": 10,
              "solidity": 0.2
             }
            },
            "type": "histogram"
           }
          ],
          "histogram2d": [
           {
            "colorbar": {
             "outlinewidth": 0,
             "ticks": ""
            },
            "colorscale": [
             [
              0,
              "#0d0887"
             ],
             [
              0.1111111111111111,
              "#46039f"
             ],
             [
              0.2222222222222222,
              "#7201a8"
             ],
             [
              0.3333333333333333,
              "#9c179e"
             ],
             [
              0.4444444444444444,
              "#bd3786"
             ],
             [
              0.5555555555555556,
              "#d8576b"
             ],
             [
              0.6666666666666666,
              "#ed7953"
             ],
             [
              0.7777777777777778,
              "#fb9f3a"
             ],
             [
              0.8888888888888888,
              "#fdca26"
             ],
             [
              1,
              "#f0f921"
             ]
            ],
            "type": "histogram2d"
           }
          ],
          "histogram2dcontour": [
           {
            "colorbar": {
             "outlinewidth": 0,
             "ticks": ""
            },
            "colorscale": [
             [
              0,
              "#0d0887"
             ],
             [
              0.1111111111111111,
              "#46039f"
             ],
             [
              0.2222222222222222,
              "#7201a8"
             ],
             [
              0.3333333333333333,
              "#9c179e"
             ],
             [
              0.4444444444444444,
              "#bd3786"
             ],
             [
              0.5555555555555556,
              "#d8576b"
             ],
             [
              0.6666666666666666,
              "#ed7953"
             ],
             [
              0.7777777777777778,
              "#fb9f3a"
             ],
             [
              0.8888888888888888,
              "#fdca26"
             ],
             [
              1,
              "#f0f921"
             ]
            ],
            "type": "histogram2dcontour"
           }
          ],
          "mesh3d": [
           {
            "colorbar": {
             "outlinewidth": 0,
             "ticks": ""
            },
            "type": "mesh3d"
           }
          ],
          "parcoords": [
           {
            "line": {
             "colorbar": {
              "outlinewidth": 0,
              "ticks": ""
             }
            },
            "type": "parcoords"
           }
          ],
          "pie": [
           {
            "automargin": true,
            "type": "pie"
           }
          ],
          "scatter": [
           {
            "fillpattern": {
             "fillmode": "overlay",
             "size": 10,
             "solidity": 0.2
            },
            "type": "scatter"
           }
          ],
          "scatter3d": [
           {
            "line": {
             "colorbar": {
              "outlinewidth": 0,
              "ticks": ""
             }
            },
            "marker": {
             "colorbar": {
              "outlinewidth": 0,
              "ticks": ""
             }
            },
            "type": "scatter3d"
           }
          ],
          "scattercarpet": [
           {
            "marker": {
             "colorbar": {
              "outlinewidth": 0,
              "ticks": ""
             }
            },
            "type": "scattercarpet"
           }
          ],
          "scattergeo": [
           {
            "marker": {
             "colorbar": {
              "outlinewidth": 0,
              "ticks": ""
             }
            },
            "type": "scattergeo"
           }
          ],
          "scattergl": [
           {
            "marker": {
             "colorbar": {
              "outlinewidth": 0,
              "ticks": ""
             }
            },
            "type": "scattergl"
           }
          ],
          "scattermapbox": [
           {
            "marker": {
             "colorbar": {
              "outlinewidth": 0,
              "ticks": ""
             }
            },
            "type": "scattermapbox"
           }
          ],
          "scatterpolar": [
           {
            "marker": {
             "colorbar": {
              "outlinewidth": 0,
              "ticks": ""
             }
            },
            "type": "scatterpolar"
           }
          ],
          "scatterpolargl": [
           {
            "marker": {
             "colorbar": {
              "outlinewidth": 0,
              "ticks": ""
             }
            },
            "type": "scatterpolargl"
           }
          ],
          "scatterternary": [
           {
            "marker": {
             "colorbar": {
              "outlinewidth": 0,
              "ticks": ""
             }
            },
            "type": "scatterternary"
           }
          ],
          "surface": [
           {
            "colorbar": {
             "outlinewidth": 0,
             "ticks": ""
            },
            "colorscale": [
             [
              0,
              "#0d0887"
             ],
             [
              0.1111111111111111,
              "#46039f"
             ],
             [
              0.2222222222222222,
              "#7201a8"
             ],
             [
              0.3333333333333333,
              "#9c179e"
             ],
             [
              0.4444444444444444,
              "#bd3786"
             ],
             [
              0.5555555555555556,
              "#d8576b"
             ],
             [
              0.6666666666666666,
              "#ed7953"
             ],
             [
              0.7777777777777778,
              "#fb9f3a"
             ],
             [
              0.8888888888888888,
              "#fdca26"
             ],
             [
              1,
              "#f0f921"
             ]
            ],
            "type": "surface"
           }
          ],
          "table": [
           {
            "cells": {
             "fill": {
              "color": "#EBF0F8"
             },
             "line": {
              "color": "white"
             }
            },
            "header": {
             "fill": {
              "color": "#C8D4E3"
             },
             "line": {
              "color": "white"
             }
            },
            "type": "table"
           }
          ]
         },
         "layout": {
          "annotationdefaults": {
           "arrowcolor": "#2a3f5f",
           "arrowhead": 0,
           "arrowwidth": 1
          },
          "autotypenumbers": "strict",
          "coloraxis": {
           "colorbar": {
            "outlinewidth": 0,
            "ticks": ""
           }
          },
          "colorscale": {
           "diverging": [
            [
             0,
             "#8e0152"
            ],
            [
             0.1,
             "#c51b7d"
            ],
            [
             0.2,
             "#de77ae"
            ],
            [
             0.3,
             "#f1b6da"
            ],
            [
             0.4,
             "#fde0ef"
            ],
            [
             0.5,
             "#f7f7f7"
            ],
            [
             0.6,
             "#e6f5d0"
            ],
            [
             0.7,
             "#b8e186"
            ],
            [
             0.8,
             "#7fbc41"
            ],
            [
             0.9,
             "#4d9221"
            ],
            [
             1,
             "#276419"
            ]
           ],
           "sequential": [
            [
             0,
             "#0d0887"
            ],
            [
             0.1111111111111111,
             "#46039f"
            ],
            [
             0.2222222222222222,
             "#7201a8"
            ],
            [
             0.3333333333333333,
             "#9c179e"
            ],
            [
             0.4444444444444444,
             "#bd3786"
            ],
            [
             0.5555555555555556,
             "#d8576b"
            ],
            [
             0.6666666666666666,
             "#ed7953"
            ],
            [
             0.7777777777777778,
             "#fb9f3a"
            ],
            [
             0.8888888888888888,
             "#fdca26"
            ],
            [
             1,
             "#f0f921"
            ]
           ],
           "sequentialminus": [
            [
             0,
             "#0d0887"
            ],
            [
             0.1111111111111111,
             "#46039f"
            ],
            [
             0.2222222222222222,
             "#7201a8"
            ],
            [
             0.3333333333333333,
             "#9c179e"
            ],
            [
             0.4444444444444444,
             "#bd3786"
            ],
            [
             0.5555555555555556,
             "#d8576b"
            ],
            [
             0.6666666666666666,
             "#ed7953"
            ],
            [
             0.7777777777777778,
             "#fb9f3a"
            ],
            [
             0.8888888888888888,
             "#fdca26"
            ],
            [
             1,
             "#f0f921"
            ]
           ]
          },
          "colorway": [
           "#636efa",
           "#EF553B",
           "#00cc96",
           "#ab63fa",
           "#FFA15A",
           "#19d3f3",
           "#FF6692",
           "#B6E880",
           "#FF97FF",
           "#FECB52"
          ],
          "font": {
           "color": "#2a3f5f"
          },
          "geo": {
           "bgcolor": "white",
           "lakecolor": "white",
           "landcolor": "#E5ECF6",
           "showlakes": true,
           "showland": true,
           "subunitcolor": "white"
          },
          "hoverlabel": {
           "align": "left"
          },
          "hovermode": "closest",
          "mapbox": {
           "style": "light"
          },
          "paper_bgcolor": "white",
          "plot_bgcolor": "#E5ECF6",
          "polar": {
           "angularaxis": {
            "gridcolor": "white",
            "linecolor": "white",
            "ticks": ""
           },
           "bgcolor": "#E5ECF6",
           "radialaxis": {
            "gridcolor": "white",
            "linecolor": "white",
            "ticks": ""
           }
          },
          "scene": {
           "xaxis": {
            "backgroundcolor": "#E5ECF6",
            "gridcolor": "white",
            "gridwidth": 2,
            "linecolor": "white",
            "showbackground": true,
            "ticks": "",
            "zerolinecolor": "white"
           },
           "yaxis": {
            "backgroundcolor": "#E5ECF6",
            "gridcolor": "white",
            "gridwidth": 2,
            "linecolor": "white",
            "showbackground": true,
            "ticks": "",
            "zerolinecolor": "white"
           },
           "zaxis": {
            "backgroundcolor": "#E5ECF6",
            "gridcolor": "white",
            "gridwidth": 2,
            "linecolor": "white",
            "showbackground": true,
            "ticks": "",
            "zerolinecolor": "white"
           }
          },
          "shapedefaults": {
           "line": {
            "color": "#2a3f5f"
           }
          },
          "ternary": {
           "aaxis": {
            "gridcolor": "white",
            "linecolor": "white",
            "ticks": ""
           },
           "baxis": {
            "gridcolor": "white",
            "linecolor": "white",
            "ticks": ""
           },
           "bgcolor": "#E5ECF6",
           "caxis": {
            "gridcolor": "white",
            "linecolor": "white",
            "ticks": ""
           }
          },
          "title": {
           "x": 0.05
          },
          "xaxis": {
           "automargin": true,
           "gridcolor": "white",
           "linecolor": "white",
           "ticks": "",
           "title": {
            "standoff": 15
           },
           "zerolinecolor": "white",
           "zerolinewidth": 2
          },
          "yaxis": {
           "automargin": true,
           "gridcolor": "white",
           "linecolor": "white",
           "ticks": "",
           "title": {
            "standoff": 15
           },
           "zerolinecolor": "white",
           "zerolinewidth": 2
          }
         }
        }
       }
      }
     },
     "metadata": {},
     "output_type": "display_data"
    }
   ],
   "source": [
    "fig = go.Figure()\n",
    "\n",
    "fig.add_trace(go.Scatter(x = df_anos['year'], y=df_anos['acousticness'], name='Acusticness'))\n",
    "fig.add_trace(go.Scatter(x = df_anos['year'], y=df_anos['valence'], name='Valence'))\n",
    "fig.add_trace(go.Scatter(x = df_anos['year'], y=df_anos['danceability'], name='Danceability'))\n",
    "fig.add_trace(go.Scatter(x = df_anos['year'], y=df_anos['energy'], name='Energy'))\n",
    "fig.add_trace(go.Scatter(x = df_anos['year'], y=df_anos['instrumentalness'], name='Instrumentalness'))\n",
    "fig.add_trace(go.Scatter(x = df_anos['year'], y=df_anos['liveness'], name='Liveness'))\n",
    "fig.add_trace(go.Scatter(x = df_anos['year'], y=df_anos['speechiness'], name='Speechiness'))\n",
    "fig.show()"
   ]
  },
  {
   "cell_type": "code",
   "execution_count": 19,
   "metadata": {},
   "outputs": [
    {
     "data": {
      "application/vnd.plotly.v1+json": {
       "config": {
        "plotlyServerURL": "https://plot.ly"
       },
       "data": [
        {
         "coloraxis": "coloraxis",
         "hovertemplate": "x: %{x}<br>y: %{y}<br>color: %{z}<extra></extra>",
         "name": "0",
         "texttemplate": "%{z}",
         "type": "heatmap",
         "x": [
          "valence",
          "year",
          "acousticness",
          "danceability",
          "duration_ms",
          "energy",
          "instrumentalness",
          "liveness",
          "loudness",
          "popularity",
          "speechiness",
          "tempo"
         ],
         "xaxis": "x",
         "y": [
          "valence",
          "year",
          "acousticness",
          "danceability",
          "duration_ms",
          "energy",
          "instrumentalness",
          "liveness",
          "loudness",
          "popularity",
          "speechiness",
          "tempo"
         ],
         "yaxis": "y",
         "z": [
          [
           1,
           -0.11152818996552269,
           -0.17906507578880113,
           0.4706016928505381,
           -0.19255117869290994,
           0.35029199798428345,
           -0.2557841048653347,
           0.02221366049722543,
           0.3378977669900986,
           -0.02666406634639214,
           0.08252614933102408,
           0.07315334866798318
          ],
          [
           -0.11152818996552269,
           1,
           -0.011224012558530316,
           0.17440028973064198,
           -0.14627395555186518,
           -0.06995658525945365,
           -0.13203456252176587,
           -0.04295002368784964,
           0.052483197651396335,
           0.5520537744643068,
           0.12405143773766447,
           0.02311722172289499
          ],
          [
           -0.17906507578880113,
           -0.011224012558530316,
           1,
           -0.1758942916516538,
           -0.05596681465486787,
           -0.7091107964699702,
           0.29973973152822125,
           -0.09844289738151028,
           -0.6036127005064934,
           -0.03187901141421101,
           -0.12082482277726948,
           -0.15474122793050457
          ],
          [
           0.4706016928505381,
           0.17440028973064198,
           -0.1758942916516538,
           1,
           -0.15971497774585897,
           0.08735820678113757,
           -0.3142998559030547,
           -0.0696597044523255,
           0.2679343205070181,
           0.1809607849711362,
           0.2267015756782655,
           -0.09486499562608043
          ],
          [
           -0.19255117869290994,
           -0.14627395555186518,
           -0.05596681465486787,
           -0.15971497774585897,
           1,
           0.014565108670534132,
           0.07164598789913075,
           0.052743206410793615,
           -0.017003038059048684,
           -0.10932110003241752,
           -0.02851359221465405,
           -0.028602148844984
          ],
          [
           0.35029199798428345,
           -0.06995658525945365,
           -0.7091107964699702,
           0.08735820678113757,
           0.014565108670534132,
           1,
           -0.3164682501295295,
           0.17387777376175623,
           0.7595724242928918,
           -0.028459539491050623,
           0.11401773090551177,
           0.1916455676981815
          ],
          [
           -0.2557841048653347,
           -0.13203456252176587,
           0.29973973152822125,
           -0.3142998559030547,
           0.07164598789913075,
           -0.3164682501295295,
           1,
           -0.06234712806061889,
           -0.5588938236531733,
           -0.12504620012490858,
           -0.1371187140191706,
           -0.09444020881622293
          ],
          [
           0.02221366049722543,
           -0.04295002368784964,
           -0.09844289738151028,
           -0.0696597044523255,
           0.052743206410793615,
           0.17387777376175623,
           -0.06234712806061889,
           1,
           0.09144172661855732,
           -0.06860593075406679,
           0.11955070410710385,
           0.014857567069808593
          ],
          [
           0.3378977669900986,
           0.052483197651396335,
           -0.6036127005064934,
           0.2679343205070181,
           -0.017003038059048684,
           0.7595724242928918,
           -0.5588938236531733,
           0.09144172661855732,
           1,
           0.09292468076617552,
           0.07902873344113712,
           0.18045939002871472
          ],
          [
           -0.02666406634639214,
           0.5520537744643068,
           -0.03187901141421101,
           0.1809607849711362,
           -0.10932110003241752,
           -0.028459539491050623,
           -0.12504620012490858,
           -0.06860593075406679,
           0.09292468076617552,
           1,
           0.057125553208252515,
           -0.00033755419876421543
          ],
          [
           0.08252614933102408,
           0.12405143773766447,
           -0.12082482277726948,
           0.2267015756782655,
           -0.02851359221465405,
           0.11401773090551177,
           -0.1371187140191706,
           0.11955070410710385,
           0.07902873344113712,
           0.057125553208252515,
           1,
           0.04062153175888837
          ],
          [
           0.07315334866798318,
           0.02311722172289499,
           -0.15474122793050457,
           -0.09486499562608043,
           -0.028602148844984,
           0.1916455676981815,
           -0.09444020881622293,
           0.014857567069808593,
           0.18045939002871472,
           -0.00033755419876421543,
           0.04062153175888837,
           1
          ]
         ]
        }
       ],
       "layout": {
        "coloraxis": {
         "colorscale": [
          [
           0,
           "#0d0887"
          ],
          [
           0.1111111111111111,
           "#46039f"
          ],
          [
           0.2222222222222222,
           "#7201a8"
          ],
          [
           0.3333333333333333,
           "#9c179e"
          ],
          [
           0.4444444444444444,
           "#bd3786"
          ],
          [
           0.5555555555555556,
           "#d8576b"
          ],
          [
           0.6666666666666666,
           "#ed7953"
          ],
          [
           0.7777777777777778,
           "#fb9f3a"
          ],
          [
           0.8888888888888888,
           "#fdca26"
          ],
          [
           1,
           "#f0f921"
          ]
         ]
        },
        "margin": {
         "t": 60
        },
        "template": {
         "data": {
          "bar": [
           {
            "error_x": {
             "color": "#2a3f5f"
            },
            "error_y": {
             "color": "#2a3f5f"
            },
            "marker": {
             "line": {
              "color": "#E5ECF6",
              "width": 0.5
             },
             "pattern": {
              "fillmode": "overlay",
              "size": 10,
              "solidity": 0.2
             }
            },
            "type": "bar"
           }
          ],
          "barpolar": [
           {
            "marker": {
             "line": {
              "color": "#E5ECF6",
              "width": 0.5
             },
             "pattern": {
              "fillmode": "overlay",
              "size": 10,
              "solidity": 0.2
             }
            },
            "type": "barpolar"
           }
          ],
          "carpet": [
           {
            "aaxis": {
             "endlinecolor": "#2a3f5f",
             "gridcolor": "white",
             "linecolor": "white",
             "minorgridcolor": "white",
             "startlinecolor": "#2a3f5f"
            },
            "baxis": {
             "endlinecolor": "#2a3f5f",
             "gridcolor": "white",
             "linecolor": "white",
             "minorgridcolor": "white",
             "startlinecolor": "#2a3f5f"
            },
            "type": "carpet"
           }
          ],
          "choropleth": [
           {
            "colorbar": {
             "outlinewidth": 0,
             "ticks": ""
            },
            "type": "choropleth"
           }
          ],
          "contour": [
           {
            "colorbar": {
             "outlinewidth": 0,
             "ticks": ""
            },
            "colorscale": [
             [
              0,
              "#0d0887"
             ],
             [
              0.1111111111111111,
              "#46039f"
             ],
             [
              0.2222222222222222,
              "#7201a8"
             ],
             [
              0.3333333333333333,
              "#9c179e"
             ],
             [
              0.4444444444444444,
              "#bd3786"
             ],
             [
              0.5555555555555556,
              "#d8576b"
             ],
             [
              0.6666666666666666,
              "#ed7953"
             ],
             [
              0.7777777777777778,
              "#fb9f3a"
             ],
             [
              0.8888888888888888,
              "#fdca26"
             ],
             [
              1,
              "#f0f921"
             ]
            ],
            "type": "contour"
           }
          ],
          "contourcarpet": [
           {
            "colorbar": {
             "outlinewidth": 0,
             "ticks": ""
            },
            "type": "contourcarpet"
           }
          ],
          "heatmap": [
           {
            "colorbar": {
             "outlinewidth": 0,
             "ticks": ""
            },
            "colorscale": [
             [
              0,
              "#0d0887"
             ],
             [
              0.1111111111111111,
              "#46039f"
             ],
             [
              0.2222222222222222,
              "#7201a8"
             ],
             [
              0.3333333333333333,
              "#9c179e"
             ],
             [
              0.4444444444444444,
              "#bd3786"
             ],
             [
              0.5555555555555556,
              "#d8576b"
             ],
             [
              0.6666666666666666,
              "#ed7953"
             ],
             [
              0.7777777777777778,
              "#fb9f3a"
             ],
             [
              0.8888888888888888,
              "#fdca26"
             ],
             [
              1,
              "#f0f921"
             ]
            ],
            "type": "heatmap"
           }
          ],
          "heatmapgl": [
           {
            "colorbar": {
             "outlinewidth": 0,
             "ticks": ""
            },
            "colorscale": [
             [
              0,
              "#0d0887"
             ],
             [
              0.1111111111111111,
              "#46039f"
             ],
             [
              0.2222222222222222,
              "#7201a8"
             ],
             [
              0.3333333333333333,
              "#9c179e"
             ],
             [
              0.4444444444444444,
              "#bd3786"
             ],
             [
              0.5555555555555556,
              "#d8576b"
             ],
             [
              0.6666666666666666,
              "#ed7953"
             ],
             [
              0.7777777777777778,
              "#fb9f3a"
             ],
             [
              0.8888888888888888,
              "#fdca26"
             ],
             [
              1,
              "#f0f921"
             ]
            ],
            "type": "heatmapgl"
           }
          ],
          "histogram": [
           {
            "marker": {
             "pattern": {
              "fillmode": "overlay",
              "size": 10,
              "solidity": 0.2
             }
            },
            "type": "histogram"
           }
          ],
          "histogram2d": [
           {
            "colorbar": {
             "outlinewidth": 0,
             "ticks": ""
            },
            "colorscale": [
             [
              0,
              "#0d0887"
             ],
             [
              0.1111111111111111,
              "#46039f"
             ],
             [
              0.2222222222222222,
              "#7201a8"
             ],
             [
              0.3333333333333333,
              "#9c179e"
             ],
             [
              0.4444444444444444,
              "#bd3786"
             ],
             [
              0.5555555555555556,
              "#d8576b"
             ],
             [
              0.6666666666666666,
              "#ed7953"
             ],
             [
              0.7777777777777778,
              "#fb9f3a"
             ],
             [
              0.8888888888888888,
              "#fdca26"
             ],
             [
              1,
              "#f0f921"
             ]
            ],
            "type": "histogram2d"
           }
          ],
          "histogram2dcontour": [
           {
            "colorbar": {
             "outlinewidth": 0,
             "ticks": ""
            },
            "colorscale": [
             [
              0,
              "#0d0887"
             ],
             [
              0.1111111111111111,
              "#46039f"
             ],
             [
              0.2222222222222222,
              "#7201a8"
             ],
             [
              0.3333333333333333,
              "#9c179e"
             ],
             [
              0.4444444444444444,
              "#bd3786"
             ],
             [
              0.5555555555555556,
              "#d8576b"
             ],
             [
              0.6666666666666666,
              "#ed7953"
             ],
             [
              0.7777777777777778,
              "#fb9f3a"
             ],
             [
              0.8888888888888888,
              "#fdca26"
             ],
             [
              1,
              "#f0f921"
             ]
            ],
            "type": "histogram2dcontour"
           }
          ],
          "mesh3d": [
           {
            "colorbar": {
             "outlinewidth": 0,
             "ticks": ""
            },
            "type": "mesh3d"
           }
          ],
          "parcoords": [
           {
            "line": {
             "colorbar": {
              "outlinewidth": 0,
              "ticks": ""
             }
            },
            "type": "parcoords"
           }
          ],
          "pie": [
           {
            "automargin": true,
            "type": "pie"
           }
          ],
          "scatter": [
           {
            "fillpattern": {
             "fillmode": "overlay",
             "size": 10,
             "solidity": 0.2
            },
            "type": "scatter"
           }
          ],
          "scatter3d": [
           {
            "line": {
             "colorbar": {
              "outlinewidth": 0,
              "ticks": ""
             }
            },
            "marker": {
             "colorbar": {
              "outlinewidth": 0,
              "ticks": ""
             }
            },
            "type": "scatter3d"
           }
          ],
          "scattercarpet": [
           {
            "marker": {
             "colorbar": {
              "outlinewidth": 0,
              "ticks": ""
             }
            },
            "type": "scattercarpet"
           }
          ],
          "scattergeo": [
           {
            "marker": {
             "colorbar": {
              "outlinewidth": 0,
              "ticks": ""
             }
            },
            "type": "scattergeo"
           }
          ],
          "scattergl": [
           {
            "marker": {
             "colorbar": {
              "outlinewidth": 0,
              "ticks": ""
             }
            },
            "type": "scattergl"
           }
          ],
          "scattermapbox": [
           {
            "marker": {
             "colorbar": {
              "outlinewidth": 0,
              "ticks": ""
             }
            },
            "type": "scattermapbox"
           }
          ],
          "scatterpolar": [
           {
            "marker": {
             "colorbar": {
              "outlinewidth": 0,
              "ticks": ""
             }
            },
            "type": "scatterpolar"
           }
          ],
          "scatterpolargl": [
           {
            "marker": {
             "colorbar": {
              "outlinewidth": 0,
              "ticks": ""
             }
            },
            "type": "scatterpolargl"
           }
          ],
          "scatterternary": [
           {
            "marker": {
             "colorbar": {
              "outlinewidth": 0,
              "ticks": ""
             }
            },
            "type": "scatterternary"
           }
          ],
          "surface": [
           {
            "colorbar": {
             "outlinewidth": 0,
             "ticks": ""
            },
            "colorscale": [
             [
              0,
              "#0d0887"
             ],
             [
              0.1111111111111111,
              "#46039f"
             ],
             [
              0.2222222222222222,
              "#7201a8"
             ],
             [
              0.3333333333333333,
              "#9c179e"
             ],
             [
              0.4444444444444444,
              "#bd3786"
             ],
             [
              0.5555555555555556,
              "#d8576b"
             ],
             [
              0.6666666666666666,
              "#ed7953"
             ],
             [
              0.7777777777777778,
              "#fb9f3a"
             ],
             [
              0.8888888888888888,
              "#fdca26"
             ],
             [
              1,
              "#f0f921"
             ]
            ],
            "type": "surface"
           }
          ],
          "table": [
           {
            "cells": {
             "fill": {
              "color": "#EBF0F8"
             },
             "line": {
              "color": "white"
             }
            },
            "header": {
             "fill": {
              "color": "#C8D4E3"
             },
             "line": {
              "color": "white"
             }
            },
            "type": "table"
           }
          ]
         },
         "layout": {
          "annotationdefaults": {
           "arrowcolor": "#2a3f5f",
           "arrowhead": 0,
           "arrowwidth": 1
          },
          "autotypenumbers": "strict",
          "coloraxis": {
           "colorbar": {
            "outlinewidth": 0,
            "ticks": ""
           }
          },
          "colorscale": {
           "diverging": [
            [
             0,
             "#8e0152"
            ],
            [
             0.1,
             "#c51b7d"
            ],
            [
             0.2,
             "#de77ae"
            ],
            [
             0.3,
             "#f1b6da"
            ],
            [
             0.4,
             "#fde0ef"
            ],
            [
             0.5,
             "#f7f7f7"
            ],
            [
             0.6,
             "#e6f5d0"
            ],
            [
             0.7,
             "#b8e186"
            ],
            [
             0.8,
             "#7fbc41"
            ],
            [
             0.9,
             "#4d9221"
            ],
            [
             1,
             "#276419"
            ]
           ],
           "sequential": [
            [
             0,
             "#0d0887"
            ],
            [
             0.1111111111111111,
             "#46039f"
            ],
            [
             0.2222222222222222,
             "#7201a8"
            ],
            [
             0.3333333333333333,
             "#9c179e"
            ],
            [
             0.4444444444444444,
             "#bd3786"
            ],
            [
             0.5555555555555556,
             "#d8576b"
            ],
            [
             0.6666666666666666,
             "#ed7953"
            ],
            [
             0.7777777777777778,
             "#fb9f3a"
            ],
            [
             0.8888888888888888,
             "#fdca26"
            ],
            [
             1,
             "#f0f921"
            ]
           ],
           "sequentialminus": [
            [
             0,
             "#0d0887"
            ],
            [
             0.1111111111111111,
             "#46039f"
            ],
            [
             0.2222222222222222,
             "#7201a8"
            ],
            [
             0.3333333333333333,
             "#9c179e"
            ],
            [
             0.4444444444444444,
             "#bd3786"
            ],
            [
             0.5555555555555556,
             "#d8576b"
            ],
            [
             0.6666666666666666,
             "#ed7953"
            ],
            [
             0.7777777777777778,
             "#fb9f3a"
            ],
            [
             0.8888888888888888,
             "#fdca26"
            ],
            [
             1,
             "#f0f921"
            ]
           ]
          },
          "colorway": [
           "#636efa",
           "#EF553B",
           "#00cc96",
           "#ab63fa",
           "#FFA15A",
           "#19d3f3",
           "#FF6692",
           "#B6E880",
           "#FF97FF",
           "#FECB52"
          ],
          "font": {
           "color": "#2a3f5f"
          },
          "geo": {
           "bgcolor": "white",
           "lakecolor": "white",
           "landcolor": "#E5ECF6",
           "showlakes": true,
           "showland": true,
           "subunitcolor": "white"
          },
          "hoverlabel": {
           "align": "left"
          },
          "hovermode": "closest",
          "mapbox": {
           "style": "light"
          },
          "paper_bgcolor": "white",
          "plot_bgcolor": "#E5ECF6",
          "polar": {
           "angularaxis": {
            "gridcolor": "white",
            "linecolor": "white",
            "ticks": ""
           },
           "bgcolor": "#E5ECF6",
           "radialaxis": {
            "gridcolor": "white",
            "linecolor": "white",
            "ticks": ""
           }
          },
          "scene": {
           "xaxis": {
            "backgroundcolor": "#E5ECF6",
            "gridcolor": "white",
            "gridwidth": 2,
            "linecolor": "white",
            "showbackground": true,
            "ticks": "",
            "zerolinecolor": "white"
           },
           "yaxis": {
            "backgroundcolor": "#E5ECF6",
            "gridcolor": "white",
            "gridwidth": 2,
            "linecolor": "white",
            "showbackground": true,
            "ticks": "",
            "zerolinecolor": "white"
           },
           "zaxis": {
            "backgroundcolor": "#E5ECF6",
            "gridcolor": "white",
            "gridwidth": 2,
            "linecolor": "white",
            "showbackground": true,
            "ticks": "",
            "zerolinecolor": "white"
           }
          },
          "shapedefaults": {
           "line": {
            "color": "#2a3f5f"
           }
          },
          "ternary": {
           "aaxis": {
            "gridcolor": "white",
            "linecolor": "white",
            "ticks": ""
           },
           "baxis": {
            "gridcolor": "white",
            "linecolor": "white",
            "ticks": ""
           },
           "bgcolor": "#E5ECF6",
           "caxis": {
            "gridcolor": "white",
            "linecolor": "white",
            "ticks": ""
           }
          },
          "title": {
           "x": 0.05
          },
          "xaxis": {
           "automargin": true,
           "gridcolor": "white",
           "linecolor": "white",
           "ticks": "",
           "title": {
            "standoff": 15
           },
           "zerolinecolor": "white",
           "zerolinewidth": 2
          },
          "yaxis": {
           "automargin": true,
           "gridcolor": "white",
           "linecolor": "white",
           "ticks": "",
           "title": {
            "standoff": 15
           },
           "zerolinecolor": "white",
           "zerolinewidth": 2
          }
         }
        },
        "xaxis": {
         "anchor": "y",
         "constrain": "domain",
         "domain": [
          0,
          1
         ],
         "scaleanchor": "y"
        },
        "yaxis": {
         "anchor": "x",
         "autorange": "reversed",
         "constrain": "domain",
         "domain": [
          0,
          1
         ]
        }
       }
      }
     },
     "metadata": {},
     "output_type": "display_data"
    }
   ],
   "source": [
    "fig = px.imshow(df.corr(numeric_only = True), text_auto = True)\n",
    "fig.show()"
   ]
  },
  {
   "cell_type": "markdown",
   "metadata": {},
   "source": [
    "## Aula 2: Clusterização por genero"
   ]
  },
  {
   "cell_type": "code",
   "execution_count": 20,
   "metadata": {},
   "outputs": [
    {
     "data": {
      "text/html": [
       "<div>\n",
       "<style scoped>\n",
       "    .dataframe tbody tr th:only-of-type {\n",
       "        vertical-align: middle;\n",
       "    }\n",
       "\n",
       "    .dataframe tbody tr th {\n",
       "        vertical-align: top;\n",
       "    }\n",
       "\n",
       "    .dataframe thead th {\n",
       "        text-align: right;\n",
       "    }\n",
       "</style>\n",
       "<table border=\"1\" class=\"dataframe\">\n",
       "  <thead>\n",
       "    <tr style=\"text-align: right;\">\n",
       "      <th></th>\n",
       "      <th>valence</th>\n",
       "      <th>year</th>\n",
       "      <th>acousticness</th>\n",
       "      <th>artists</th>\n",
       "      <th>danceability</th>\n",
       "      <th>duration_ms</th>\n",
       "      <th>energy</th>\n",
       "      <th>id</th>\n",
       "      <th>instrumentalness</th>\n",
       "      <th>liveness</th>\n",
       "      <th>loudness</th>\n",
       "      <th>name</th>\n",
       "      <th>popularity</th>\n",
       "      <th>speechiness</th>\n",
       "      <th>tempo</th>\n",
       "      <th>artists_song</th>\n",
       "    </tr>\n",
       "  </thead>\n",
       "  <tbody>\n",
       "    <tr>\n",
       "      <th>0</th>\n",
       "      <td>0.285</td>\n",
       "      <td>2000</td>\n",
       "      <td>0.00239</td>\n",
       "      <td>Coldplay</td>\n",
       "      <td>0.429</td>\n",
       "      <td>266773</td>\n",
       "      <td>0.661</td>\n",
       "      <td>3AJwUDP919kvQ9QcozQPxg</td>\n",
       "      <td>0.000121</td>\n",
       "      <td>0.2340</td>\n",
       "      <td>-7.227</td>\n",
       "      <td>Yellow</td>\n",
       "      <td>84</td>\n",
       "      <td>0.0281</td>\n",
       "      <td>173.372</td>\n",
       "      <td>Coldplay - Yellow</td>\n",
       "    </tr>\n",
       "    <tr>\n",
       "      <th>1</th>\n",
       "      <td>0.613</td>\n",
       "      <td>2000</td>\n",
       "      <td>0.14300</td>\n",
       "      <td>OutKast</td>\n",
       "      <td>0.843</td>\n",
       "      <td>270507</td>\n",
       "      <td>0.806</td>\n",
       "      <td>0I3q5fE6wg7LIfHGngUTnV</td>\n",
       "      <td>0.000000</td>\n",
       "      <td>0.0771</td>\n",
       "      <td>-5.946</td>\n",
       "      <td>Ms. Jackson</td>\n",
       "      <td>80</td>\n",
       "      <td>0.2690</td>\n",
       "      <td>94.948</td>\n",
       "      <td>OutKast - Ms. Jackson</td>\n",
       "    </tr>\n",
       "    <tr>\n",
       "      <th>2</th>\n",
       "      <td>0.400</td>\n",
       "      <td>2000</td>\n",
       "      <td>0.00958</td>\n",
       "      <td>Linkin Park</td>\n",
       "      <td>0.556</td>\n",
       "      <td>216880</td>\n",
       "      <td>0.864</td>\n",
       "      <td>60a0Rd6pjrkxjPbaKzXjfq</td>\n",
       "      <td>0.000000</td>\n",
       "      <td>0.2090</td>\n",
       "      <td>-5.870</td>\n",
       "      <td>In the End</td>\n",
       "      <td>84</td>\n",
       "      <td>0.0584</td>\n",
       "      <td>105.143</td>\n",
       "      <td>Linkin Park - In the End</td>\n",
       "    </tr>\n",
       "  </tbody>\n",
       "</table>\n",
       "</div>"
      ],
      "text/plain": [
       "   valence  year  acousticness      artists  danceability  duration_ms  \\\n",
       "0    0.285  2000       0.00239     Coldplay         0.429       266773   \n",
       "1    0.613  2000       0.14300      OutKast         0.843       270507   \n",
       "2    0.400  2000       0.00958  Linkin Park         0.556       216880   \n",
       "\n",
       "   energy                      id  instrumentalness  liveness  loudness  \\\n",
       "0   0.661  3AJwUDP919kvQ9QcozQPxg          0.000121    0.2340    -7.227   \n",
       "1   0.806  0I3q5fE6wg7LIfHGngUTnV          0.000000    0.0771    -5.946   \n",
       "2   0.864  60a0Rd6pjrkxjPbaKzXjfq          0.000000    0.2090    -5.870   \n",
       "\n",
       "          name  popularity  speechiness    tempo              artists_song  \n",
       "0       Yellow          84       0.0281  173.372         Coldplay - Yellow  \n",
       "1  Ms. Jackson          80       0.2690   94.948     OutKast - Ms. Jackson  \n",
       "2   In the End          84       0.0584  105.143  Linkin Park - In the End  "
      ]
     },
     "execution_count": 20,
     "metadata": {},
     "output_type": "execute_result"
    }
   ],
   "source": [
    "df.head(3)"
   ]
  },
  {
   "cell_type": "markdown",
   "metadata": {},
   "source": [
    "### `PCA E StandartScaler`"
   ]
  },
  {
   "cell_type": "code",
   "execution_count": 49,
   "metadata": {},
   "outputs": [
    {
     "data": {
      "text/plain": [
       "2973"
      ]
     },
     "execution_count": 49,
     "metadata": {},
     "output_type": "execute_result"
    }
   ],
   "source": [
    "df_generos['genres'].value_counts().sum()"
   ]
  },
  {
   "cell_type": "code",
   "execution_count": 50,
   "metadata": {},
   "outputs": [
    {
     "data": {
      "text/html": [
       "<div>\n",
       "<style scoped>\n",
       "    .dataframe tbody tr th:only-of-type {\n",
       "        vertical-align: middle;\n",
       "    }\n",
       "\n",
       "    .dataframe tbody tr th {\n",
       "        vertical-align: top;\n",
       "    }\n",
       "\n",
       "    .dataframe thead th {\n",
       "        text-align: right;\n",
       "    }\n",
       "</style>\n",
       "<table border=\"1\" class=\"dataframe\">\n",
       "  <thead>\n",
       "    <tr style=\"text-align: right;\">\n",
       "      <th></th>\n",
       "      <th>acousticness</th>\n",
       "      <th>danceability</th>\n",
       "      <th>duration_ms</th>\n",
       "      <th>energy</th>\n",
       "      <th>instrumentalness</th>\n",
       "      <th>liveness</th>\n",
       "      <th>loudness</th>\n",
       "      <th>speechiness</th>\n",
       "      <th>tempo</th>\n",
       "      <th>valence</th>\n",
       "      <th>popularity</th>\n",
       "      <th>cluster_pca</th>\n",
       "    </tr>\n",
       "  </thead>\n",
       "  <tbody>\n",
       "    <tr>\n",
       "      <th>0</th>\n",
       "      <td>0.979333</td>\n",
       "      <td>0.162883</td>\n",
       "      <td>1.602977e+05</td>\n",
       "      <td>0.071317</td>\n",
       "      <td>0.606834</td>\n",
       "      <td>0.361600</td>\n",
       "      <td>-31.514333</td>\n",
       "      <td>0.040567</td>\n",
       "      <td>75.336500</td>\n",
       "      <td>0.103783</td>\n",
       "      <td>27.833333</td>\n",
       "      <td>2</td>\n",
       "    </tr>\n",
       "    <tr>\n",
       "      <th>1</th>\n",
       "      <td>0.494780</td>\n",
       "      <td>0.299333</td>\n",
       "      <td>1.048887e+06</td>\n",
       "      <td>0.450678</td>\n",
       "      <td>0.477762</td>\n",
       "      <td>0.131000</td>\n",
       "      <td>-16.854000</td>\n",
       "      <td>0.076817</td>\n",
       "      <td>120.285667</td>\n",
       "      <td>0.221750</td>\n",
       "      <td>52.500000</td>\n",
       "      <td>2</td>\n",
       "    </tr>\n",
       "    <tr>\n",
       "      <th>2</th>\n",
       "      <td>0.762000</td>\n",
       "      <td>0.712000</td>\n",
       "      <td>1.151770e+05</td>\n",
       "      <td>0.818000</td>\n",
       "      <td>0.876000</td>\n",
       "      <td>0.126000</td>\n",
       "      <td>-9.180000</td>\n",
       "      <td>0.047000</td>\n",
       "      <td>133.444000</td>\n",
       "      <td>0.975000</td>\n",
       "      <td>48.000000</td>\n",
       "      <td>0</td>\n",
       "    </tr>\n",
       "    <tr>\n",
       "      <th>3</th>\n",
       "      <td>0.651417</td>\n",
       "      <td>0.529093</td>\n",
       "      <td>2.328809e+05</td>\n",
       "      <td>0.419146</td>\n",
       "      <td>0.205309</td>\n",
       "      <td>0.218696</td>\n",
       "      <td>-12.288965</td>\n",
       "      <td>0.107872</td>\n",
       "      <td>112.857352</td>\n",
       "      <td>0.513604</td>\n",
       "      <td>20.859882</td>\n",
       "      <td>4</td>\n",
       "    </tr>\n",
       "    <tr>\n",
       "      <th>4</th>\n",
       "      <td>0.676557</td>\n",
       "      <td>0.538961</td>\n",
       "      <td>1.906285e+05</td>\n",
       "      <td>0.316434</td>\n",
       "      <td>0.003003</td>\n",
       "      <td>0.172254</td>\n",
       "      <td>-12.479387</td>\n",
       "      <td>0.082851</td>\n",
       "      <td>112.110362</td>\n",
       "      <td>0.448249</td>\n",
       "      <td>45.820071</td>\n",
       "      <td>4</td>\n",
       "    </tr>\n",
       "  </tbody>\n",
       "</table>\n",
       "</div>"
      ],
      "text/plain": [
       "   acousticness  danceability   duration_ms    energy  instrumentalness  \\\n",
       "0      0.979333      0.162883  1.602977e+05  0.071317          0.606834   \n",
       "1      0.494780      0.299333  1.048887e+06  0.450678          0.477762   \n",
       "2      0.762000      0.712000  1.151770e+05  0.818000          0.876000   \n",
       "3      0.651417      0.529093  2.328809e+05  0.419146          0.205309   \n",
       "4      0.676557      0.538961  1.906285e+05  0.316434          0.003003   \n",
       "\n",
       "   liveness   loudness  speechiness       tempo   valence  popularity  \\\n",
       "0  0.361600 -31.514333     0.040567   75.336500  0.103783   27.833333   \n",
       "1  0.131000 -16.854000     0.076817  120.285667  0.221750   52.500000   \n",
       "2  0.126000  -9.180000     0.047000  133.444000  0.975000   48.000000   \n",
       "3  0.218696 -12.288965     0.107872  112.857352  0.513604   20.859882   \n",
       "4  0.172254 -12.479387     0.082851  112.110362  0.448249   45.820071   \n",
       "\n",
       "   cluster_pca  \n",
       "0            2  \n",
       "1            2  \n",
       "2            0  \n",
       "3            4  \n",
       "4            4  "
      ]
     },
     "execution_count": 50,
     "metadata": {},
     "output_type": "execute_result"
    }
   ],
   "source": [
    "# Isolado apenas generos e caracteristicas dos generos\n",
    "only_generos = df_generos['genres']\n",
    "df_no_gen = df_generos.drop('genres', axis = 1)\n",
    "df_no_gen.head()"
   ]
  },
  {
   "cell_type": "code",
   "execution_count": 74,
   "metadata": {},
   "outputs": [],
   "source": [
    "# importando bibliotecas\n",
    "from sklearn.pipeline import Pipeline\n",
    "from sklearn.preprocessing import StandardScaler\n",
    "from sklearn.decomposition import PCA"
   ]
  },
  {
   "cell_type": "code",
   "execution_count": 75,
   "metadata": {},
   "outputs": [],
   "source": [
    "# Criando o Pipeline\n",
    "SEED = 1224\n",
    "np.random.seed(1224)\n",
    "\n",
    "pca_pipeline = Pipeline([('scaler', StandardScaler()),\n",
    "                         ('PCA', PCA(n_components=2, random_state=SEED))])"
   ]
  },
  {
   "cell_type": "code",
   "execution_count": 76,
   "metadata": {},
   "outputs": [
    {
     "data": {
      "text/html": [
       "<div>\n",
       "<style scoped>\n",
       "    .dataframe tbody tr th:only-of-type {\n",
       "        vertical-align: middle;\n",
       "    }\n",
       "\n",
       "    .dataframe tbody tr th {\n",
       "        vertical-align: top;\n",
       "    }\n",
       "\n",
       "    .dataframe thead th {\n",
       "        text-align: right;\n",
       "    }\n",
       "</style>\n",
       "<table border=\"1\" class=\"dataframe\">\n",
       "  <thead>\n",
       "    <tr style=\"text-align: right;\">\n",
       "      <th></th>\n",
       "      <th>x</th>\n",
       "      <th>y</th>\n",
       "    </tr>\n",
       "  </thead>\n",
       "  <tbody>\n",
       "    <tr>\n",
       "      <th>0</th>\n",
       "      <td>5.793737</td>\n",
       "      <td>-0.351045</td>\n",
       "    </tr>\n",
       "    <tr>\n",
       "      <th>1</th>\n",
       "      <td>2.747403</td>\n",
       "      <td>3.642279</td>\n",
       "    </tr>\n",
       "    <tr>\n",
       "      <th>2</th>\n",
       "      <td>-1.060605</td>\n",
       "      <td>-1.552502</td>\n",
       "    </tr>\n",
       "    <tr>\n",
       "      <th>3</th>\n",
       "      <td>1.381677</td>\n",
       "      <td>-0.393412</td>\n",
       "    </tr>\n",
       "    <tr>\n",
       "      <th>4</th>\n",
       "      <td>1.091329</td>\n",
       "      <td>-0.638992</td>\n",
       "    </tr>\n",
       "    <tr>\n",
       "      <th>...</th>\n",
       "      <td>...</td>\n",
       "      <td>...</td>\n",
       "    </tr>\n",
       "    <tr>\n",
       "      <th>2968</th>\n",
       "      <td>-0.574157</td>\n",
       "      <td>-0.068197</td>\n",
       "    </tr>\n",
       "    <tr>\n",
       "      <th>2969</th>\n",
       "      <td>-3.287708</td>\n",
       "      <td>-1.522842</td>\n",
       "    </tr>\n",
       "    <tr>\n",
       "      <th>2970</th>\n",
       "      <td>-1.170673</td>\n",
       "      <td>-1.590471</td>\n",
       "    </tr>\n",
       "    <tr>\n",
       "      <th>2971</th>\n",
       "      <td>2.068408</td>\n",
       "      <td>-2.953647</td>\n",
       "    </tr>\n",
       "    <tr>\n",
       "      <th>2972</th>\n",
       "      <td>-1.291289</td>\n",
       "      <td>-1.415697</td>\n",
       "    </tr>\n",
       "  </tbody>\n",
       "</table>\n",
       "<p>2973 rows × 2 columns</p>\n",
       "</div>"
      ],
      "text/plain": [
       "             x         y\n",
       "0     5.793737 -0.351045\n",
       "1     2.747403  3.642279\n",
       "2    -1.060605 -1.552502\n",
       "3     1.381677 -0.393412\n",
       "4     1.091329 -0.638992\n",
       "...        ...       ...\n",
       "2968 -0.574157 -0.068197\n",
       "2969 -3.287708 -1.522842\n",
       "2970 -1.170673 -1.590471\n",
       "2971  2.068408 -2.953647\n",
       "2972 -1.291289 -1.415697\n",
       "\n",
       "[2973 rows x 2 columns]"
      ]
     },
     "execution_count": 76,
     "metadata": {},
     "output_type": "execute_result"
    }
   ],
   "source": [
    "# Tranformando os dados\n",
    "genre_embedding_pca = pca_pipeline.fit_transform(df_no_gen)\n",
    "projection = pd.DataFrame(columns=['x','y'], data=genre_embedding_pca)\n",
    "projection"
   ]
  },
  {
   "cell_type": "markdown",
   "metadata": {},
   "source": [
    "### `Kmeans`"
   ]
  },
  {
   "cell_type": "code",
   "execution_count": 77,
   "metadata": {},
   "outputs": [],
   "source": [
    "from sklearn.cluster import KMeans"
   ]
  },
  {
   "cell_type": "code",
   "execution_count": 78,
   "metadata": {},
   "outputs": [],
   "source": [
    "KMeans_pca = KMeans(n_clusters=5 , verbose=False, random_state=SEED)\n",
    "\n",
    "KMeans_pca.fit(projection)\n",
    "\n",
    "df_generos['cluster_pca'] = KMeans_pca.predict(projection)\n",
    "projection['cluster_pca'] = KMeans_pca.predict(projection)"
   ]
  },
  {
   "cell_type": "code",
   "execution_count": 79,
   "metadata": {},
   "outputs": [
    {
     "data": {
      "text/html": [
       "<div>\n",
       "<style scoped>\n",
       "    .dataframe tbody tr th:only-of-type {\n",
       "        vertical-align: middle;\n",
       "    }\n",
       "\n",
       "    .dataframe tbody tr th {\n",
       "        vertical-align: top;\n",
       "    }\n",
       "\n",
       "    .dataframe thead th {\n",
       "        text-align: right;\n",
       "    }\n",
       "</style>\n",
       "<table border=\"1\" class=\"dataframe\">\n",
       "  <thead>\n",
       "    <tr style=\"text-align: right;\">\n",
       "      <th></th>\n",
       "      <th>x</th>\n",
       "      <th>y</th>\n",
       "      <th>cluster_pca</th>\n",
       "    </tr>\n",
       "  </thead>\n",
       "  <tbody>\n",
       "    <tr>\n",
       "      <th>0</th>\n",
       "      <td>5.793737</td>\n",
       "      <td>-0.351045</td>\n",
       "      <td>1</td>\n",
       "    </tr>\n",
       "    <tr>\n",
       "      <th>1</th>\n",
       "      <td>2.747403</td>\n",
       "      <td>3.642279</td>\n",
       "      <td>1</td>\n",
       "    </tr>\n",
       "    <tr>\n",
       "      <th>2</th>\n",
       "      <td>-1.060605</td>\n",
       "      <td>-1.552502</td>\n",
       "      <td>0</td>\n",
       "    </tr>\n",
       "    <tr>\n",
       "      <th>3</th>\n",
       "      <td>1.381677</td>\n",
       "      <td>-0.393412</td>\n",
       "      <td>3</td>\n",
       "    </tr>\n",
       "    <tr>\n",
       "      <th>4</th>\n",
       "      <td>1.091329</td>\n",
       "      <td>-0.638992</td>\n",
       "      <td>3</td>\n",
       "    </tr>\n",
       "  </tbody>\n",
       "</table>\n",
       "</div>"
      ],
      "text/plain": [
       "          x         y  cluster_pca\n",
       "0  5.793737 -0.351045            1\n",
       "1  2.747403  3.642279            1\n",
       "2 -1.060605 -1.552502            0\n",
       "3  1.381677 -0.393412            3\n",
       "4  1.091329 -0.638992            3"
      ]
     },
     "execution_count": 79,
     "metadata": {},
     "output_type": "execute_result"
    }
   ],
   "source": [
    "projection.head()"
   ]
  },
  {
   "cell_type": "code",
   "execution_count": 80,
   "metadata": {},
   "outputs": [
    {
     "data": {
      "text/html": [
       "<div>\n",
       "<style scoped>\n",
       "    .dataframe tbody tr th:only-of-type {\n",
       "        vertical-align: middle;\n",
       "    }\n",
       "\n",
       "    .dataframe tbody tr th {\n",
       "        vertical-align: top;\n",
       "    }\n",
       "\n",
       "    .dataframe thead th {\n",
       "        text-align: right;\n",
       "    }\n",
       "</style>\n",
       "<table border=\"1\" class=\"dataframe\">\n",
       "  <thead>\n",
       "    <tr style=\"text-align: right;\">\n",
       "      <th></th>\n",
       "      <th>x</th>\n",
       "      <th>y</th>\n",
       "      <th>cluster_pca</th>\n",
       "      <th>generos</th>\n",
       "    </tr>\n",
       "  </thead>\n",
       "  <tbody>\n",
       "    <tr>\n",
       "      <th>0</th>\n",
       "      <td>5.793737</td>\n",
       "      <td>-0.351045</td>\n",
       "      <td>1</td>\n",
       "      <td>21st century classical</td>\n",
       "    </tr>\n",
       "    <tr>\n",
       "      <th>1</th>\n",
       "      <td>2.747403</td>\n",
       "      <td>3.642279</td>\n",
       "      <td>1</td>\n",
       "      <td>432hz</td>\n",
       "    </tr>\n",
       "    <tr>\n",
       "      <th>2</th>\n",
       "      <td>-1.060605</td>\n",
       "      <td>-1.552502</td>\n",
       "      <td>0</td>\n",
       "      <td>8-bit</td>\n",
       "    </tr>\n",
       "    <tr>\n",
       "      <th>3</th>\n",
       "      <td>1.381677</td>\n",
       "      <td>-0.393412</td>\n",
       "      <td>3</td>\n",
       "      <td>[]</td>\n",
       "    </tr>\n",
       "    <tr>\n",
       "      <th>4</th>\n",
       "      <td>1.091329</td>\n",
       "      <td>-0.638992</td>\n",
       "      <td>3</td>\n",
       "      <td>a cappella</td>\n",
       "    </tr>\n",
       "    <tr>\n",
       "      <th>...</th>\n",
       "      <td>...</td>\n",
       "      <td>...</td>\n",
       "      <td>...</td>\n",
       "      <td>...</td>\n",
       "    </tr>\n",
       "    <tr>\n",
       "      <th>2968</th>\n",
       "      <td>-0.574157</td>\n",
       "      <td>-0.068197</td>\n",
       "      <td>4</td>\n",
       "      <td>zolo</td>\n",
       "    </tr>\n",
       "    <tr>\n",
       "      <th>2969</th>\n",
       "      <td>-3.287708</td>\n",
       "      <td>-1.522842</td>\n",
       "      <td>0</td>\n",
       "      <td>zouglou</td>\n",
       "    </tr>\n",
       "    <tr>\n",
       "      <th>2970</th>\n",
       "      <td>-1.170673</td>\n",
       "      <td>-1.590471</td>\n",
       "      <td>0</td>\n",
       "      <td>zouk</td>\n",
       "    </tr>\n",
       "    <tr>\n",
       "      <th>2971</th>\n",
       "      <td>2.068408</td>\n",
       "      <td>-2.953647</td>\n",
       "      <td>3</td>\n",
       "      <td>zurich indie</td>\n",
       "    </tr>\n",
       "    <tr>\n",
       "      <th>2972</th>\n",
       "      <td>-1.291289</td>\n",
       "      <td>-1.415697</td>\n",
       "      <td>0</td>\n",
       "      <td>zydeco</td>\n",
       "    </tr>\n",
       "  </tbody>\n",
       "</table>\n",
       "<p>2973 rows × 4 columns</p>\n",
       "</div>"
      ],
      "text/plain": [
       "             x         y  cluster_pca                 generos\n",
       "0     5.793737 -0.351045            1  21st century classical\n",
       "1     2.747403  3.642279            1                   432hz\n",
       "2    -1.060605 -1.552502            0                   8-bit\n",
       "3     1.381677 -0.393412            3                      []\n",
       "4     1.091329 -0.638992            3              a cappella\n",
       "...        ...       ...          ...                     ...\n",
       "2968 -0.574157 -0.068197            4                    zolo\n",
       "2969 -3.287708 -1.522842            0                 zouglou\n",
       "2970 -1.170673 -1.590471            0                    zouk\n",
       "2971  2.068408 -2.953647            3            zurich indie\n",
       "2972 -1.291289 -1.415697            0                  zydeco\n",
       "\n",
       "[2973 rows x 4 columns]"
      ]
     },
     "execution_count": 80,
     "metadata": {},
     "output_type": "execute_result"
    }
   ],
   "source": [
    "projection['generos'] = df_generos['genres']\n",
    "projection"
   ]
  },
  {
   "cell_type": "markdown",
   "metadata": {},
   "source": [
    "### `Plot Dos Cliusters`"
   ]
  },
  {
   "cell_type": "code",
   "execution_count": 81,
   "metadata": {},
   "outputs": [
    {
     "data": {
      "application/vnd.plotly.v1+json": {
       "config": {
        "plotlyServerURL": "https://plot.ly"
       },
       "data": [
        {
         "customdata": [
          [
           "21st century classical"
          ],
          [
           "432hz"
          ],
          [
           "8-bit"
          ],
          [
           "[]"
          ],
          [
           "a cappella"
          ],
          [
           "abstract"
          ],
          [
           "abstract beats"
          ],
          [
           "abstract hip hop"
          ],
          [
           "accordeon"
          ],
          [
           "accordion"
          ],
          [
           "acid house"
          ],
          [
           "acid rock"
          ],
          [
           "acid trance"
          ],
          [
           "acousmatic"
          ],
          [
           "acoustic blues"
          ],
          [
           "acoustic pop"
          ],
          [
           "acoustic punk"
          ],
          [
           "acoustic rock"
          ],
          [
           "action rock"
          ],
          [
           "adoracion"
          ],
          [
           "adult standards"
          ],
          [
           "adventista"
          ],
          [
           "afghan pop"
          ],
          [
           "afghan traditional"
          ],
          [
           "african percussion"
          ],
          [
           "african reggae"
          ],
          [
           "african rock"
          ],
          [
           "african-american classical"
          ],
          [
           "afro dancehall"
          ],
          [
           "afro house"
          ],
          [
           "afro psych"
          ],
          [
           "afro soul"
          ],
          [
           "afro-funk"
          ],
          [
           "afrobeat"
          ],
          [
           "afrofuturism"
          ],
          [
           "afrofuturismo brasileiro"
          ],
          [
           "afropop"
          ],
          [
           "afroswing"
          ],
          [
           "aggrotech"
          ],
          [
           "alabama indie"
          ],
          [
           "alabama metal"
          ],
          [
           "alabama rap"
          ],
          [
           "alaska indie"
          ],
          [
           "albanian pop"
          ],
          [
           "albany ny indie"
          ],
          [
           "alberta country"
          ],
          [
           "alberta hip hop"
          ],
          [
           "album rock"
          ],
          [
           "albuquerque indie"
          ],
          [
           "alt-idol"
          ],
          [
           "alte"
          ],
          [
           "alternative americana"
          ],
          [
           "alternative country"
          ],
          [
           "alternative dance"
          ],
          [
           "alternative emo"
          ],
          [
           "alternative hip hop"
          ],
          [
           "alternative metal"
          ],
          [
           "alternative pop"
          ],
          [
           "alternative pop rock"
          ],
          [
           "alternative r&b"
          ],
          [
           "alternative rock"
          ],
          [
           "alternative roots rock"
          ],
          [
           "ambeat"
          ],
          [
           "ambient"
          ],
          [
           "ambient black metal"
          ],
          [
           "ambient folk"
          ],
          [
           "ambient house"
          ],
          [
           "ambient idm"
          ],
          [
           "ambient industrial"
          ],
          [
           "ambient pop"
          ],
          [
           "ambient techno"
          ],
          [
           "ambient worship"
          ],
          [
           "american 21st century classical"
          ],
          [
           "american choir"
          ],
          [
           "american classical piano"
          ],
          [
           "american contemporary classical"
          ],
          [
           "american early music"
          ],
          [
           "american folk revival"
          ],
          [
           "american metalcore"
          ],
          [
           "american modern classical"
          ],
          [
           "american oi"
          ],
          [
           "american orchestra"
          ],
          [
           "american post-rock"
          ],
          [
           "american primitive"
          ],
          [
           "american romanticism"
          ],
          [
           "american shoegaze"
          ],
          [
           "anadolu rock"
          ],
          [
           "anarcho-punk"
          ],
          [
           "anglican liturgy"
          ],
          [
           "animal singing"
          ],
          [
           "anime"
          ],
          [
           "anime latino"
          ],
          [
           "anime rock"
          ],
          [
           "anime score"
          ],
          [
           "ann arbor indie"
          ],
          [
           "anthem emo"
          ],
          [
           "anthem worship"
          ],
          [
           "anti-folk"
          ],
          [
           "antilliaanse folklore"
          ],
          [
           "antiviral pop"
          ],
          [
           "appalachian folk"
          ],
          [
           "arab folk"
          ],
          [
           "arab groove"
          ],
          [
           "arab pop"
          ],
          [
           "arabesk"
          ],
          [
           "arabic hip hop"
          ],
          [
           "arabic jazz"
          ],
          [
           "argentine ambient"
          ],
          [
           "argentine hardcore"
          ],
          [
           "argentine heavy metal"
          ],
          [
           "argentine hip hop"
          ],
          [
           "argentine indie"
          ],
          [
           "argentine metal"
          ],
          [
           "argentine punk"
          ],
          [
           "argentine reggae"
          ],
          [
           "argentine rock"
          ],
          [
           "argentine telepop"
          ],
          [
           "arizona punk"
          ],
          [
           "arkansas country"
          ],
          [
           "arkansas hip hop"
          ],
          [
           "arkansas indie"
          ],
          [
           "armenian folk"
          ],
          [
           "art pop"
          ],
          [
           "art punk"
          ],
          [
           "art rock"
          ],
          [
           "art song"
          ],
          [
           "asbury park indie"
          ],
          [
           "asheville indie"
          ],
          [
           "asian american hip hop"
          ],
          [
           "asmr"
          ],
          [
           "athens indie"
          ],
          [
           "atl hip hop"
          ],
          [
           "atl trap"
          ],
          [
           "atlanta indie"
          ],
          [
           "atlanta metal"
          ],
          [
           "atlanta punk"
          ],
          [
           "atmosphere"
          ],
          [
           "atmospheric black metal"
          ],
          [
           "atmospheric dnb"
          ],
          [
           "atmospheric post-metal"
          ],
          [
           "atmospheric post-rock"
          ],
          [
           "atmospheric sludge"
          ],
          [
           "auckland indie"
          ],
          [
           "audiophile vocal"
          ],
          [
           "aussietronica"
          ],
          [
           "austin americana"
          ],
          [
           "austin singer-songwriter"
          ],
          [
           "austindie"
          ],
          [
           "australian alternative pop"
          ],
          [
           "australian alternative rock"
          ],
          [
           "australian ambient"
          ],
          [
           "australian children's music"
          ],
          [
           "australian choir"
          ],
          [
           "australian classical"
          ],
          [
           "australian classical piano"
          ],
          [
           "australian country"
          ],
          [
           "australian dance"
          ],
          [
           "australian electropop"
          ],
          [
           "australian garage punk"
          ],
          [
           "australian hip hop"
          ],
          [
           "australian house"
          ],
          [
           "australian indie"
          ],
          [
           "australian indie folk"
          ],
          [
           "australian indie rock"
          ],
          [
           "australian indigenous"
          ],
          [
           "australian metal"
          ],
          [
           "australian metalcore"
          ],
          [
           "australian pop"
          ],
          [
           "australian post-hardcore"
          ],
          [
           "australian post-punk"
          ],
          [
           "australian psych"
          ],
          [
           "australian r&b"
          ],
          [
           "australian reggae fusion"
          ],
          [
           "australian rock"
          ],
          [
           "australian singer-songwriter"
          ],
          [
           "australian ska"
          ],
          [
           "australian talent show"
          ],
          [
           "australian trap"
          ],
          [
           "australian underground hip hop"
          ],
          [
           "austrian choir"
          ],
          [
           "austrian classical piano"
          ],
          [
           "austrian orchestra"
          ],
          [
           "austrian pop"
          ],
          [
           "austro-german modernism"
          ],
          [
           "austropop"
          ],
          [
           "autoharp"
          ],
          [
           "autonomous black metal"
          ],
          [
           "avant-garde"
          ],
          [
           "avant-garde jazz"
          ],
          [
           "avant-garde metal"
          ],
          [
           "axe"
          ],
          [
           "azeri traditional"
          ],
          [
           "azonto"
          ],
          [
           "azontobeats"
          ],
          [
           "bachata"
          ],
          [
           "bachata dominicana"
          ],
          [
           "background music"
          ],
          [
           "background piano"
          ],
          [
           "baglama"
          ],
          [
           "bahai"
          ],
          [
           "bahamian folk"
          ],
          [
           "bahamian pop"
          ],
          [
           "baiao"
          ],
          [
           "bajki"
          ],
          [
           "bakersfield sound"
          ],
          [
           "balearic"
          ],
          [
           "balkan brass"
          ],
          [
           "balkan classical piano"
          ],
          [
           "ballet class"
          ],
          [
           "ballroom"
          ],
          [
           "baltic classical"
          ],
          [
           "baltimore hip hop"
          ],
          [
           "baltimore indie"
          ],
          [
           "banda"
          ],
          [
           "banda caliente"
          ],
          [
           "banda carnavalera"
          ],
          [
           "bandinhas"
          ],
          [
           "bandolim"
          ],
          [
           "bandoneon"
          ],
          [
           "bangla"
          ],
          [
           "banjo"
          ],
          [
           "bansuri"
          ],
          [
           "barbadian pop"
          ],
          [
           "barbershop"
          ],
          [
           "bard"
          ],
          [
           "barnmusik"
          ],
          [
           "barockinterpreten"
          ],
          [
           "baroque"
          ],
          [
           "baroque brass"
          ],
          [
           "baroque ensemble"
          ],
          [
           "baroque pop"
          ],
          [
           "baroque singing"
          ],
          [
           "baroque violin"
          ],
          [
           "baroque woodwind"
          ],
          [
           "bass house"
          ],
          [
           "bass music"
          ],
          [
           "bass trap"
          ],
          [
           "basshall"
          ],
          [
           "bassline"
          ],
          [
           "bath indie"
          ],
          [
           "baton rouge indie"
          ],
          [
           "baton rouge rap"
          ],
          [
           "battle rap"
          ],
          [
           "bay area hip hop"
          ],
          [
           "bay area indie"
          ],
          [
           "bboy"
          ],
          [
           "bc underground hip hop"
          ],
          [
           "beach music"
          ],
          [
           "beat italiano"
          ],
          [
           "beat poetry"
          ],
          [
           "beatboxing"
          ],
          [
           "beatlesque"
          ],
          [
           "bebop"
          ],
          [
           "bedroom pop"
          ],
          [
           "bedroom soul"
          ],
          [
           "belarusian indie"
          ],
          [
           "belarusian pop"
          ],
          [
           "belarusian rock"
          ],
          [
           "belgian classical piano"
          ],
          [
           "belgian contemporary classical"
          ],
          [
           "belgian dance"
          ],
          [
           "belgian edm"
          ],
          [
           "belgian hardcore"
          ],
          [
           "belgian indie"
          ],
          [
           "belgian indie rock"
          ],
          [
           "belgian jazz"
          ],
          [
           "belgian new wave"
          ],
          [
           "belgian pop"
          ],
          [
           "belgian rock"
          ],
          [
           "belgian singer-songwriter"
          ],
          [
           "belgian techno"
          ],
          [
           "belly dance"
          ],
          [
           "bengali folk"
          ],
          [
           "beninese pop"
          ],
          [
           "bergen indie"
          ],
          [
           "berlin minimal techno"
          ],
          [
           "berlin school"
          ],
          [
           "bhajan"
          ],
          [
           "bhangra"
          ],
          [
           "bible"
          ],
          [
           "big band"
          ],
          [
           "big beat"
          ],
          [
           "big room"
          ],
          [
           "binaural"
          ],
          [
           "birdsong"
          ],
          [
           "birmingham grime"
          ],
          [
           "birmingham hip hop"
          ],
          [
           "birmingham metal"
          ],
          [
           "bitpop"
          ],
          [
           "black 'n' roll"
          ],
          [
           "black comedy"
          ],
          [
           "black metal"
          ],
          [
           "black punk"
          ],
          [
           "black thrash"
          ],
          [
           "blackened crust"
          ],
          [
           "blackgaze"
          ],
          [
           "bleep techno"
          ],
          [
           "bluegrass"
          ],
          [
           "bluegrass fiddle"
          ],
          [
           "bluegrass gospel"
          ],
          [
           "blues"
          ],
          [
           "blues latinoamericano"
          ],
          [
           "blues mexicano"
          ],
          [
           "blues rock"
          ],
          [
           "bmore"
          ],
          [
           "bolero"
          ],
          [
           "bolero cubano"
          ],
          [
           "boogaloo"
          ],
          [
           "boogie"
          ],
          [
           "boogie-woogie"
          ],
          [
           "boom bap"
          ],
          [
           "boom bap brasileiro"
          ],
          [
           "bossa nova"
          ],
          [
           "bossa nova jazz"
          ],
          [
           "boston folk"
          ],
          [
           "boston hardcore"
          ],
          [
           "boston hip hop"
          ],
          [
           "boston indie"
          ],
          [
           "boston metal"
          ],
          [
           "boston punk"
          ],
          [
           "boston rock"
          ],
          [
           "bounce"
          ],
          [
           "bouncy house"
          ],
          [
           "bouzouki"
          ],
          [
           "bow pop"
          ],
          [
           "boy band"
          ],
          [
           "boy pop"
          ],
          [
           "boy soprano"
          ],
          [
           "brain waves"
          ],
          [
           "braindance"
          ],
          [
           "brass band"
          ],
          [
           "brass ensemble"
          ],
          [
           "brass quintet"
          ],
          [
           "brazilian boogie"
          ],
          [
           "brazilian classical"
          ],
          [
           "brazilian classical piano"
          ],
          [
           "brazilian contemporary classical"
          ],
          [
           "brazilian edm"
          ],
          [
           "brazilian groove metal"
          ],
          [
           "brazilian hip hop"
          ],
          [
           "brazilian indie"
          ],
          [
           "brazilian jazz"
          ],
          [
           "brazilian metal"
          ],
          [
           "brazilian modern jazz"
          ],
          [
           "brazilian percussion"
          ],
          [
           "brazilian punk"
          ],
          [
           "brazilian reggae"
          ],
          [
           "brazilian rock"
          ],
          [
           "brazilian ska"
          ],
          [
           "brazilian soul"
          ],
          [
           "brazilian thrash metal"
          ],
          [
           "breakbeat"
          ],
          [
           "breakcore"
          ],
          [
           "brega"
          ],
          [
           "breton folk"
          ],
          [
           "brighton indie"
          ],
          [
           "brill building pop"
          ],
          [
           "brisbane indie"
          ],
          [
           "bristol electronic"
          ],
          [
           "bristol indie"
          ],
          [
           "brit funk"
          ],
          [
           "british alternative rock"
          ],
          [
           "british black metal"
          ],
          [
           "british blues"
          ],
          [
           "british children's music"
          ],
          [
           "british choir"
          ],
          [
           "british classical piano"
          ],
          [
           "british comedy"
          ],
          [
           "british contemporary classical"
          ],
          [
           "british dance band"
          ],
          [
           "british death metal"
          ],
          [
           "british experimental"
          ],
          [
           "british folk"
          ],
          [
           "british grindcore"
          ],
          [
           "british indie rock"
          ],
          [
           "british industrial"
          ],
          [
           "british invasion"
          ],
          [
           "british jazz"
          ],
          [
           "british modern classical"
          ],
          [
           "british orchestra"
          ],
          [
           "british post-rock"
          ],
          [
           "british power metal"
          ],
          [
           "british singer-songwriter"
          ],
          [
           "british soul"
          ],
          [
           "british soundtrack"
          ],
          [
           "britpop"
          ],
          [
           "broadway"
          ],
          [
           "broken beat"
          ],
          [
           "bronx hip hop"
          ],
          [
           "brooklyn drill"
          ],
          [
           "brooklyn indie"
          ],
          [
           "brostep"
          ],
          [
           "brutal death metal"
          ],
          [
           "brutal deathcore"
          ],
          [
           "bubble trance"
          ],
          [
           "bubblegrunge"
          ],
          [
           "bubblegum dance"
          ],
          [
           "bubblegum pop"
          ],
          [
           "buffalo hip hop"
          ],
          [
           "buffalo ny indie"
          ],
          [
           "buffalo ny metal"
          ],
          [
           "bulgarian experimental"
          ],
          [
           "burmese traditional"
          ],
          [
           "bush ballad"
          ],
          [
           "c-pop"
          ],
          [
           "c86"
          ],
          [
           "cabaret"
          ],
          [
           "cajun"
          ],
          [
           "calgary indie"
          ],
          [
           "cali rap"
          ],
          [
           "calming instrumental"
          ],
          [
           "calypso"
          ],
          [
           "cambodian rock"
          ],
          [
           "cambridge choir"
          ],
          [
           "cambridgeshire indie"
          ],
          [
           "cameroonian pop"
          ],
          [
           "canadian americana"
          ],
          [
           "canadian blues"
          ],
          [
           "canadian ccm"
          ],
          [
           "canadian celtic"
          ],
          [
           "canadian children's music"
          ],
          [
           "canadian choir"
          ],
          [
           "canadian classical"
          ],
          [
           "canadian classical piano"
          ],
          [
           "canadian comedy"
          ],
          [
           "canadian contemporary country"
          ],
          [
           "canadian contemporary r&b"
          ],
          [
           "canadian country"
          ],
          [
           "canadian electronic"
          ],
          [
           "canadian electropop"
          ],
          [
           "canadian experimental"
          ],
          [
           "canadian folk"
          ],
          [
           "canadian hardcore"
          ],
          [
           "canadian hip hop"
          ],
          [
           "canadian house"
          ],
          [
           "canadian indie"
          ],
          [
           "canadian indie folk"
          ],
          [
           "canadian indigenous"
          ],
          [
           "canadian indigenous hip hop"
          ],
          [
           "canadian latin"
          ],
          [
           "canadian metal"
          ],
          [
           "canadian metalcore"
          ],
          [
           "canadian modern jazz"
          ],
          [
           "canadian pop"
          ],
          [
           "canadian pop punk"
          ],
          [
           "canadian post-hardcore"
          ],
          [
           "canadian post-rock"
          ],
          [
           "canadian psychedelic"
          ],
          [
           "canadian punk"
          ],
          [
           "canadian rock"
          ],
          [
           "canadian rockabilly"
          ],
          [
           "canadian singer-songwriter"
          ],
          [
           "canadian soundtrack"
          ],
          [
           "cancion melodica"
          ],
          [
           "candy pop"
          ],
          [
           "cantautor"
          ],
          [
           "cante flamenco"
          ],
          [
           "canterbury scene"
          ],
          [
           "canto popular uruguayo"
          ],
          [
           "cantopop"
          ],
          [
           "canzone d'autore"
          ],
          [
           "canzone genovese"
          ],
          [
           "canzone napoletana"
          ],
          [
           "cape town indie"
          ],
          [
           "cape verdean folk"
          ],
          [
           "capoeira"
          ],
          [
           "caracas indie"
          ],
          [
           "carnatic"
          ],
          [
           "carnatic instrumental"
          ],
          [
           "carnatic vocal"
          ],
          [
           "cartoon"
          ],
          [
           "cathedral choir"
          ],
          [
           "caucasian classical"
          ],
          [
           "caucasian classical piano"
          ],
          [
           "ccm"
          ],
          [
           "cedm"
          ],
          [
           "cello"
          ],
          [
           "celtic"
          ],
          [
           "celtic harp"
          ],
          [
           "celtic metal"
          ],
          [
           "celtic punk"
          ],
          [
           "celtic rock"
          ],
          [
           "cha-cha-cha"
          ],
          [
           "chakra"
          ],
          [
           "chamame"
          ],
          [
           "chamber choir"
          ],
          [
           "chamber ensemble"
          ],
          [
           "chamber folk"
          ],
          [
           "chamber orchestra"
          ],
          [
           "chamber pop"
          ],
          [
           "chamber psych"
          ],
          [
           "champeta"
          ],
          [
           "channel islands indie"
          ],
          [
           "channel pop"
          ],
          [
           "chanson"
          ],
          [
           "chanson paillarde"
          ],
          [
           "chaotic hardcore"
          ],
          [
           "charanga"
          ],
          [
           "charango"
          ],
          [
           "charlotte nc indie"
          ],
          [
           "charlottesville indie"
          ],
          [
           "chattanooga indie"
          ],
          [
           "chicago blues"
          ],
          [
           "chicago drill"
          ],
          [
           "chicago hardcore"
          ],
          [
           "chicago house"
          ],
          [
           "chicago indie"
          ],
          [
           "chicago pop punk"
          ],
          [
           "chicago punk"
          ],
          [
           "chicago rap"
          ],
          [
           "chicago soul"
          ],
          [
           "chicano punk"
          ],
          [
           "chicano rap"
          ],
          [
           "chicha"
          ],
          [
           "chihuahua indie"
          ],
          [
           "children's choir"
          ],
          [
           "children's folk"
          ],
          [
           "children's music"
          ],
          [
           "children's story"
          ],
          [
           "chilean hardcore"
          ],
          [
           "chilean indie"
          ],
          [
           "chilean rock"
          ],
          [
           "chilena"
          ],
          [
           "chill beats"
          ],
          [
           "chill guitar"
          ],
          [
           "chill lounge"
          ],
          [
           "chill out"
          ],
          [
           "chill pop"
          ],
          [
           "chill r&b"
          ],
          [
           "chillhop"
          ],
          [
           "chillstep"
          ],
          [
           "chillwave"
          ],
          [
           "chinese audiophile"
          ],
          [
           "chinese classical"
          ],
          [
           "chinese classical performance"
          ],
          [
           "chinese classical piano"
          ],
          [
           "chinese electropop"
          ],
          [
           "chinese hip hop"
          ],
          [
           "chinese idol pop"
          ],
          [
           "chinese indie"
          ],
          [
           "chinese indie rock"
          ],
          [
           "chinese instrumental"
          ],
          [
           "chinese jazz"
          ],
          [
           "chinese r&b"
          ],
          [
           "chinese soundtrack"
          ],
          [
           "chinese traditional"
          ],
          [
           "chiptune"
          ],
          [
           "chopped and screwed"
          ],
          [
           "choral"
          ],
          [
           "choro"
          ],
          [
           "christchurch indie"
          ],
          [
           "christelijk"
          ],
          [
           "christian a cappella"
          ],
          [
           "christian alternative rock"
          ],
          [
           "christian dance"
          ],
          [
           "christian hard rock"
          ],
          [
           "christian hardcore"
          ],
          [
           "christian hip hop"
          ],
          [
           "christian indie"
          ],
          [
           "christian metal"
          ],
          [
           "christian metalcore"
          ],
          [
           "christian music"
          ],
          [
           "christian pop"
          ],
          [
           "christian power metal"
          ],
          [
           "christian punk"
          ],
          [
           "christian relaxative"
          ],
          [
           "christian rock"
          ],
          [
           "christian trap"
          ],
          [
           "christian uplift"
          ],
          [
           "christmas instrumental"
          ],
          [
           "christmas product"
          ],
          [
           "chunchaca"
          ],
          [
           "chutney"
          ],
          [
           "cincinnati rap"
          ],
          [
           "cinematic post-rock"
          ],
          [
           "circuit"
          ],
          [
           "circus"
          ],
          [
           "classic afrobeat"
          ],
          [
           "classic arab pop"
          ],
          [
           "classic australian country"
          ],
          [
           "classic belgian pop"
          ],
          [
           "classic bhangra"
          ],
          [
           "classic bollywood"
          ],
          [
           "classic canadian rock"
          ],
          [
           "classic cantopop"
          ],
          [
           "classic colombian pop"
          ],
          [
           "classic country pop"
          ],
          [
           "classic czech pop"
          ],
          [
           "classic danish pop"
          ],
          [
           "classic dubstep"
          ],
          [
           "classic eurovision"
          ],
          [
           "classic finnish pop"
          ],
          [
           "classic french pop"
          ],
          [
           "classic garage rock"
          ],
          [
           "classic girl group"
          ],
          [
           "classic greek pop"
          ],
          [
           "classic hardstyle"
          ],
          [
           "classic icelandic pop"
          ],
          [
           "classic indo pop"
          ],
          [
           "classic iskelma"
          ],
          [
           "classic israeli pop"
          ],
          [
           "classic italian folk pop"
          ],
          [
           "classic italian pop"
          ],
          [
           "classic j-rock"
          ],
          [
           "classic japanese jazz"
          ],
          [
           "classic korean pop"
          ],
          [
           "classic latvian pop"
          ],
          [
           "classic mandopop"
          ],
          [
           "classic norwegian pop"
          ],
          [
           "classic opm"
          ],
          [
           "classic pakistani pop"
          ],
          [
           "classic persian pop"
          ],
          [
           "classic peruvian pop"
          ],
          [
           "classic polish pop"
          ],
          [
           "classic praise"
          ],
          [
           "classic psychedelic rock"
          ],
          [
           "classic punjabi pop"
          ],
          [
           "classic rock"
          ],
          [
           "classic russian pop"
          ],
          [
           "classic russian rock"
          ],
          [
           "classic schlager"
          ],
          [
           "classic soul"
          ],
          [
           "classic soundtrack"
          ],
          [
           "classic swedish pop"
          ],
          [
           "classic thai pop"
          ],
          [
           "classic tunisian pop"
          ],
          [
           "classic turkish pop"
          ],
          [
           "classic uk pop"
          ],
          [
           "classic venezuelan pop"
          ],
          [
           "classical"
          ],
          [
           "classical accordion"
          ],
          [
           "classical baritone"
          ],
          [
           "classical bass"
          ],
          [
           "classical cello"
          ],
          [
           "classical clarinet"
          ],
          [
           "classical contralto"
          ],
          [
           "classical countertenor"
          ],
          [
           "classical era"
          ],
          [
           "classical flute"
          ],
          [
           "classical guitar"
          ],
          [
           "classical harp"
          ],
          [
           "classical horn"
          ],
          [
           "classical mandolin"
          ],
          [
           "classical mezzo-soprano"
          ],
          [
           "classical oboe"
          ],
          [
           "classical organ"
          ],
          [
           "classical performance"
          ],
          [
           "classical piano"
          ],
          [
           "classical piano duo"
          ],
          [
           "classical piano trio"
          ],
          [
           "classical saxophone"
          ],
          [
           "classical soprano"
          ],
          [
           "classical tenor"
          ],
          [
           "classical trumpet"
          ],
          [
           "classify"
          ],
          [
           "clawhammer banjo"
          ],
          [
           "clean comedy"
          ],
          [
           "cleveland metal"
          ],
          [
           "coco"
          ],
          [
           "collage pop"
          ],
          [
           "college a cappella"
          ],
          [
           "colombian hip hop"
          ],
          [
           "colombian pop"
          ],
          [
           "colombian rock"
          ],
          [
           "columbus ohio indie"
          ],
          [
           "comedy"
          ],
          [
           "comedy rap"
          ],
          [
           "comedy rock"
          ],
          [
           "comic"
          ],
          [
           "comic metal"
          ],
          [
           "commons"
          ],
          [
           "complextro"
          ],
          [
           "compositional ambient"
          ],
          [
           "concepcion indie"
          ],
          [
           "concert band"
          ],
          [
           "connecticut hardcore"
          ],
          [
           "connecticut indie"
          ],
          [
           "conscious hip hop"
          ],
          [
           "contemporary choir"
          ],
          [
           "contemporary classical"
          ],
          [
           "contemporary classical piano"
          ],
          [
           "contemporary country"
          ],
          [
           "contemporary folk"
          ],
          [
           "contemporary gospel"
          ],
          [
           "contemporary jazz"
          ],
          [
           "contemporary post-bop"
          ],
          [
           "contemporary vocal jazz"
          ],
          [
           "contrabass"
          ],
          [
           "cool jazz"
          ],
          [
           "copla"
          ],
          [
           "cornish folk"
          ],
          [
           "cornwall indie"
          ],
          [
           "corrido"
          ],
          [
           "corridos cristianos"
          ],
          [
           "corridos tumbados"
          ],
          [
           "corrosion"
          ],
          [
           "cosmic american"
          ],
          [
           "cosmic post-rock"
          ],
          [
           "country"
          ],
          [
           "country blues"
          ],
          [
           "country boogie"
          ],
          [
           "country dawn"
          ],
          [
           "country gospel"
          ],
          [
           "country pop"
          ],
          [
           "country rap"
          ],
          [
           "country road"
          ],
          [
           "country rock"
          ],
          [
           "coverchill"
          ],
          [
           "cowboy western"
          ],
          [
           "cowpunk"
          ],
          [
           "crack rock steady"
          ],
          [
           "croatian folk"
          ],
          [
           "croatian pop"
          ],
          [
           "croatian rock"
          ],
          [
           "crossover thrash"
          ],
          [
           "crunk"
          ],
          [
           "crust punk"
          ],
          [
           "cuarteto"
          ],
          [
           "cuatro venezolano"
          ],
          [
           "cuban alternative"
          ],
          [
           "cuban rumba"
          ],
          [
           "cubaton"
          ],
          [
           "cumbia"
          ],
          [
           "cumbia andina mexicana"
          ],
          [
           "cumbia chilena"
          ],
          [
           "cumbia colombiana regia"
          ],
          [
           "cumbia ecuatoriana"
          ],
          [
           "cumbia funk"
          ],
          [
           "cumbia lagunera"
          ],
          [
           "cumbia paraguaya"
          ],
          [
           "cumbia peruana"
          ],
          [
           "cumbia pop"
          ],
          [
           "cumbia ranchera"
          ],
          [
           "cumbia salvadorena"
          ],
          [
           "cumbia santafesina"
          ],
          [
           "cumbia sonidera"
          ],
          [
           "cumbia villera"
          ],
          [
           "cyberpunk"
          ],
          [
           "cymraeg"
          ],
          [
           "cypriot pop"
          ],
          [
           "czech classical"
          ],
          [
           "czech classical piano"
          ],
          [
           "czech contemporary classical"
          ],
          [
           "d-beat"
          ],
          [
           "dabke"
          ],
          [
           "dakke dak"
          ],
          [
           "dallas indie"
          ],
          [
           "dance pop"
          ],
          [
           "dance rock"
          ],
          [
           "dance-punk"
          ],
          [
           "dancehall"
          ],
          [
           "dangdut"
          ],
          [
           "danish alternative rock"
          ],
          [
           "danish classical"
          ],
          [
           "danish electronic"
          ],
          [
           "danish electropop"
          ],
          [
           "danish hip hop"
          ],
          [
           "danish jazz"
          ],
          [
           "danish metal"
          ],
          [
           "danish pop"
          ],
          [
           "danish pop rock"
          ],
          [
           "danish post-punk"
          ],
          [
           "danish punk"
          ],
          [
           "danish rock"
          ],
          [
           "danish singer-songwriter"
          ],
          [
           "dansband"
          ],
          [
           "danseband"
          ],
          [
           "dansktop"
          ],
          [
           "danspunk"
          ],
          [
           "dark cabaret"
          ],
          [
           "dark clubbing"
          ],
          [
           "dark disco"
          ],
          [
           "dark hardcore"
          ],
          [
           "dark jazz"
          ],
          [
           "dark minimal techno"
          ],
          [
           "dark post-punk"
          ],
          [
           "dark techno"
          ],
          [
           "dark trap"
          ],
          [
           "dark wave"
          ],
          [
           "darksynth"
          ],
          [
           "dayton indie"
          ],
          [
           "dc hardcore"
          ],
          [
           "dc indie"
          ],
          [
           "death 'n' roll"
          ],
          [
           "death metal"
          ],
          [
           "deathcore"
          ],
          [
           "deathgrass"
          ],
          [
           "deathgrind"
          ],
          [
           "deathrash"
          ],
          [
           "deathrock"
          ],
          [
           "deathstep"
          ],
          [
           "deep acoustic pop"
          ],
          [
           "deep adult standards"
          ],
          [
           "deep big room"
          ],
          [
           "deep ccm"
          ],
          [
           "deep christian rock"
          ],
          [
           "deep classic garage rock"
          ],
          [
           "deep comedy"
          ],
          [
           "deep contemporary country"
          ],
          [
           "deep dance pop"
          ],
          [
           "deep delta blues"
          ],
          [
           "deep disco"
          ],
          [
           "deep disco house"
          ],
          [
           "deep dnb"
          ],
          [
           "deep east coast hip hop"
          ],
          [
           "deep euro house"
          ],
          [
           "deep flow"
          ],
          [
           "deep free jazz"
          ],
          [
           "deep freestyle"
          ],
          [
           "deep full on"
          ],
          [
           "deep funk"
          ],
          [
           "deep g funk"
          ],
          [
           "deep gothic post-punk"
          ],
          [
           "deep groove house"
          ],
          [
           "deep house"
          ],
          [
           "deep idm"
          ],
          [
           "deep indian pop"
          ],
          [
           "deep indie singer-songwriter"
          ],
          [
           "deep latin alternative"
          ],
          [
           "deep latin christian"
          ],
          [
           "deep melodic metalcore"
          ],
          [
           "deep minimal techno"
          ],
          [
           "deep motown"
          ],
          [
           "deep new americana"
          ],
          [
           "deep new wave"
          ],
          [
           "deep norteno"
          ],
          [
           "deep northern soul"
          ],
          [
           "deep pop edm"
          ],
          [
           "deep progressive house"
          ],
          [
           "deep psychobilly"
          ],
          [
           "deep punk rock"
          ],
          [
           "deep r&b"
          ],
          [
           "deep ragga"
          ],
          [
           "deep regional mexican"
          ],
          [
           "deep smooth jazz"
          ],
          [
           "deep soft rock"
          ],
          [
           "deep soul house"
          ],
          [
           "deep soundtrack"
          ],
          [
           "deep southern soul"
          ],
          [
           "deep southern trap"
          ],
          [
           "deep space rock"
          ],
          [
           "deep talent show"
          ],
          [
           "deep tech house"
          ],
          [
           "deep techno"
          ],
          [
           "deep tropical house"
          ],
          [
           "deep underground hip hop"
          ],
          [
           "deep uplifting trance"
          ],
          [
           "delta blues"
          ],
          [
           "dembow"
          ],
          [
           "denpa-kei"
          ],
          [
           "denton tx indie"
          ],
          [
           "denver indie"
          ],
          [
           "depressive black metal"
          ],
          [
           "derby indie"
          ],
          [
           "desert blues"
          ],
          [
           "desi hip hop"
          ],
          [
           "desi pop"
          ],
          [
           "destroy techno"
          ],
          [
           "detroit hip hop"
          ],
          [
           "detroit house"
          ],
          [
           "detroit techno"
          ],
          [
           "detroit trap"
          ],
          [
           "detske pisnicky"
          ],
          [
           "detskie pesni"
          ],
          [
           "devon indie"
          ],
          [
           "dfw rap"
          ],
          [
           "dhrupad"
          ],
          [
           "digital hardcore"
          ],
          [
           "dinner jazz"
          ],
          [
           "dirty south rap"
          ],
          [
           "dirty texas rap"
          ],
          [
           "disco"
          ],
          [
           "disco house"
          ],
          [
           "disney"
          ],
          [
           "diva house"
          ],
          [
           "dixieland"
          ],
          [
           "diy emo"
          ],
          [
           "djent"
          ],
          [
           "dmv rap"
          ],
          [
           "dominican pop"
          ],
          [
           "dong-yo"
          ],
          [
           "doo-wop"
          ],
          [
           "doom metal"
          ],
          [
           "double drumming"
          ],
          [
           "downtempo"
          ],
          [
           "drama"
          ],
          [
           "dream pop"
          ],
          [
           "dream trance"
          ],
          [
           "dreamgaze"
          ],
          [
           "dreamo"
          ],
          [
           "drift"
          ],
          [
           "drill"
          ],
          [
           "drill and bass"
          ],
          [
           "drone"
          ],
          [
           "drone folk"
          ],
          [
           "drone metal"
          ],
          [
           "drum and bass"
          ],
          [
           "dub"
          ],
          [
           "dub metal"
          ],
          [
           "dub poetry"
          ],
          [
           "dub techno"
          ],
          [
           "dubstep"
          ],
          [
           "dubsteppe"
          ],
          [
           "duduk"
          ],
          [
           "duluth indie"
          ],
          [
           "dunedin indie"
          ],
          [
           "dunedin sound"
          ],
          [
           "dungeon synth"
          ],
          [
           "duranguense"
          ],
          [
           "dusseldorf electronic"
          ],
          [
           "dutch blues"
          ],
          [
           "dutch cabaret"
          ],
          [
           "dutch classical piano"
          ],
          [
           "dutch death metal"
          ],
          [
           "dutch dnb"
          ],
          [
           "dutch edm"
          ],
          [
           "dutch folk"
          ],
          [
           "dutch hip hop"
          ],
          [
           "dutch house"
          ],
          [
           "dutch indie"
          ],
          [
           "dutch jazz"
          ],
          [
           "dutch metal"
          ],
          [
           "dutch pop"
          ],
          [
           "dutch prog"
          ],
          [
           "dutch rap pop"
          ],
          [
           "dutch rock"
          ],
          [
           "dutch trance"
          ],
          [
           "e6fi"
          ],
          [
           "early american folk"
          ],
          [
           "early avant garde"
          ],
          [
           "early modern classical"
          ],
          [
           "early music"
          ],
          [
           "early music choir"
          ],
          [
           "early music ensemble"
          ],
          [
           "early reggae"
          ],
          [
           "early romantic era"
          ],
          [
           "early synthpop"
          ],
          [
           "early us punk"
          ],
          [
           "east coast hip hop"
          ],
          [
           "east coast reggae"
          ],
          [
           "eastern bloc groove"
          ],
          [
           "easy listening"
          ],
          [
           "easycore"
          ],
          [
           "eau claire indie"
          ],
          [
           "ebm"
          ],
          [
           "ecm-style jazz"
          ],
          [
           "ectofolk"
          ],
          [
           "ecuadorian pop"
          ],
          [
           "edm"
          ],
          [
           "edmonton indie"
          ],
          [
           "egyptian pop"
          ],
          [
           "egyptian traditional"
          ],
          [
           "el paso indie"
          ],
          [
           "electra"
          ],
          [
           "electric bass"
          ],
          [
           "electric blues"
          ],
          [
           "electro"
          ],
          [
           "electro house"
          ],
          [
           "electro jazz"
          ],
          [
           "electro latino"
          ],
          [
           "electro swing"
          ],
          [
           "electro-industrial"
          ],
          [
           "electro-pop francais"
          ],
          [
           "electroclash"
          ],
          [
           "electrofox"
          ],
          [
           "electronic djent"
          ],
          [
           "electronic rock"
          ],
          [
           "electronic trap"
          ],
          [
           "electronica"
          ],
          [
           "electronica argentina"
          ],
          [
           "electropop"
          ],
          [
           "electropowerpop"
          ],
          [
           "emo"
          ],
          [
           "emo mexicano"
          ],
          [
           "emo punk"
          ],
          [
           "emo rap"
          ],
          [
           "emocore"
          ],
          [
           "english baroque"
          ],
          [
           "english indie rock"
          ],
          [
           "english renaissance"
          ],
          [
           "enka"
          ],
          [
           "entehno"
          ],
          [
           "environmental"
          ],
          [
           "epic doom"
          ],
          [
           "epicore"
          ],
          [
           "erhu"
          ],
          [
           "escape room"
          ],
          [
           "esperanto"
          ],
          [
           "essex indie"
          ],
          [
           "estonian hip hop"
          ],
          [
           "estonian pop"
          ],
          [
           "ethereal wave"
          ],
          [
           "etherpop"
          ],
          [
           "ethio-jazz"
          ],
          [
           "ethiopian pop"
          ],
          [
           "ethnomusicology"
          ],
          [
           "ethnotronica"
          ],
          [
           "eugene indie"
          ],
          [
           "euphoric hardstyle"
          ],
          [
           "eurobeat"
          ],
          [
           "eurodance"
          ],
          [
           "europop"
          ],
          [
           "euroska"
          ],
          [
           "eurovision"
          ],
          [
           "exotica"
          ],
          [
           "experimental"
          ],
          [
           "experimental ambient"
          ],
          [
           "experimental big band"
          ],
          [
           "experimental dub"
          ],
          [
           "experimental folk"
          ],
          [
           "experimental guitar"
          ],
          [
           "experimental hip hop"
          ],
          [
           "experimental house"
          ],
          [
           "experimental indie"
          ],
          [
           "experimental jazz"
          ],
          [
           "experimental pop"
          ],
          [
           "experimental rock"
          ],
          [
           "experimental vocal"
          ],
          [
           "fado"
          ],
          [
           "family gospel"
          ],
          [
           "faroese pop"
          ],
          [
           "fast melodic punk"
          ],
          [
           "fidget house"
          ],
          [
           "filmi"
          ],
          [
           "filter house"
          ],
          [
           "filthstep"
          ],
          [
           "final fantasy"
          ],
          [
           "fingerstyle"
          ],
          [
           "finnish alternative rock"
          ],
          [
           "finnish classical"
          ],
          [
           "finnish contemporary classical"
          ],
          [
           "finnish death metal"
          ],
          [
           "finnish edm"
          ],
          [
           "finnish hard rock"
          ],
          [
           "finnish heavy metal"
          ],
          [
           "finnish metal"
          ],
          [
           "finnish power metal"
          ],
          [
           "finnish soul"
          ],
          [
           "flamenco"
          ],
          [
           "flamenco guitar"
          ],
          [
           "flick hop"
          ],
          [
           "flint hip hop"
          ],
          [
           "float house"
          ],
          [
           "florida death metal"
          ],
          [
           "florida rap"
          ],
          [
           "fluxwork"
          ],
          [
           "fo jing"
          ],
          [
           "focus"
          ],
          [
           "focus beats"
          ],
          [
           "focus trance"
          ],
          [
           "folclor afrocolombiano"
          ],
          [
           "folclor colombiano"
          ],
          [
           "folclore extremeno"
          ],
          [
           "folclore jujeno"
          ],
          [
           "folclore navarra"
          ],
          [
           "folclore salteno"
          ],
          [
           "folclore tucumano"
          ],
          [
           "folk"
          ],
          [
           "folk metal"
          ],
          [
           "folk punk"
          ],
          [
           "folk rock"
          ],
          [
           "folk rock italiano"
          ],
          [
           "folk-pop"
          ],
          [
           "folklore argentino"
          ],
          [
           "folklore boliviano"
          ],
          [
           "folklore chileno"
          ],
          [
           "folklore ecuatoriano"
          ],
          [
           "folklore peruano"
          ],
          [
           "folklore venezolano"
          ],
          [
           "folklore veracruzano"
          ],
          [
           "folkmusik"
          ],
          [
           "folktronica"
          ],
          [
           "footwork"
          ],
          [
           "forro"
          ],
          [
           "forro tradicional"
          ],
          [
           "fort worth indie"
          ],
          [
           "fourth world"
          ],
          [
           "francoton"
          ],
          [
           "freak folk"
          ],
          [
           "freakbeat"
          ],
          [
           "free folk"
          ],
          [
           "free improvisation"
          ],
          [
           "free jazz"
          ],
          [
           "freestyle"
          ],
          [
           "french baroque"
          ],
          [
           "french classical piano"
          ],
          [
           "french contemporary classical"
          ],
          [
           "french death metal"
          ],
          [
           "french dnb"
          ],
          [
           "french hip hop"
          ],
          [
           "french indie folk"
          ],
          [
           "french indie pop"
          ],
          [
           "french indietronica"
          ],
          [
           "french jazz"
          ],
          [
           "french metal"
          ],
          [
           "french movie tunes"
          ],
          [
           "french opera"
          ],
          [
           "french orchestra"
          ],
          [
           "french pop"
          ],
          [
           "french post-punk"
          ],
          [
           "french psychedelic"
          ],
          [
           "french reggae"
          ],
          [
           "french rock"
          ],
          [
           "french romanticism"
          ],
          [
           "french shoegaze"
          ],
          [
           "french soundtrack"
          ],
          [
           "french synthpop"
          ],
          [
           "french techno"
          ],
          [
           "frenchcore"
          ],
          [
           "full on"
          ],
          [
           "funana"
          ],
          [
           "funeral doom"
          ],
          [
           "funk"
          ],
          [
           "funk 150 bpm"
          ],
          [
           "funk carioca"
          ],
          [
           "funk das antigas"
          ],
          [
           "funk metal"
          ],
          [
           "funk mexicano"
          ],
          [
           "funk ostentacao"
          ],
          [
           "funk paulista"
          ],
          [
           "funk pop"
          ],
          [
           "funk rock"
          ],
          [
           "funky breaks"
          ],
          [
           "funky tech house"
          ],
          [
           "future bass"
          ],
          [
           "future funk"
          ],
          [
           "future garage"
          ],
          [
           "future house"
          ],
          [
           "future rock"
          ],
          [
           "futurepop"
          ],
          [
           "g funk"
          ],
          [
           "gabba"
          ],
          [
           "gabonese pop"
          ],
          [
           "gaian doom"
          ],
          [
           "gainesville indie"
          ],
          [
           "gaita zuliana"
          ],
          [
           "galante era"
          ],
          [
           "gamelan"
          ],
          [
           "gaming dubstep"
          ],
          [
           "gaming edm"
          ],
          [
           "gangster rap"
          ],
          [
           "garage house"
          ],
          [
           "garage pop"
          ],
          [
           "garage psych"
          ],
          [
           "garage punk"
          ],
          [
           "garage punk blues"
          ],
          [
           "garage rock"
          ],
          [
           "garage rock revival"
          ],
          [
           "gauze pop"
          ],
          [
           "gbvfi"
          ],
          [
           "geek folk"
          ],
          [
           "geek rock"
          ],
          [
           "georgian folk"
          ],
          [
           "german alternative rock"
          ],
          [
           "german baroque"
          ],
          [
           "german choir"
          ],
          [
           "german classical piano"
          ],
          [
           "german country"
          ],
          [
           "german dance"
          ],
          [
           "german hard rock"
          ],
          [
           "german heavy metal"
          ],
          [
           "german house"
          ],
          [
           "german indie"
          ],
          [
           "german jazz"
          ],
          [
           "german literature"
          ],
          [
           "german metal"
          ],
          [
           "german oi"
          ],
          [
           "german opera"
          ],
          [
           "german orchestra"
          ],
          [
           "german pop"
          ],
          [
           "german pop rock"
          ],
          [
           "german post-hardcore"
          ],
          [
           "german power metal"
          ],
          [
           "german punk"
          ],
          [
           "german renaissance"
          ],
          [
           "german rock"
          ],
          [
           "german romanticism"
          ],
          [
           "german show tunes"
          ],
          [
           "german soundtrack"
          ],
          [
           "german techno"
          ],
          [
           "german thrash metal"
          ],
          [
           "german trance"
          ],
          [
           "german underground rap"
          ],
          [
           "ghanaian hip hop"
          ],
          [
           "ghanaian traditional"
          ],
          [
           "ghazal"
          ],
          [
           "ghent indie"
          ],
          [
           "girl group"
          ],
          [
           "glam metal"
          ],
          [
           "glam punk"
          ],
          [
           "glam rock"
          ],
          [
           "glee club"
          ],
          [
           "glitch"
          ],
          [
           "glitch hop"
          ],
          [
           "glitch pop"
          ],
          [
           "glitchcore"
          ],
          [
           "go-go"
          ],
          [
           "goregrind"
          ],
          [
           "gospel"
          ],
          [
           "gospel antigas"
          ],
          [
           "gospel blues"
          ],
          [
           "gospel italiano"
          ],
          [
           "gospel r&b"
          ],
          [
           "gospel rap"
          ],
          [
           "gospel singers"
          ],
          [
           "gospel soul"
          ],
          [
           "gothabilly"
          ],
          [
           "gothenburg indie"
          ],
          [
           "gothenburg metal"
          ],
          [
           "gothic alternative"
          ],
          [
           "gothic americana"
          ],
          [
           "gothic black metal"
          ],
          [
           "gothic metal"
          ],
          [
           "gothic post-punk"
          ],
          [
           "gothic rock"
          ],
          [
           "gothic symphonic metal"
          ],
          [
           "gqom"
          ],
          [
           "grand rapids indie"
          ],
          [
           "grave wave"
          ],
          [
           "greek clarinet"
          ],
          [
           "greek contemporary classical"
          ],
          [
           "greek folk"
          ],
          [
           "greek guitar"
          ],
          [
           "greek house"
          ],
          [
           "greek jazz"
          ],
          [
           "greek pop"
          ],
          [
           "greek swing"
          ],
          [
           "gregorian chant"
          ],
          [
           "grime"
          ],
          [
           "grindcore"
          ],
          [
           "griot"
          ],
          [
           "groove metal"
          ],
          [
           "groove room"
          ],
          [
           "grunge"
          ],
          [
           "grunge pop"
          ],
          [
           "grupera"
          ],
          [
           "gruperas inmortales"
          ],
          [
           "guadalajara indie"
          ],
          [
           "guam indie"
          ],
          [
           "guaracha"
          ],
          [
           "guatemalan pop"
          ],
          [
           "guidance"
          ],
          [
           "guinean pop"
          ],
          [
           "guitarra argentina"
          ],
          [
           "guitarra clasica"
          ],
          [
           "guitarra portuguesa"
          ],
          [
           "gujarati garba"
          ],
          [
           "gujarati pop"
          ],
          [
           "guzheng"
          ],
          [
           "gymcore"
          ],
          [
           "gypsy"
          ],
          [
           "gypsy jazz"
          ],
          [
           "gypsy punk"
          ],
          [
           "haitian traditional"
          ],
          [
           "halifax indie"
          ],
          [
           "halloween"
          ],
          [
           "hamburg electronic"
          ],
          [
           "hammered dulcimer"
          ],
          [
           "hammond organ"
          ],
          [
           "hands up"
          ],
          [
           "hangpan"
          ],
          [
           "happy hardcore"
          ],
          [
           "hard alternative"
          ],
          [
           "hard bop"
          ],
          [
           "hard minimal techno"
          ],
          [
           "hard rock"
          ],
          [
           "hard rock brasileiro"
          ],
          [
           "hardcore"
          ],
          [
           "hardcore hip hop"
          ],
          [
           "hardcore punk"
          ],
          [
           "hardcore techno"
          ],
          [
           "hardstyle"
          ],
          [
           "harlem hip hop"
          ],
          [
           "harlem renaissance"
          ],
          [
           "harmonica blues"
          ],
          [
           "harmonica jazz"
          ],
          [
           "harp"
          ],
          [
           "harpsichord"
          ],
          [
           "haryanvi pop"
          ],
          [
           "hauntology"
          ],
          [
           "hawaiian"
          ],
          [
           "hawaiian hip hop"
          ],
          [
           "hawaiian indie"
          ],
          [
           "healing"
          ],
          [
           "heartland rock"
          ],
          [
           "hi-nrg"
          ],
          [
           "highlife"
          ],
          [
           "hindi hip hop"
          ],
          [
           "hindi indie"
          ],
          [
           "hindustani classical"
          ],
          [
           "hindustani instrumental"
          ],
          [
           "hindustani vocal"
          ],
          [
           "hip hop"
          ],
          [
           "hip hop cubano"
          ],
          [
           "hip house"
          ],
          [
           "hip pop"
          ],
          [
           "hiplife"
          ],
          [
           "histoire pour enfants"
          ],
          [
           "historic classical performance"
          ],
          [
           "historic orchestral performance"
          ],
          [
           "historic piano performance"
          ],
          [
           "historic string quartet"
          ],
          [
           "historical keyboard"
          ],
          [
           "historically informed performance"
          ],
          [
           "hoerspiel"
          ],
          [
           "hokkien pop"
          ],
          [
           "hollywood"
          ],
          [
           "hong kong hip hop"
          ],
          [
           "hong kong indie"
          ],
          [
           "hong kong rock"
          ],
          [
           "honky tonk"
          ],
          [
           "honky-tonk piano"
          ],
          [
           "hopebeat"
          ],
          [
           "horror punk"
          ],
          [
           "horror synth"
          ],
          [
           "horrorcore"
          ],
          [
           "house"
          ],
          [
           "houston rap"
          ],
          [
           "huapango"
          ],
          [
           "huayno"
          ],
          [
           "hula"
          ],
          [
           "humppa"
          ],
          [
           "hungarian choir"
          ],
          [
           "hungarian classical performance"
          ],
          [
           "hungarian classical piano"
          ],
          [
           "hungarian contemporary classical"
          ],
          [
           "hungarian edm"
          ],
          [
           "hungarian folk"
          ],
          [
           "hungarian pop"
          ],
          [
           "hungarian rock"
          ],
          [
           "hungarian techno"
          ],
          [
           "hurdy-gurdy"
          ],
          [
           "hyperpop"
          ],
          [
           "hyphy"
          ],
          [
           "icelandic classical"
          ],
          [
           "icelandic electronic"
          ],
          [
           "icelandic experimental"
          ],
          [
           "icelandic folk"
          ],
          [
           "icelandic indie"
          ],
          [
           "icelandic jazz"
          ],
          [
           "icelandic pop"
          ],
          [
           "icelandic rock"
          ],
          [
           "idaho indie"
          ],
          [
           "idol"
          ],
          [
           "idol rock"
          ],
          [
           "ilahiler"
          ],
          [
           "ilocano pop"
          ],
          [
           "impressionism"
          ],
          [
           "indian classical"
          ],
          [
           "indian edm"
          ],
          [
           "indian folk"
          ],
          [
           "indian fusion"
          ],
          [
           "indian indie"
          ],
          [
           "indian instrumental"
          ],
          [
           "indian jazz"
          ],
          [
           "indiana hip hop"
          ],
          [
           "indie anthem-folk"
          ],
          [
           "indie cafe pop"
          ],
          [
           "indie deutschrap"
          ],
          [
           "indie dream pop"
          ],
          [
           "indie electronica"
          ],
          [
           "indie electropop"
          ],
          [
           "indie folk"
          ],
          [
           "indie game soundtrack"
          ],
          [
           "indie garage rock"
          ],
          [
           "indie hip hop"
          ],
          [
           "indie jazz"
          ],
          [
           "indie pop"
          ],
          [
           "indie pop rap"
          ],
          [
           "indie poptimism"
          ],
          [
           "indie psych-pop"
          ],
          [
           "indie punk"
          ],
          [
           "indie quebecois"
          ],
          [
           "indie r&b"
          ],
          [
           "indie rock"
          ],
          [
           "indie rock mexicano"
          ],
          [
           "indie rockism"
          ],
          [
           "indie shoegaze"
          ],
          [
           "indie singer-songwriter"
          ],
          [
           "indie soul"
          ],
          [
           "indie surf"
          ],
          [
           "indie triste"
          ],
          [
           "indiecoustica"
          ],
          [
           "indietronica"
          ],
          [
           "indonesian hip hop"
          ],
          [
           "indonesian indie"
          ],
          [
           "indonesian pop"
          ],
          [
           "indonesian r&b"
          ],
          [
           "indonesian worship"
          ],
          [
           "industrial"
          ],
          [
           "industrial hardcore"
          ],
          [
           "industrial hip hop"
          ],
          [
           "industrial metal"
          ],
          [
           "industrial rock"
          ],
          [
           "indy indie"
          ],
          [
           "instrumental acoustic guitar"
          ],
          [
           "instrumental bluegrass"
          ],
          [
           "instrumental funk"
          ],
          [
           "instrumental grime"
          ],
          [
           "instrumental math rock"
          ],
          [
           "instrumental post-rock"
          ],
          [
           "instrumental progressive metal"
          ],
          [
           "instrumental rock"
          ],
          [
           "instrumental soul"
          ],
          [
           "instrumental stoner rock"
          ],
          [
           "instrumental surf"
          ],
          [
           "intelligent dance music"
          ],
          [
           "iowa hip hop"
          ],
          [
           "irish accordion"
          ],
          [
           "irish ballad"
          ],
          [
           "irish banjo"
          ],
          [
           "irish classical"
          ],
          [
           "irish country"
          ],
          [
           "irish dance"
          ],
          [
           "irish fiddle"
          ],
          [
           "irish folk"
          ],
          [
           "irish hip hop"
          ],
          [
           "irish indie"
          ],
          [
           "irish metal"
          ],
          [
           "irish pop"
          ],
          [
           "irish pub song"
          ],
          [
           "irish rock"
          ],
          [
           "irish singer-songwriter"
          ],
          [
           "iskelma"
          ],
          [
           "islamic recitation"
          ],
          [
           "isle of wight indie"
          ],
          [
           "israeli classical"
          ],
          [
           "israeli classical piano"
          ],
          [
           "israeli folk"
          ],
          [
           "israeli hip hop"
          ],
          [
           "israeli mediterranean"
          ],
          [
           "israeli pop"
          ],
          [
           "israeli rock"
          ],
          [
           "israeli singer-songwriter"
          ],
          [
           "israeli techno"
          ],
          [
           "italian adult pop"
          ],
          [
           "italian baritone"
          ],
          [
           "italian baroque"
          ],
          [
           "italian baroque ensemble"
          ],
          [
           "italian bass"
          ],
          [
           "italian blues"
          ],
          [
           "italian classical guitar"
          ],
          [
           "italian classical piano"
          ],
          [
           "italian contemporary jazz"
          ],
          [
           "italian disco"
          ],
          [
           "italian gothic"
          ],
          [
           "italian gothic metal"
          ],
          [
           "italian indie pop"
          ],
          [
           "italian jazz"
          ],
          [
           "italian library music"
          ],
          [
           "italian mandolin"
          ],
          [
           "italian metal"
          ],
          [
           "italian mezzo-soprano"
          ],
          [
           "italian modern prog"
          ],
          [
           "italian opera"
          ],
          [
           "italian orchestra"
          ],
          [
           "italian pop rock"
          ],
          [
           "italian power metal"
          ],
          [
           "italian progressive metal"
          ],
          [
           "italian progressive rock"
          ],
          [
           "italian renaissance"
          ],
          [
           "italian romanticism"
          ],
          [
           "italian soprano"
          ],
          [
           "italian soundtrack"
          ],
          [
           "italian techno"
          ],
          [
           "italian tenor"
          ],
          [
           "italian violin"
          ],
          [
           "italo dance"
          ],
          [
           "italo house"
          ],
          [
           "j-acoustic"
          ],
          [
           "j-ambient"
          ],
          [
           "j-dance"
          ],
          [
           "j-division"
          ],
          [
           "j-idol"
          ],
          [
           "j-metal"
          ],
          [
           "j-pixie"
          ],
          [
           "j-pop"
          ],
          [
           "j-pop girl group"
          ],
          [
           "j-poprock"
          ],
          [
           "j-punk"
          ],
          [
           "j-reggae"
          ],
          [
           "j-rock"
          ],
          [
           "jacksonville indie"
          ],
          [
           "jam band"
          ],
          [
           "jamgrass"
          ],
          [
           "jamtronica"
          ],
          [
           "jangle pop"
          ],
          [
           "japanese alternative rock"
          ],
          [
           "japanese chillhop"
          ],
          [
           "japanese city pop"
          ],
          [
           "japanese classical"
          ],
          [
           "japanese classical performance"
          ],
          [
           "japanese classical piano"
          ],
          [
           "japanese concert band"
          ],
          [
           "japanese dream pop"
          ],
          [
           "japanese electronic"
          ],
          [
           "japanese electropop"
          ],
          [
           "japanese emo"
          ],
          [
           "japanese experimental"
          ],
          [
           "japanese folk"
          ],
          [
           "japanese garage rock"
          ],
          [
           "japanese girl punk"
          ],
          [
           "japanese heavy metal"
          ],
          [
           "japanese idm"
          ],
          [
           "japanese indie folk"
          ],
          [
           "japanese indie rock"
          ],
          [
           "japanese instrumental"
          ],
          [
           "japanese jazz"
          ],
          [
           "japanese jazz fusion"
          ],
          [
           "japanese jazztronica"
          ],
          [
           "japanese metalcore"
          ],
          [
           "japanese new wave"
          ],
          [
           "japanese piano"
          ],
          [
           "japanese pop punk"
          ],
          [
           "japanese post-hardcore"
          ],
          [
           "japanese power metal"
          ],
          [
           "japanese prog"
          ],
          [
           "japanese psychedelic"
          ],
          [
           "japanese punk rock"
          ],
          [
           "japanese r&b"
          ],
          [
           "japanese rockabilly"
          ],
          [
           "japanese singer-songwriter"
          ],
          [
           "japanese soundtrack"
          ],
          [
           "japanese traditional"
          ],
          [
           "japanese vgm"
          ],
          [
           "japanese vocal jazz"
          ],
          [
           "jawaiian"
          ],
          [
           "jazz"
          ],
          [
           "jazz accordion"
          ],
          [
           "jazz blues"
          ],
          [
           "jazz boom bap"
          ],
          [
           "jazz brass"
          ],
          [
           "jazz chileno"
          ],
          [
           "jazz clarinet"
          ],
          [
           "jazz colombiano"
          ],
          [
           "jazz cubano"
          ],
          [
           "jazz double bass"
          ],
          [
           "jazz drums"
          ],
          [
           "jazz flute"
          ],
          [
           "jazz funk"
          ],
          [
           "jazz fusion"
          ],
          [
           "jazz guitar"
          ],
          [
           "jazz harp"
          ],
          [
           "jazz metal"
          ],
          [
           "jazz mexicano"
          ],
          [
           "jazz orchestra"
          ],
          [
           "jazz organ"
          ],
          [
           "jazz piano"
          ],
          [
           "jazz pop"
          ],
          [
           "jazz quartet"
          ],
          [
           "jazz rap"
          ],
          [
           "jazz rock"
          ],
          [
           "jazz saxophone"
          ],
          [
           "jazz trio"
          ],
          [
           "jazz trombone"
          ],
          [
           "jazz trumpet"
          ],
          [
           "jazz tuba"
          ],
          [
           "jazz venezolano"
          ],
          [
           "jazz vibraphone"
          ],
          [
           "jazz violin"
          ],
          [
           "jazztronica"
          ],
          [
           "jewish cantorial"
          ],
          [
           "jewish hip hop"
          ],
          [
           "jig and reel"
          ],
          [
           "jordanian pop"
          ],
          [
           "joropo"
          ],
          [
           "jovem guarda"
          ],
          [
           "jug band"
          ],
          [
           "juju"
          ],
          [
           "jump blues"
          ],
          [
           "jump up"
          ],
          [
           "k-indie"
          ],
          [
           "k-pop"
          ],
          [
           "k-pop boy group"
          ],
          [
           "k-pop girl group"
          ],
          [
           "k-rap"
          ],
          [
           "kabarett"
          ],
          [
           "kabyle"
          ],
          [
           "kaneka"
          ],
          [
           "kannada bhava geethe"
          ],
          [
           "kansas city hip hop"
          ],
          [
           "kashmiri pop"
          ],
          [
           "kawaii future bass"
          ],
          [
           "kawaii metal"
          ],
          [
           "kayokyoku"
          ],
          [
           "kc indie"
          ],
          [
           "kent indie"
          ],
          [
           "kentucky hip hop"
          ],
          [
           "kentucky indie"
          ],
          [
           "kentucky metal"
          ],
          [
           "kentucky mountain folk"
          ],
          [
           "kentucky punk"
          ],
          [
           "kentucky roots"
          ],
          [
           "keroncong"
          ],
          [
           "khaleeji iraqi"
          ],
          [
           "khmer"
          ],
          [
           "kids dance party"
          ],
          [
           "kindie rock"
          ],
          [
           "kingston on indie"
          ],
          [
           "kirtan"
          ],
          [
           "kiwi rock"
          ],
          [
           "kizomba antigas"
          ],
          [
           "kleine hoerspiel"
          ],
          [
           "klezmer"
          ],
          [
           "knoxville indie"
          ],
          [
           "kodomo no ongaku"
          ],
          [
           "kolsche karneval"
          ],
          [
           "komedi"
          ],
          [
           "kompa"
          ],
          [
           "kora"
          ],
          [
           "korean classical performance"
          ],
          [
           "korean classical piano"
          ],
          [
           "korean indie rock"
          ],
          [
           "korean mask singer"
          ],
          [
           "korean pop"
          ],
          [
           "korean r&b"
          ],
          [
           "korean trap"
          ],
          [
           "koto"
          ],
          [
           "krautrock"
          ],
          [
           "kundiman"
          ],
          [
           "la indie"
          ],
          [
           "la pop"
          ],
          [
           "laboratorio"
          ],
          [
           "lafayette indie"
          ],
          [
           "laiko"
          ],
          [
           "lancashire indie"
          ],
          [
           "lancaster pa indie"
          ],
          [
           "late romantic era"
          ],
          [
           "latin"
          ],
          [
           "latin afrobeat"
          ],
          [
           "latin alternative"
          ],
          [
           "latin american classical piano"
          ],
          [
           "latin arena pop"
          ],
          [
           "latin christian"
          ],
          [
           "latin classical"
          ],
          [
           "latin funk"
          ],
          [
           "latin hip hop"
          ],
          [
           "latin house"
          ],
          [
           "latin jazz"
          ],
          [
           "latin metal"
          ],
          [
           "latin pop"
          ],
          [
           "latin rock"
          ],
          [
           "latin ska"
          ],
          [
           "latin soundtrack"
          ],
          [
           "latin talent show"
          ],
          [
           "latin tech house"
          ],
          [
           "latin viral pop"
          ],
          [
           "latin worship"
          ],
          [
           "latincore"
          ],
          [
           "latino comedy"
          ],
          [
           "latintronica"
          ],
          [
           "latinx alternative"
          ],
          [
           "latvian pop"
          ],
          [
           "lds"
          ],
          [
           "lds youth"
          ],
          [
           "lebanese pop"
          ],
          [
           "leicester indie"
          ],
          [
           "lexington ky indie"
          ],
          [
           "lgbtq+ hip hop"
          ],
          [
           "library music"
          ],
          [
           "liedermacher"
          ],
          [
           "light music"
          ],
          [
           "lilith"
          ],
          [
           "liquid funk"
          ],
          [
           "lithuanian electronic"
          ],
          [
           "liverpool indie"
          ],
          [
           "livetronica"
          ],
          [
           "lldm"
          ],
          [
           "lo star"
          ],
          [
           "lo-fi"
          ],
          [
           "lo-fi beats"
          ],
          [
           "lo-fi brasileiro"
          ],
          [
           "lo-fi chill"
          ],
          [
           "lo-fi cover"
          ],
          [
           "lo-fi emo"
          ],
          [
           "lo-fi house"
          ],
          [
           "lo-fi indie"
          ],
          [
           "lo-fi vgm"
          ],
          [
           "london rap"
          ],
          [
           "louisiana blues"
          ],
          [
           "louisiana metal"
          ],
          [
           "louisville indie"
          ],
          [
           "louisville underground"
          ],
          [
           "lounge"
          ],
          [
           "louvor"
          ],
          [
           "lovers rock"
          ],
          [
           "lullaby"
          ],
          [
           "lund indie"
          ],
          [
           "lute"
          ],
          [
           "macedonian folk"
          ],
          [
           "madchester"
          ],
          [
           "madrigal"
          ],
          [
           "magyar alternative"
          ],
          [
           "maine hip hop"
          ],
          [
           "maine indie"
          ],
          [
           "mainland chinese pop"
          ],
          [
           "makossa"
          ],
          [
           "malaysian mandopop"
          ],
          [
           "malaysian pop"
          ],
          [
           "malian blues"
          ],
          [
           "mallet"
          ],
          [
           "malmo indie"
          ],
          [
           "mambo"
          ],
          [
           "manchester hip hop"
          ],
          [
           "manchester indie"
          ],
          [
           "mande pop"
          ],
          [
           "mandolin"
          ],
          [
           "mandopop"
          ],
          [
           "manguebeat"
          ],
          [
           "manila sound"
          ],
          [
           "manitoba indie"
          ],
          [
           "mantra"
          ],
          [
           "marathi pop"
          ],
          [
           "marathi traditional"
          ],
          [
           "marching band"
          ],
          [
           "mariachi"
          ],
          [
           "mariachi cristiano"
          ],
          [
           "marimba orquesta"
          ],
          [
           "martial industrial"
          ],
          [
           "mashup"
          ],
          [
           "math rock"
          ],
          [
           "mathcore"
          ],
          [
           "mbalax"
          ],
          [
           "medieval"
          ],
          [
           "medieval folk"
          ],
          [
           "medieval rock"
          ],
          [
           "meditation"
          ],
          [
           "melancholia"
          ],
          [
           "melbourne bounce"
          ],
          [
           "melbourne bounce international"
          ],
          [
           "melbourne indie"
          ],
          [
           "mellow gold"
          ],
          [
           "melodic death metal"
          ],
          [
           "melodic deathcore"
          ],
          [
           "melodic dubstep"
          ],
          [
           "melodic groove metal"
          ],
          [
           "melodic hard rock"
          ],
          [
           "melodic hardcore"
          ],
          [
           "melodic metal"
          ],
          [
           "melodic metalcore"
          ],
          [
           "melodic power metal"
          ],
          [
           "melodic rap"
          ],
          [
           "melodic thrash"
          ],
          [
           "meme rap"
          ],
          [
           "memphis americana"
          ],
          [
           "memphis blues"
          ],
          [
           "memphis hip hop"
          ],
          [
           "memphis indie"
          ],
          [
           "memphis soul"
          ],
          [
           "mento"
          ],
          [
           "merengue"
          ],
          [
           "merengue tipico"
          ],
          [
           "merseybeat"
          ],
          [
           "messianic praise"
          ],
          [
           "metal"
          ],
          [
           "metal guitar"
          ],
          [
           "metal mineiro"
          ],
          [
           "metalcore"
          ],
          [
           "metropopolis"
          ],
          [
           "mexican classic rock"
          ],
          [
           "mexican classical"
          ],
          [
           "mexican hip hop"
          ],
          [
           "mexican indie"
          ],
          [
           "mexican pop"
          ],
          [
           "mexican pop punk"
          ],
          [
           "mexican rock"
          ],
          [
           "mexican rock-and-roll"
          ],
          [
           "mexican son"
          ],
          [
           "mexican traditional"
          ],
          [
           "miami bass"
          ],
          [
           "miami hip hop"
          ],
          [
           "miami indie"
          ],
          [
           "miami metal"
          ],
          [
           "michigan indie"
          ],
          [
           "microhouse"
          ],
          [
           "microtonal"
          ],
          [
           "middle earth"
          ],
          [
           "middle east hip hop"
          ],
          [
           "middle eastern traditional"
          ],
          [
           "midwest americana"
          ],
          [
           "midwest emo"
          ],
          [
           "military cadence"
          ],
          [
           "military rap"
          ],
          [
           "milwaukee indie"
          ],
          [
           "mindfulness"
          ],
          [
           "minecraft"
          ],
          [
           "minimal melodic techno"
          ],
          [
           "minimal tech house"
          ],
          [
           "minimal techno"
          ],
          [
           "minimal wave"
          ],
          [
           "minimalism"
          ],
          [
           "minneapolis indie"
          ],
          [
           "minneapolis metal"
          ],
          [
           "minneapolis punk"
          ],
          [
           "minneapolis sound"
          ],
          [
           "minnesota hip hop"
          ],
          [
           "mississippi hip hop"
          ],
          [
           "mississippi indie"
          ],
          [
           "mizrahi"
          ],
          [
           "mod revival"
          ],
          [
           "modern alternative pop"
          ],
          [
           "modern alternative rock"
          ],
          [
           "modern big band"
          ],
          [
           "modern blues"
          ],
          [
           "modern blues rock"
          ],
          [
           "modern bollywood"
          ],
          [
           "modern country rock"
          ],
          [
           "modern dream pop"
          ],
          [
           "modern folk rock"
          ],
          [
           "modern funk"
          ],
          [
           "modern hard rock"
          ],
          [
           "modern indie pop"
          ],
          [
           "modern jazz piano"
          ],
          [
           "modern jazz trio"
          ],
          [
           "modern old-time"
          ],
          [
           "modern performance"
          ],
          [
           "modern power pop"
          ],
          [
           "modern psychedelic folk"
          ],
          [
           "modern reggae"
          ],
          [
           "modern rock"
          ],
          [
           "modern salsa"
          ],
          [
           "modern ska punk"
          ],
          [
           "modern southern rock"
          ],
          [
           "modern string quartet"
          ],
          [
           "modern swing"
          ],
          [
           "modern uplift"
          ],
          [
           "modular synth"
          ],
          [
           "moldovan pop"
          ],
          [
           "mollywood"
          ],
          [
           "mongolian hip hop"
          ],
          [
           "mongolian pop"
          ],
          [
           "monterrey indie"
          ],
          [
           "montreal indie"
          ],
          [
           "moog"
          ],
          [
           "moombahton"
          ],
          [
           "morna"
          ],
          [
           "motivation"
          ],
          [
           "motown"
          ],
          [
           "mountain dulcimer"
          ],
          [
           "movie tunes"
          ],
          [
           "mpb"
          ],
          [
           "music box"
          ],
          [
           "music hall"
          ],
          [
           "musica afroperuana"
          ],
          [
           "musica alagoana"
          ],
          [
           "musica andina"
          ],
          [
           "musica andina colombiana"
          ],
          [
           "musica antigua"
          ],
          [
           "musica aragonesa"
          ],
          [
           "musica ayacuchana"
          ],
          [
           "musica canaria"
          ],
          [
           "musica costarricense"
          ],
          [
           "musica costena"
          ],
          [
           "musica cristiana guatemalteca"
          ],
          [
           "musica de fondo"
          ],
          [
           "musica gaucha tradicionalista"
          ],
          [
           "musica hondurena"
          ],
          [
           "musica infantil"
          ],
          [
           "musica jibara"
          ],
          [
           "musica juiz-forana"
          ],
          [
           "musica llanera"
          ],
          [
           "musica nicaraguense"
          ],
          [
           "musica para criancas"
          ],
          [
           "musica para ninos"
          ],
          [
           "musica paraibana"
          ],
          [
           "musica piemonteisa"
          ],
          [
           "musica popular colombiana"
          ],
          [
           "musica popular mineira"
          ],
          [
           "musica popular paraense"
          ],
          [
           "musica potosina"
          ],
          [
           "musica prehispanica"
          ],
          [
           "musica sarda"
          ],
          [
           "musica tradicional cubana"
          ],
          [
           "musica tropical guatemalteca"
          ],
          [
           "musical advocacy"
          ],
          [
           "musikkorps"
          ],
          [
           "musique concrete"
          ],
          [
           "musique peule"
          ],
          [
           "musique pour enfant quebecois"
          ],
          [
           "musique pour enfants"
          ],
          [
           "musique touareg"
          ],
          [
           "muzica populara"
          ],
          [
           "muzika l'yeladim"
          ],
          [
           "naija worship"
          ],
          [
           "nantes indie"
          ],
          [
           "narodna muzika"
          ],
          [
           "nashville americana"
          ],
          [
           "nashville hip hop"
          ],
          [
           "nashville indie"
          ],
          [
           "nashville singer-songwriter"
          ],
          [
           "nashville sound"
          ],
          [
           "native american"
          ],
          [
           "native american contemporary"
          ],
          [
           "native american flute"
          ],
          [
           "native american hip hop"
          ],
          [
           "native american spiritual"
          ],
          [
           "navajo"
          ],
          [
           "nederlandse hardstyle"
          ],
          [
           "nederpop"
          ],
          [
           "neo classical metal"
          ],
          [
           "neo kyma"
          ],
          [
           "neo mellow"
          ],
          [
           "neo r&b"
          ],
          [
           "neo soul"
          ],
          [
           "neo-classical"
          ],
          [
           "neo-kraut"
          ],
          [
           "neo-pagan"
          ],
          [
           "neo-progressive"
          ],
          [
           "neo-psychedelic"
          ],
          [
           "neo-rockabilly"
          ],
          [
           "neo-singer-songwriter"
          ],
          [
           "neo-synthpop"
          ],
          [
           "neo-trad metal"
          ],
          [
           "neo-traditional bluegrass"
          ],
          [
           "neo-traditional country"
          ],
          [
           "neoclassical darkwave"
          ],
          [
           "neoclassicism"
          ],
          [
           "neofolk"
          ],
          [
           "neon pop punk"
          ],
          [
           "neotango"
          ],
          [
           "nepali indie"
          ],
          [
           "nepali pop"
          ],
          [
           "nerdcore"
          ],
          [
           "neue deutsche harte"
          ],
          [
           "neue deutsche todeskunst"
          ],
          [
           "neue deutsche welle"
          ],
          [
           "neurofunk"
          ],
          [
           "new age"
          ],
          [
           "new age piano"
          ],
          [
           "new americana"
          ],
          [
           "new beat"
          ],
          [
           "new comedy"
          ],
          [
           "new england americana"
          ],
          [
           "new england emo"
          ],
          [
           "new french touch"
          ],
          [
           "new isolationism"
          ],
          [
           "new jack swing"
          ],
          [
           "new jersey hardcore"
          ],
          [
           "new jersey indie"
          ],
          [
           "new jersey punk"
          ],
          [
           "new jersey rap"
          ],
          [
           "new mexico music"
          ],
          [
           "new orleans blues"
          ],
          [
           "new orleans funk"
          ],
          [
           "new orleans indie"
          ],
          [
           "new orleans jazz"
          ],
          [
           "new orleans rap"
          ],
          [
           "new rave"
          ],
          [
           "new romantic"
          ],
          [
           "new tribe"
          ],
          [
           "new wave"
          ],
          [
           "new wave of thrash metal"
          ],
          [
           "new wave pop"
          ],
          [
           "new weird america"
          ],
          [
           "new york death metal"
          ],
          [
           "new york drill"
          ],
          [
           "new zealand classical"
          ],
          [
           "newcastle indie"
          ],
          [
           "newcastle nsw indie"
          ],
          [
           "nigerian hip hop"
          ],
          [
           "nigerian pop"
          ],
          [
           "nightcore"
          ],
          [
           "nightrun"
          ],
          [
           "ninja"
          ],
          [
           "nintendocore"
          ],
          [
           "nisiotika"
          ],
          [
           "nl folk"
          ],
          [
           "no wave"
          ],
          [
           "noise pop"
          ],
          [
           "noise punk"
          ],
          [
           "noise rock"
          ],
          [
           "nordic classical piano"
          ],
          [
           "nordic contemporary classical"
          ],
          [
           "nordic folk"
          ],
          [
           "nordic house"
          ],
          [
           "nordic orchestra"
          ],
          [
           "nordic post-rock"
          ],
          [
           "nordic soundtrack"
          ],
          [
           "norman ok indie"
          ],
          [
           "norsk lovsang"
          ],
          [
           "norteno"
          ],
          [
           "norteno-sax"
          ],
          [
           "north carolina emo"
          ],
          [
           "north carolina hip hop"
          ],
          [
           "north carolina indie"
          ],
          [
           "north carolina metal"
          ],
          [
           "north carolina roots"
          ],
          [
           "north east england indie"
          ],
          [
           "northern irish indie"
          ],
          [
           "northern irish punk"
          ],
          [
           "northern soul"
          ],
          [
           "norwegian black metal"
          ],
          [
           "norwegian choir"
          ],
          [
           "norwegian classical"
          ],
          [
           "norwegian contemporary jazz"
          ],
          [
           "norwegian death metal"
          ],
          [
           "norwegian experimental"
          ],
          [
           "norwegian hip hop"
          ],
          [
           "norwegian indie"
          ],
          [
           "norwegian jazz"
          ],
          [
           "norwegian metal"
          ],
          [
           "norwegian pop"
          ],
          [
           "norwegian pop rap"
          ],
          [
           "norwegian punk rock"
          ],
          [
           "norwegian rock"
          ],
          [
           "norwegian singer-songwriter"
          ],
          [
           "norwegian space disco"
          ],
          [
           "nottingham indie"
          ],
          [
           "nouvelle chanson francaise"
          ],
          [
           "nova canco"
          ],
          [
           "nova mpb"
          ],
          [
           "nova musica pernambucana"
          ],
          [
           "novelty"
          ],
          [
           "nu age"
          ],
          [
           "nu disco"
          ],
          [
           "nu gaze"
          ],
          [
           "nu jazz"
          ],
          [
           "nu metal"
          ],
          [
           "nu skool breaks"
          ],
          [
           "nu-cumbia"
          ],
          [
           "nu-metalcore"
          ],
          [
           "nubian traditional"
          ],
          [
           "nueva cancion"
          ],
          [
           "nueva ola chilena"
          ],
          [
           "nueva ola peruana"
          ],
          [
           "nuevo flamenco"
          ],
          [
           "nuevo folklore mexicano"
          ],
          [
           "nuevo regional mexicano"
          ],
          [
           "nuevo tango"
          ],
          [
           "nursery"
          ],
          [
           "nwobhm"
          ],
          [
           "nwothm"
          ],
          [
           "ny roots"
          ],
          [
           "nyc pop"
          ],
          [
           "nyc rap"
          ],
          [
           "nyhc"
          ],
          [
           "nz christian"
          ],
          [
           "nz folk"
          ],
          [
           "nz hardcore"
          ],
          [
           "nz indie"
          ],
          [
           "nz pop"
          ],
          [
           "nz punk"
          ],
          [
           "nz reggae"
          ],
          [
           "nz singer-songwriter"
          ],
          [
           "oakland hip hop"
          ],
          [
           "oakland indie"
          ],
          [
           "oc indie"
          ],
          [
           "oc rap"
          ],
          [
           "oceania soundtrack"
          ],
          [
           "ohio hip hop"
          ],
          [
           "ohio indie"
          ],
          [
           "oi"
          ],
          [
           "ok indie"
          ],
          [
           "okc indie"
          ],
          [
           "okinawan pop"
          ],
          [
           "oklahoma country"
          ],
          [
           "old school dancehall"
          ],
          [
           "old school hip hop"
          ],
          [
           "old school rap francais"
          ],
          [
           "old school thrash"
          ],
          [
           "old school uk hip hop"
          ],
          [
           "old west"
          ],
          [
           "old-time"
          ],
          [
           "old-time fiddle"
          ],
          [
           "olympia wa indie"
          ],
          [
           "omaha indie"
          ],
          [
           "one-person band"
          ],
          [
           "ontario indie"
          ],
          [
           "opera"
          ],
          [
           "opera chorus"
          ],
          [
           "opera metal"
          ],
          [
           "operatic pop"
          ],
          [
           "operetta"
          ],
          [
           "opm"
          ],
          [
           "oratory"
          ],
          [
           "orchestra"
          ],
          [
           "orchestral performance"
          ],
          [
           "orebro indie"
          ],
          [
           "organic ambient"
          ],
          [
           "organic electronic"
          ],
          [
           "organic house"
          ],
          [
           "orgcore"
          ],
          [
           "oriental classical"
          ],
          [
           "orkney and shetland folk"
          ],
          [
           "orlando indie"
          ],
          [
           "orquesta tipica"
          ],
          [
           "orthodox chant"
          ],
          [
           "oshare kei"
          ],
          [
           "otacore"
          ],
          [
           "oth indie"
          ],
          [
           "ottawa indie"
          ],
          [
           "ottawa rap"
          ],
          [
           "oud"
          ],
          [
           "outer hip hop"
          ],
          [
           "outlaw country"
          ],
          [
           "outsider"
          ],
          [
           "outsider house"
          ],
          [
           "oxford choir"
          ],
          [
           "oxford indie"
          ],
          [
           "p funk"
          ],
          [
           "pagan black metal"
          ],
          [
           "pagode"
          ],
          [
           "pagode baiano"
          ],
          [
           "paisley underground"
          ],
          [
           "pakistani folk"
          ],
          [
           "pakistani hip hop"
          ],
          [
           "pakistani pop"
          ],
          [
           "palestinian pop"
          ],
          [
           "palm desert scene"
          ],
          [
           "panamanian pop"
          ],
          [
           "panamanian rock"
          ],
          [
           "panpipe"
          ],
          [
           "papuri"
          ],
          [
           "parody"
          ],
          [
           "partido alto"
          ],
          [
           "partyschlager"
          ],
          [
           "pei indie"
          ],
          [
           "permanent wave"
          ],
          [
           "perreo"
          ],
          [
           "persian pop"
          ],
          [
           "persian traditional"
          ],
          [
           "perth indie"
          ],
          [
           "peruvian hip hop"
          ],
          [
           "peruvian rock"
          ],
          [
           "pet calming"
          ],
          [
           "philly indie"
          ],
          [
           "philly rap"
          ],
          [
           "philly soul"
          ],
          [
           "phoenix indie"
          ],
          [
           "phonk"
          ],
          [
           "pianissimo"
          ],
          [
           "piano blues"
          ],
          [
           "piano cover"
          ],
          [
           "piano mpb"
          ],
          [
           "piano rock"
          ],
          [
           "pibroch"
          ],
          [
           "piedmont blues"
          ],
          [
           "pinoy hip hop"
          ],
          [
           "pinoy indie"
          ],
          [
           "pinoy pop punk"
          ],
          [
           "pinoy praise"
          ],
          [
           "pinoy r&b"
          ],
          [
           "pinoy reggae"
          ],
          [
           "pinoy rock"
          ],
          [
           "pinoy traditional"
          ],
          [
           "pinoy trap"
          ],
          [
           "pirate"
          ],
          [
           "pittsburgh indie"
          ],
          [
           "pittsburgh rap"
          ],
          [
           "pittsburgh rock"
          ],
          [
           "pixie"
          ],
          [
           "plunderphonics"
          ],
          [
           "poetry"
          ],
          [
           "polca paraguaya"
          ],
          [
           "polish blues"
          ],
          [
           "polish classical"
          ],
          [
           "polish classical piano"
          ],
          [
           "polish contemporary classical"
          ],
          [
           "polish jazz"
          ],
          [
           "polish modern jazz"
          ],
          [
           "polish pop"
          ],
          [
           "polish post-rock"
          ],
          [
           "polish reggae"
          ],
          [
           "polish rock"
          ],
          [
           "political hip hop"
          ],
          [
           "polka"
          ],
          [
           "polynesian hip hop"
          ],
          [
           "polynesian pop"
          ],
          [
           "polyphony"
          ],
          [
           "pony"
          ],
          [
           "pop"
          ],
          [
           "pop argentino"
          ],
          [
           "pop chileno"
          ],
          [
           "pop dance"
          ],
          [
           "pop edm"
          ],
          [
           "pop electronico"
          ],
          [
           "pop emo"
          ],
          [
           "pop flamenco"
          ],
          [
           "pop folk"
          ],
          [
           "pop house"
          ],
          [
           "pop nacional"
          ],
          [
           "pop nacional antigas"
          ],
          [
           "pop peruano"
          ],
          [
           "pop punk"
          ],
          [
           "pop quebecois"
          ],
          [
           "pop r&b"
          ],
          [
           "pop rap"
          ],
          [
           "pop reggaeton"
          ],
          [
           "pop rock"
          ],
          [
           "pop rock brasileiro"
          ],
          [
           "pop romantico"
          ],
          [
           "pop soul"
          ],
          [
           "pop venezolano"
          ],
          [
           "pop violin"
          ],
          [
           "popgaze"
          ],
          [
           "popping"
          ],
          [
           "pops orchestra"
          ],
          [
           "popwave"
          ],
          [
           "pornogrind"
          ],
          [
           "porro"
          ],
          [
           "portland hip hop"
          ],
          [
           "portland indie"
          ],
          [
           "portland metal"
          ],
          [
           "portland punk"
          ],
          [
           "portuguese early music"
          ],
          [
           "post-disco"
          ],
          [
           "post-disco soul"
          ],
          [
           "post-doom metal"
          ],
          [
           "post-grunge"
          ],
          [
           "post-hardcore"
          ],
          [
           "post-metal"
          ],
          [
           "post-minimalism"
          ],
          [
           "post-post-hardcore"
          ],
          [
           "post-punk"
          ],
          [
           "post-punk argentina"
          ],
          [
           "post-rock"
          ],
          [
           "post-romantic era"
          ],
          [
           "post-screamo"
          ],
          [
           "post-teen pop"
          ],
          [
           "power metal"
          ],
          [
           "power pop"
          ],
          [
           "power thrash"
          ],
          [
           "power-pop punk"
          ],
          [
           "praise"
          ],
          [
           "prepared piano"
          ],
          [
           "preschool children's music"
          ],
          [
           "prog quebec"
          ],
          [
           "progressive alternative"
          ],
          [
           "progressive bluegrass"
          ],
          [
           "progressive deathcore"
          ],
          [
           "progressive electro house"
          ],
          [
           "progressive groove metal"
          ],
          [
           "progressive house"
          ],
          [
           "progressive jazz fusion"
          ],
          [
           "progressive metal"
          ],
          [
           "progressive metalcore"
          ],
          [
           "progressive post-hardcore"
          ],
          [
           "progressive power metal"
          ],
          [
           "progressive psytrance"
          ],
          [
           "progressive rock"
          ],
          [
           "progressive sludge"
          ],
          [
           "progressive trance"
          ],
          [
           "progressive trance house"
          ],
          [
           "progressive uplifting trance"
          ],
          [
           "proto-rap"
          ],
          [
           "proto-techno"
          ],
          [
           "protopunk"
          ],
          [
           "psalmen"
          ],
          [
           "psicodelia brasileira"
          ],
          [
           "psybass"
          ],
          [
           "psychedelic blues-rock"
          ],
          [
           "psychedelic doom"
          ],
          [
           "psychedelic folk"
          ],
          [
           "psychedelic folk rock"
          ],
          [
           "psychedelic hip hop"
          ],
          [
           "psychedelic pop"
          ],
          [
           "psychedelic punk"
          ],
          [
           "psychedelic rock"
          ],
          [
           "psychedelic soul"
          ],
          [
           "psychedelic trance"
          ],
          [
           "psychill"
          ],
          [
           "psychobilly"
          ],
          [
           "pub rock"
          ],
          [
           "puerto rican folk"
          ],
          [
           "puerto rican pop"
          ],
          [
           "puerto rican rock"
          ],
          [
           "punjabi folk"
          ],
          [
           "punjabi hip hop"
          ],
          [
           "punjabi pop"
          ],
          [
           "punk"
          ],
          [
           "punk 'n' roll"
          ],
          [
           "punk blues"
          ],
          [
           "punk rock italiano"
          ],
          [
           "punk rock mexicano"
          ],
          [
           "punta"
          ],
          [
           "purple sound"
          ],
          [
           "qawwali"
          ],
          [
           "quartetto d'archi"
          ],
          [
           "quatuor a cordes"
          ],
          [
           "quebec death metal"
          ],
          [
           "quebec indie"
          ],
          [
           "queens hip hop"
          ],
          [
           "queer country"
          ],
          [
           "queercore"
          ],
          [
           "quiet storm"
          ],
          [
           "quran"
          ],
          [
           "r&b"
          ],
          [
           "r&b en espanol"
          ],
          [
           "rabindra sangeet"
          ],
          [
           "radio symphony"
          ],
          [
           "ragtime"
          ],
          [
           "rai"
          ],
          [
           "ranchera"
          ],
          [
           "rap"
          ],
          [
           "rap chileno"
          ],
          [
           "rap conciencia"
          ],
          [
           "rap conscient"
          ],
          [
           "rap cristiano"
          ],
          [
           "rap dominicano"
          ],
          [
           "rap kreyol"
          ],
          [
           "rap latina"
          ],
          [
           "rap metal"
          ],
          [
           "rap nacional antigo"
          ],
          [
           "rap napoletano"
          ],
          [
           "rap rock"
          ],
          [
           "rap underground mexicano"
          ],
          [
           "rare groove"
          ],
          [
           "rave"
          ],
          [
           "rawstyle"
          ],
          [
           "reading"
          ],
          [
           "reading indie"
          ],
          [
           "rebel blues"
          ],
          [
           "rebetiko"
          ],
          [
           "recorder"
          ],
          [
           "red dirt"
          ],
          [
           "redneck"
          ],
          [
           "reggae"
          ],
          [
           "reggae en espanol"
          ],
          [
           "reggae fusion"
          ],
          [
           "reggae rock"
          ],
          [
           "reggaeton"
          ],
          [
           "reggaeton colombiano"
          ],
          [
           "reggaeton cristiano"
          ],
          [
           "reggaeton flow"
          ],
          [
           "reggaeton mexicano"
          ],
          [
           "regional mexican"
          ],
          [
           "relaxative"
          ],
          [
           "renaissance"
          ],
          [
           "rennes indie"
          ],
          [
           "retro metal"
          ],
          [
           "retro soul"
          ],
          [
           "rhode island indie"
          ],
          [
           "rhode island rap"
          ],
          [
           "rhythm and blues"
          ],
          [
           "riddim"
          ],
          [
           "rif"
          ],
          [
           "riot grrrl"
          ],
          [
           "ritmo kombina"
          ],
          [
           "rochester mn indie"
          ],
          [
           "rochester ny indie"
          ],
          [
           "rock"
          ],
          [
           "rock alternatif francais"
          ],
          [
           "rock alternativo brasileiro"
          ],
          [
           "rock andaluz"
          ],
          [
           "rock baiano"
          ],
          [
           "rock brasiliense"
          ],
          [
           "rock chapin"
          ],
          [
           "rock cristiano"
          ],
          [
           "rock drums"
          ],
          [
           "rock en espanol"
          ],
          [
           "rock gaucho"
          ],
          [
           "rock independant francais"
          ],
          [
           "rock kapak"
          ],
          [
           "rock keyboard"
          ],
          [
           "rock nacional"
          ],
          [
           "rock nacional brasileiro"
          ],
          [
           "rock pernambucano"
          ],
          [
           "rock progressif francais"
          ],
          [
           "rock steady"
          ],
          [
           "rock urbano mexicano"
          ],
          [
           "rock-and-roll"
          ],
          [
           "rockabilly"
          ],
          [
           "rockabilly en espanol"
          ],
          [
           "roda de samba"
          ],
          [
           "romanian classical piano"
          ],
          [
           "romanian electronic"
          ],
          [
           "romanian folk"
          ],
          [
           "romanian pop"
          ],
          [
           "romanian rock"
          ],
          [
           "romantico"
          ],
          [
           "roots americana"
          ],
          [
           "roots reggae"
          ],
          [
           "roots rock"
          ],
          [
           "roots worship"
          ],
          [
           "rosary"
          ],
          [
           "rumba"
          ],
          [
           "rumba congolaise"
          ],
          [
           "rune folk"
          ],
          [
           "russian alternative rock"
          ],
          [
           "russian ccm"
          ],
          [
           "russian chanson"
          ],
          [
           "russian choir"
          ],
          [
           "russian classical piano"
          ],
          [
           "russian dance"
          ],
          [
           "russian edm"
          ],
          [
           "russian folk"
          ],
          [
           "russian folk rock"
          ],
          [
           "russian jazz"
          ],
          [
           "russian metal"
          ],
          [
           "russian metalcore"
          ],
          [
           "russian modern classical"
          ],
          [
           "russian orchestra"
          ],
          [
           "russian pop"
          ],
          [
           "russian post-punk"
          ],
          [
           "russian punk"
          ],
          [
           "russian rock"
          ],
          [
           "russian romanticism"
          ],
          [
           "russian shoegaze"
          ],
          [
           "russian trance"
          ],
          [
           "rva indie"
          ],
          [
           "rwandan traditional"
          ],
          [
           "ryukyu ongaku"
          ],
          [
           "sacramento hip hop"
          ],
          [
           "sacramento indie"
          ],
          [
           "sacred steel"
          ],
          [
           "sad rap"
          ],
          [
           "salsa"
          ],
          [
           "salsa choke"
          ],
          [
           "salsa colombiana"
          ],
          [
           "salsa cubana"
          ],
          [
           "salsa international"
          ],
          [
           "salsa peruana"
          ],
          [
           "salsa puertorriquena"
          ],
          [
           "salsa venezolana"
          ],
          [
           "samba"
          ],
          [
           "samba de roda"
          ],
          [
           "samba moderno"
          ],
          [
           "samba-enredo"
          ],
          [
           "samba-jazz"
          ],
          [
           "samba-rock"
          ],
          [
           "san antonio rap"
          ],
          [
           "san diego indie"
          ],
          [
           "san diego rap"
          ],
          [
           "san marcos tx indie"
          ],
          [
           "sandalwood"
          ],
          [
           "sarod"
          ],
          [
           "saskatchewan indie"
          ],
          [
           "scam rap"
          ],
          [
           "scandinavian r&b"
          ],
          [
           "scandipop"
          ],
          [
           "schlager"
          ],
          [
           "scorecore"
          ],
          [
           "scottish electronic"
          ],
          [
           "scottish fiddle"
          ],
          [
           "scottish folk"
          ],
          [
           "scottish hip hop"
          ],
          [
           "scottish indie"
          ],
          [
           "scottish jazz"
          ],
          [
           "scottish metal"
          ],
          [
           "scottish new wave"
          ],
          [
           "scottish rock"
          ],
          [
           "scottish singer-songwriter"
          ],
          [
           "scratch"
          ],
          [
           "scream rap"
          ],
          [
           "screamo"
          ],
          [
           "seattle hip hop"
          ],
          [
           "seattle indie"
          ],
          [
           "second line"
          ],
          [
           "sefardi"
          ],
          [
           "serbian electronic"
          ],
          [
           "serialism"
          ],
          [
           "sertanejo"
          ],
          [
           "sertanejo pop"
          ],
          [
           "sertanejo tradicional"
          ],
          [
           "sertanejo universitario"
          ],
          [
           "sevdah"
          ],
          [
           "sevillanas"
          ],
          [
           "shaabi"
          ],
          [
           "shabad"
          ],
          [
           "shakuhachi"
          ],
          [
           "shamanic"
          ],
          [
           "shanty"
          ],
          [
           "sheffield indie"
          ],
          [
           "shibuya-kei"
          ],
          [
           "shimmer pop"
          ],
          [
           "shimmer psych"
          ],
          [
           "shiver pop"
          ],
          [
           "shoegaze"
          ],
          [
           "show tunes"
          ],
          [
           "shred"
          ],
          [
           "shush"
          ],
          [
           "sierreno"
          ],
          [
           "singaporean mandopop"
          ],
          [
           "singaporean pop"
          ],
          [
           "singaporean singer-songwriter"
          ],
          [
           "singer-songwriter"
          ],
          [
           "singing bowl"
          ],
          [
           "sitar"
          ],
          [
           "ska"
          ],
          [
           "ska argentino"
          ],
          [
           "ska chileno"
          ],
          [
           "ska jazz"
          ],
          [
           "ska mexicano"
          ],
          [
           "ska punk"
          ],
          [
           "ska revival"
          ],
          [
           "skate punk"
          ],
          [
           "skiffle"
          ],
          [
           "skramz"
          ],
          [
           "sky room"
          ],
          [
           "slack-key guitar"
          ],
          [
           "slam poetry"
          ],
          [
           "slamming deathcore"
          ],
          [
           "slavic folk metal"
          ],
          [
           "slayer"
          ],
          [
           "slc indie"
          ],
          [
           "sleaze rock"
          ],
          [
           "sleep"
          ],
          [
           "slovak electronic"
          ],
          [
           "slovenian electronic"
          ],
          [
           "slovenian metal"
          ],
          [
           "slow game"
          ],
          [
           "slowcore"
          ],
          [
           "sludge metal"
          ],
          [
           "small room"
          ],
          [
           "smooth jazz"
          ],
          [
           "smooth saxophone"
          ],
          [
           "smooth soul"
          ],
          [
           "soca"
          ],
          [
           "socal pop punk"
          ],
          [
           "social media pop"
          ],
          [
           "soda pop"
          ],
          [
           "soft rock"
          ],
          [
           "solipsynthm"
          ],
          [
           "son cubano"
          ],
          [
           "son cubano clasico"
          ],
          [
           "son jarocho"
          ],
          [
           "sophisti-pop"
          ],
          [
           "sotalaulut"
          ],
          [
           "soukous"
          ],
          [
           "soul"
          ],
          [
           "soul blues"
          ],
          [
           "soul flow"
          ],
          [
           "soul jazz"
          ],
          [
           "souldies"
          ],
          [
           "sound"
          ],
          [
           "sound art"
          ],
          [
           "sound effects"
          ],
          [
           "sound team"
          ],
          [
           "soundtrack"
          ],
          [
           "south african alternative"
          ],
          [
           "south african choral"
          ],
          [
           "south african country"
          ],
          [
           "south african hip hop"
          ],
          [
           "south african house"
          ],
          [
           "south african jazz"
          ],
          [
           "south african pop"
          ],
          [
           "south african pop dance"
          ],
          [
           "south african rock"
          ],
          [
           "south carolina hip hop"
          ],
          [
           "south carolina indie"
          ],
          [
           "south carolina metal"
          ],
          [
           "south dakota indie"
          ],
          [
           "southampton indie"
          ],
          [
           "southern americana"
          ],
          [
           "southern gospel"
          ],
          [
           "southern hip hop"
          ],
          [
           "southern metal"
          ],
          [
           "southern rock"
          ],
          [
           "southern soul"
          ],
          [
           "southern soul blues"
          ],
          [
           "soviet synthpop"
          ],
          [
           "sovietwave"
          ],
          [
           "spa"
          ],
          [
           "space age pop"
          ],
          [
           "space ambient"
          ],
          [
           "space rock"
          ],
          [
           "spanish baroque"
          ],
          [
           "spanish classical"
          ],
          [
           "spanish classical piano"
          ],
          [
           "spanish folk metal"
          ],
          [
           "spanish hip hop"
          ],
          [
           "spanish indie pop"
          ],
          [
           "spanish invasion"
          ],
          [
           "spanish metal"
          ],
          [
           "spanish modern rock"
          ],
          [
           "spanish new wave"
          ],
          [
           "spanish noise pop"
          ],
          [
           "spanish pop"
          ],
          [
           "spanish pop rock"
          ],
          [
           "spanish renaissance"
          ],
          [
           "spanish rock"
          ],
          [
           "spanish synthpop"
          ],
          [
           "spanish techno"
          ],
          [
           "speed garage"
          ],
          [
           "speed metal"
          ],
          [
           "speedcore"
          ],
          [
           "spiritual hip hop"
          ],
          [
           "spiritual jazz"
          ],
          [
           "spirituals"
          ],
          [
           "springfield mo indie"
          ],
          [
           "spytrack"
          ],
          [
           "st louis rap"
          ],
          [
           "steampunk"
          ],
          [
           "steel guitar"
          ],
          [
           "steelpan"
          ],
          [
           "stl indie"
          ],
          [
           "stomp and flutter"
          ],
          [
           "stomp and holler"
          ],
          [
           "stomp and whittle"
          ],
          [
           "stomp pop"
          ],
          [
           "stoner metal"
          ],
          [
           "stoner rock"
          ],
          [
           "straight edge"
          ],
          [
           "straight-ahead jazz"
          ],
          [
           "street band"
          ],
          [
           "street punk"
          ],
          [
           "streichquartett"
          ],
          [
           "stride"
          ],
          [
           "string band"
          ],
          [
           "string folk"
          ],
          [
           "string orchestra"
          ],
          [
           "string quartet"
          ],
          [
           "strut"
          ],
          [
           "substep"
          ],
          [
           "sudanese pop"
          ],
          [
           "sufi"
          ],
          [
           "sufi chant"
          ],
          [
           "sunshine pop"
          ],
          [
           "supergroup"
          ],
          [
           "surf music"
          ],
          [
           "surf punk"
          ],
          [
           "svensk progg"
          ],
          [
           "swamp blues"
          ],
          [
           "swamp pop"
          ],
          [
           "swamp rock"
          ],
          [
           "swancore"
          ],
          [
           "swedish alternative rock"
          ],
          [
           "swedish americana"
          ],
          [
           "swedish black metal"
          ],
          [
           "swedish choir"
          ],
          [
           "swedish country"
          ],
          [
           "swedish dancehall"
          ],
          [
           "swedish death metal"
          ],
          [
           "swedish doom metal"
          ],
          [
           "swedish electronic"
          ],
          [
           "swedish electropop"
          ],
          [
           "swedish eurodance"
          ],
          [
           "swedish garage rock"
          ],
          [
           "swedish hard rock"
          ],
          [
           "swedish hardcore"
          ],
          [
           "swedish heavy metal"
          ],
          [
           "swedish house"
          ],
          [
           "swedish idol pop"
          ],
          [
           "swedish indie folk"
          ],
          [
           "swedish indie pop"
          ],
          [
           "swedish indie rock"
          ],
          [
           "swedish jazz"
          ],
          [
           "swedish jazz orkester"
          ],
          [
           "swedish melodic rock"
          ],
          [
           "swedish metal"
          ],
          [
           "swedish metalcore"
          ],
          [
           "swedish pop"
          ],
          [
           "swedish post-hardcore"
          ],
          [
           "swedish power metal"
          ],
          [
           "swedish prog"
          ],
          [
           "swedish progressive metal"
          ],
          [
           "swedish rock-and-roll"
          ],
          [
           "swedish singer-songwriter"
          ],
          [
           "swedish soul"
          ],
          [
           "swedish stoner rock"
          ],
          [
           "swedish synth"
          ],
          [
           "swedish synthpop"
          ],
          [
           "swedish tropical house"
          ],
          [
           "swedish underground rap"
          ],
          [
           "swing"
          ],
          [
           "swing italiano"
          ],
          [
           "swing revival"
          ],
          [
           "swiss black metal"
          ],
          [
           "swiss classical piano"
          ],
          [
           "swiss country"
          ],
          [
           "swiss metal"
          ],
          [
           "swiss pop"
          ],
          [
           "swiss rock"
          ],
          [
           "swiss worship"
          ],
          [
           "sydney indie"
          ],
          [
           "symphonic black metal"
          ],
          [
           "symphonic metal"
          ],
          [
           "symphonic rock"
          ],
          [
           "synth funk"
          ],
          [
           "synthpop"
          ],
          [
           "synthwave"
          ],
          [
           "syrian pop"
          ],
          [
           "tabla"
          ],
          [
           "tagalog rap"
          ],
          [
           "tagalog worship"
          ],
          [
           "taiwan campus folk"
          ],
          [
           "taiwan classical performance"
          ],
          [
           "taiwan hip hop"
          ],
          [
           "taiwan indie"
          ],
          [
           "taiwan pop"
          ],
          [
           "taiwan singer-songwriter"
          ],
          [
           "tajik pop"
          ],
          [
           "talent show"
          ],
          [
           "tamaulipas indie"
          ],
          [
           "tamaulipas rap"
          ],
          [
           "tamborazo"
          ],
          [
           "tamil hip hop"
          ],
          [
           "tamil pop"
          ],
          [
           "tamil worship"
          ],
          [
           "tampa indie"
          ],
          [
           "tango"
          ],
          [
           "tango cancion"
          ],
          [
           "tape club"
          ],
          [
           "tech house"
          ],
          [
           "technical death metal"
          ],
          [
           "technical deathcore"
          ],
          [
           "technical groove metal"
          ],
          [
           "technical melodic death metal"
          ],
          [
           "technical thrash"
          ],
          [
           "techno"
          ],
          [
           "techno kayo"
          ],
          [
           "tecnobanda"
          ],
          [
           "teen pop"
          ],
          [
           "tejano"
          ],
          [
           "tempe indie"
          ],
          [
           "tennessee hip hop"
          ],
          [
           "tennessee metal"
          ],
          [
           "tex-mex"
          ],
          [
           "texas blues"
          ],
          [
           "texas country"
          ],
          [
           "texas latin rap"
          ],
          [
           "texas pop punk"
          ],
          [
           "texas punk"
          ],
          [
           "thai folk"
          ],
          [
           "thai folk rock"
          ],
          [
           "thai idol"
          ],
          [
           "thai indie rock"
          ],
          [
           "thai pop"
          ],
          [
           "thall"
          ],
          [
           "theme"
          ],
          [
           "theremin"
          ],
          [
           "thrash core"
          ],
          [
           "thrash metal"
          ],
          [
           "timba"
          ],
          [
           "tin pan alley"
          ],
          [
           "tipico"
          ],
          [
           "tolkien metal"
          ],
          [
           "tollywood"
          ],
          [
           "tone"
          ],
          [
           "torch song"
          ],
          [
           "toronto indie"
          ],
          [
           "toronto rap"
          ],
          [
           "trad jazz catala"
          ],
          [
           "traditional bluegrass"
          ],
          [
           "traditional blues"
          ],
          [
           "traditional british folk"
          ],
          [
           "traditional country"
          ],
          [
           "traditional folk"
          ],
          [
           "traditional funk"
          ],
          [
           "traditional rockabilly"
          ],
          [
           "traditional ska"
          ],
          [
           "traditional soul"
          ],
          [
           "trance"
          ],
          [
           "trance mexicano"
          ],
          [
           "trancecore"
          ],
          [
           "transpop"
          ],
          [
           "trap"
          ],
          [
           "trap argentino"
          ],
          [
           "trap chileno"
          ],
          [
           "trap dominicano"
          ],
          [
           "trap latino"
          ],
          [
           "trap mexicano"
          ],
          [
           "trap queen"
          ],
          [
           "trap soul"
          ],
          [
           "trap triste"
          ],
          [
           "trap venezolano"
          ],
          [
           "traprun"
          ],
          [
           "trash rock"
          ],
          [
           "triangle indie"
          ],
          [
           "tribal house"
          ],
          [
           "trinidadian reggae"
          ],
          [
           "trio cubano"
          ],
          [
           "trip hop"
          ],
          [
           "trival"
          ],
          [
           "tropical"
          ],
          [
           "tropical house"
          ],
          [
           "tropicalia"
          ],
          [
           "trova"
          ],
          [
           "trova mexicana"
          ],
          [
           "truck-driving country"
          ],
          [
           "tuareg guitar"
          ],
          [
           "tucson indie"
          ],
          [
           "tulsa indie"
          ],
          [
           "tuna estudiantil"
          ],
          [
           "tunisian pop"
          ],
          [
           "turbo folk"
          ],
          [
           "turkish classical"
          ],
          [
           "turkish classical performance"
          ],
          [
           "turkish edm"
          ],
          [
           "turkish experimental"
          ],
          [
           "turkish folk"
          ],
          [
           "turkish jazz"
          ],
          [
           "turkish modern jazz"
          ],
          [
           "turkish pop"
          ],
          [
           "turkish psych"
          ],
          [
           "turkish trap"
          ],
          [
           "turkish trap pop"
          ],
          [
           "turntablism"
          ],
          [
           "twee pop"
          ],
          [
           "twoubadou"
          ],
          [
           "tzadik"
          ],
          [
           "ugandan pop"
          ],
          [
           "uilleann pipes"
          ],
          [
           "uk alternative hip hop"
          ],
          [
           "uk alternative pop"
          ],
          [
           "uk americana"
          ],
          [
           "uk contemporary jazz"
          ],
          [
           "uk contemporary r&b"
          ],
          [
           "uk dance"
          ],
          [
           "uk dancehall"
          ],
          [
           "uk diy punk"
          ],
          [
           "uk dnb"
          ],
          [
           "uk doom metal"
          ],
          [
           "uk dub"
          ],
          [
           "uk experimental electronic"
          ],
          [
           "uk funky"
          ],
          [
           "uk garage"
          ],
          [
           "uk hip hop"
          ],
          [
           "uk house"
          ],
          [
           "uk metalcore"
          ],
          [
           "uk noise rock"
          ],
          [
           "uk pop"
          ],
          [
           "uk pop punk"
          ],
          [
           "uk post-hardcore"
          ],
          [
           "uk post-punk"
          ],
          [
           "uk reggae"
          ],
          [
           "uk rockabilly"
          ],
          [
           "uk stoner rock"
          ],
          [
           "uk worship"
          ],
          [
           "uk82"
          ],
          [
           "ukrainian choir"
          ],
          [
           "ukrainian classical"
          ],
          [
           "ukrainian classical piano"
          ],
          [
           "ukrainian electronic"
          ],
          [
           "ukrainian pop"
          ],
          [
           "ukulele"
          ],
          [
           "umbanda"
          ],
          [
           "underground hip hop"
          ],
          [
           "underground power pop"
          ],
          [
           "underground rap"
          ],
          [
           "university choir"
          ],
          [
           "uplifting trance"
          ],
          [
           "uptempo hardcore"
          ],
          [
           "urban contemporary"
          ],
          [
           "urbano espanol"
          ],
          [
           "us power metal"
          ],
          [
           "utah indie"
          ],
          [
           "uzbek pop"
          ],
          [
           "uzbek traditional"
          ],
          [
           "v-pop"
          ],
          [
           "vallenato"
          ],
          [
           "vallenato moderno"
          ],
          [
           "vancouver indie"
          ],
          [
           "vancouver metal"
          ],
          [
           "vancouver punk"
          ],
          [
           "vapor pop"
          ],
          [
           "vapor soul"
          ],
          [
           "vapor trap"
          ],
          [
           "vapor twitch"
          ],
          [
           "vaporwave"
          ],
          [
           "variete francaise"
          ],
          [
           "vaudeville"
          ],
          [
           "vbs"
          ],
          [
           "veena"
          ],
          [
           "vegan straight edge"
          ],
          [
           "vegas indie"
          ],
          [
           "velha guarda"
          ],
          [
           "venezuelan hip hop"
          ],
          [
           "venezuelan indie"
          ],
          [
           "venezuelan rock"
          ],
          [
           "veracruz indie"
          ],
          [
           "vermont indie"
          ],
          [
           "vgm instrumental"
          ],
          [
           "vgm remix"
          ],
          [
           "victoria bc indie"
          ],
          [
           "victorian britain"
          ],
          [
           "video game music"
          ],
          [
           "vienna indie"
          ],
          [
           "vietnamese bolero"
          ],
          [
           "vietnamese pop"
          ],
          [
           "viking black metal"
          ],
          [
           "viking folk"
          ],
          [
           "viking metal"
          ],
          [
           "villancicos"
          ],
          [
           "vintage chanson"
          ],
          [
           "vintage chinese pop"
          ],
          [
           "vintage classical singing"
          ],
          [
           "vintage country folk"
          ],
          [
           "vintage dutch pop"
          ],
          [
           "vintage french electronic"
          ],
          [
           "vintage gospel"
          ],
          [
           "vintage hollywood"
          ],
          [
           "vintage italian pop"
          ],
          [
           "vintage italian soundtrack"
          ],
          [
           "vintage jazz"
          ],
          [
           "vintage old-time"
          ],
          [
           "vintage rockabilly"
          ],
          [
           "vintage schlager"
          ],
          [
           "vintage spanish pop"
          ],
          [
           "vintage swedish pop"
          ],
          [
           "vintage swing"
          ],
          [
           "vintage tango"
          ],
          [
           "viola"
          ],
          [
           "violao"
          ],
          [
           "violao classico"
          ],
          [
           "violin"
          ],
          [
           "viral pop"
          ],
          [
           "viral rap"
          ],
          [
           "viral trap"
          ],
          [
           "virgin islands reggae"
          ],
          [
           "virginia hip hop"
          ],
          [
           "virginia metal"
          ],
          [
           "virginia punk"
          ],
          [
           "visor"
          ],
          [
           "visual kei"
          ],
          [
           "vocal ensemble"
          ],
          [
           "vocal harmony group"
          ],
          [
           "vocal house"
          ],
          [
           "vocal jazz"
          ],
          [
           "vocal trance"
          ],
          [
           "vocaloid"
          ],
          [
           "vogue"
          ],
          [
           "volksmusik"
          ],
          [
           "warm drone"
          ],
          [
           "washboard"
          ],
          [
           "washington indie"
          ],
          [
           "wassoulou"
          ],
          [
           "water"
          ],
          [
           "wave"
          ],
          [
           "welsh folk"
          ],
          [
           "welsh indie"
          ],
          [
           "welsh metal"
          ],
          [
           "welsh rock"
          ],
          [
           "west african jazz"
          ],
          [
           "west australian hip hop"
          ],
          [
           "west coast rap"
          ],
          [
           "west coast reggae"
          ],
          [
           "west coast trap"
          ],
          [
           "west end"
          ],
          [
           "west virginia indie"
          ],
          [
           "western americana"
          ],
          [
           "western mass indie"
          ],
          [
           "western saharan folk"
          ],
          [
           "western swing"
          ],
          [
           "white noise"
          ],
          [
           "wind ensemble"
          ],
          [
           "wind quintet"
          ],
          [
           "wisconsin indie"
          ],
          [
           "witch house"
          ],
          [
           "women's choir"
          ],
          [
           "women's music"
          ],
          [
           "wonky"
          ],
          [
           "worcester ma indie"
          ],
          [
           "world"
          ],
          [
           "world fusion"
          ],
          [
           "world meditation"
          ],
          [
           "world worship"
          ],
          [
           "worship"
          ],
          [
           "wrestling"
          ],
          [
           "wu fam"
          ],
          [
           "wyoming indie"
          ],
          [
           "wyoming roots"
          ],
          [
           "xhosa"
          ],
          [
           "xtra raw"
          ],
          [
           "yacht rock"
          ],
          [
           "ye ye"
          ],
          [
           "yiddish folk"
          ],
          [
           "yodeling"
          ],
          [
           "yoga"
          ],
          [
           "yoik"
          ],
          [
           "york indie"
          ],
          [
           "yorkshire folk"
          ],
          [
           "yugoslav new wave"
          ],
          [
           "yugoslav rock"
          ],
          [
           "zambian pop"
          ],
          [
           "zeuhl"
          ],
          [
           "zhongguo feng"
          ],
          [
           "zimdancehall"
          ],
          [
           "zolo"
          ],
          [
           "zouglou"
          ],
          [
           "zouk"
          ],
          [
           "zurich indie"
          ],
          [
           "zydeco"
          ]
         ],
         "hovertemplate": "x=%{x}<br>y=%{y}<br>generos=%{customdata[0]}<br>cluster_pca=%{marker.color}<extra></extra>",
         "legendgroup": "",
         "marker": {
          "color": [
           1,
           1,
           0,
           3,
           3,
           3,
           4,
           0,
           3,
           3,
           2,
           4,
           0,
           1,
           3,
           4,
           0,
           4,
           2,
           2,
           3,
           3,
           0,
           3,
           4,
           0,
           0,
           1,
           0,
           0,
           0,
           0,
           0,
           4,
           4,
           2,
           4,
           0,
           2,
           4,
           2,
           0,
           0,
           0,
           4,
           0,
           0,
           4,
           0,
           2,
           0,
           4,
           4,
           2,
           2,
           0,
           2,
           2,
           0,
           0,
           2,
           4,
           0,
           1,
           2,
           4,
           2,
           2,
           4,
           1,
           4,
           4,
           1,
           1,
           1,
           1,
           1,
           3,
           2,
           3,
           4,
           1,
           3,
           1,
           1,
           2,
           3,
           2,
           1,
           0,
           2,
           2,
           2,
           2,
           4,
           2,
           2,
           4,
           3,
           0,
           3,
           3,
           4,
           4,
           4,
           4,
           3,
           3,
           0,
           2,
           0,
           4,
           0,
           0,
           0,
           0,
           0,
           2,
           4,
           0,
           4,
           1,
           4,
           0,
           4,
           1,
           0,
           4,
           0,
           1,
           4,
           0,
           0,
           0,
           2,
           0,
           1,
           2,
           0,
           2,
           0,
           2,
           2,
           3,
           2,
           4,
           4,
           0,
           4,
           0,
           1,
           0,
           1,
           1,
           1,
           4,
           2,
           2,
           0,
           0,
           2,
           2,
           4,
           2,
           0,
           2,
           2,
           0,
           0,
           4,
           2,
           4,
           4,
           0,
           0,
           2,
           4,
           0,
           0,
           1,
           1,
           1,
           4,
           1,
           0,
           4,
           2,
           1,
           3,
           2,
           0,
           3,
           0,
           0,
           0,
           0,
           1,
           3,
           3,
           4,
           4,
           0,
           3,
           3,
           4,
           2,
           4,
           1,
           3,
           3,
           1,
           0,
           2,
           0,
           0,
           0,
           3,
           4,
           3,
           3,
           4,
           1,
           0,
           3,
           3,
           3,
           3,
           1,
           1,
           1,
           4,
           1,
           3,
           3,
           0,
           4,
           2,
           0,
           0,
           2,
           0,
           0,
           0,
           0,
           2,
           0,
           0,
           3,
           4,
           3,
           0,
           4,
           3,
           4,
           0,
           2,
           2,
           2,
           1,
           3,
           2,
           2,
           0,
           4,
           2,
           3,
           2,
           0,
           4,
           4,
           4,
           4,
           3,
           0,
           0,
           4,
           1,
           3,
           0,
           1,
           3,
           2,
           2,
           1,
           1,
           0,
           0,
           2,
           2,
           2,
           0,
           2,
           2,
           2,
           2,
           2,
           2,
           4,
           3,
           4,
           4,
           2,
           2,
           4,
           0,
           4,
           3,
           0,
           0,
           3,
           0,
           0,
           3,
           3,
           4,
           0,
           0,
           0,
           2,
           2,
           4,
           0,
           0,
           3,
           3,
           0,
           0,
           1,
           1,
           3,
           4,
           1,
           1,
           0,
           3,
           1,
           1,
           0,
           2,
           0,
           4,
           3,
           2,
           3,
           4,
           0,
           0,
           0,
           2,
           0,
           2,
           2,
           0,
           4,
           1,
           4,
           4,
           2,
           2,
           2,
           0,
           2,
           2,
           4,
           0,
           1,
           1,
           0,
           1,
           3,
           2,
           4,
           3,
           2,
           2,
           4,
           4,
           4,
           1,
           1,
           2,
           2,
           3,
           0,
           1,
           2,
           4,
           4,
           0,
           0,
           0,
           2,
           2,
           0,
           2,
           4,
           0,
           0,
           0,
           4,
           2,
           1,
           3,
           3,
           4,
           4,
           3,
           4,
           2,
           0,
           3,
           3,
           0,
           1,
           4,
           0,
           3,
           0,
           2,
           0,
           3,
           1,
           1,
           1,
           3,
           0,
           4,
           4,
           2,
           0,
           1,
           3,
           2,
           0,
           2,
           4,
           3,
           4,
           0,
           0,
           2,
           2,
           4,
           0,
           2,
           2,
           1,
           4,
           2,
           2,
           0,
           4,
           1,
           4,
           2,
           4,
           4,
           4,
           3,
           4,
           4,
           3,
           3,
           2,
           4,
           4,
           0,
           3,
           3,
           3,
           0,
           1,
           1,
           1,
           2,
           0,
           3,
           4,
           1,
           2,
           0,
           0,
           3,
           1,
           3,
           1,
           3,
           4,
           1,
           4,
           4,
           2,
           0,
           4,
           4,
           0,
           2,
           4,
           0,
           0,
           2,
           3,
           4,
           0,
           2,
           0,
           2,
           2,
           2,
           0,
           4,
           2,
           0,
           0,
           0,
           3,
           4,
           0,
           3,
           0,
           4,
           4,
           0,
           2,
           1,
           4,
           2,
           4,
           0,
           4,
           2,
           4,
           4,
           1,
           1,
           1,
           2,
           2,
           0,
           4,
           2,
           1,
           4,
           4,
           1,
           1,
           3,
           0,
           1,
           3,
           4,
           3,
           4,
           2,
           0,
           2,
           0,
           0,
           4,
           2,
           2,
           4,
           2,
           2,
           0,
           3,
           2,
           0,
           4,
           3,
           4,
           0,
           0,
           0,
           2,
           2,
           4,
           0,
           3,
           4,
           0,
           0,
           3,
           0,
           4,
           4,
           4,
           3,
           4,
           2,
           3,
           0,
           0,
           4,
           4,
           3,
           2,
           2,
           2,
           0,
           4,
           3,
           4,
           2,
           3,
           3,
           3,
           4,
           0,
           4,
           3,
           4,
           0,
           4,
           3,
           2,
           0,
           4,
           3,
           2,
           4,
           4,
           1,
           4,
           0,
           0,
           4,
           4,
           0,
           1,
           4,
           1,
           1,
           1,
           1,
           1,
           1,
           1,
           1,
           1,
           1,
           1,
           3,
           1,
           1,
           1,
           1,
           1,
           1,
           1,
           3,
           1,
           1,
           1,
           3,
           3,
           4,
           2,
           0,
           0,
           0,
           0,
           0,
           0,
           0,
           4,
           0,
           4,
           0,
           2,
           4,
           2,
           1,
           0,
           1,
           2,
           2,
           0,
           1,
           1,
           1,
           0,
           4,
           4,
           3,
           3,
           3,
           1,
           3,
           3,
           3,
           2,
           0,
           0,
           0,
           2,
           4,
           2,
           0,
           3,
           4,
           4,
           4,
           0,
           0,
           0,
           4,
           3,
           3,
           0,
           0,
           3,
           0,
           0,
           2,
           0,
           2,
           0,
           0,
           0,
           4,
           0,
           0,
           0,
           0,
           0,
           0,
           0,
           0,
           0,
           3,
           0,
           4,
           0,
           0,
           0,
           0,
           2,
           0,
           3,
           1,
           1,
           3,
           2,
           3,
           0,
           0,
           0,
           0,
           2,
           0,
           2,
           2,
           1,
           2,
           1,
           0,
           1,
           2,
           0,
           4,
           2,
           0,
           2,
           2,
           4,
           4,
           3,
           0,
           0,
           2,
           0,
           2,
           1,
           2,
           2,
           4,
           0,
           2,
           2,
           2,
           2,
           4,
           2,
           2,
           2,
           4,
           2,
           2,
           2,
           2,
           0,
           3,
           2,
           2,
           4,
           0,
           4,
           4,
           0,
           3,
           0,
           4,
           2,
           0,
           0,
           0,
           3,
           0,
           2,
           0,
           0,
           2,
           0,
           0,
           3,
           3,
           2,
           3,
           4,
           2,
           4,
           3,
           4,
           0,
           0,
           3,
           2,
           2,
           2,
           0,
           2,
           0,
           0,
           4,
           4,
           4,
           1,
           0,
           0,
           3,
           0,
           2,
           4,
           0,
           0,
           2,
           3,
           0,
           0,
           0,
           0,
           4,
           0,
           4,
           0,
           4,
           2,
           0,
           4,
           2,
           0,
           3,
           3,
           4,
           0,
           3,
           2,
           3,
           0,
           0,
           0,
           0,
           3,
           0,
           3,
           2,
           2,
           0,
           0,
           0,
           4,
           2,
           2,
           4,
           3,
           4,
           2,
           2,
           2,
           1,
           0,
           4,
           1,
           3,
           2,
           2,
           0,
           2,
           0,
           3,
           2,
           4,
           1,
           4,
           3,
           4,
           2,
           0,
           4,
           2,
           3,
           1,
           2,
           2,
           0,
           3,
           0,
           2,
           3,
           1,
           2,
           0,
           2,
           0,
           4,
           2,
           4,
           3,
           3,
           1,
           1,
           1,
           1,
           0,
           1,
           4,
           2,
           0,
           0,
           4,
           3,
           0,
           4,
           2,
           1,
           4,
           0,
           2,
           0,
           0,
           3,
           2,
           2,
           3,
           4,
           0,
           2,
           4,
           0,
           0,
           2,
           4,
           2,
           0,
           2,
           2,
           2,
           4,
           0,
           0,
           0,
           2,
           2,
           2,
           0,
           2,
           1,
           2,
           1,
           4,
           3,
           1,
           2,
           2,
           3,
           0,
           1,
           2,
           3,
           0,
           4,
           4,
           4,
           1,
           3,
           4,
           0,
           2,
           2,
           0,
           0,
           0,
           0,
           3,
           4,
           1,
           3,
           0,
           0,
           1,
           4,
           0,
           2,
           3,
           4,
           4,
           3,
           3,
           4,
           3,
           2,
           0,
           4,
           0,
           2,
           4,
           1,
           2,
           1,
           1,
           2,
           2,
           2,
           2,
           2,
           2,
           0,
           4,
           4,
           1,
           0,
           4,
           2,
           0,
           2,
           3,
           1,
           0,
           2,
           0,
           0,
           3,
           4,
           3,
           3,
           4,
           4,
           2,
           0,
           4,
           4,
           4,
           4,
           0,
           3,
           3,
           0,
           0,
           0,
           3,
           4,
           4,
           0,
           0,
           2,
           1,
           0,
           4,
           4,
           4,
           1,
           3,
           0,
           3,
           1,
           3,
           2,
           2,
           0,
           2,
           4,
           2,
           3,
           2,
           3,
           1,
           1,
           4,
           0,
           2,
           0,
           0,
           1,
           2,
           3,
           0,
           2,
           2,
           2,
           0,
           2,
           4,
           1,
           0,
           0,
           2,
           2,
           3,
           0,
           0,
           0,
           0,
           2,
           2,
           0,
           4,
           0,
           2,
           4,
           0,
           2,
           4,
           2,
           2,
           0,
           1,
           1,
           2,
           2,
           0,
           0,
           2,
           2,
           2,
           2,
           2,
           0,
           2,
           4,
           4,
           0,
           4,
           2,
           1,
           1,
           1,
           4,
           0,
           2,
           2,
           0,
           0,
           3,
           3,
           2,
           2,
           1,
           1,
           0,
           0,
           0,
           2,
           0,
           1,
           2,
           1,
           3,
           3,
           2,
           2,
           2,
           0,
           0,
           3,
           3,
           2,
           0,
           2,
           2,
           4,
           0,
           2,
           2,
           2,
           0,
           0,
           2,
           4,
           3,
           3,
           3,
           4,
           0,
           4,
           4,
           2,
           4,
           2,
           0,
           0,
           2,
           2,
           2,
           2,
           2,
           0,
           0,
           2,
           3,
           3,
           3,
           3,
           2,
           3,
           3,
           3,
           3,
           0,
           2,
           4,
           2,
           0,
           2,
           2,
           0,
           0,
           0,
           0,
           2,
           2,
           4,
           4,
           1,
           1,
           3,
           3,
           4,
           1,
           2,
           3,
           3,
           4,
           3,
           0,
           4,
           0,
           1,
           4,
           0,
           1,
           2,
           2,
           3,
           4,
           2,
           4,
           2,
           0,
           2,
           2,
           2,
           0,
           3,
           3,
           3,
           1,
           1,
           3,
           1,
           3,
           0,
           0,
           1,
           0,
           0,
           4,
           4,
           0,
           1,
           1,
           3,
           0,
           0,
           0,
           0,
           0,
           1,
           1,
           1,
           1,
           1,
           1,
           3,
           3,
           4,
           4,
           0,
           4,
           4,
           4,
           3,
           0,
           2,
           3,
           0,
           0,
           0,
           0,
           0,
           3,
           0,
           1,
           1,
           1,
           1,
           2,
           3,
           3,
           3,
           2,
           4,
           0,
           0,
           1,
           2,
           3,
           4,
           3,
           4,
           4,
           2,
           4,
           4,
           2,
           4,
           3,
           1,
           3,
           0,
           0,
           1,
           0,
           3,
           3,
           0,
           4,
           4,
           3,
           4,
           3,
           0,
           4,
           4,
           4,
           0,
           4,
           4,
           0,
           0,
           4,
           2,
           4,
           0,
           2,
           2,
           0,
           2,
           4,
           4,
           2,
           3,
           4,
           2,
           0,
           2,
           4,
           0,
           1,
           2,
           4,
           0,
           2,
           2,
           4,
           3,
           4,
           4,
           0,
           2,
           2,
           2,
           2,
           4,
           2,
           4,
           4,
           0,
           0,
           3,
           4,
           1,
           4,
           2,
           3,
           4,
           0,
           3,
           2,
           4,
           4,
           2,
           3,
           0,
           3,
           3,
           3,
           1,
           1,
           0,
           2,
           4,
           4,
           4,
           4,
           4,
           3,
           1,
           3,
           3,
           2,
           1,
           1,
           4,
           0,
           2,
           2,
           0,
           1,
           3,
           1,
           2,
           3,
           2,
           1,
           1,
           4,
           2,
           3,
           2,
           1,
           1,
           1,
           1,
           2,
           3,
           3,
           0,
           0,
           2,
           1,
           4,
           2,
           0,
           2,
           2,
           2,
           0,
           2,
           2,
           0,
           2,
           2,
           4,
           4,
           0,
           0,
           2,
           4,
           0,
           1,
           1,
           1,
           1,
           2,
           1,
           0,
           2,
           3,
           4,
           0,
           2,
           2,
           1,
           3,
           0,
           3,
           3,
           4,
           2,
           2,
           4,
           2,
           2,
           2,
           2,
           4,
           2,
           2,
           0,
           0,
           2,
           4,
           1,
           3,
           4,
           0,
           3,
           3,
           3,
           0,
           3,
           4,
           3,
           4,
           3,
           3,
           3,
           3,
           4,
           3,
           3,
           3,
           2,
           1,
           3,
           4,
           3,
           4,
           3,
           0,
           4,
           3,
           3,
           3,
           3,
           3,
           4,
           3,
           3,
           4,
           1,
           0,
           4,
           0,
           0,
           4,
           3,
           0,
           3,
           2,
           4,
           0,
           0,
           0,
           0,
           3,
           3,
           0,
           3,
           0,
           3,
           2,
           2,
           4,
           2,
           4,
           0,
           4,
           0,
           3,
           0,
           0,
           3,
           3,
           0,
           0,
           4,
           0,
           1,
           4,
           4,
           3,
           3,
           0,
           3,
           3,
           1,
           4,
           3,
           1,
           1,
           2,
           0,
           0,
           0,
           0,
           1,
           1,
           4,
           0,
           2,
           3,
           0,
           3,
           2,
           4,
           1,
           0,
           0,
           0,
           1,
           0,
           4,
           3,
           0,
           0,
           0,
           4,
           2,
           0,
           0,
           0,
           3,
           0,
           0,
           0,
           2,
           0,
           0,
           0,
           0,
           3,
           3,
           4,
           4,
           2,
           0,
           0,
           3,
           4,
           1,
           4,
           2,
           4,
           4,
           2,
           3,
           0,
           4,
           3,
           0,
           3,
           3,
           4,
           3,
           4,
           3,
           0,
           4,
           2,
           2,
           2,
           3,
           4,
           0,
           3,
           4,
           1,
           4,
           2,
           3,
           3,
           0,
           4,
           4,
           0,
           4,
           2,
           4,
           1,
           2,
           4,
           0,
           2,
           4,
           4,
           4,
           0,
           4,
           4,
           3,
           0,
           3,
           3,
           4,
           4,
           0,
           4,
           0,
           4,
           2,
           4,
           1,
           3,
           2,
           1,
           4,
           0,
           0,
           2,
           4,
           2,
           2,
           2,
           2,
           2,
           2,
           2,
           2,
           2,
           0,
           2,
           0,
           4,
           3,
           0,
           2,
           4,
           3,
           0,
           0,
           4,
           3,
           2,
           2,
           2,
           2,
           2,
           4,
           1,
           0,
           2,
           0,
           2,
           0,
           4,
           0,
           0,
           0,
           0,
           0,
           2,
           0,
           4,
           1,
           1,
           4,
           3,
           4,
           2,
           3,
           0,
           4,
           1,
           4,
           2,
           0,
           4,
           2,
           1,
           4,
           2,
           2,
           0,
           0,
           0,
           4,
           1,
           2,
           4,
           2,
           2,
           4,
           2,
           4,
           0,
           2,
           4,
           4,
           0,
           4,
           1,
           3,
           0,
           1,
           2,
           0,
           0,
           2,
           0,
           0,
           0,
           1,
           2,
           2,
           2,
           0,
           3,
           4,
           4,
           4,
           0,
           1,
           0,
           4,
           4,
           4,
           1,
           3,
           4,
           3,
           3,
           0,
           4,
           4,
           0,
           1,
           2,
           0,
           0,
           4,
           0,
           4,
           1,
           3,
           0,
           4,
           0,
           0,
           4,
           3,
           0,
           3,
           3,
           3,
           0,
           4,
           0,
           0,
           3,
           4,
           4,
           0,
           4,
           4,
           2,
           2,
           0,
           1,
           3,
           3,
           3,
           2,
           2,
           4,
           4,
           0,
           2,
           4,
           3,
           3,
           0,
           1,
           0,
           1,
           3,
           2,
           4,
           2,
           3,
           4,
           4,
           0,
           1,
           3,
           3,
           4,
           2,
           0,
           4,
           2,
           2,
           4,
           4,
           3,
           1,
           4,
           0,
           4,
           3,
           3,
           4,
           2,
           2,
           0,
           2,
           1,
           1,
           4,
           0,
           0,
           4,
           2,
           4,
           1,
           0,
           2,
           4,
           2,
           0,
           4,
           3,
           0,
           0,
           3,
           0,
           2,
           0,
           2,
           0,
           2,
           0,
           4,
           2,
           0,
           1,
           2,
           2,
           0,
           0,
           2,
           2,
           4,
           2,
           3,
           0,
           4,
           2,
           2,
           2,
           1,
           1,
           4,
           0,
           1,
           2,
           1,
           3,
           2,
           0,
           0,
           2,
           0,
           4,
           2,
           4,
           2,
           0,
           2,
           0,
           2,
           3,
           1,
           3,
           2,
           1,
           0,
           4,
           1,
           2,
           2,
           2,
           2,
           2,
           4,
           2,
           4,
           0,
           4,
           4,
           0,
           0,
           1,
           0,
           2,
           4,
           2,
           2,
           0,
           2,
           3,
           4,
           4,
           4,
           4,
           4,
           0,
           3,
           3,
           2,
           2,
           0,
           0,
           0,
           2,
           1,
           4,
           0,
           4,
           0,
           0,
           2,
           4,
           0,
           0,
           2,
           0,
           1,
           0,
           4,
           2,
           0,
           2,
           0,
           4,
           0,
           0,
           0,
           2,
           0,
           2,
           3,
           1,
           4,
           2,
           4,
           4,
           1,
           3,
           2,
           3,
           1,
           4,
           3,
           1,
           1,
           2,
           3,
           2,
           2,
           2,
           1,
           1,
           4,
           3,
           1,
           0,
           2,
           0,
           0,
           0,
           3,
           0,
           4,
           4,
           3,
           1,
           2,
           0,
           2,
           0,
           0,
           2,
           3,
           0,
           3,
           4,
           2,
           0,
           0,
           1,
           4,
           0,
           0,
           0,
           3,
           4,
           0,
           4,
           3,
           2,
           0,
           0,
           3,
           2,
           0,
           4,
           0,
           0,
           0,
           3,
           1,
           4,
           4,
           1,
           3,
           0,
           2,
           2,
           2,
           3,
           4,
           2,
           4,
           0,
           0,
           0,
           0,
           0,
           2,
           2,
           3,
           3,
           0,
           1,
           1,
           1,
           3,
           1,
           4,
           2,
           4,
           0,
           0,
           3,
           0,
           0,
           1,
           0,
           0,
           0,
           4,
           0,
           2,
           0,
           2,
           0,
           3,
           0,
           0,
           4,
           0,
           2,
           4,
           0,
           0,
           0,
           0,
           2,
           4,
           4,
           0,
           4,
           0,
           0,
           1,
           2,
           3,
           0,
           4,
           4,
           2,
           4,
           1,
           0,
           0,
           2,
           2,
           2,
           2,
           1,
           2,
           4,
           4,
           3,
           1,
           2,
           0,
           2,
           0,
           2,
           2,
           4,
           1,
           0,
           3,
           4,
           4,
           2,
           2,
           2,
           2,
           2,
           2,
           2,
           2,
           2,
           2,
           4,
           2,
           2,
           2,
           2,
           4,
           2,
           4,
           3,
           4,
           2,
           2,
           2,
           3,
           4,
           0,
           4,
           2,
           4,
           4,
           2,
           2,
           2,
           0,
           0,
           4,
           0,
           3,
           0,
           0,
           2,
           2,
           2,
           2,
           2,
           0,
           0,
           3,
           3,
           1,
           2,
           4,
           0,
           0,
           0,
           4,
           3,
           0,
           0,
           3,
           1,
           3,
           3,
           4,
           0,
           0,
           0,
           0,
           4,
           0,
           0,
           0,
           2,
           0,
           3,
           2,
           0,
           4,
           2,
           2,
           3,
           2,
           0,
           3,
           3,
           2,
           0,
           0,
           0,
           0,
           0,
           0,
           0,
           2,
           0,
           0,
           0,
           4,
           1,
           0,
           2,
           0,
           4,
           0,
           4,
           0,
           4,
           2,
           0,
           2,
           0,
           2,
           0,
           4,
           0,
           0,
           4,
           2,
           2,
           4,
           0,
           2,
           2,
           0,
           4,
           4,
           0,
           0,
           4,
           0,
           2,
           4,
           4,
           4,
           4,
           1,
           4,
           1,
           0,
           3,
           4,
           4,
           0,
           4,
           4,
           3,
           4,
           4,
           3,
           2,
           2,
           3,
           1,
           1,
           2,
           2,
           3,
           4,
           3,
           2,
           2,
           1,
           1,
           0,
           2,
           4,
           4,
           1,
           2,
           2,
           0,
           1,
           3,
           0,
           2,
           0,
           0,
           0,
           0,
           0,
           0,
           0,
           0,
           0,
           4,
           4,
           3,
           0,
           0,
           3,
           0,
           4,
           2,
           0,
           4,
           3,
           1,
           3,
           0,
           4,
           0,
           4,
           3,
           4,
           3,
           4,
           0,
           2,
           3,
           0,
           0,
           0,
           0,
           0,
           0,
           2,
           0,
           4,
           0,
           0,
           4,
           1,
           4,
           4,
           3,
           0,
           4,
           4,
           0,
           1,
           1,
           3,
           4,
           2,
           4,
           2,
           4,
           4,
           2,
           4,
           2,
           1,
           0,
           4,
           4,
           2,
           4,
           1,
           3,
           0,
           0,
           0,
           4,
           0,
           0,
           0,
           2,
           4,
           3,
           2,
           3,
           2,
           2,
           2,
           2,
           2,
           2,
           1,
           4,
           0,
           2,
           0,
           4,
           2,
           4,
           4,
           4,
           4,
           0,
           2,
           0,
           4,
           4,
           0,
           4,
           3,
           0,
           0,
           0,
           4,
           4,
           4,
           0,
           3,
           4,
           1,
           1,
           1,
           0,
           1,
           0,
           3,
           0,
           0,
           0,
           4,
           0,
           0,
           2,
           0,
           4,
           2,
           2,
           4,
           0,
           4,
           0,
           2,
           4,
           4,
           0,
           0,
           2,
           1,
           3,
           1,
           2,
           1,
           1,
           1,
           2,
           0,
           4,
           0,
           2,
           2,
           0,
           2,
           0,
           0,
           1,
           0,
           0,
           2,
           0,
           2,
           4,
           0,
           3,
           3,
           4,
           3,
           0,
           0,
           3,
           4,
           0,
           4,
           4,
           4,
           0,
           2,
           2,
           2,
           3,
           0,
           2,
           1,
           3,
           3,
           1,
           1,
           1,
           0,
           2,
           4,
           4,
           4,
           4,
           4,
           4,
           2,
           2,
           0,
           4,
           0,
           2,
           2,
           4,
           2,
           1,
           0,
           0,
           2,
           2,
           4,
           0,
           2,
           0,
           2,
           2,
           4,
           4,
           2,
           4,
           2,
           2,
           1,
           3,
           4,
           2,
           2,
           0,
           2,
           2,
           2,
           2,
           0,
           4,
           4,
           3,
           3,
           4,
           2,
           0,
           3,
           3,
           4,
           2,
           1,
           1,
           2,
           0,
           2,
           3,
           3,
           2,
           2,
           4,
           0,
           0,
           2,
           3,
           3,
           0,
           4,
           4,
           1,
           3,
           4,
           4,
           4,
           3,
           0,
           0,
           0,
           0,
           3,
           3,
           3,
           2,
           3,
           3,
           4,
           4,
           2,
           4,
           2,
           2,
           2,
           2,
           4,
           0,
           0,
           0,
           0,
           0,
           2,
           0,
           4,
           4,
           0,
           0,
           0,
           0,
           0,
           4,
           4,
           0,
           2,
           3,
           1,
           2,
           2,
           0,
           3,
           4,
           2,
           3,
           1,
           3,
           4,
           0,
           4,
           4,
           3,
           4,
           3,
           3,
           4,
           0,
           0,
           0,
           2,
           2,
           2,
           0,
           0,
           0,
           2,
           4,
           0,
           0,
           0,
           0,
           0,
           0,
           2,
           2,
           2,
           0,
           4,
           3,
           4,
           0,
           0,
           0,
           4,
           4,
           3,
           4,
           3,
           0,
           4,
           0,
           0,
           0,
           3,
           1,
           2,
           2,
           3,
           3,
           3,
           4,
           3,
           2,
           4,
           0,
           4,
           4,
           1,
           4,
           3,
           0,
           0,
           4,
           4,
           0,
           0,
           0,
           2,
           2,
           2,
           0,
           4,
           0,
           0,
           0,
           0,
           2,
           0,
           0,
           0,
           2,
           4,
           0,
           0,
           2,
           4,
           2,
           1,
           1,
           1,
           2,
           0,
           3,
           4,
           0,
           0,
           0,
           1,
           2,
           2,
           0,
           0,
           2,
           4,
           3,
           3,
           0,
           0,
           0,
           4,
           2,
           2,
           4,
           4,
           0,
           4,
           2,
           4,
           4,
           0,
           3,
           2,
           2,
           3,
           0,
           0,
           0,
           0,
           4,
           1,
           2,
           0,
           1,
           3,
           4,
           0,
           0,
           2,
           4,
           2,
           4,
           3,
           3,
           1,
           3,
           3,
           4,
           3,
           3,
           3,
           3,
           3,
           3,
           0,
           3,
           3,
           3,
           3,
           3,
           1,
           3,
           3,
           1,
           4,
           0,
           0,
           0,
           0,
           2,
           2,
           1,
           2,
           1,
           3,
           0,
           3,
           2,
           2,
           0,
           3,
           1,
           3,
           0,
           4,
           1,
           0,
           1,
           2,
           2,
           2,
           4,
           0,
           0,
           0,
           0,
           4,
           0,
           4,
           0,
           3,
           4,
           1,
           1,
           1,
           3,
           4,
           2,
           4,
           4,
           0,
           4,
           3,
           1,
           2,
           4,
           0,
           0,
           2,
           4,
           4,
           2,
           4,
           4,
           3,
           3,
           1,
           3,
           4,
           4,
           0,
           0,
           0,
           2,
           0,
           0,
           4,
           0,
           0,
           3,
           0
          ],
          "coloraxis": "coloraxis",
          "symbol": "circle"
         },
         "mode": "markers",
         "name": "",
         "showlegend": false,
         "type": "scattergl",
         "x": [
          5.793737258065743,
          2.747402526996304,
          -1.0606053313879258,
          1.3816770368049602,
          1.0913294639627555,
          1.7904708913094756,
          -0.6067312293093026,
          -1.5855436138132593,
          0.919423871252548,
          0.9421494405070845,
          -0.9143665463540271,
          -0.16421910564943787,
          -2.4100968519790174,
          3.6295639599795364,
          1.1714135711585234,
          -0.13324206411282827,
          -1.1930854670142386,
          0.526678111845736,
          -1.2003485467453439,
          0.008230965229316463,
          1.3080005176705143,
          1.2352417958835726,
          -1.2424896673433399,
          2.735185857346955,
          -0.6496157493690596,
          -1.977287002090869,
          -1.34997143783866,
          3.6930246603668304,
          -2.3763929948133162,
          -1.3545719350308703,
          -1.2374029937817654,
          -3.4868046661282217,
          -2.000032587400693,
          -0.568747865616429,
          -0.7239918266774444,
          -0.6614119594618865,
          -0.3639071100145737,
          -1.8880910995474447,
          -1.0803687479570179,
          -0.8078532613517095,
          -1.328585080834223,
          -1.8010905052572501,
          -1.9917681580751658,
          -2.0692460327635698,
          0.867092842593771,
          -1.8018603876066812,
          -2.9358229687389397,
          -0.8065540114984319,
          -1.2086137650698587,
          -1.970793194063205,
          -2.484202295054091,
          -0.2306239771305975,
          -0.3020353752092671,
          -1.1155766190403935,
          -0.9962024275769479,
          -1.9314378066729956,
          -1.1344761555978127,
          -0.6081599527766363,
          -2.180893255562806,
          -1.282760395032059,
          -0.590421900276731,
          -0.5525110956305236,
          -1.381004660522848,
          3.4022399322059993,
          0.9703636992776706,
          0.8607043991539719,
          -0.5978090320923104,
          0.8887028599145954,
          -0.6213243341390283,
          3.58845148624462,
          -0.7214117197527097,
          1.0700754685658744,
          6.130215453882316,
          3.382334509821297,
          4.797545922738516,
          4.412348966736591,
          3.4259832101407146,
          2.0247521761744545,
          -1.6346607180082688,
          2.8716100090871284,
          -0.13420963624477839,
          4.189924910733501,
          1.3580055262294601,
          2.7469205152140743,
          3.7714606596556206,
          0.7460407697343538,
          0.9952504864579779,
          -1.4590358993435144,
          4.22023194385589,
          -1.267190887145661,
          -1.4560095299493607,
          -1.9341291365132576,
          -1.9749111025261545,
          -0.03868437775131159,
          0.05974261224674286,
          -1.2205920232177931,
          -0.36372642869351735,
          -0.19420255135163936,
          2.000228833112208,
          -2.186397599093384,
          1.3640742089860562,
          2.6922294413926795,
          0.7452419897523967,
          -0.3446572187878017,
          -0.35732886829222027,
          0.778497021864831,
          2.7655336049401313,
          1.3001693096050415,
          -1.835774654055031,
          -1.5975898293806035,
          -2.6539871811079236,
          -0.16690611305454928,
          -3.2474782570285488,
          -1.866346219268193,
          -2.32438903936371,
          -1.2771313326782023,
          -2.2226819921443983,
          -1.6681599411570411,
          -0.340847977115465,
          -2.5234077382643956,
          0.4939578900399924,
          5.162053595604025,
          -0.24408783519898083,
          -1.2531086249825767,
          -0.07947753153765459,
          3.4424811655346437,
          -1.549991188899396,
          0.16910925458619902,
          -1.9773049572619443,
          3.6712133466290293,
          -0.7027431922577883,
          -2.1556683304791666,
          -2.1399413742140556,
          -1.721001474650269,
          -1.376897894331927,
          -2.365243665155284,
          4.5422177414063905,
          0.9703636992776706,
          -2.0798254701909644,
          0.9649355580248946,
          -3.0101283668392282,
          0.9649355580248946,
          -1.193384937124216,
          2.1571967847029367,
          -0.8926434884281937,
          -0.8752809271469532,
          -0.6077261787914477,
          -1.2170663702432043,
          0.4487877837709765,
          -1.623453450293744,
          5.135360935205056,
          -1.2571620904403353,
          3.698603224520221,
          2.957867127872762,
          4.161346167477794,
          -0.5278959592083634,
          -1.3654727235931559,
          -0.897454262783394,
          -1.972987721144338,
          -2.1830739055299038,
          -1.4058494371448562,
          -0.9364173568555303,
          -0.4756485975103285,
          -1.6782545727544178,
          -1.6508166649935203,
          -1.5022509837249343,
          -1.3201893269596026,
          -1.5266651717392383,
          -1.500249103676737,
          0.07970563772095776,
          -0.9302807231461433,
          -0.09179969854291152,
          -0.5694545568887923,
          -1.5232961503654627,
          -1.3072824268120502,
          -1.4982518467482355,
          -0.988642019781027,
          -2.850722144173053,
          -1.8664757687452354,
          4.043410963728266,
          4.790582338185907,
          4.116133723944211,
          0.22566220119911665,
          3.2393759356439147,
          -2.2976771357986037,
          0.5767323511930572,
          0.8237166231075623,
          4.313715089253748,
          2.3305576001587367,
          -0.6316936241525035,
          -1.756881908148867,
          2.0494310934180344,
          -2.229073326682226,
          -1.8274949501303275,
          -2.1386604535477765,
          -1.9276344943518862,
          4.611194746746722,
          2.4683173621488828,
          2.268405401553871,
          0.14605600899841695,
          0.6563722640862368,
          -3.3389695388685285,
          1.3437822236721648,
          1.0799579976105116,
          0.37865697402510756,
          -0.7288602815890369,
          -0.15499296860437992,
          5.247565738314945,
          2.9713942996422014,
          2.4705029416465316,
          5.198579730351548,
          -2.1715343185433382,
          -0.5474399691788804,
          -2.0766722090735863,
          -1.8649563827433076,
          -1.66799164126754,
          2.6617937994451166,
          0.713585364361093,
          1.5687406344068908,
          2.562233193162126,
          0.06088802379784196,
          4.681891730732927,
          -2.178858498266472,
          1.443610253845577,
          1.5658053181106626,
          2.7130910821565446,
          2.5566137142106125,
          3.685357290346643,
          3.517178927917986,
          3.0263821344746584,
          -0.40867339954462684,
          4.057883891735581,
          2.9662822187626348,
          1.2811254291469465,
          -1.899658833046947,
          -0.21903526440733126,
          -1.448029709831088,
          -2.597495520582966,
          -2.369820816260843,
          -1.3034509985065554,
          -1.605336050264714,
          -2.2734304704570354,
          -2.3574171749613453,
          -2.202830552071506,
          -0.6612455337932698,
          -1.5224998680027702,
          -2.1734570516295717,
          1.116338317248064,
          -0.6312663036483441,
          1.852163086813473,
          -1.7663081499336692,
          -0.9380822633957586,
          2.383275199303474,
          -0.5457489662832826,
          -1.1660615916670238,
          -1.4421897028465058,
          -2.0454465930499657,
          -2.0454465930499657,
          4.799883286750028,
          2.1011796232190867,
          -1.7266047414672387,
          -1.4514299377573932,
          -1.9208996476986346,
          -0.44840932891636043,
          -0.4708488938687832,
          2.6558570707159177,
          -0.11539656661345161,
          -2.3116273621151198,
          0.3629021940200643,
          0.268665531702211,
          0.39946311042986016,
          -0.2806271588164977,
          2.6160882069692426,
          -1.6341015159390468,
          -1.7585949296893217,
          -0.46665241895166243,
          2.9069869670209707,
          1.908745459665747,
          -2.078201150095686,
          4.321715817153303,
          2.002989045181221,
          -0.6148740927508415,
          -1.5323472793783814,
          5.95879745816975,
          2.832898309360363,
          -2.211156814584802,
          -4.070715641516126,
          -0.042078069213457144,
          -1.1697221488145768,
          -0.32177419637142685,
          -1.0981368397696518,
          0.04504522627193401,
          -1.6990822891436883,
          0.3381336375470781,
          -0.32177419637142685,
          1.5172349363245086,
          -0.6818670435175438,
          -0.07513568045538552,
          1.7866922960253964,
          -0.1945093237705633,
          0.6799915801648612,
          -1.3606051566003379,
          -1.053853409798659,
          -0.6235760034243454,
          -2.1686388614681995,
          0.7853618680050538,
          0.8089519773045742,
          -0.9049556531161358,
          -1.4352949607412742,
          1.5806724203213427,
          -2.055036446478227,
          -2.3522560432217143,
          0.9274657543046347,
          0.9571752666942224,
          0.6489934614664455,
          -1.4013840809674727,
          -2.143761544909894,
          -1.8330896140354545,
          -1.3800810149400085,
          -0.9258733209574582,
          -0.9784169930302591,
          -2.637333184048406,
          -2.8014850635396797,
          1.9193674213805507,
          1.1060157321883013,
          -1.5470576433620884,
          -2.2240320756212366,
          5.936272173709322,
          5.95879745816975,
          1.8656330565762902,
          0.3478264398811824,
          3.667787140788703,
          4.882888168989707,
          -0.9573071358974634,
          2.7990723838639155,
          5.046209990552384,
          3.8002866653544523,
          -2.1000892133375157,
          -0.7177879985186503,
          -2.5948357428882844,
          -0.20002352619797079,
          1.4666067685629762,
          -0.7177879985186503,
          1.845421229651957,
          0.14881542827770777,
          -2.283006516288039,
          -1.7454770790423157,
          -1.5120109980624605,
          -1.0598443522211356,
          -1.1380523416329444,
          -0.7177879985186503,
          -1.1969225118686675,
          -2.8543989278634827,
          -0.3261161120723752,
          3.645442264938454,
          -0.7409863660825914,
          -0.21028950851148967,
          -1.1229308030196923,
          1.114514744835278,
          -0.3114079794624892,
          -1.030736668570813,
          -0.5221764609540146,
          -0.3755785767102859,
          -0.34174558721209286,
          -2.2854066855929913,
          4.03992456720617,
          5.553842656546276,
          -1.0636814398514534,
          4.341389276255142,
          2.663951300090432,
          0.29028491691548997,
          0.1973689189962846,
          1.3114299585801519,
          0.3045898437353714,
          -0.9527727889964388,
          0.22114204711545335,
          -0.6404747118612453,
          0.7401755956420326,
          3.9519157722870375,
          3.9369573711940933,
          1.2446058965137665,
          -1.7180601345288422,
          1.1250431374503325,
          -1.503101366471671,
          3.2648747606014634,
          -0.8442772479023177,
          0.3975482296752486,
          -0.38754005564650024,
          -2.2025619192772243,
          -2.3961172749223256,
          -1.3469783175460552,
          -1.5334819032738012,
          0.14386620815006365,
          -1.2367492949717798,
          -1.1019033563648837,
          -0.7202412403239099,
          -2.775905862367137,
          -0.8850944491586135,
          -1.051016081344987,
          -0.7606080451954434,
          -0.5245146774300091,
          6.8793418304339164,
          3.3736055572005608,
          1.9291497344589135,
          0.3595544989228833,
          -0.8335832935653279,
          2.238807396818436,
          -0.9748559435766319,
          -0.9377814444828317,
          -1.9023138000543187,
          2.8477903314012187,
          1.1478992021570678,
          -1.6945217803623427,
          3.7473555943950956,
          0.6584487244873786,
          -1.7760105573459943,
          1.802773557628104,
          -1.1092439319379905,
          -0.9796463149273292,
          -1.379560704227875,
          0.67925707932746,
          4.070469849194243,
          4.119217231466698,
          5.699902322949354,
          1.1477222749528977,
          -1.5006342080043746,
          0.024742901806414006,
          -0.4210647486233752,
          -1.0850904673022592,
          -1.2823100225053863,
          2.7917997798995478,
          1.3412025556547371,
          -0.6290137432501287,
          -2.0724468026262444,
          -0.15129361738494349,
          -0.7303999574914746,
          1.2650860314309904,
          -0.16842008876954534,
          -2.1462223788329364,
          -2.3601325070524237,
          -0.7284442434567638,
          -1.304286025202681,
          -0.22994738185519326,
          -1.23206167451045,
          -1.7026132189247056,
          -1.0312092940391386,
          2.9550921236022085,
          0.22052333363208979,
          -1.417253725002092,
          -1.150469614044367,
          -1.2844881597151472,
          0.2213404851630128,
          2.634732301505361,
          -0.1524447467667542,
          -1.384146238594442,
          -0.7184912846362623,
          -0.11339525116924182,
          0.8448293873630692,
          1.5432541963725002,
          0.17483663699397334,
          0.24839009841652188,
          1.7867193565507868,
          2.6215645588967535,
          0.054591991467565854,
          0.06780560130119506,
          0.15687912639635265,
          -2.6918016294939573,
          1.7202078531421618,
          2.1415322572159687,
          1.7312012164757817,
          -1.5281254333917451,
          5.000725331432163,
          3.489550453011536,
          6.130807462869298,
          -0.36434730813863264,
          -2.5786235883191195,
          2.2494429769539175,
          0.6600437379821832,
          3.6248406664234327,
          -1.495915031458181,
          -2.0980939880028133,
          -1.1854360997737587,
          1.0505689713233044,
          4.836448302627053,
          1.441736904176039,
          4.700261118392515,
          2.466806168760576,
          -0.23147865160912845,
          4.1517844919499005,
          0.11037517107815357,
          -0.22370860831893055,
          -1.521978944735082,
          -1.780434503301972,
          -0.15195832926419858,
          0.19244405541371298,
          -1.314156246751969,
          -0.8808410857542304,
          0.25880470826307017,
          -1.4903406124219019,
          -1.7799037036177658,
          -1.0729831876392995,
          1.1667442326787227,
          0.20494835933124075,
          -2.087821783043407,
          -0.9060293322706775,
          -1.655247743587768,
          -0.9110871189397751,
          -0.6059111143075063,
          -1.4623788198027858,
          -2.022411079455172,
          -0.3506416671716765,
          -1.0446645827459042,
          -1.7259938893257112,
          -1.355185389930271,
          -1.484210903335199,
          1.7114742875886573,
          0.05251857715962915,
          -1.1063672600754608,
          0.9352449695449386,
          -2.2642064241579862,
          -0.2759345476869636,
          -0.7078937973190647,
          -2.094490423171847,
          0.0330040288069601,
          4.402573482935778,
          0.23948581065828686,
          0.8647568458565783,
          0.16340459235461116,
          -1.0912053004846909,
          -0.02089293554151547,
          -0.897310256508691,
          -0.7440406307588936,
          0.7068421570928428,
          3.5976238668608627,
          4.874517235242377,
          5.623265574326158,
          -2.1650423519070188,
          0.13983749239057103,
          -2.111574719236891,
          -0.2864093933585173,
          -0.6072389602956183,
          3.6079041790403266,
          -0.28619956678666236,
          -0.4359365400516326,
          3.5976238668608627,
          2.9633843680094785,
          1.9988703815665663,
          -2.107033853061672,
          3.847649747568946,
          1.2028266880417653,
          0.13962400972961664,
          1.8799657461052526,
          0.7181811548989628,
          -0.5908537687700535,
          -2.9717695596880116,
          -1.6297476969712947,
          -2.1703777770655046,
          -2.553501057205686,
          -0.5988581292477814,
          -0.9503549560047707,
          -1.1416086602915327,
          -0.5122429126739242,
          -0.9201241778474583,
          -0.4564977928758239,
          -2.210018416400364,
          2.634801068885455,
          -1.5428461180142232,
          -2.2203975572981145,
          0.3611203800821991,
          2.7197268985022833,
          0.7678114346851881,
          -1.9663402789562172,
          -1.4023693996231257,
          -2.4484436663675857,
          -0.4682059290428319,
          -2.5837766821770245,
          -0.19744817821085203,
          -1.5203862426651509,
          1.9321270708441507,
          0.7302153686261956,
          -1.643179830985309,
          -2.736793865877029,
          1.4989649697574867,
          -1.3505572491151583,
          0.47238241322422964,
          0.2893440114015451,
          -0.14304097967687712,
          2.5139145200579582,
          0.7245936830934538,
          -0.6511716909435912,
          2.7034452850204382,
          -1.3675119531219964,
          -2.521540021767574,
          -0.7957247966841698,
          -0.41329177031099656,
          1.3696630848357871,
          -0.8363727228232085,
          0.7361417940587427,
          -0.2645500973583073,
          -0.977119091393742,
          0.15619482402664187,
          3.0039695653664653,
          0.4554709040723487,
          -0.3037385520386828,
          1.8375372622049284,
          1.990397939991942,
          2.7133067132264563,
          0.3630771601162908,
          -1.5831000535059936,
          0.3765275423526205,
          1.4056948382932763,
          0.43643926790740545,
          -0.9748628365649176,
          0.30010945945867273,
          1.458642296211062,
          0.2911044392015057,
          -1.0462124072251162,
          -0.6385012137278759,
          1.3200302029427444,
          -0.7346988329743629,
          0.19501682868259954,
          -0.40795285457222163,
          3.163509312102375,
          -0.6697999799273316,
          -1.8026815329764712,
          -1.5147280765423106,
          0.36610354028638126,
          -0.584485666970075,
          -0.9423922628819176,
          4.176219073932186,
          -0.2734489469029754,
          3.442209425372294,
          3.7952236330074958,
          4.861651041961574,
          4.321334232961089,
          4.083782263504304,
          3.980899163784883,
          3.872653148929407,
          4.086111315148284,
          4.785042331300251,
          4.824193908821572,
          5.350184686737747,
          1.8506139924026734,
          3.74103816324299,
          4.138311224329426,
          3.755787747440038,
          4.183772192416028,
          5.212902161857909,
          5.434797433870144,
          4.994918424233664,
          1.4441643258517614,
          3.5892346053239357,
          3.3392039646948852,
          3.109425823017379,
          1.8611058608488793,
          2.145472760252752,
          -0.7726550291155474,
          -1.0503461714509168,
          -1.6829690766551357,
          -2.004512357507425,
          -1.2366063706473809,
          -2.55168760899751,
          -2.2008400628454083,
          -1.7415211659246592,
          -2.1183724386530027,
          -0.8798100435142813,
          -2.272265556390308,
          0.16121072715363396,
          -1.383817600251381,
          -1.1627316669023746,
          0.07178698780067519,
          -1.6029569221657367,
          3.4595779782948903,
          -2.3161075827222275,
          3.6759842432183243,
          -1.415084482654333,
          -1.1636544952335575,
          -1.8313031371833763,
          6.130215453882316,
          4.9003489663704025,
          5.2467574482304355,
          -1.73654974245953,
          0.20490790677384452,
          -0.5375392107595173,
          2.7470566234860545,
          2.5413873765854564,
          1.6999154253224276,
          4.165939529144158,
          2.4614820390894274,
          1.1206032555675192,
          0.8752613523557001,
          -0.7801226883694339,
          -2.098378965409917,
          -2.4775414866963295,
          -1.9709379765704822,
          -0.2821559206058102,
          0.314892230947498,
          1.9515465271974748,
          -1.1441556350996325,
          1.407331956493921,
          0.15290186663565442,
          -0.9490671695190743,
          0.7944515965104442,
          -1.812551735935509,
          -2.045011492200721,
          -1.537718972266332,
          -0.44626301139780133,
          1.373111598380516,
          0.8859694319801201,
          -1.3554019304215446,
          -2.1610529071134326,
          1.2709927489425035,
          -1.3654173818149955,
          -1.3654173818149955,
          -0.4775865559464121,
          -2.425432681138642,
          -0.48095825655542934,
          -2.1118787703207045,
          -1.0762607938909026,
          -2.715636550524223,
          0.6293152409787891,
          -1.6562011576319515,
          -1.8991012661500175,
          -2.102959242531132,
          -2.5988359499918454,
          -2.0080084130871305,
          -1.6255317997475376,
          -1.3023079676816725,
          -2.046337351719723,
          -2.9207620798080742,
          1.3637068303268478,
          -3.30861503978972,
          0.6199854809560943,
          -2.0752713612380673,
          -2.7887538477838723,
          -2.1557969880035492,
          -2.917706825138078,
          -0.07409849532968397,
          -2.765629748332451,
          1.7514015783162318,
          4.465583699789777,
          4.644779242788868,
          2.8922074402809637,
          -0.7902496803027392,
          2.324338302042755,
          -2.643971316207047,
          -1.5860213704536081,
          -1.9089433574732968,
          -1.2538816762110379,
          -1.182859242501058,
          -2.3748063424858206,
          -0.2645500973583073,
          -1.6544541719739914,
          4.341076018984336,
          -0.8350012942991883,
          3.312666003818371,
          -2.701222171203804,
          3.5441116969890136,
          -0.21199933977132973,
          -2.6794575572541093,
          0.9211522392221746,
          0.30549920333143527,
          -2.7519040070143688,
          -1.1285679362692336,
          0.30549920333143527,
          0.1549152759985039,
          -0.9459002088024889,
          2.4114965558796033,
          -2.8050499526996058,
          -1.4668678187809052,
          -0.08076980585857509,
          -1.784542767294143,
          -1.6290704907671179,
          3.7684730085258047,
          -0.170692573432826,
          -0.342557818252984,
          0.40684142041132293,
          -1.9629495659944196,
          -0.022067485208874627,
          -0.4923249439610569,
          -1.078173005728514,
          -0.22615567061421157,
          0.11719832774963815,
          0.013956188342937709,
          -0.20135247882881896,
          -0.8964079978345882,
          -0.9054609999834484,
          0.5334152901007804,
          0.003983001389242244,
          -0.573083533073605,
          -1.3994635218324352,
          -1.7259513220446299,
          1.2461913539975293,
          -1.3980812815459644,
          -0.21259649237884226,
          0.7306138248703418,
          -1.140857507918708,
          -0.26321319446060065,
          -0.5549739966410544,
          -2.99836706464168,
          3.201005071015383,
          -1.4440223375350667,
          -0.9175992380132223,
          -1.6257094777885173,
          -2.421586196492062,
          -1.730780499083441,
          -2.9664115029128495,
          1.2644420139714285,
          -2.009942604027284,
          0.15172204133983358,
          -2.152970093244163,
          -2.8439533828093975,
          -0.25448269411624946,
          -1.7118152055386557,
          -1.3149338269875113,
          2.3166145811966485,
          0.8854156200930685,
          -1.5117349397625919,
          1.468061185399868,
          0.5157467924987719,
          -1.422324466345192,
          -0.6765014529345849,
          0.8186064843789089,
          -0.4569707531381657,
          -1.8859969984976974,
          -1.7384982819584678,
          2.5224586450529154,
          -0.9520893931025638,
          0.8199583127676475,
          0.3784461490541041,
          -1.8023801768838932,
          -2.5478350431902124,
          -1.4829337371290487,
          -2.1852683327466336,
          0.7487160875754905,
          -0.4987128377631163,
          0.7816916217781121,
          4.58642967877903,
          -0.787431116049758,
          -2.2506976327124715,
          1.45388526372551,
          -1.2191921751992287,
          1.3475304834034492,
          0.39946311042986016,
          -1.6199157037499432,
          -2.081478520461294,
          -0.31943473771497194,
          1.2347308782252717,
          -3.080291370284219,
          -1.5000547102856978,
          -1.7639974051711607,
          -1.2320964144954871,
          1.004470214744917,
          -1.4358817546173863,
          0.3714721798079057,
          -1.7549616177249971,
          -0.680059171854585,
          -1.0381525802953044,
          -2.4003115786243705,
          -0.9662793836231998,
          0.20411948193569082,
          -2.2609157909543893,
          1.717884592420628,
          1.0868767021457493,
          0.15695182204894909,
          -2.4436083307197136,
          2.8706421951459666,
          -1.3123838790920521,
          2.941245440212367,
          -2.3070968664366847,
          -1.7766331939442845,
          -1.2193697989318582,
          -2.3158046043715506,
          1.0919072371442171,
          -1.9815315749602076,
          1.6750725541436546,
          -0.01996584242315878,
          -0.7551516915812341,
          -1.8506516446492542,
          -1.9703631452695902,
          -3.3707452159486544,
          -0.15866315751238771,
          0.20163733064716977,
          -0.4718652044952516,
          -0.2906738101606738,
          1.7496459569698384,
          0.35290044507049595,
          -1.0686870624661902,
          0.33351305923410995,
          -1.083321162829357,
          4.9211916465470615,
          -2.1470481412947957,
          0.45203858113368106,
          3.4721889977819163,
          2.2612397967005835,
          1.1612527910646742,
          -0.7264145217091432,
          -1.3738823592383231,
          0.9309258997670018,
          -2.2781563501476723,
          2.1745005046877175,
          -1.6182571952689662,
          0.5361935007879526,
          5.162053595604025,
          -0.8079665640294343,
          1.1165819092038207,
          -0.33591808593289824,
          0.9703636992776706,
          -2.2857364945588694,
          0.33726671420191884,
          -0.9206321400294001,
          2.1580292609874046,
          5.953254292210743,
          -0.5303924018221101,
          -1.7403708398046325,
          -2.444555927913102,
          1.692111746572971,
          -3.0119187725964496,
          -1.3377431290607025,
          1.9210356100451327,
          3.3791801726335287,
          -0.5814611363607823,
          -1.3360660866817207,
          -0.5049414909336201,
          -3.219513775054141,
          -0.06999478482322062,
          -0.8537753382858411,
          -0.6063409428756694,
          0.9769543237321584,
          2.5353771629080284,
          4.106811842747328,
          3.922269385620606,
          3.695172162540547,
          3.261730865705345,
          -0.9992937819567212,
          3.6708738877977187,
          -0.8324784689184498,
          -1.1789816856499054,
          -2.0841298402289214,
          -1.5873713025831786,
          -0.7134729710097881,
          2.2189875596544044,
          -2.5068006651486274,
          0.5601035955298481,
          -0.5118297234412369,
          3.3288949259467446,
          0.7362822509819591,
          -1.8261736991561517,
          -1.3507332339713187,
          -1.9633334334659411,
          -2.689048219169152,
          2.275868291919791,
          -0.031549626417420644,
          -0.6577426688813017,
          1.429921288448681,
          -0.3111239371461061,
          -1.6130356089780271,
          -1.5878380053531669,
          -0.8657768534367183,
          -2.680191615633375,
          -1.3572376283710192,
          -0.6101438054326274,
          -0.7147199514647502,
          -1.444247774459223,
          -2.3567770094490843,
          0.3626062530478525,
          -1.251246223455097,
          -1.6189466629411093,
          -0.3367872968105959,
          -2.0516188443745658,
          -1.7901735556903031,
          -2.4207029355861844,
          -1.1923570023444836,
          -2.215404639308863,
          -0.7919233442517019,
          -1.513602402929507,
          -0.5416797398010011,
          3.6065768151009387,
          -2.295032669360658,
          4.115416314228416,
          0.303985176634248,
          1.5444431318080984,
          2.7853251668554995,
          0.0020299048072846817,
          0.38933314627892757,
          2.2561400360682877,
          -1.9205438691185146,
          4.136488821099528,
          -0.25448269411624946,
          1.3530354595792031,
          -2.0814795530944172,
          0.7324499532478017,
          -0.4538057578822506,
          0.12338018373208785,
          3.376440744592602,
          2.636324975803089,
          -0.1400312826330029,
          -1.4661332718235822,
          -1.0176923706165688,
          -2.133436848943567,
          -2.3291313817402344,
          -2.057630178273833,
          -3.559511243476165,
          -1.9567812425617763,
          1.871289206665949,
          0.6339029187300841,
          4.391795950750131,
          2.4236518909691,
          -2.477136846265978,
          -1.0970647169173615,
          3.40295719592809,
          -0.6109330053266215,
          -2.359720747439269,
          0.39286347857613496,
          1.937677808798266,
          -0.2513653586562877,
          0.3423714119660629,
          2.375797912007577,
          1.2603298297912173,
          0.4522581809428436,
          2.5202809185603456,
          -2.6130649787533775,
          -2.5337534450511967,
          0.8105066079089291,
          -1.8826688288377715,
          -1.114101792574514,
          0.12889280152654067,
          3.1439185281029003,
          -0.6913075010167453,
          5.088007695243157,
          4.939044998837194,
          -1.0028067976058435,
          -0.5248849015438164,
          -1.3671484975201416,
          -1.6083680275065624,
          -1.2240858487043615,
          -0.9526773883905724,
          -1.5226264077527487,
          -0.04123308752345872,
          0.3789566965283061,
          4.327682296181834,
          -1.4862121740349739,
          0.21570285780343085,
          -0.44622727815043156,
          -1.7899691980655854,
          1.8616370897393206,
          1.335045588005075,
          4.239896829375609,
          -1.2443184154741556,
          0.4547173492600956,
          -2.1063048116220076,
          -2.0033692873653672,
          0.8116514551214314,
          0.3530709350878326,
          3.050891596772247,
          2.2601436986497547,
          -0.28989215044721955,
          0.2783385031981427,
          -1.2643598791610935,
          -1.2736529153232627,
          -0.24266482721305768,
          -0.2666189248257564,
          -0.4797417102548407,
          0.5204614476664444,
          -1.4903406124219019,
          2.8309212302029443,
          1.526031656519895,
          -2.0246499204910777,
          -1.0108448315588938,
          -1.318182282724681,
          2.5940319765536612,
          -0.25693324982671795,
          -0.978085157291993,
          -1.2117221937320124,
          -1.2641343036746067,
          -1.0576539202211706,
          3.3421554443867527,
          -2.033085107400523,
          0.12308420990854202,
          -0.6564685454440531,
          -0.01678402186105298,
          2.9500893889510356,
          2.294057933203413,
          -1.7677480274237465,
          3.2257105914751425,
          5.183876805972791,
          1.4964694840636845,
          -0.6165664958291539,
          -0.6675694611807237,
          -2.2832800672956868,
          1.2708831235750346,
          -0.5290835548882257,
          -0.41330865066926614,
          1.8793907619254675,
          -0.6165664958291539,
          1.5211839085497483,
          3.6425304561618863,
          3.6989982125514964,
          -0.1291515699962222,
          -3.2119274928289636,
          -0.631024116574135,
          -1.7965202848350112,
          -1.2043649896401052,
          3.7854008083891584,
          -0.8090421975219121,
          2.600437310964097,
          -1.7894102752468901,
          -1.1183122985648282,
          -0.9284647556711099,
          0.20232397439351998,
          -2.163022134150381,
          -1.1776725014219522,
          -0.6969784100006845,
          3.3429136079552824,
          -2.055259079958568,
          -3.827262366308991,
          -1.1803564712210204,
          -0.8244885865660865,
          1.1786343295448984,
          -3.0679369333151474,
          -3.646400466651322,
          -1.3622253131466289,
          -3.0114347641932575,
          -0.39374645883450715,
          -0.9692172810596781,
          -1.569452780975547,
          -0.567928692085184,
          -2.3810814541262224,
          -0.5722054993031153,
          -1.0478311729037908,
          -2.0991609950798984,
          -1.113491093964973,
          -0.4373617254003652,
          0.9390946438477636,
          -0.6823186559788385,
          -2.07067269915801,
          3.206949001287373,
          4.1133802278786336,
          -2.3922681703821693,
          -1.2563389822154216,
          -2.1466550342670008,
          -1.9946646995794,
          -1.3714645898979045,
          -0.20295934853268768,
          -1.0209346787059355,
          -0.37724210445206147,
          -1.2095912648566052,
          -1.694072519679169,
          -0.5843594815029614,
          -0.7390439751848195,
          0.14188974403451846,
          -1.536420759339434,
          -0.4833427559921318,
          -0.9633159288846889,
          3.9159111484516482,
          3.3075268538099296,
          5.25201657207876,
          0.0761316098202748,
          -2.573145762841658,
          -0.22645053766003018,
          -0.7145521073742196,
          -2.437632123875374,
          -2.6551697725082932,
          2.669430294801137,
          2.0831087896095406,
          -0.6418507358761234,
          -0.7846296590354066,
          3.5427121352683555,
          3.8109929553725657,
          -1.1821281805070891,
          -1.2891575847556545,
          -2.546602200392925,
          -0.9341777838630768,
          -1.9410787138065955,
          5.831099622925607,
          -0.6479260224513128,
          3.7503934277738473,
          2.500095441122143,
          2.3887998124876493,
          -1.5173403128264973,
          0.048350124287450925,
          -1.6175218688921809,
          -3.2537763994721716,
          -2.3542167751996144,
          1.4405744160867433,
          1.8167065607248991,
          -0.4708488938687832,
          -2.0844136286726114,
          -0.811577575311284,
          -1.1058937290312605,
          -0.995361620143665,
          -1.3617884403592766,
          0.2912385576668692,
          -0.5140406265893824,
          0.14479346616317698,
          -2.0984983429087465,
          -2.0866451508672346,
          0.20292240469136474,
          -0.33966809104289747,
          2.204642300048811,
          1.2555733451946185,
          0.4580885671605113,
          -0.7031758471008995,
          -3.0679531945891108,
          0.0717794937308367,
          -0.5494733458813459,
          -0.5067781061486761,
          -0.7259070164261617,
          -1.111213227499558,
          -2.5571772554563887,
          -1.7308329004682368,
          -0.9113726641169113,
          -0.8302790177577768,
          0.06833815091082977,
          -0.42640256680519434,
          -1.0631165604819792,
          -2.593889017959605,
          -1.8241236509862233,
          -0.4432081774477936,
          1.980868631121055,
          2.738840011662912,
          2.606653206209186,
          2.4830664528720665,
          0.06663763253416875,
          2.7938436781922205,
          0.9659575478914176,
          1.670165020546146,
          3.0431133917567905,
          -2.4957994481730323,
          0.9719540892477652,
          -0.11006538429066998,
          -1.170607583465221,
          -1.3576124440906412,
          -0.42664519025616104,
          -1.635258124295444,
          -1.387690782282753,
          -1.6057599667056401,
          -2.100073513236663,
          -1.6125140845009174,
          -2.5837766821770245,
          -0.9932487724887531,
          0.22754691505544777,
          0.42344594110770434,
          3.435208747153123,
          4.913200861751101,
          1.6122504491077732,
          1.109918605752387,
          -0.11756495689281869,
          4.00929776946723,
          -1.7833592110446426,
          2.0864040654451927,
          1.643300093658382,
          -0.7468858371726489,
          3.007519734274504,
          -3.050116495603651,
          -0.7383143779758762,
          -2.677476363693717,
          3.3145114485154434,
          -0.025437000329996535,
          -2.306574883194742,
          3.270328038827416,
          -1.6747338802964553,
          -1.6050527055377797,
          2.2846405301239785,
          -0.20863604080671572,
          -0.6182739530676288,
          -0.7278209822627382,
          -1.0197382609624306,
          -2.1230395672422904,
          -0.8136554228876712,
          -1.046597748347117,
          -1.278006319642664,
          -2.052770333706219,
          2.023477834571876,
          1.0417944979724238,
          2.6558570707159177,
          3.340894914251562,
          3.3520217217555306,
          3.1332758633821043,
          4.099488351659073,
          1.2504558513408721,
          -1.5036040672652091,
          -2.6730511556494227,
          4.300425705439551,
          -1.244381976077834,
          -1.929554883075174,
          -0.7797128430358348,
          -0.8259308963431162,
          -1.9044149516173512,
          3.009221124712947,
          3.074555314260578,
          2.931875769653232,
          -1.9859031383226924,
          -3.0401682715286094,
          -2.065876464121455,
          -1.9028110705806123,
          -2.0978598420887407,
          4.50985300942922,
          3.9855409398612283,
          4.30436979904739,
          5.028165528072221,
          3.8669286819273565,
          3.8778791128185888,
          2.7283483052143995,
          1.3421088434871922,
          0.5589778222907226,
          -0.11315075493757044,
          -3.3489997719150213,
          -0.1423871067949399,
          -0.1423871067949399,
          0.5255053214808845,
          2.1973492357874638,
          -1.8825404423102579,
          -1.1198197354932067,
          1.9729566589482936,
          -2.184753230151167,
          -1.8424708580956581,
          -2.3371506702089277,
          -2.093068119947466,
          -1.5617196773375506,
          1.9402766710544326,
          -1.3675119531219964,
          4.509863566822184,
          4.35582062254747,
          5.075308584400108,
          5.569367846556784,
          0.10360128289377916,
          2.442100196793534,
          2.082661350175574,
          2.082661350175574,
          0.10360128289377916,
          0.21469443338020808,
          -1.7697194374694138,
          -1.9701178807844582,
          4.204114220510522,
          0.6371587642408751,
          2.2950107076585953,
          0.7799014426639032,
          0.9920541547266704,
          -0.5403773659371106,
          0.8745394349133857,
          0.8731501039607722,
          0.6579244534923857,
          -0.6771485721056252,
          -2.2762189689449706,
          0.6462319349460667,
          1.3435818621589641,
          4.758512621618037,
          2.6090360526171366,
          -1.5929553789688218,
          -1.6054326247132678,
          3.9575392849542257,
          -1.2129970557261063,
          1.7745124133835593,
          2.12834672145144,
          -2.2751608649709594,
          0.24840505671393057,
          -0.319407964313375,
          0.7494488900509191,
          0.12211934891001745,
          1.9064988022354064,
          -1.524283941508788,
          0.005141742465048024,
          -0.34091335976361836,
          -0.8565185492159291,
          -1.2231905631269695,
          0.1200614318098889,
          -0.8654484445145294,
          -2.3775226171847934,
          -1.7869557196154282,
          0.6360245174743796,
          -0.7084540012828479,
          -0.13305432203894005,
          -1.3464410314482347,
          -0.5057933888781918,
          -2.1637675986040166,
          -2.5592758024009123,
          0.024760366268639325,
          -0.3582213856763802,
          -0.8110914066657434,
          -1.0707795978869652,
          1.2247953002644654,
          -0.45524595688344,
          -1.1077085154036472,
          -1.325308142709364,
          -0.2645500973583073,
          -0.06818187459951404,
          -1.5363227331933542,
          5.157451660496345,
          -0.040305794275502196,
          -0.3189489880964149,
          -2.264998033921121,
          -1.151354823590339,
          -0.6914650959581745,
          -0.06235205096866354,
          1.7539546530198777,
          0.6728544025749249,
          -0.08173782539580095,
          -2.694113295497036,
          -0.7123515436750293,
          1.5643448927971055,
          -0.5474569642404209,
          -0.13868173599845945,
          0.45377165633183364,
          0.3653573957924964,
          -1.2117197924570247,
          1.058973715927536,
          -1.3772231964720325,
          -1.6900261300642982,
          2.8996565622933903,
          -0.20250241171915945,
          3.224699422566565,
          -0.103177881971743,
          1.270054511415445,
          1.161887944464186,
          0.8041235874521104,
          -1.5668577120175295,
          2.7367749908902184,
          -0.1422883567818797,
          -0.991540683502934,
          0.16761349633715142,
          -0.28012678253267764,
          1.7123281060356972,
          -1.3675119531219964,
          1.2553184745811135,
          1.7914651530130798,
          2.7768506366886454,
          5.492240520888401,
          3.773687133291697,
          -1.7959019522300814,
          -0.9067593127155468,
          -0.8728277692730597,
          -0.06844683032379255,
          0.16638688279433042,
          -0.9934708601476064,
          -0.40273349920776413,
          3.07010671968291,
          4.071127452914015,
          2.691603234418455,
          3.146598524794172,
          -0.2899081725356508,
          5.39721523501467,
          5.1902205950833125,
          -0.2734489469029754,
          -1.7262256941826786,
          -1.027415743559798,
          -1.027415743559798,
          -1.3648012234578755,
          3.8067851659167204,
          0.9742419360749108,
          3.105106668939568,
          -1.027415743559798,
          3.103134618554255,
          0.320872346114081,
          3.7821354004181966,
          3.2842785398221284,
          0.4362157863693182,
          -1.0821057239737115,
          1.4078021658143585,
          0.7428055425103656,
          3.9500426016917554,
          3.3725440293668583,
          3.273824130416347,
          2.813961039474709,
          0.6683592621828975,
          2.9897655099114773,
          2.2907565555808826,
          -2.6772120273930473,
          -2.262348012581262,
          -2.4784287201728663,
          4.796290216063437,
          -0.7926722802873496,
          -1.263572057135035,
          -2.929771942270411,
          -1.7365703034929576,
          -1.9317214637882207,
          -1.7163113200405715,
          -2.34949775350059,
          -1.9097511224252688,
          -1.9768269376057166,
          -1.2312951675876191,
          -1.8399119488111835,
          -0.7383481549314704,
          -0.6716670168360214,
          -0.6532552074403583,
          -2.526585885421427,
          -1.428009030846805,
          -1.0784644471028324,
          -0.04856888237117283,
          -1.4327964454312736,
          2.805322164906955,
          4.7411040652997025,
          5.233501026295235,
          4.778223623541233,
          0.3680693356559713,
          3.0884394216557585,
          -2.8844562055662073,
          -1.186510531328398,
          1.0346996730614424,
          -0.7312015920218314,
          -1.9967836552608162,
          -2.3727986095859843,
          -0.5064340751725468,
          3.0884394216557585,
          1.5368383178039604,
          -3.6767591367611816,
          1.2045538056996299,
          2.044597660913559,
          -0.33084061013318156,
          -1.9263349439023765,
          -2.3430958826283432,
          -0.6639242939398372,
          -0.43662675326289235,
          -1.5615878335963114,
          -2.4685286579558907,
          -1.7286203017310071,
          -0.9357829314779971,
          -0.1444585656984625,
          -2.1088174949324725,
          -1.2312951675876191,
          -1.1127650966608054,
          -1.1914138093443145,
          0.8860000775223011,
          3.821665503218427,
          1.2230008640352557,
          0.23539817387169765,
          -1.0858843317396747,
          2.3471822632152803,
          2.351922455500485,
          1.2374250194888023,
          -1.6842189872067546,
          2.493680137573452,
          0.0646607722310307,
          2.500337650293311,
          -0.2618127503215462,
          0.92042469047944,
          2.6596903747855563,
          2.3853102939682027,
          2.247209976964599,
          0.42333056975488104,
          1.2604622925552469,
          2.5295537546732496,
          2.321936402650373,
          -1.433464780719777,
          3.086036851476037,
          2.1819625448739774,
          0.38814717698092216,
          2.659770446298951,
          0.6749981554042227,
          1.9010766456186297,
          -1.7202080169133664,
          0.04651436977502549,
          1.9915378286802632,
          2.5919414629284585,
          1.6297530960034794,
          1.8725926747816264,
          2.15486159576996,
          0.4128422499088893,
          2.129058567479092,
          1.723979439741907,
          -0.22683496534329292,
          3.9949192513702725,
          -2.4024882046990244,
          0.4218636795863917,
          -3.3285037309064083,
          -1.246715069114281,
          -0.5067587925208723,
          1.5484156390332482,
          -1.7298388958179063,
          0.7720294458425606,
          -0.6675694611807237,
          -0.7621557510136608,
          -2.432242129238535,
          -2.419137357398874,
          -3.05039821133422,
          -1.8246659860803591,
          2.7728428056995993,
          1.9579733279014016,
          -2.081387687740834,
          2.4320348459574843,
          -2.7398818436549726,
          2.082916671910424,
          -1.1023088559859817,
          -1.970793194063205,
          -0.19487404875234618,
          0.12140993550429763,
          -0.08681707018005003,
          -1.9671564691526229,
          0.10834154123579542,
          -3.5490147192659833,
          2.1475412420884945,
          -3.144486060270922,
          -1.2039282253540704,
          1.9126701326685214,
          2.117230759019222,
          -1.2022557075561733,
          -2.0900801788716348,
          0.1626609327863319,
          -1.9853397626748,
          3.5988767333211586,
          -0.7688367687755961,
          -0.4373617254003652,
          1.8678537101338468,
          0.9701615486872612,
          -2.0175532268539,
          3.06113163774621,
          3.3190322815621025,
          3.4850690179261763,
          -0.3434737257690861,
          2.747409062637031,
          4.391621010204146,
          5.863889157053335,
          -1.1092493855582806,
          -1.9487032701875229,
          -1.1339147909620708,
          -1.3367874250863563,
          -2.4408904504138396,
          3.8080316545668507,
          2.3638891765154013,
          0.3949032048778578,
          -1.3717029358764707,
          -1.0695290774665795,
          2.386228150833057,
          -2.1385988827709714,
          0.9767828957383952,
          0.6015852011387105,
          -0.3280790091133591,
          4.0170794889312855,
          -1.9596533027724696,
          -1.9204124981638835,
          -1.884278494214471,
          4.954530754654003,
          -1.4655971926487168,
          -0.29743686983178624,
          2.5227272578222664,
          -2.7341511504350167,
          -2.1896932276155603,
          -2.6627497562937954,
          -0.5362567065188342,
          -0.8731095508137566,
          -1.5117643801187575,
          -1.7228432870153492,
          -2.8819226330234198,
          2.273474755840995,
          -2.3492990161995513,
          -1.2312824580934147,
          -2.104016627618678,
          0.07982359785314261,
          -2.0766788004555177,
          -1.2962488613907752,
          -1.7798633409625553,
          -1.587419063660728,
          2.7133067132264563,
          2.7872630466334845,
          0.34925299500090384,
          0.6912178633250702,
          -1.2145601290466368,
          -1.6070771461696667,
          -1.8471697499807667,
          2.2748264846050827,
          -0.09026694576691384,
          3.499971475835004,
          -0.24734257591526163,
          -0.5745312883840282,
          -0.45483217495962586,
          0.0816238006914332,
          -0.4709739651300013,
          2.74957323281955,
          -1.8333576237374545,
          -0.15078613059942977,
          1.0961357506926346,
          -1.2443184154741556,
          0.8467595594975867,
          1.5380910306095494,
          0.20293419143045036,
          1.4646065289937684,
          0.938025135011401,
          1.0375678996459943,
          -1.9390861321603776,
          0.4259193641765211,
          -0.35546138543824357,
          -0.5311605361761278,
          1.265913739258026,
          1.8958316113069287,
          0.6223476995842192,
          -1.657344184945317,
          2.9375332844399313,
          0.9373920070877055,
          3.4772373558149545,
          -0.1712008450747108,
          -1.0327561030663188,
          3.1594512965559782,
          2.442100196793534,
          -2.5407264144513886,
          0.25752834155592,
          -0.6763833114104238,
          -1.1728754212113122,
          0.1566494610874033,
          -0.8926241360866085,
          0.5466054835976277,
          3.4400010016233766,
          0.026296926996135825,
          0.008371967280120431,
          -2.0703142671400747,
          -1.4420630596554003,
          0.6367300035005251,
          0.1906901112314237,
          -0.13967137232268578,
          -1.205718721073438,
          0.051811737407207896,
          0.11771021689400632,
          2.380869439729606,
          -2.5718291802406275,
          2.7940893591578857,
          2.467395775689417,
          -0.0869510618775218,
          -0.7646311548029379,
          -2.717797567901067,
          0.6880818958275595,
          -1.8261905840710686,
          0.09514538194252344,
          -1.5001462280258457,
          0.7801590244381956,
          5.498197229122419,
          1.1140699504836704,
          -0.26192630827884134,
          4.182534706383378,
          0.5551745456991867,
          -2.6052847662998206,
          -2.006767138325493,
          -1.5221090697281399,
          -0.5303369061081353,
          -0.8811669994534017,
          -0.9991976479211532,
          -1.0433913411887652,
          -1.5810282036367131,
          -0.6544954274853891,
          -1.3634947087941924,
          -0.8885696136122617,
          -1.0962498287524671,
          -1.578621461513294,
          -1.9519082360600988,
          -1.1025180654984457,
          -2.2803978011543875,
          -0.030659150664423526,
          0.8613176909363942,
          -2.63502851724614,
          -1.2003485467453439,
          -0.04728376029206591,
          0.6569841926042892,
          -1.717891263882496,
          -2.1294878559039128,
          -0.5396846807661574,
          2.2565346473346044,
          -0.6301850787355322,
          0.18327839717657632,
          -0.7177879985186503,
          -1.1196665558258805,
          -0.9007969639788891,
          -0.46461642036970424,
          4.766608204549968,
          -2.526488121061019,
          -0.9168961456184553,
          -1.6859213177458576,
          -1.892039917744769,
          -1.9423667266203541,
          -0.05204839117597313,
          -1.7428457130145671,
          -1.418231301507293,
          -2.267378977946759,
          -2.21346801627909,
          -1.1090346073706663,
          -1.4342666728228834,
          -1.7004389336574635,
          0.9252776449508565,
          4.651741711133546,
          3.959105894991673,
          0.778497021864831,
          2.117230759019222,
          -0.6208967069118202,
          -0.8041937393284856,
          1.292045224587101,
          -1.9460753564242677,
          -0.23971070518057497,
          3.17156271170849,
          -0.15472931936027182,
          1.1989955256436855,
          -1.369488628014479,
          0.8386999894099989,
          -0.35900790834070045,
          4.071313282067919,
          -0.8854232579804632,
          -0.7064241672860182,
          -1.5643406372597866,
          -1.2105679616905414,
          -2.1629614028702497,
          -1.8610227498877727,
          -0.5211481961466665,
          3.1432858472874265,
          -1.0453469479812154,
          -0.8533955962527351,
          -1.3200847319694746,
          -0.029046297030881622,
          -0.43436901501610176,
          -0.7197949966153501,
          -0.7680834048631688,
          -1.7304155076411933,
          -0.40766833716554757,
          -0.808650624109182,
          -0.6570117292797418,
          -1.5486664500885474,
          -0.5403408692399443,
          3.3946801512655727,
          2.5245991669952774,
          -1.5038745697293712,
          3.7905757440500447,
          -1.1024458742632037,
          -1.8877361807190918,
          -1.964253581893709,
          -1.111054590112568,
          -1.6612840836349636,
          -2.2806938917080704,
          -1.4514883339707236,
          3.346198024104559,
          -1.5548478748436698,
          -2.3210558462993163,
          2.462791678712909,
          -2.564599608277517,
          1.726673646104117,
          0.20378249389190137,
          0.20378249389190137,
          -0.04828566224523444,
          -1.3853004893504455,
          3.000905884180115,
          -2.319124507869937,
          0.06780560130119506,
          0.22754691505544777,
          -0.5390144229002699,
          3.210030519780354,
          1.3339516358038348,
          -0.24084626939132103,
          2.206429582390806,
          1.2749435833227822,
          -2.487580163644605,
          -0.5632132781035079,
          0.3261201104568248,
          -2.0033692873653672,
          4.341464010603978,
          -1.4709939234595732,
          -1.5617196773375506,
          -2.165283745120974,
          -0.04679520454620686,
          -2.1320621858361823,
          -0.4667885011831566,
          5.5467334525335374,
          2.6617937994451166,
          -1.8496751175155388,
          -0.4203197988587585,
          -0.8699486251795605,
          -0.9517152367377134,
          -0.475002824089467,
          1.0310208125552427,
          -1.1011358558128101,
          1.0223780712974868,
          1.7759618016111036,
          0.9932577617508618,
          -1.540220073583753,
          -0.31084754004688403,
          -1.166312193082459,
          -1.9765475259594865,
          1.8672808603554831,
          0.564614715283075,
          0.638869362251126,
          -1.7267253414547203,
          -0.3792567798395774,
          -0.29228570413794824,
          -0.6177912374633541,
          -0.9676562908425163,
          -1.5501808224851323,
          4.50985300942922,
          1.1414265420455758,
          2.2677620563648997,
          0.6631227686591814,
          -0.30624767564962097,
          -1.5620259375229424,
          -0.6975201296780617,
          0.17233537386576941,
          -2.1974968997872666,
          -0.9746828714229802,
          -0.20906429910617896,
          0.9130994900315984,
          2.9297049392397736,
          -0.8696157348958738,
          4.0422789156785734,
          -2.2678035327287382,
          3.7048661177753406,
          2.5507289521400485,
          -1.6149519695207823,
          -0.8643241889788845,
          -0.5828096186343006,
          2.5061293617990406,
          -0.6471481879695552,
          -0.7238288908481639,
          -1.1601696030132647,
          3.057059591078649,
          1.45388526372551,
          2.1270367504742733,
          0.8157889576916456,
          -0.5459142330752667,
          -1.7227698518544745,
          -0.1992802983268259,
          -1.2026643616571366,
          -1.1585706851542386,
          -0.44002807593433313,
          -0.357910669024486,
          1.9011653285595123,
          4.16633624608224,
          0.6880818958275595,
          -2.2404247847353447,
          -1.126183051834928,
          1.6727962204708389,
          1.6727962204708389,
          -0.34544656904065185,
          -1.260893053200643,
          -0.6823921341245289,
          -1.2484921999831728,
          -1.6257094777885173,
          3.2139136259016388,
          3.2742298855513523,
          -0.21899439667953066,
          -2.0813075666682126,
          -1.2051222933339594,
          0.5286654643005194,
          -0.677174286030029,
          -1.0855075268884955,
          4.094606924051809,
          -1.184613862936566,
          -1.3273914247240939,
          -0.7613505068817038,
          -1.2400836377702966,
          -1.9303382095251025,
          -0.2970104603476666,
          1.0059114344068152,
          -1.1051279639534224,
          -2.554113486065019,
          1.2419304310507202,
          -2.6433356847697818,
          -1.1554153870333335,
          -1.3713238862700516,
          1.7591839429071527,
          -1.3482033740059824,
          -0.8361163834958951,
          -1.2676581333698675,
          0.5776718091363756,
          0.31910720966357214,
          -2.6190624677961423,
          4.834926666314467,
          -2.440960138400379,
          -1.9611763264283688,
          -2.1056773219661933,
          -2.3307339480116966,
          -2.1833860763265873,
          -0.8317148534343743,
          0.09241786006661078,
          -1.4388934301028202,
          1.1066283691496184,
          -1.1719249520900588,
          -0.5735439605475794,
          -0.4767566709529335,
          -0.5536480053440109,
          -0.4376168575970507,
          5.353044291215221,
          4.340847465168981,
          0.8972134987191517,
          -1.9361435343276583,
          4.15283177990722,
          -0.018614529922289666,
          3.9935167461690755,
          2.4789085692216655,
          -0.5185998305955623,
          -2.0996663784113,
          -2.0222497774886556,
          -1.1329034026103888,
          -2.0692168547748024,
          -0.15679608588552785,
          -1.0776384571782207,
          0.29353108565132713,
          -1.33347556022243,
          -2.46593483616263,
          -1.2776693822822753,
          -0.856622744736421,
          0.5276566235634275,
          2.92329340728221,
          5.15128689153492,
          2.8246333716132828,
          -0.32177419637142685,
          4.518516371275077,
          -2.5692620482449544,
          -0.9912082351127397,
          3.3661296224852624,
          0.130431833472121,
          -1.0750540446876147,
          -1.325127012116807,
          -1.8787244061523038,
          -0.8136741877986837,
          -0.42890639175619766,
          -0.014650444935257195,
          0.2417164869399674,
          -1.0834035473373949,
          -0.27880062357102037,
          -0.22377919429552512,
          -1.5082523562564971,
          -0.9022535914787853,
          5.330759264908589,
          -1.8669783148883023,
          -0.11051428400829741,
          -0.4855116773712646,
          -1.3142909530577338,
          -0.8197432568241801,
          -1.515466582269956,
          -1.7199279585358767,
          2.275868291919791,
          0.27498073714734583,
          0.4592016509472514,
          -0.5349124857331122,
          -0.1255552301056396,
          0.3970455639796672,
          -2.1016024948781133,
          2.586386560840739,
          1.0953974013949923,
          -0.5267936441506087,
          -0.9534675082716103,
          -1.6283383552924764,
          -1.5094821374038747,
          -2.395250893896247,
          -0.8936420579556339,
          3.41993874230235,
          0.30733773159533284,
          -3.1925443915159155,
          0.10564487605730873,
          -1.4083609514052253,
          -3.1925443915159155,
          -0.4810479625486413,
          0.18353940855640877,
          -1.843435004220205,
          -1.1715554023631796,
          -1.270011122006013,
          -1.1808693317020282,
          3.5241156760513186,
          -2.4535457688344424,
          -0.29425853223360404,
          -1.3265399330770848,
          -1.4307626344533668,
          -0.18589274790458504,
          -2.588455479682627,
          -0.2590456799024166,
          -1.8702895124676382,
          -1.912854630376365,
          -2.2832800672956868,
          -0.3923544598433639,
          -2.1140179937171446,
          0.2852399667819974,
          0.9404420770223243,
          3.37368984261472,
          -0.6203353839769626,
          -0.7125420200605229,
          -0.9649132405069581,
          -0.8494100641624757,
          3.3334124795590037,
          2.9666998930374295,
          -0.531332201917839,
          2.20092277710544,
          3.116697098867892,
          0.16355750379591363,
          1.8621971418394843,
          4.077628241528354,
          4.068203351744672,
          0.791135634646904,
          2.5770085125763926,
          0.06663763253416875,
          -0.24710629359066957,
          -1.590841120854323,
          3.2370672908772695,
          3.582644682151626,
          -0.20541496197269035,
          1.3664160523469127,
          4.746991800949232,
          -2.573927325255349,
          -1.272003728839482,
          -1.6368745541779208,
          -2.2059177447137426,
          -1.8408047053980505,
          2.753494849455442,
          -1.5736442854266917,
          -0.40260566000850956,
          0.26914462309380893,
          2.3555938011382977,
          4.95462338020246,
          -0.6375066749720918,
          -1.5422856016897903,
          0.8237166231075623,
          -1.2480105117076432,
          -3.2846766673359844,
          -0.8334314995437294,
          1.3791125416167467,
          -2.4176435323360557,
          1.228605613200356,
          0.778497021864831,
          -0.04066232453976425,
          -2.0671332914619205,
          -3.3679007281023687,
          3.253911231485899,
          0.7430715964452463,
          -1.3035303071049535,
          -1.9144895389438938,
          -1.7356609930039888,
          2.0227850546682045,
          -0.9160322219156759,
          -2.434172763821399,
          -0.39291399731195237,
          1.4582754297300913,
          -1.761612766760822,
          -2.649797373887631,
          -1.5136662631651885,
          1.6228779970543812,
          -1.1971346322795342,
          -2.261193571923329,
          -0.6587008893525023,
          -1.9281091628923621,
          -1.7042438198432874,
          -1.3546325373863248,
          1.495837923536936,
          2.9418133927944137,
          0.017679269915690896,
          -0.6183884307498142,
          3.0041822306074564,
          1.184530367713211,
          -2.114119099744555,
          -1.1493042948778913,
          -1.3362459630262995,
          0.18071467950844022,
          1.1166634538087166,
          -0.5267293798064687,
          -0.2504863662091015,
          0.10059630527987366,
          -0.8878016929492598,
          -1.2896808157967863,
          -1.670480357966637,
          -1.2314287255636294,
          -1.8064332691466112,
          -1.7220207953296216,
          -1.2077807225905723,
          2.3377484343466035,
          2.9387032027042777,
          -1.4478591411551762,
          3.3789806948693246,
          5.2119706095670795,
          4.025425839571835,
          2.1375618301425447,
          4.804793253910206,
          0.8137547608350523,
          -1.8674980483401478,
          0.7833863882866989,
          -1.4478591411551762,
          -1.867351776776214,
          1.1853846457735147,
          -2.008960025249865,
          -1.4637282903177518,
          4.016259301478574,
          -1.4126406985530517,
          -1.5641861365768146,
          -2.0287087527595697,
          -0.08375512196264813,
          -2.079158436050214,
          -1.4826218024684608,
          -2.1498597300876305,
          -1.7423908013683238,
          -1.3301480884921524,
          0.9888240435297763,
          -2.0794187373198714,
          -2.672845706099522,
          -0.25691555018537404,
          -1.908767439448375,
          -1.5421377113259065,
          -0.4286187587630689,
          -1.48175438920095,
          -2.0750307043376095,
          -1.7250111062690971,
          -1.3514382407554149,
          -1.6630324620510364,
          -0.06417722569870665,
          -0.912525449123375,
          -1.577851472179254,
          0.40969417230435756,
          -1.4561998531167233,
          -1.450537123292797,
          3.0886249400312074,
          -0.3315859269692951,
          1.9822233979376749,
          -1.9384000688095169,
          -0.2883212080007166,
          -0.30355936005340156,
          -0.7758225057063237,
          -0.46688701534420957,
          4.199721112241608,
          -1.2691638406318655,
          -1.773619008389717,
          0.25900018612399517,
          -1.328062151063242,
          -0.770178022493854,
          0.9195893470143703,
          3.959317206685214,
          -1.4258060072925034,
          -0.6998830423805706,
          -0.6698106136879354,
          2.1934280829811117,
          4.155195416367045,
          -1.769461707800462,
          -1.9640120683566948,
          -1.0047539590309649,
          -1.4712700366624203,
          -0.3413592584630609,
          -1.5291178680638091,
          -0.29063346545031665,
          4.571295924607626,
          -1.0306928443563548,
          1.2521063227487326,
          -0.19391619083625594,
          -0.007414977722771907,
          -0.3340976235656496,
          -1.3952102975032417,
          -0.6867037072377311,
          -0.7050421679932283,
          -0.1577297764086865,
          -0.49411598656646716,
          -1.1158500510077882,
          -1.1897868485259449,
          0.1663664271983124,
          0.3566709331262325,
          0.33688097882734147,
          -0.28627592195747087,
          -0.35331208408406456,
          -0.187821399613275,
          0.032983238248997994,
          0.024585241317782062,
          -0.17746612875531978,
          -0.9205636195853257,
          1.8799657461052526,
          0.3367065329470432,
          -0.3377938694910976,
          0.16164105563785944,
          0.6754350112300267,
          2.053969673840854,
          -0.2596629008316652,
          -1.1318514033502034,
          -0.32697052619074884,
          -0.8659271981922804,
          -0.3402701885064727,
          -0.23560957835498142,
          0.7099014979644538,
          -0.23277375121729746,
          -1.5243520139097209,
          -1.2658276589030257,
          -0.8075836335521854,
          -0.7921141663375696,
          -1.87472735023609,
          2.2641386180152514,
          -2.8629031021505917,
          -1.2690790107567078,
          -1.2009755744052872,
          -1.2546369546222575,
          -1.0799678386231915,
          -1.3628604012200405,
          -2.215404639308863,
          -1.8496751175155388,
          -2.1178299751074547,
          1.9514459090367713,
          2.749371417040434,
          3.354777341966694,
          0.026116848808247876,
          -0.6370554870922949,
          -2.1877344758660247,
          -1.170807504331096,
          -1.2487479886747965,
          -0.6973864735354167,
          1.2553184745811135,
          -1.4241724457346454,
          -2.2856271743163212,
          3.1315930953301128,
          3.9680135627575748,
          2.0654590705053932,
          1.414564850550548,
          -0.054135338258353864,
          -2.086287231640972,
          -2.1980800106758833,
          -2.0077086423450687,
          -2.129575203476019,
          -0.669625770919868,
          -2.303877763228077,
          -2.0243377482485254,
          -2.1513515741288765,
          -1.5564847459710685,
          -2.3522560432217143,
          2.944548840173179,
          -1.6218976209214793,
          -2.0520136182661304,
          -0.4561865921189547,
          -1.2011308745754352,
          -0.9985682852689503,
          1.9529443572837273,
          0.9223616575199334,
          -1.6644097626178296,
          1.8337864807898858,
          1.312034606079411,
          -0.8009658113424613,
          -2.000723316069778,
          -1.5384060913183393,
          -2.1983944033241576,
          -2.021433521434143,
          -1.7389585595477188,
          -2.371754051892923,
          -2.317325842856424,
          -1.1610086726082305,
          -2.3364652092569895,
          -4.216440648857408,
          -2.0537202175857923,
          0.2354634841888723,
          3.9880277702478257,
          -1.9526380113245605,
          -0.5984273678551824,
          -1.494441903531464,
          -0.17591235060081212,
          -2.688429779684382,
          -0.2024893259620079,
          -2.388777469578872,
          -0.26501274725512775,
          -1.4646795402197128,
          -2.5778910867273566,
          -0.9758094621538193,
          -2.7102456565266766,
          -0.7536652265430209,
          -0.9680411485167243,
          -0.7278209822627382,
          -1.8289128971474153,
          -1.3633688909240884,
          -0.9010487319303744,
          -0.9932487724887531,
          -0.16003862775675962,
          -0.6808021394685518,
          -1.6897899883839809,
          -1.6630324620510364,
          -0.5813933503880904,
          -1.033911135257225,
          -0.5366457672290529,
          -0.6255949858741414,
          -1.5944955027478607,
          -0.9046246257797886,
          0.6037190664905585,
          -1.1887060342904299,
          -0.8160188861272202,
          -0.49310058559546394,
          -0.8023590505938502,
          -0.7524001311663623,
          0.16543109687919286,
          4.716275498674081,
          -0.9638730800366463,
          3.253911231485899,
          -2.8147792687307405,
          1.9167366872922065,
          0.7322740281104692,
          -0.5935055828092498,
          -1.6127468234117412,
          -0.6044372609969716,
          0.20673430313142183,
          2.462640031473036,
          0.36464039395237147,
          -0.17075423062395917,
          1.2801002171454605,
          -1.4690530089741582,
          0.06898740921848183,
          1.2202475686517062,
          4.755152508849065,
          5.523760136241162,
          -1.6216017362431747,
          -1.7718601842482444,
          1.499123434056378,
          0.0605391657202262,
          0.7543074894318169,
          -1.2593018051433433,
          -1.2593018051433433,
          4.1830727368101845,
          5.071287120533924,
          -1.1491407730995005,
          -0.7812582135062336,
          0.2365724992068013,
          -0.0817807988746799,
          4.515331325613391,
          0.41642198335337616,
          0.35675316138548413,
          -2.063429942968143,
          5.290459663522408,
          2.8364929210734005,
          -1.8075329629140537,
          -0.7941747948652781,
          -1.3501677527013765,
          -1.2266045637318197,
          -1.2538717691737649,
          -2.383552288345789,
          -1.9236525746482767,
          -1.7781494828235438,
          -1.0152980045560072,
          -1.2607612465423401,
          -1.2387568010407761,
          -0.5469182968044675,
          0.5292529269436202,
          1.746452480428986,
          -1.0979351340287697,
          -1.3194779511333743,
          1.0009652372556213,
          -0.986190650994912,
          -0.7971218332162244,
          -0.8630141269321487,
          -1.757523693113949,
          -0.47054205367199653,
          2.158888864723853,
          3.586436462270603,
          1.0319282400593277,
          -2.1384905489859074,
          -0.5773189390110863,
          -1.5562283752957295,
          -0.04560902127704038,
          2.0928423799149622,
          -0.9870861658252883,
          2.517938836365469,
          0.8489016208029518,
          -2.1178299751074547,
          -0.16877436415381356,
          2.3353937305929797,
          -2.5648316581738824,
          -1.3095516220849508,
          -1.4756701481979024,
          -1.4743623821090066,
          -1.3235207813768954,
          -2.9442926280051145,
          -1.3854925559155307,
          -2.2417269226364946,
          -0.7228175110378904,
          -1.3314116186226552,
          -1.5540833991938807,
          -0.008031128283612441,
          4.574877384619399,
          -0.5344901435617381,
          0.3068517612524361,
          1.1251097834487096,
          -0.8597675148369813,
          -0.2692669767128198,
          -0.6364357953122697,
          -1.3074597635808345,
          3.475462755736186,
          3.7919713336645673,
          2.5623782344651156,
          0.5044064111755712,
          -0.49205004337793246,
          -0.6405011426257863,
          -1.0414998707270824,
          -0.5186423725003505,
          -0.9417393642029136,
          0.47587453617280173,
          -0.2182831110050995,
          -0.3224013952565659,
          3.842774022549863,
          -1.9383033249122275,
          -0.2066932613819636,
          0.03238250444008963,
          -0.45580971418280514,
          0.23724121596721276,
          7.020026490703873,
          3.297365543050305,
          -1.6764942265602039,
          -2.1753330864271168,
          -2.2642064241579862,
          -0.9946024570000018,
          -2.4798408455436878,
          -2.142411557177931,
          -1.732331003783908,
          -1.6643820533227947,
          0.42380896243676286,
          1.7883516574273253,
          -0.3711142525166207,
          1.8190554759065203,
          -1.1360039527055878,
          -0.9509004112841123,
          -2.18147680549736,
          -1.4218435738074426,
          0.7655279839226382,
          -1.0621383639106856,
          3.631768169646456,
          0.12102713291570591,
          -2.096004892584884,
          -0.3340976235656496,
          -1.39925686724177,
          0.8890884657486103,
          -0.10120244614040137,
          0.3399844683212065,
          0.20910958968228804,
          -0.3819755109197272,
          -0.44784898248653493,
          -2.3840972421311677,
          -1.4692285352133574,
          -1.879860974021268,
          0.5918484253836418,
          -0.5988693372111856,
          -1.9730172370649954,
          -0.24386034685343935,
          0.8549502352851801,
          -1.03974032101431,
          -1.1837785629852098,
          -1.3675119531219964,
          0.682334688220152,
          -0.4588070956750676,
          -0.28959571937566314,
          -1.2702073337571154,
          1.6616955918729526,
          0.023736094816687425,
          2.618413761485037,
          5.135852561270047,
          2.6634928655843826,
          -1.4925810365910126,
          2.857121881339828,
          -1.130799289101215,
          2.3974232044607113,
          -1.5891263543568497,
          -2.5748025621799293,
          -2.7018351094666038,
          0.3166505386124605,
          -2.1566855252551753,
          -2.879612818445093,
          -1.251367892766566,
          -2.1750535010491907,
          0.01272783442902752,
          -0.040831273109499,
          -1.4409948794670997,
          -0.23061006939874976,
          -1.4536272607500555,
          0.41160549100332433,
          -2.2100761879683484,
          -0.9413341569385637,
          -0.9980142045187061,
          -0.421286134765401,
          -1.085521084018412,
          -2.251020790388493,
          -1.4421897028465056,
          3.9166900580937853,
          1.9377120721789978,
          3.1175191675480005,
          0.8644660460667546,
          3.5280305587055962,
          2.9812175890244625,
          5.113092004347082,
          -1.4312677829546943,
          -2.4701732408171315,
          -0.23561111391865758,
          -1.089546998638744,
          -0.5116117542081223,
          0.020966335637675932,
          -1.9415624983003488,
          0.020966335637675932,
          -1.661176969597278,
          -1.3680490679388342,
          4.064390294388559,
          -1.6265030355175287,
          -2.176059421749369,
          0.35618316584358717,
          -2.039339948357223,
          -0.6359491322723602,
          -0.3189489880964149,
          -2.5565969088289697,
          1.1388105767128023,
          2.7631116707853667,
          -0.13929068567427097,
          2.2919039419636626,
          -2.0625080038623995,
          -1.510763136083079,
          2.082449078986299,
          0.39666876911748095,
          -1.6853463994111917,
          0.6272735641272646,
          -0.4585315498621025,
          0.04687412402114434,
          -2.1479104254577064,
          -0.17085769817775456,
          -0.12173350914347349,
          -0.7796320759364513,
          2.8117612486115804,
          -1.267853698018557,
          -1.3184011637668531,
          4.926574780277296,
          2.6142602055225828,
          1.3396030644224284,
          2.9887187106603155,
          4.028925902837105,
          4.048142981894216,
          -2.0253749091514077,
          0.391268109555254,
          0.8489666025183104,
          -0.24543137680110996,
          0.6462319349460667,
          -0.19178797683764445,
          -0.6774002102641569,
          -0.027234469213054415,
          -0.9457652436103962,
          -0.8610525825063877,
          -0.8549965635845069,
          -0.8032984720105937,
          -0.9803631592287194,
          -0.6867535006807178,
          -1.4151455542104239,
          0.4946629112222336,
          0.6770695469374542,
          4.304578340644659,
          -2.007455377561417,
          -2.9048363645941944,
          -0.4776008129695789,
          0.0020299048072846817,
          0.007385794201669418,
          -1.7424590208386814,
          -1.1162812908453135,
          -2.691921343666416,
          -0.3920699647324621,
          -0.9845005243771714,
          0.30819367500719147,
          0.007385794201669418,
          -1.3373835316351934,
          0.06755467324063784,
          -0.6820672950835859,
          -1.7114616066099355,
          3.0218465615270858,
          3.529076666856213,
          -0.9041763882620217,
          -0.7012212263259959,
          -0.9200284613295219,
          -1.6908176784047266,
          -0.9845005243771714,
          -0.5938366472224528,
          -0.8610525825063877,
          0.5769793998257862,
          -1.6423994324339328,
          0.3330431279938401,
          -0.46858499621752375,
          1.0932792115533858,
          1.9092740718418029,
          -0.9292981422961416,
          -0.8789360699475606,
          -1.4809135780582288,
          1.7543377866133962,
          1.4787974141304712,
          -1.0093765901996348,
          0.11248097265658961,
          4.726191118221279,
          2.7791485370963156,
          -0.5553216299126819,
          -1.6935033176431602,
          -0.37919086156240744,
          2.630686420624005,
          1.6491557552955334,
          -0.5426111002933853,
          -0.8347121279873965,
          0.1983527250203375,
          -1.685619574724301,
          -1.3796783439956082,
          -0.5427431502326284,
          2.491159089157473,
          2.050554716480233,
          -0.8878016929492598,
          1.080959633041002,
          0.6139459759254693,
          3.0000551256215258,
          2.479073336571845,
          -0.05576608810746713,
          0.02756823820797599,
          0.16887108228052852,
          0.8551960182432413,
          -1.8437852830932617,
          -2.0766788004555177,
          -3.271545998149869,
          -1.8454738796147825,
          1.6220388838139321,
          0.8170107306884931,
          1.4948596561126049,
          -0.9970885152966109,
          1.9300775758812367,
          1.4402859585851757,
          -0.6950944562603399,
          -0.8025070026837446,
          -0.06097901107769412,
          -0.5658301437554271,
          -0.4623777407625024,
          0.2096679703020872,
          0.15028717419762222,
          -0.03318905573490344,
          -0.7949057832572953,
          -2.358571605745372,
          -2.130480133250319,
          -1.7149946839927463,
          -1.9171945483953088,
          -2.142123181071003,
          -1.0791961259902858,
          -2.1410691156060064,
          -0.5260188828129718,
          -0.9607744432144516,
          -1.8676896252295192,
          -2.654090119523559,
          -1.2286719221784568,
          -1.0060746066160573,
          -1.4202019981967233,
          0.7257826966030841,
          -0.4421008150269771,
          -1.3763870963475124,
          -0.5474569642404209,
          2.384137132149478,
          4.696867566572533,
          -0.5122915007958744,
          -0.3290023380755829,
          -1.1503468292848193,
          2.572286932043468,
          -0.5482564999639203,
          0.8856542249599066,
          1.5942408144221705,
          5.060172564665441,
          2.19253561977371,
          0.5545184422832128,
          -2.0660623873252497,
          0.3735429641437918,
          0.2549001770708304,
          1.105167880471067,
          0.6931484562421402,
          0.9098290681873573,
          1.0931883585377873,
          0.3382544814892532,
          -1.4382483142896378,
          -2.2735291747912583,
          -1.2839131492211988,
          -0.3237026168461243,
          -1.38721948947993,
          -1.6245330819743231,
          -1.2665762608924882,
          -2.196725053277661,
          -2.716377978634227,
          -2.374588401316973,
          -0.8921872037704418,
          -2.393032446782284,
          -2.822133226926436,
          -2.3978669814488787,
          -1.3199558045906703,
          -2.5359437502540314,
          -3.2875471146221535,
          -1.7209401252134398,
          -1.242031833269207,
          -0.29317172270295444,
          -2.21112360730715,
          0.4492928739612708,
          1.8210409092493598,
          -0.5137182407424087,
          -2.384021437324814,
          -1.9881946518008353,
          -1.9595779778905547,
          -0.42498391904334554,
          0.4586317515878912,
          1.4300582002840672,
          0.3683123732226294,
          1.1414265420455758,
          -1.760200237076257,
          -0.9268220209959483,
          -1.400957972422824,
          -1.5147280765423106,
          -1.1175006761264532,
          2.20794712489242,
          4.452347431636106,
          -2.1076648104233913,
          -0.6177912374633541,
          1.8964561757963052,
          1.9812129240184704,
          2.6820219711343873,
          0.11340922132292053,
          1.2077447994891075,
          -1.4208645431185412,
          -0.20985722698575113,
          -1.8889174898764454,
          -0.6635123353118326,
          -0.11679619029495823,
          5.798143643415633,
          -0.4373617254003652,
          2.6508121120390724,
          -2.265562445145862,
          -1.6033223130058771,
          0.36634943760731675,
          0.08612231059078003,
          -1.679119291011906,
          -2.2125666698910162,
          -2.7478379558880333,
          -3.2202085711038895,
          -0.42006832561480567,
          0.43546825301654624,
          -2.9739661277381972,
          0.4552355713578146,
          -2.2624027751719185,
          -3.200460156301232,
          -2.2452789875984895,
          -1.402117227910418,
          -1.3177426209193994,
          -1.7794328357503706,
          -1.4759025435058388,
          -1.37534589374279,
          -1.2522814683365013,
          -0.7818734262397371,
          -1.801029400091867,
          -2.240044092882812,
          0.476684171986081,
          0.18004811328076759,
          -1.2653254539919352,
          3.5700523309345265,
          4.286580352608402,
          5.378935557261465,
          0.11058960583428257,
          -3.017433907577332,
          2.0300828660158468,
          -0.49527527898061185,
          -1.8204177101553511,
          -1.689206995000818,
          -1.9317871956911754,
          4.95462338020246,
          -0.10859666291811511,
          -1.0509572242373773,
          -1.3143138764994189,
          -2.3597699230595817,
          -0.8743946401058065,
          0.6936263685316402,
          0.8551960182432413,
          3.4724302313994726,
          -1.3859285419550955,
          -1.9343126705582834,
          -2.0570151443851215,
          0.12965577001242876,
          -0.804506147672593,
          -0.6665743499515737,
          -0.8525800520842725,
          -0.8595644391499304,
          -1.9961999946956566,
          -0.5921361219342507,
          -0.8328449956108283,
          -0.21201666168583913,
          0.2437088502033249,
          -1.9485127268664335,
          2.2440598383338495,
          -0.9222872536744329,
          -1.8364440944264422,
          0.9253429680410534,
          -2.987914343954558,
          -2.627701410015318,
          -1.7877863315612144,
          -1.5017400340132583,
          -0.3844194776699924,
          3.6616380967472955,
          -0.6647048382399557,
          -0.9138764588770152,
          4.30259211905393,
          1.2020546650999426,
          0.9285513729748248,
          -1.3859285419550955,
          -1.3859285419550955,
          0.6770695469374542,
          0.8972134987191517,
          -0.5182206747170176,
          -0.11722874206617655,
          2.1638147232088394,
          1.3330907071558302,
          3.5451122381868276,
          1.7454696963737955,
          2.2433908609457753,
          -0.332283635309291,
          2.854928471820897,
          2.1700645262382006,
          2.704295949272885,
          2.690009421864579,
          1.6876682238647676,
          2.3724864827973224,
          -1.6014510259356476,
          2.44019048916554,
          0.8863145292140742,
          2.0327119991128346,
          1.3614733112612432,
          1.813864253148644,
          4.4490556708950395,
          1.9248824400021145,
          1.804018047866427,
          3.2709625483914095,
          -0.8753225542397727,
          -2.243517411958897,
          -2.829216707662889,
          -1.3976511332106516,
          -1.989811058979611,
          -1.2153431536766286,
          -1.57088895676494,
          3.523045115069895,
          -1.5696522684675978,
          3.9712139727981386,
          1.4336319535514597,
          -2.3498528487397423,
          1.9356655851565914,
          -0.44972872638256167,
          -1.98315979679779,
          -1.9598939619034337,
          1.6618335603271013,
          3.2143424511429957,
          1.2027342452038885,
          -1.1650569880575479,
          -0.42482693322380943,
          2.5349998116771113,
          -1.3221981371891411,
          3.715149133914415,
          -1.6084771299580247,
          -1.6875503430780379,
          -1.3777331326777074,
          0.23126861014929936,
          -2.6176282844924756,
          -2.0292039419064323,
          -1.9393873951255842,
          -1.903017303792124,
          0.753181420186238,
          -2.115460863407407,
          -0.0925336577836788,
          -1.8992294361608624,
          1.1414265420455758,
          0.511335441429738,
          5.682458894034971,
          3.6327433875105934,
          4.927034490317669,
          1.8932402311750374,
          -0.5814813371609275,
          -0.6381580698125466,
          0.47494094688874017,
          -0.11995493871070727,
          -1.4984115267381146,
          0.40462787603009975,
          1.6750169639159391,
          4.399864084394282,
          0.16228110271555993,
          -0.3396726336645685,
          -2.1949219518137864,
          -2.0707959826251607,
          -2.1643697237168054,
          -0.44333456358712653,
          -0.2943391873771982,
          -1.5130938240837264,
          -0.5996365627273462,
          0.394670566353388,
          2.7763638332186558,
          1.0161197642750475,
          3.9631475128175153,
          2.92329340728221,
          0.6140325493139076,
          0.6514849266745696,
          -1.7451102053010952,
          -1.604376728215781,
          -1.1961169420553228,
          0.2187109589123493,
          -1.614382169198613,
          -3.2890861562367526,
          -0.5741568304520073,
          -3.287707674005207,
          -1.170673401563972,
          2.068407782546031,
          -1.291288788357679
         ],
         "xaxis": "x",
         "y": [
          -0.351045465146576,
          3.6422789980958687,
          -1.5525020317044023,
          -0.3934121918055308,
          -0.6389922671128714,
          1.080784602724639,
          -0.4642101797857074,
          -1.2320868549431783,
          -0.9324903506837215,
          -1.16909433922556,
          0.8796329824498021,
          0.3130934985599727,
          0.2981778555442483,
          -0.7499287011317486,
          -1.2436423994448988,
          -0.1722320774676355,
          -0.9133425315986531,
          -0.23638558098013812,
          1.0062087366433776,
          1.2700378274651132,
          -0.37621306631816215,
          -0.815669240906396,
          -1.385026475107123,
          -1.3726798508693023,
          0.37791730188245004,
          -1.4001284693843004,
          -0.8193911088981398,
          -0.07134710160511175,
          -0.4656525926730551,
          -0.6766572104121467,
          -0.7764578681734843,
          -0.823852868270622,
          -1.759477852919695,
          -0.5257904851393336,
          -0.2430718436298952,
          0.9902767950555973,
          -0.7777289851842566,
          -1.9805455974793427,
          1.1802153697020357,
          -0.20078032336905385,
          1.2636303186055462,
          -0.6816775117660386,
          -1.4100294801554885,
          -0.8518880278297479,
          -0.07916835217820317,
          -0.3880386081562296,
          -2.583383010170474,
          0.29148576430852213,
          -0.4460406402773096,
          2.383016912600247,
          -1.9820650884676059,
          0.19868056321494543,
          -0.3323363551466509,
          0.9012309436626467,
          1.0999547534993486,
          -1.0831139244693337,
          1.6127829299223722,
          1.0604750718581386,
          -0.5250693511228491,
          -0.7239801063092326,
          1.0030786564579914,
          0.3143996217814059,
          -1.7666213591361575,
          0.8773956230440421,
          3.299372352153865,
          -0.436908086880473,
          1.0300588893644704,
          2.4030568071417737,
          -0.8763837041086634,
          0.4008078624603405,
          -0.7541984302842648,
          0.7838416851422152,
          -0.14738734542932494,
          -0.0007909077500462081,
          -0.3300418364623126,
          -0.42907648219915745,
          0.5581210285039498,
          -1.3981111796186474,
          2.490634474640964,
          -0.468296218207427,
          -0.5026762838117275,
          0.37364490114424914,
          0.9971405589542888,
          0.8104978579570549,
          -0.3898643553885128,
          1.8906684098619981,
          -0.6222225058772488,
          2.498237031075064,
          -0.8078224019772956,
          -2.949455010152752,
          1.509516884490845,
          1.362916592762331,
          1.4853441909410094,
          1.0743940427286842,
          -0.4817048192254912,
          1.1509866728220013,
          1.3979662935455046,
          -0.20591499823019663,
          -1.3455354507476085,
          -0.4872726685553133,
          -1.1233185253378275,
          -0.20023751858907923,
          -0.4207838089586185,
          -0.6142371638780475,
          0.19142956169945727,
          0.7920124453151234,
          -0.4140820256442154,
          0.08952829553740374,
          -0.4956643775797299,
          1.3116322229463773,
          -0.4178695159653313,
          -0.48790306904322606,
          0.6074111536829344,
          0.2784851589584237,
          -1.2019137576013097,
          -0.3320833289730402,
          -0.5537522808359225,
          1.3710585631319692,
          -1.030070447427181,
          0.4732746608522805,
          0.7619675822506842,
          0.7727970158706875,
          0.18400951060870807,
          -0.05498375721166253,
          0.12994085198538255,
          -0.654262037209979,
          -0.14696797214565335,
          -0.5789788534226947,
          -1.0094224350460164,
          1.4004723499637564,
          0.394983459941171,
          -0.6403318759652057,
          -0.6193400940281517,
          -0.02343688471811859,
          1.7194693331260027,
          -0.21878457953127908,
          -0.05098539765702508,
          3.299372352153865,
          -0.59189948344856,
          3.8429219897990956,
          -0.9748295375774118,
          3.8429219897990956,
          1.2056933076566585,
          -1.437866986626158,
          1.011500542002874,
          -0.0644045104363847,
          0.18684497106032058,
          -0.7459999542698911,
          0.3695119222569338,
          0.09901973018151747,
          0.7557421389660246,
          -2.0351740868165336,
          -1.0996435002078404,
          -0.04770501613929746,
          1.7577644064698152,
          -0.8898173087237049,
          1.0297829929308633,
          1.2578151406853488,
          0.07838834723118843,
          -0.3661568935971571,
          1.2774188369228554,
          0.8688458619324989,
          0.14925698280645736,
          1.4849087049445706,
          0.27725937880378854,
          2.9288691544399406,
          1.62168692804069,
          -0.09437936441642761,
          -0.5948876086598994,
          0.37717387566559357,
          1.392948629888959,
          -0.5628259682824754,
          -0.023565587897149468,
          -0.14517306486864714,
          -0.9829041899395122,
          2.7159189836194018,
          -0.10097439555028394,
          -1.038941541602006,
          0.25793012736362564,
          0.4563705736479577,
          0.2365255071969195,
          0.6752299776596405,
          0.7352047916721942,
          -0.3135946306063125,
          -1.2785126154036395,
          -1.586074542398974,
          3.274650006073697,
          -0.20192737274176903,
          -0.1713106407958876,
          4.418628898253399,
          -0.8727911912641992,
          -0.7859929612536635,
          -1.041692568387477,
          -0.7403147632961581,
          -1.4209257434676812,
          -1.5207409536295937,
          -0.1131660737060761,
          0.17385572525393128,
          -1.1984681149954903,
          -0.38535432745592274,
          -0.8688584734439768,
          -1.1785700868467166,
          -1.8139792844629612,
          -0.782858759478235,
          -1.257584157344019,
          1.0179401284801117,
          -0.6960799680035594,
          0.2946441273249431,
          -0.5467272115677715,
          0.36434856263939935,
          -0.10866991927832491,
          -1.5351592521851498,
          1.822093532610976,
          -1.4717147928030077,
          -1.4862326607086351,
          -1.401851732921908,
          -1.9457634429419342,
          -0.9233895125533683,
          -0.12224753710714148,
          -1.0327697124067936,
          -0.9834350082034807,
          -0.39828618723368187,
          -1.239724476016028,
          -1.0212937528474897,
          -0.7722059831292034,
          0.029915519736548702,
          0.00522226979773844,
          -0.9843247365340859,
          -1.0238888201419958,
          -0.3393368906858385,
          -0.10147238484998607,
          0.05602436720628491,
          -0.4015146268118012,
          -2.27649351136538,
          -0.24115847246013156,
          0.5035513200579257,
          1.1363832638143538,
          -1.4429051307716387,
          -0.06549430481144898,
          1.31145274141711,
          -1.0369765135569537,
          -0.7120870694927909,
          -0.7033648411942057,
          -1.3777889752406765,
          0.8232881069166034,
          -0.6772008603953146,
          -0.9916107916658635,
          -1.0801351447207563,
          -0.11524078014040189,
          -1.9197838151182411,
          -1.8716550331458885,
          0.06342980132416254,
          -0.19185475044267353,
          -0.7647124709363533,
          -1.0232629181874453,
          1.1985850955225572,
          3.8105816122350293,
          3.8105816122350293,
          -0.4650495412508198,
          0.30103767763064315,
          1.254420898996534,
          0.9171857771421246,
          0.16834567814913928,
          0.3987351487118738,
          1.5841890770852078,
          -1.231694111449617,
          2.218007183596455,
          -0.18766142984134415,
          0.8212308743970802,
          -0.6163398862872878,
          0.8786731823807135,
          -0.3561985600964062,
          -0.5729011196097817,
          -0.9424368641961365,
          -0.9994873721743079,
          0.5271499532130296,
          1.330736300438953,
          -0.5109947643104296,
          -1.3126054614746647,
          0.011067068457566828,
          -0.7315647496850899,
          1.1053489081919716,
          1.3111805251067674,
          -2.140120712591945,
          2.3683335729228903,
          -1.085297428425684,
          -0.6150613146706964,
          1.997458952674775,
          2.355863835477867,
          4.053641993344289,
          -1.708933183578898,
          3.293889083698329,
          1.380792934472937,
          3.122002280395989,
          4.053641993344289,
          1.5624997941992813,
          1.6983271004943752,
          -0.9519131551619004,
          -0.17172248449955702,
          -1.084354327928135,
          -0.6584962062977235,
          2.2956001774013877,
          2.3487898585222715,
          0.04091348584438318,
          0.3471348937490487,
          -0.9996253369477981,
          -1.416808869754019,
          -1.282147308347041,
          -1.1118119558590094,
          -0.9570452456295069,
          -0.8690814792556809,
          -1.4366022981319224,
          -0.782858288286582,
          -1.1195495007766003,
          -0.9055891899345597,
          0.029958126270653126,
          -0.9128574798474683,
          -0.3028045884071916,
          2.3672086219096613,
          0.9233186664154753,
          0.29664864677929437,
          -0.6695989024390419,
          0.7376460810239692,
          -0.5853599302844249,
          0.16561082347787354,
          -0.5466107347646016,
          -0.019045308498468982,
          -0.28924441784925115,
          -2.140120712591945,
          0.7770769233826224,
          -0.5680064749700259,
          -0.939726542940765,
          -0.24701658643106914,
          -1.4190169766369738,
          -0.35330496062698946,
          -0.15797965005089723,
          1.9411472342294,
          -0.053579489327904226,
          2.169717583663725,
          -1.379894119970915,
          -1.301269700487233,
          -0.32570295674109934,
          2.169717583663725,
          -0.6747882150014805,
          -1.966359178017648,
          -0.7511045180459847,
          -1.1779285153612948,
          -0.5217879525636504,
          1.391862657478982,
          -1.7482059236172605,
          2.169717583663725,
          1.4015812214423577,
          -0.5533093544112891,
          -1.240119142513814,
          0.37223630439322,
          0.11266438045419205,
          -1.0665398063692653,
          1.0329224005693711,
          1.9859689008914556,
          1.7754369212861583,
          -1.2032341019252217,
          1.0778791278230322,
          2.6552344241986092,
          -0.011353033207479508,
          -3.027231198513498,
          -0.09364723340181483,
          -0.3270068911245177,
          -2.079864676653509,
          0.2035292464974235,
          -0.937058845665348,
          2.5379204166934266,
          0.45350754188301196,
          -0.2578952033942599,
          2.4850036642427122,
          0.8463110480800837,
          0.25459922134993596,
          -0.6386920070369225,
          0.7958775057140095,
          -0.26196182386390326,
          0.34210590925730333,
          1.5041306462932296,
          2.1576860746851647,
          -0.3556685517852606,
          -0.5397276567258472,
          0.9848321831438546,
          0.9593313897331966,
          -0.815310421621334,
          -0.6260122571016401,
          -1.2071844695739604,
          -1.1813770909318742,
          0.007353767917703393,
          1.520954464240361,
          2.7868259035492504,
          -0.4430561928391553,
          1.3916118462080698,
          -0.045670964945843696,
          -0.21634360830876373,
          -1.1338977251772655,
          -1.3321195639034042,
          -0.35291430213588365,
          2.4417954498012477,
          7.94477871863706,
          -1.485823329995557,
          -1.396255717726019,
          -0.42248739369154764,
          0.3888629850003784,
          -1.1189625119432873,
          -0.579662535491406,
          0.8330690812282431,
          -1.3121540143829244,
          -0.18648784706763338,
          -1.6226581328976881,
          -0.4702441089960984,
          -0.6235752180197043,
          0.2700421439948944,
          -1.5998551457756698,
          -0.1258284855850437,
          -0.9267722152807178,
          0.6978658088944238,
          -0.646430409522466,
          -2.067562248374832,
          -0.8133081703820425,
          0.4604046781288069,
          -0.6519346589975723,
          -0.23145403195224445,
          -0.3504727917639071,
          -0.7142633456364963,
          -0.7225971357361154,
          1.7156550382418017,
          -0.2107764478017111,
          0.6058057750407715,
          -0.29084143372589677,
          1.5127657662852518,
          -0.7992973384329232,
          2.0273002938262747,
          -0.18797018798577156,
          -0.3649112052432301,
          -0.8282029664250371,
          -0.40140369045238966,
          -0.9632633183717209,
          2.0239495157471006,
          2.4502307758140245,
          -0.28712735417390994,
          -0.20574928172135762,
          1.3253232376386628,
          1.5364807845835042,
          3.465408298461628,
          0.2596113942404672,
          1.1575831470596292,
          1.1098446956802352,
          -2.136696012829612,
          -0.7359700513698096,
          0.9983276972535869,
          -0.5139926145650675,
          0.8884703785794074,
          -0.2822921672805994,
          -1.1553946626463436,
          0.9072685781983877,
          -0.7077761044121818,
          -0.5067981741239097,
          -0.5748767573831425,
          -0.9254125915021076,
          -0.3650425503490348,
          2.198119553994351,
          -1.4055305583636322,
          -1.8408691739535834,
          -0.4617393244777914,
          -0.3974996011531168,
          -0.053245804157222236,
          -0.2592925631352602,
          -1.6478302094666626,
          -0.788277569107907,
          -0.029250851220129864,
          -0.7111552187637702,
          1.1218534218844567,
          0.42495530960489314,
          0.1430838464366202,
          -0.8220707422112804,
          0.8507013958691279,
          1.91268285470131,
          -0.7958618916614305,
          -0.31861155744279707,
          -1.5517054457368693,
          1.3992928882910005,
          -1.018850123235315,
          0.24051319089746487,
          0.5962784148502426,
          -0.33838618543951277,
          -0.011003543033592049,
          -0.0302554357582967,
          0.48836674648398415,
          0.9336560847062157,
          -1.4038534045134106,
          -0.36789588897075637,
          -0.8245903606540661,
          -1.4990750126751082,
          1.3317504707409187,
          -1.7296357325398415,
          -0.902148410444629,
          -0.1326220666945436,
          1.0197110625146089,
          -2.33012137924118,
          -1.1418382753901397,
          -0.394510784759118,
          1.5669799737608932,
          -0.08560306268823861,
          0.7420397856377914,
          1.7983478942912066,
          1.2671578266277241,
          -0.78002875802469,
          -1.114310835335024,
          1.2475796560176522,
          -1.3962195484853162,
          -1.5420996763801103,
          -0.4601896121845509,
          0.05573012017554813,
          -1.2320320752135365,
          -1.9275215655686309,
          -1.5112028378457862,
          -0.05838057960015903,
          -0.9046319010633964,
          -0.03900025968308657,
          -1.3959476979906202,
          1.9762498835270503,
          -0.8764542753101765,
          -0.8470571247284614,
          1.5076169233400596,
          -1.9134042227915262,
          -1.074751257449344,
          -1.4234122996984966,
          2.116351927438105,
          0.3752630282591027,
          -0.7621400419450161,
          0.5472283781738728,
          -0.44397118235465644,
          -0.47866355037297337,
          2.177096653017852,
          1.2099617874017925,
          -0.5326019910937517,
          -0.13218812260228605,
          2.546852559023717,
          -0.1632406781217418,
          -1.4675855264083477,
          -0.0035782887351369294,
          0.5472283781738728,
          0.9670632204178687,
          1.2011530235873558,
          -0.5808060171984215,
          -0.19685248343413284,
          -1.0630478432710728,
          0.8137599596499494,
          -0.37975131729005634,
          -0.33534975566410624,
          0.9294746848110944,
          0.18755393359995984,
          1.608747377267524,
          -0.21959007115834456,
          -0.2688253994315407,
          0.23610638668901343,
          1.282159029227824,
          2.0679390622474036,
          0.5851255813588755,
          0.9484928700507748,
          1.2742445555553075,
          0.10935936822978025,
          0.26294074812012835,
          1.2219904313838197,
          -0.512721572297461,
          0.4208082860184457,
          -0.9955091768882854,
          -0.3684095008095948,
          -0.9921634868733442,
          -1.3043417114377458,
          0.07069984543385308,
          1.0445430340843145,
          1.3267718422996637,
          0.09953483209815615,
          -1.0092140519688857,
          0.29579405510988205,
          -0.9488194107641095,
          -0.49480971579968874,
          -1.148656626159176,
          -0.7750687074623026,
          -0.44937384906081146,
          -0.49499325838617014,
          -1.3784689692302727,
          -1.4512939448460127,
          -0.7154942588448775,
          -0.8011361543305295,
          1.949624379490292,
          -0.5683231649066861,
          -2.7809627637652765,
          -0.9411117388301756,
          -0.4938697333578416,
          -1.1000295467345014,
          -0.7975301814145564,
          1.694462867726055,
          2.4539358575200185,
          2.388346310845093,
          -2.7505532227036364,
          -0.6462191376068607,
          -0.8630602539000221,
          -0.7486172931895587,
          1.2432632264137071,
          -0.24037590545253723,
          -0.027596735006977433,
          0.011937761051422673,
          -0.2859943247824609,
          -0.20986862359760927,
          -0.17575197254228117,
          -0.7797933186792427,
          -0.5743028520986184,
          -1.3704187455102648,
          -1.113813292246338,
          -0.17057902814675388,
          1.1638112055014689,
          -1.563747421189557,
          -0.07957839782120962,
          -1.8978548758127538,
          1.2902342928767612,
          -1.1005897745237239,
          -0.904037107983126,
          0.09001698258966853,
          -0.936587019565772,
          0.18840640193009323,
          -1.6777924838399927,
          -0.5626240402874265,
          -0.6560400424337505,
          -1.5691363452278264,
          -0.0726687865603147,
          0.5848176663671297,
          -0.4957038214541212,
          -0.13680181916709738,
          -0.03407401780271695,
          0.21559068894716973,
          0.05715132109662614,
          0.8545538536935198,
          -0.6819095519475297,
          0.07414657317355765,
          -0.9962053076975714,
          -0.511546292914663,
          0.04151726272947128,
          -0.271898684063354,
          0.012759877514118327,
          0.2841529535329037,
          0.3645947810687214,
          0.11043770662477445,
          -0.19765501313349637,
          -1.7651445768336034,
          -0.2433805354121312,
          1.2627911509135206,
          -0.28470540254957055,
          -0.24105274950403413,
          -0.3607987363310266,
          -0.09227060772606746,
          -0.2948226461372393,
          -1.1861774403621024,
          1.7519313332337296,
          -2.025827324602411,
          0.005121359021993921,
          -0.9242649741517732,
          -0.5165122900192937,
          -1.0624812543476898,
          -1.1578864648721108,
          -0.1959954532843332,
          -0.7834943215643125,
          -1.428285726305199,
          -1.2962574010554815,
          -0.7770423032084702,
          1.1403757222772415,
          -0.7857060133404009,
          1.5217814000583847,
          0.6384352529148564,
          -0.3773992413492602,
          2.189399592394521,
          1.4442264269698286,
          0.9632364798688086,
          -0.9615416573059811,
          -0.14738734542932494,
          0.19215461920420407,
          -0.39912527733049535,
          -0.12805022293588583,
          -0.7119680792230703,
          0.5395519732059413,
          0.23592011824149098,
          0.1021996886167175,
          -0.5772425642657347,
          0.1461154718355895,
          -0.226793544029298,
          -0.832832984319989,
          -1.578673386625034,
          2.7059893417897185,
          -1.4747348536176097,
          -1.9411372807847846,
          -1.4698046526129338,
          1.8867468468822262,
          -0.818890164080877,
          2.335960952437826,
          -0.6279784976332257,
          -1.2073315436452912,
          -1.807175416252728,
          -0.10096446555642975,
          -1.0809377039091004,
          -0.13703816441663869,
          -0.49912532086540345,
          -0.19091749690697057,
          -0.5825783350714427,
          -2.8650607047096757,
          -1.0257482898886938,
          -0.4648281051818965,
          0.412869026997923,
          0.26840840860244364,
          -0.34062383466270735,
          -0.34062383466270735,
          2.053935495083767,
          -0.6335717922245738,
          1.6885358209621977,
          -0.8421858216213876,
          -1.8416302887287135,
          -1.3559154945821568,
          -0.8422435870302563,
          -1.5027721656091624,
          -1.6255491442892631,
          -1.3954024543120256,
          -1.795338649902605,
          -1.7210989593774653,
          -1.379338083376685,
          -0.16784993522733566,
          -1.343541783816881,
          -1.372894737006835,
          -0.5261286079431075,
          -0.5898899805120534,
          -1.4963810976510563,
          -1.5093773752444737,
          -2.0730354476154074,
          -1.1922936745317747,
          -1.561303897576111,
          2.3178607434685667,
          0.5152856278663631,
          -0.735684487670227,
          0.3076723118643036,
          0.2040663696843691,
          -1.1041528611324674,
          2.1568403969872825,
          -0.3080802751177684,
          0.4297515660121193,
          -0.034551088995713686,
          -0.37542287154217224,
          -0.31585087832394126,
          1.01227595603498,
          -1.3378517188032848,
          2.388346310845093,
          1.3420020860288202,
          0.7736797278946663,
          1.4476927779542388,
          0.2526177692982276,
          -0.920915484772709,
          0.06351816241786028,
          2.233878369435095,
          -0.20293582542593266,
          0.8523505973051284,
          2.9694277072694795,
          -0.060464181727261555,
          1.6203013849599375,
          2.9694277072694795,
          -0.9925640892742538,
          0.22798771914262106,
          -1.543705983413543,
          -0.8616818970621302,
          0.21910203783613133,
          1.220959137396774,
          -0.2886563820754474,
          2.209257375911511,
          0.10613582323785438,
          1.0584319692425235,
          1.4312498200637565,
          0.9338955920224772,
          -0.45744566163173134,
          1.291632991836462,
          1.7789063225813042,
          1.48705176962424,
          1.6483677615583712,
          0.18322589386871563,
          3.2179915058539885,
          2.6515785287450386,
          1.9776056801105877,
          -0.21082694589953127,
          2.4225813621497965,
          2.8614788728236196,
          1.8799724964244826,
          2.4232107293861187,
          0.2792694659461627,
          -0.9322442405437348,
          1.1263680046899414,
          1.6433159827305566,
          -0.2578790027729101,
          -1.311180780988478,
          -1.5678637519733991,
          -0.8590392524657304,
          0.48873123483671777,
          -1.3337752812229346,
          -0.6644708307913446,
          -0.2607244743727483,
          2.424701358614634,
          -1.57172039790674,
          -0.43684018378808,
          -1.104920005597643,
          -0.38952702876946443,
          -1.0473859480648269,
          2.84502955538832,
          -1.1079535082021126,
          0.15184696150699492,
          2.781798112487698,
          -0.26212221832757854,
          -0.48562575462934365,
          0.2892838301645465,
          -1.0289584041979534,
          3.4291184126508316,
          -1.1710263962166945,
          -0.8778997996917194,
          1.5127325024863845,
          0.5126601760692107,
          -1.4914928057493289,
          -0.3468005463099136,
          -0.6370628201070915,
          -1.5539253046430248,
          0.4859125388396172,
          1.0008099537317672,
          2.817240662891432,
          3.471481839702157,
          -0.06396640448141647,
          1.5658879702730517,
          -1.965605656667286,
          -1.5919215039629289,
          -0.36045981894123386,
          -1.2012237039887517,
          0.7599310664156688,
          -0.6532111573603844,
          -2.4460531209049314,
          -0.7632055791157553,
          0.6394210999441962,
          -0.4842523913400604,
          1.6662819378997742,
          0.8786731823807135,
          -0.11537626678824127,
          -0.26225682225369423,
          2.138220866946012,
          -1.0399797243419182,
          -1.1179983365987205,
          -0.2511574982604039,
          -0.28043517054510225,
          -0.11941669562423998,
          0.9133398848746773,
          -1.0775498842595697,
          0.7385897960783702,
          -0.7252016446819378,
          -0.9538998142282805,
          1.2435225035460735,
          -0.6452869443324412,
          -0.007102636326124994,
          1.674137677675722,
          -0.5701464007630153,
          0.5899675515822641,
          -2.161784933153926,
          -0.5618411308904587,
          -1.0010312681855074,
          -1.8977903949137596,
          1.7182511231774116,
          -0.7011199059574458,
          -0.6423917828355589,
          -0.7829948297865073,
          -1.008202365305444,
          -0.16698722274473018,
          -0.6031581054562762,
          -0.31173981888652935,
          -0.9427102091075873,
          1.6368302495645795,
          2.098166488772452,
          -0.5537799336139037,
          -1.2989598947058487,
          -1.3632724657243431,
          -1.2099710777409487,
          2.5417033182487625,
          1.5113676698625274,
          0.4021784201399992,
          -0.8469489512296524,
          0.9486821692829247,
          1.4592966313858184,
          2.278676419071124,
          1.2783391285415628,
          1.0571164094917922,
          -0.424482021231458,
          0.6148974220958744,
          1.2215515789001374,
          0.4292600089671313,
          2.813485105694239,
          2.224501800730601,
          -1.7213051839221691,
          2.8866110337319455,
          -1.0980336816545897,
          1.0880889882545637,
          1.4384005978856542,
          0.9607976344558125,
          0.7727970158706875,
          -0.5015622684600193,
          -0.6182385546882662,
          -1.4129861270409532,
          3.299372352153865,
          -1.6580273201211224,
          0.5199656859411701,
          2.165340293583179,
          -2.3537378702492515,
          -0.0017052489036575341,
          2.6106793617740878,
          2.7733307436299466,
          0.36297810161763994,
          -3.391816932478195,
          -1.7409486076257161,
          1.0392779006696546,
          -0.5996279202232979,
          3.1316419394459682,
          2.5909835796452807,
          -0.7757221376894152,
          1.118424833772262,
          -1.6271317984836071,
          -1.017855693890931,
          1.910025269981829,
          -0.10633003340197357,
          -1.8740227310627449,
          -1.2751589722213539,
          -0.045474777412340565,
          -0.7164266591863677,
          0.26417632922316847,
          -0.6352977001240849,
          -2.7127413236027316,
          -0.28612564260463635,
          -0.2513243347980208,
          1.26759575258819,
          -1.2259389899466249,
          -0.8357023367719031,
          -0.09101344842232358,
          -0.15355190726862913,
          0.2049131963909194,
          0.04232776763679538,
          1.333482012652572,
          0.30295921568714024,
          -0.5487530137375192,
          -1.4762187688061603,
          1.1259687118955588,
          -0.4432119516187212,
          -0.9636171597884511,
          -1.91207989805184,
          2.15591001486952,
          0.744406021935846,
          -0.40841439820274483,
          -0.37804717255754466,
          -1.1015249187565612,
          1.1214206225524257,
          -0.10445275618775028,
          -0.6569668462768535,
          -0.9342720489056016,
          1.8296918482743774,
          -0.4516608051023432,
          1.1328201835887908,
          -1.61265975805699,
          2.53772135820829,
          0.9114120438708723,
          1.1560682020637685,
          0.33344497268482626,
          -0.4308009837643928,
          -0.04129891729329691,
          0.3165812656240421,
          1.4697477593380421,
          1.831974585277015,
          1.783858093640198,
          -0.5203268769386336,
          1.9965238570816508,
          -0.7983941084254685,
          1.895727085910397,
          -1.614155142221857,
          0.03406126856076379,
          -0.7482563342706294,
          3.053053815392665,
          2.945309508022897,
          0.9658968427070733,
          0.40032531497000984,
          -0.3991926669565865,
          0.38503662781659226,
          2.781798112487698,
          -1.475561000111424,
          0.12311706136741718,
          0.9464011413081213,
          0.08482188599569383,
          -0.3912254420509732,
          -0.616478859240014,
          -1.3587331051933393,
          0.72431283118289,
          0.002325044099923358,
          1.6937366523024397,
          1.2325736974191455,
          -0.14844599421420157,
          -0.3539143124963095,
          0.041178154035443115,
          -0.9843560116694325,
          -0.30618322692467054,
          0.23986044571432813,
          0.5524718707911692,
          0.24501779348903446,
          -1.2410189976732438,
          -0.7330773155222827,
          0.955488240510675,
          0.021291888820956475,
          -0.41970095391560586,
          1.6400235171592594,
          1.6216322316616198,
          0.2577174052933712,
          0.4056485435230044,
          -0.09251871153731946,
          -1.128164911421505,
          -0.295741330763213,
          -0.8861666232258874,
          3.35149947117972,
          0.26323844789885026,
          -0.5819084722386999,
          -0.0055849438514078845,
          1.8173956935612439,
          0.5872605745316986,
          -0.35539013810878933,
          0.9685819880064491,
          0.816811427285399,
          0.041452263933836844,
          2.55498857830638,
          1.3583521541901245,
          1.1761456184798376,
          0.942224646089577,
          2.0950744204661502,
          2.283698344478636,
          -0.7536851780719286,
          -0.9985351497131607,
          -0.5081799901690192,
          -1.4058556418021926,
          -1.4857026102463737,
          0.4021708022668761,
          2.9240873913023133,
          -1.4492109232273276,
          2.5151113896077644,
          0.002533173716191416,
          -0.23647017637698625,
          -1.5906235496259575,
          1.9725659957113455,
          -1.0951155355130326,
          -2.3066186957972192,
          -1.9221184341115882,
          -0.9545271746431111,
          -1.7117461788773014,
          -1.3809993309462791,
          -0.4010716543206644,
          -0.7674466045156537,
          2.773306809122725,
          0.07037008670008939,
          -0.6621437149372874,
          -1.3551850791254394,
          -0.37758498642208166,
          -0.6681059845736791,
          -0.902148410444629,
          -0.926394647251731,
          -1.0446281834524547,
          -0.9208213239402626,
          -2.002303487663066,
          -1.362091078325362,
          -0.4233438289172707,
          0.14512712232047573,
          -0.03076596465975505,
          -2.1788587120733784,
          -2.1181601124396403,
          1.428175933971538,
          0.8207258247277379,
          -0.5001095077526635,
          0.10415189035514145,
          -0.4672088038064121,
          0.031662579294147404,
          -0.15741577785123362,
          -0.195410209612386,
          -0.7834049137982712,
          -1.1993655240654755,
          -0.6928448868947601,
          -1.4684710076746557,
          2.8569949536174777,
          4.149556547498821,
          -0.7172201850398516,
          1.8909984276018426,
          -0.576460182401877,
          0.9031870944696616,
          -0.5421529580307877,
          2.8569949536174777,
          -0.5677010146662967,
          -0.3996999809248998,
          0.032688443058240334,
          -0.6022886271042965,
          -0.24454985796597037,
          1.581227214240868,
          -1.3012324059517124,
          -0.8848345510727169,
          -0.19380898932765714,
          2.153262418835834,
          -0.0818539918277604,
          -0.4525336088709465,
          1.4187938065603234,
          2.1531575236902416,
          3.2700562578222407,
          -1.8675948820553339,
          1.4763816326785575,
          -0.7196864323903582,
          -1.2175730432233793,
          -0.8473113042689966,
          -0.04695354906507559,
          1.1002368353074206,
          1.155206980933416,
          -0.5733300353781892,
          -1.1146022621392273,
          -0.3273001571111986,
          0.03180823521493323,
          -0.19363405689582117,
          1.032289192209881,
          1.1056759901834736,
          -0.08746345045160783,
          0.16941918785010823,
          -1.016147378994323,
          1.8848091156637967,
          0.08688194989507883,
          -1.2585438366406716,
          1.8859389075516209,
          -0.9607882075578191,
          2.678479564186604,
          1.0873455615492835,
          -1.1032438188076588,
          -0.7775589897296324,
          -1.2246310458271616,
          2.056072455078473,
          1.7964423917308494,
          -0.9108038930466353,
          -0.6509248537008682,
          1.1832699116100653,
          1.0365391831374473,
          1.6766836349009255,
          0.8853836163024171,
          1.10277797392255,
          -0.02915417738727285,
          0.9567133042051064,
          0.35330683152903886,
          -0.1491839424397526,
          -1.1568010780126001,
          0.36307946136925,
          1.2864320476728328,
          -1.1018866432010896,
          -0.47343994749589496,
          -0.4493000290948458,
          -0.23788689730738563,
          -0.7398409700390621,
          1.582627488807222,
          1.5342121281370171,
          -0.5717805412540751,
          -0.7422240325201599,
          0.3608336560544506,
          -3.185737559245722,
          2.2789109734036086,
          1.472568502799308,
          -0.03807894100962542,
          0.16818177025408462,
          -0.7401811735283451,
          -0.5880456075695291,
          -0.742124270667318,
          2.6276986524707797,
          -0.17491346021135565,
          -0.4800032908441639,
          1.3737336067445305,
          -0.2289393124137973,
          -0.11056576195326644,
          0.6128094281257667,
          1.0524551132097844,
          2.415965897144298,
          1.127507686671268,
          -1.0675962846891773,
          -1.1252609829503557,
          -1.2445322445809612,
          -0.7468569863981033,
          1.5841890770852078,
          -0.7055938612605486,
          1.2030235043969115,
          1.2465319367775578,
          0.35652971235781616,
          -0.10457280655172274,
          1.4711249541279567,
          1.721110518264552,
          1.4256619329660665,
          -0.5011512784387889,
          -0.1601110072088537,
          2.965083758527195,
          0.6822168987256285,
          -1.169490905228067,
          -1.0569744973010557,
          -4.062306104523225,
          -0.08355034804408558,
          0.24549907213247615,
          -1.2503035786158414,
          -0.7509327529528681,
          1.8135139993782357,
          0.361269364420316,
          2.5738000539978945,
          -0.2824358914056527,
          -0.849686887879703,
          2.969533427659442,
          2.256227997824622,
          1.2143840337674214,
          1.1936871786819458,
          1.7430564744055999,
          -0.4246310482598377,
          0.09078058223641486,
          1.1075633103146307,
          -0.8667677663084195,
          -0.5456878032111392,
          -0.8515459429823492,
          -0.19507117365813006,
          2.6427900184387108,
          -0.6982852556147889,
          -0.962554988428667,
          -1.4765801233891112,
          -0.4750311028622024,
          -0.44280533775822745,
          2.5690957353032715,
          0.6591849203440755,
          1.9550632675819102,
          -0.9938930395715917,
          1.307366760942622,
          1.4520248482314118,
          -1.2749708075127315,
          -1.4208547598281631,
          -1.5180933080853183,
          -1.1486247583673037,
          1.3267718422996637,
          1.116941741178222,
          -1.6760524629231734,
          0.2047408259986967,
          -1.3926919796723554,
          -0.8513098998295373,
          -1.3943638641426055,
          0.3219045660281673,
          -1.6467135826810262,
          1.9148558905543618,
          1.4794649552513581,
          -2.417320825471619,
          -1.328601069956002,
          -0.5517822756014967,
          -1.3783559355061283,
          0.543487505071275,
          -1.25362619804538,
          -0.48086890388305176,
          0.39131463331676397,
          -0.7457646212048998,
          0.3237193956612328,
          0.18420401562412883,
          1.7091301887573174,
          1.8199264012943157,
          -0.1371364174065415,
          0.7349923394191354,
          1.2710846529402053,
          -0.6922448030385748,
          1.5142806704500085,
          -1.2755306979369998,
          1.3996095336392207,
          1.3077528192439696,
          1.9562149904030424,
          -1.015199181348728,
          -1.3831582515593381,
          -0.8218973860620389,
          -1.231694111449617,
          -0.03176175069378252,
          -0.7406077442439924,
          -1.1026752328752794,
          1.2949287028263896,
          -0.2127412257279515,
          -1.4849139279239274,
          -0.6619255844161122,
          1.188803312134661,
          -0.15179004160083578,
          -0.48605744714963006,
          -0.7214610449994494,
          0.19394884916570554,
          -1.2697115542978374,
          -0.28302610914268933,
          -0.17774099091169082,
          -1.2796740048794908,
          -0.9637388919968463,
          -0.2624526682371407,
          -0.574054867180978,
          -0.8604286807302063,
          -1.1280662439925415,
          3.846994562731007,
          -0.5378190446726069,
          0.33583564391219056,
          -0.4274654581015441,
          0.21665190163950224,
          -0.8628535888133351,
          -0.5415568839499052,
          -2.6184197268265987,
          0.3538375111704003,
          -0.47942327246234767,
          0.055975477026817516,
          -1.1605081843331737,
          -1.1605081843331737,
          -1.4563283286593118,
          -1.2779213127851583,
          -0.030323541364018103,
          1.5882082039083192,
          1.0010333358668895,
          -0.40814312620918003,
          0.17067800652345502,
          -0.906129075721441,
          -1.798823566222228,
          -0.8374215611733666,
          -0.48616926472444605,
          -2.7809627637652765,
          0.30802438568784646,
          0.0124563150183289,
          -0.24579567820917486,
          -1.7670484060696021,
          0.9905656123852449,
          -0.9234421675395872,
          -0.9794057228112831,
          -0.9794057228112831,
          0.9905656123852449,
          0.7198490351173953,
          -0.6176841259095833,
          -1.3718674929293782,
          0.03314446852999319,
          1.424581796041652,
          0.17127288960877277,
          -0.15543997841755539,
          -0.7218052109200087,
          -0.7164229210506491,
          0.721386619927537,
          1.2599981189624845,
          0.9373099357269487,
          0.3446001144354055,
          2.431818574042049,
          -0.47904182503239756,
          -1.7150459111680332,
          -0.05847515634064679,
          -0.5491323651182,
          -0.8532642432053765,
          -0.8395206775332761,
          0.42910384427523324,
          -0.742481561192605,
          -0.4534590528377154,
          -0.0737713521947158,
          -0.8410323006495994,
          -0.4292914269300756,
          -0.3420397130452642,
          -2.622953624118863,
          0.25357570858704814,
          0.2875254249289892,
          -0.05562170579812021,
          -0.3611065992846008,
          0.40739809795551496,
          0.2302181646569051,
          -1.3894694480219227,
          -0.3834995517590598,
          0.03949954120186129,
          -0.20089879542570152,
          0.013649075663055307,
          -0.7565881922490199,
          0.9846245321016767,
          0.013946628145171931,
          -0.8095932920439185,
          0.7753425269234878,
          2.7073063247816203,
          -0.04081469223877631,
          3.1144880239236845,
          -0.2042030118211983,
          -0.5231146826127746,
          0.9214272422421348,
          -0.8756940840911415,
          -0.09465717314551547,
          0.7256304402118421,
          -0.9285634866847587,
          2.388346310845093,
          0.21958348190156415,
          -0.5870891624577094,
          -1.0922986403522015,
          1.2408885412051858,
          -1.1827410934524536,
          -0.44976699991397495,
          1.4478871762917458,
          1.5427449130228728,
          0.4813826476503243,
          -0.5196562254311737,
          -0.750769294810532,
          -0.7402516123561557,
          -1.212301542149082,
          3.2387466145017076,
          2.560254012667635,
          1.0186104026323792,
          1.8202517170846493,
          -0.4797482910633148,
          2.4813197467344974,
          0.32548830189320127,
          0.6221848782969154,
          -1.9504095550435394,
          -1.6186353232729929,
          -0.8406628971632887,
          -0.3979941214626582,
          -0.43452250085858013,
          -0.40075344868285645,
          1.540419441512067,
          -1.2325690484843552,
          -0.6920354521166745,
          -0.852422608093854,
          -0.2544245397924798,
          2.683469673640877,
          0.05459475453837196,
          -0.9156597309624206,
          1.0873770654972068,
          -0.038348265670155715,
          -2.7809627637652765,
          -0.9545840629662306,
          -0.28232533533645787,
          -0.49572323137272245,
          0.11055437518553954,
          -1.6015901906914138,
          -1.2644363037299986,
          2.2716957621680542,
          -0.49337961877027026,
          -1.1112706940333252,
          -1.0047108587533546,
          0.13462414939440132,
          -0.5543371565726332,
          -0.8274261770441692,
          -0.5385458327036119,
          -0.14583841032848238,
          -0.8199735785370352,
          1.4802501384249303,
          -1.3057507197302247,
          -0.2333356470746158,
          0.5848176663671297,
          -0.7894928476695342,
          2.404900985768676,
          2.404900985768676,
          -0.6781165703917588,
          -0.17695264152175127,
          -0.23437481904449683,
          -0.4881005710845249,
          2.404900985768676,
          -0.8303219783836892,
          3.1494521173824404,
          -0.5703161658898995,
          -0.14527506317001826,
          -1.0305103960894373,
          1.7228460549807967,
          1.085400618613687,
          1.864349531690919,
          -0.2481317096152309,
          -0.6073366074071946,
          -0.6248381628289097,
          0.3237428884126224,
          1.6937256899527506,
          -0.2891663697599613,
          -0.46633906930486557,
          -0.2996962380176966,
          -0.7297243896543499,
          3.248203049982127,
          0.9603530356559005,
          -0.3299478457636903,
          1.4671228465119215,
          -0.34508640481819985,
          1.9990803207299495,
          1.8715624405911677,
          1.1708582471173743,
          -0.6046946274073178,
          1.540337929677663,
          1.630195935286505,
          -0.41591184048359714,
          1.363698075561425,
          1.1014562716100524,
          -0.07977189088577578,
          -0.2882044318225022,
          -1.181652826078718,
          0.20743332780161375,
          0.7882447678488376,
          -1.3317870612178158,
          -0.755303059164003,
          0.6634101569089659,
          0.351268337385234,
          -0.17388132661155536,
          0.9375676876396642,
          1.458264882832097,
          0.7710922842260556,
          -0.1670561186621447,
          1.577729746015953,
          -0.07159083632870888,
          -0.36921344895556907,
          0.5021947944983075,
          2.0827271665202276,
          2.233782457527848,
          0.7710922842260556,
          -2.1994767049122164,
          0.6891732338653667,
          0.011441189588599904,
          0.013262276650055575,
          0.3652134064973873,
          2.192521856055282,
          2.4053067194084776,
          0.13833798567178582,
          2.091117154868269,
          1.9834916485735952,
          2.2329499212683355,
          2.5580410819973336,
          0.38494198256888623,
          1.4207165970049278,
          1.7810396790310794,
          -0.41591184048359714,
          -0.5067554304906632,
          1.022288728326222,
          0.4422859632455595,
          -1.2884598725938194,
          0.9232508973001556,
          -0.18561116846990774,
          -1.3965428240142406,
          -0.1286469378104594,
          -0.6552821462849282,
          -0.8294967071520086,
          -1.9426129758571093,
          -0.7016785453251486,
          -1.4375693560268457,
          -0.302980396547439,
          -1.1119046618154294,
          -0.5025794026413046,
          0.1791108716596754,
          0.0819260716763745,
          0.11629775598723496,
          -0.5729759654986508,
          -0.000700056000795553,
          -0.010062770023755444,
          -0.02973122675861578,
          2.4260862564643286,
          -0.24997355735720742,
          -0.7134295379227075,
          -0.708490295072603,
          -0.2448663091956391,
          -0.8874888208407281,
          -0.5275536597923441,
          -1.4946551574808011,
          0.6990056823897108,
          -0.1728306670616583,
          -0.400284467143713,
          -1.0149845523306629,
          -0.20164775657737874,
          -0.6427340752279785,
          -1.568474286817271,
          -0.402227505625513,
          -0.5347264618335573,
          0.2496708852024016,
          -0.5639411573357285,
          -1.7014424670623647,
          -0.05368172363536553,
          -0.3310306938801748,
          -2.0506935172838534,
          -0.20179211024993787,
          -1.1266007358952086,
          -1.0181954076906599,
          -1.4287858910630509,
          4.149556547498821,
          -0.7688239952658897,
          -0.4326312535403697,
          -0.28494044233010557,
          -0.3364254285100541,
          -0.41648657465281647,
          -1.8842596737370267,
          -1.5715025618922354,
          -2.218733581291498,
          -0.8637570177779909,
          0.13076163739359717,
          -2.518529479837774,
          0.8632520080306363,
          2.383016912600247,
          -0.6613637841109458,
          1.469813156150225,
          0.4741264513837716,
          -1.1957229155493927,
          -0.596809836629021,
          -0.6470493568363446,
          -1.3320782873848223,
          -0.5352346153784469,
          -0.30000354179293887,
          -0.5241282018554357,
          0.9714086854846276,
          -0.0030570820066898132,
          -1.8312242090922117,
          -1.3377879821193963,
          -0.8253911464176846,
          0.9499171899808617,
          0.1250196908262981,
          -0.9607882075578191,
          -3.9175403110045934,
          -1.0801292455068618,
          -0.15602563014146498,
          -1.037075758230338,
          -1.331449975113912,
          -0.48697667537364064,
          -1.2308019888857897,
          -0.586745420465463,
          -0.340451486683503,
          -2.0809930449487846,
          1.891510046318845,
          -0.8477577218340954,
          -0.7701071148309918,
          -0.9796679163322793,
          0.18620288510990574,
          -0.5772528250942681,
          1.4230240646507286,
          -1.0442788788666122,
          -0.18585052481086073,
          0.7732297754795185,
          -0.38451809155231037,
          -1.369733465927245,
          -0.9662936350900568,
          1.1621883267018407,
          0.6379396226367423,
          -0.006653384103031042,
          -0.7778845593898823,
          -0.9962390616099149,
          -0.3517057744051811,
          0.12474043341922578,
          -0.17927611165043922,
          0.5902305510862811,
          -0.6957881619193547,
          -1.2757324099225442,
          -0.9306126778398097,
          -1.0078285715677089,
          -1.3626988896774046,
          1.3090261648486399,
          -0.6087964659651117,
          -0.21109438978750067,
          -0.5567664655814787,
          0.02895896980857469,
          -0.3103422880243531,
          0.0983958427297186,
          -0.7194069104329602,
          1.337758438095455,
          -0.020504529131992067,
          -0.6500040811107552,
          -0.9619034116336757,
          -0.943437738928965,
          0.011937761051422559,
          -0.001453429573145844,
          0.22515259167291798,
          -0.6767279174050477,
          1.4868453720616606,
          0.026938933566743074,
          -0.6711586900503574,
          -0.31398254785002505,
          0.2988362189251773,
          0.3155785596904341,
          -0.2840069179591679,
          2.0135828884700167,
          0.3613444323169089,
          0.3543469114568954,
          0.9507990142321218,
          -2.1629731362965896,
          -0.4695808969763122,
          0.24373345354160467,
          -0.9378378166051642,
          -1.5906235496259575,
          -0.9088582499753389,
          0.10860624094535642,
          0.41519312047782414,
          -0.5191146293407146,
          0.20744612100876172,
          -0.4903585211257678,
          -0.9494330807397294,
          -0.9649641469804334,
          2.4529261001629408,
          1.6302232438763604,
          2.381050832816107,
          -0.3013889743665306,
          0.2767944562183567,
          -1.7661580944220054,
          -0.6381730856004859,
          0.23982873918614656,
          -1.4828499903320276,
          -0.546342142239867,
          0.7608586322237068,
          -1.0829936542659038,
          -0.9234421675395872,
          -0.7410240709649034,
          -0.2650704913624812,
          0.2192913524987012,
          -1.3589010640119357,
          0.1914069108425802,
          1.2671708212700459,
          -0.34230894601970374,
          0.08229053675711806,
          1.5617050608029661,
          -1.268766132319213,
          -0.6279777742985726,
          2.265821388809129,
          -0.516468950738813,
          -0.7746133288872099,
          0.02720273286785943,
          -1.7574097415121503,
          -1.2809106585045014,
          0.13096902828204704,
          0.027522985110846526,
          -0.9320573597055797,
          -0.8875586783075624,
          0.012590998234991681,
          -1.0047191835363152,
          -0.33916579487626874,
          -0.9850774668452194,
          0.5498892743955668,
          0.06591248415360967,
          0.31318283000089947,
          2.2411916535894716,
          0.1913827490045533,
          -2.0981877058826472,
          0.11183693369975495,
          1.780277791140019,
          0.7476201551145053,
          -0.0009869050030940855,
          0.0011409556861533706,
          -0.0693089671197471,
          0.8098080469567974,
          -0.4389718551103123,
          2.1069333448707583,
          2.175378371276965,
          1.9271647012495967,
          2.073342453097865,
          1.5648140824094505,
          1.4242610756096918,
          2.07938297150707,
          1.9804449888026372,
          2.9920711784040646,
          -0.7518034036484299,
          2.522590629406479,
          -1.2682739398905103,
          -0.09980482281417415,
          -1.1052074096376776,
          -0.8299400429727286,
          1.0062087366433776,
          -1.013218188449233,
          -2.390767668814267,
          -1.3605939709726198,
          -0.945318433464573,
          -0.8912551232455489,
          0.5535062895371415,
          2.1396124685937803,
          2.2136931515154963,
          2.169717583663725,
          1.8133062731927745,
          0.7461105579405275,
          -0.7323155919625515,
          -1.895438466174705,
          -1.1809529987001846,
          0.6977066281547276,
          -0.46175394342046666,
          1.1915261015889862,
          0.17656145931714254,
          -1.24546707393555,
          -0.6801318382939079,
          -2.4570490868894237,
          -1.218437192308868,
          -0.5736292729865133,
          -1.7818185284644745,
          0.9249855144093279,
          -0.17516713594706274,
          0.4088575403553769,
          4.684113909249456,
          -0.6760468509096955,
          0.7920124453151234,
          0.9714086854846276,
          0.44313315545206755,
          1.0681021151151235,
          -0.5759762078147335,
          -0.52252984010375,
          -1.1014317615121738,
          2.4441125085004822,
          -0.07686880704975213,
          2.5847784101595677,
          0.03036176252969751,
          0.2751300123001837,
          1.3097265481935543,
          0.06391829646261245,
          0.17065905811051185,
          1.6002881430516216,
          2.3631488892959673,
          -0.9041597308462889,
          -1.0133118721655272,
          -0.5767409968116667,
          -0.2122791707497028,
          0.4419694847102235,
          1.4268506644657386,
          -0.451955352390454,
          0.9061578750520427,
          1.259330818341951,
          -0.00384819726447796,
          0.8109952591409387,
          -0.8872626146013357,
          -0.08078603023893555,
          1.0764342028129639,
          -0.3069770617068398,
          -0.4797309779184903,
          0.017157218233299135,
          -0.8184306906759199,
          0.016579853614455436,
          0.1576596781908078,
          -0.6003658582215191,
          0.7239979849324739,
          1.156847331960052,
          -0.4187551124800981,
          -1.3279162554664699,
          0.8759425857097267,
          -1.242694536068097,
          0.17919484174867337,
          -0.08572662475261446,
          0.4596043193724658,
          2.3726167893837395,
          1.3234421206948594,
          3.3832845446517266,
          0.00345604240021112,
          -1.533061862750413,
          -0.8417936313458236,
          -0.8417936313458236,
          -0.21356251271599327,
          -1.1920747173474338,
          0.1046267195188255,
          0.38707316279559906,
          -1.4055305583636322,
          -1.6760524629231734,
          -0.9907229560701616,
          -0.7530240459394286,
          -0.5805687122121501,
          -0.9598812111417907,
          -0.884942926021834,
          -2.2138887132825573,
          -1.0042210867071597,
          -1.312101111772442,
          -0.7857876532928788,
          -2.3066186957972192,
          -2.0515316881120187,
          1.4263258587104073,
          -0.8374215611733666,
          -1.887301393245652,
          -0.11258115497417,
          -1.596732378856001,
          -0.8164609435221255,
          0.11009195948096812,
          -1.9457634429419342,
          -1.4200442065377923,
          -1.4756990954671994,
          -2.427908918938514,
          -1.5960226486275597,
          -1.506577960783432,
          -0.6918487392941259,
          -0.9877097936493395,
          -1.0144837098200308,
          0.2746176307035233,
          -0.7432942485103402,
          -1.435366747962995,
          -0.6936371281819003,
          -1.5185226699106835,
          -1.8012004013713765,
          -1.886907207303069,
          -1.5489656049617195,
          -1.2579054009012565,
          0.25030442573687833,
          0.11743490117351905,
          -1.373284275499162,
          1.2252760420892197,
          2.0702359585244765,
          -3.3298701434107874,
          3.846994562731007,
          -0.6178699219020537,
          -1.4504505036723587,
          -2.4056682577468904,
          1.3317045552612676,
          1.513723453065883,
          -0.6189946832764521,
          -0.6498943013233485,
          -1.3569760218821862,
          0.7904757011310025,
          0.08167275424148525,
          -0.7992320966592578,
          -0.8615640348615557,
          -1.3732093378701098,
          -1.0685074322887662,
          -1.8366623438710867,
          -0.26912268034680215,
          -1.0977512379905183,
          2.6725037233100695,
          -0.13505187763952883,
          2.2194397288260572,
          -0.4730584166276951,
          -0.05322358455085931,
          -0.8785191325273789,
          -0.821553098179761,
          -0.028574718760871986,
          0.6394210999441962,
          -0.20886372880302867,
          0.8126454881728611,
          1.0888124850487326,
          -0.6555169322637063,
          -0.772990116454015,
          0.931791651296843,
          2.8353290239396522,
          -0.5090903023156648,
          -0.39200728571424825,
          0.32442195732119783,
          -0.04027544294208942,
          0.5498892743955668,
          0.2968014827205587,
          -0.09496111128540838,
          -2.208977011536008,
          -2.208977011536008,
          0.4160522409338983,
          1.7607543239743737,
          1.2980598129076186,
          -0.5793168766673779,
          2.424701358614634,
          0.5542232183802543,
          0.1503985472951721,
          -0.3590338947352079,
          0.10034509537636982,
          -1.3446306075554788,
          -0.6480422125997367,
          0.7114497745198463,
          -0.00756548462983054,
          0.052109769491909666,
          -0.8066296422695353,
          1.8382032440817258,
          0.423927871949787,
          1.881871138066635,
          -0.9182759679934777,
          -1.5036656314965522,
          -0.9971372417680705,
          -0.7132605346246487,
          -1.007248143587436,
          -0.4706101204132362,
          -0.47039969877437815,
          0.9488071313276777,
          -0.4061550427737795,
          2.370499590143423,
          -0.21870479597334228,
          2.1881480391857244,
          -0.5050472276524333,
          -0.6402381516029388,
          2.065571314242989,
          -0.8772952244354575,
          2.601401447147011,
          2.1680622501223796,
          1.0670184943135799,
          -0.052199837784141646,
          -0.5847107897707696,
          1.2654337546183811,
          1.4719778963547954,
          0.4551741659564624,
          1.9225590454736143,
          -0.08914865219859208,
          -1.578649308493645,
          0.310159410590462,
          1.269302778725722,
          2.3684981566719197,
          1.09041865243031,
          -0.8135519205334345,
          0.28133886540860886,
          1.0900427038051699,
          -0.13351826736912759,
          0.8178794085222707,
          1.2230482682031867,
          1.239174779086402,
          -1.212349704129529,
          2.0308864333858976,
          -1.4626168613148005,
          -1.4386581846587083,
          1.809919474504486,
          -1.0663992870675023,
          0.03258589929068247,
          1.3705652889446247,
          -0.7141191925005138,
          2.8940988817642697,
          0.4183143400143702,
          1.4214190013024395,
          -1.3291404301473881,
          3.6815191759199193,
          -1.0089549114015472,
          0.5730435177016836,
          -0.49535623964311243,
          4.053641993344289,
          0.620562705248608,
          0.06351748687542838,
          -0.06140505265545972,
          0.39171389069153256,
          3.708629949625012,
          0.7146384204998679,
          2.751587944336897,
          3.48621757249885,
          3.1815663644971552,
          0.3461194387510578,
          1.6828076728904202,
          0.7215363230996652,
          -1.3664022819207864,
          -0.4805928791988067,
          -1.0977298534346194,
          -1.3610388671919893,
          -1.6090325915492452,
          1.7162816088584407,
          -0.34692898531365635,
          1.4958596045198282,
          -0.22657881911621555,
          1.5906732142968212,
          1.8013220318368495,
          -1.0718639838165263,
          1.9142805710428636,
          -1.91207989805184,
          -0.9914933481065044,
          -0.8464109938314947,
          -0.4902769738072697,
          -0.895654913334424,
          -1.0311864291610486,
          -1.3646188959481664,
          -0.2726649810131781,
          -1.040142852621154,
          2.3279074458555304,
          3.082409170630948,
          -1.4156436732931899,
          -0.6622884123433964,
          -0.7772470414091763,
          1.672169636984388,
          -0.6067839179822627,
          -0.10704483824293705,
          0.9342053241711253,
          -0.020367389407324667,
          -0.21579790590992964,
          0.9342053241711253,
          0.970664688370806,
          -0.4640029271418495,
          -1.1457802449375645,
          -0.7874341482244197,
          1.6371376863731626,
          -0.8923471793083204,
          0.2505565771796251,
          -0.44262569801718277,
          0.00442460353393381,
          1.6224320230792764,
          -0.9253548868394469,
          0.8138047858386034,
          0.28751958092463076,
          -0.9678251741923667,
          -1.714415330193951,
          -1.1879753883471087,
          -0.7172201850398515,
          2.42098435450852,
          -0.1414318574370305,
          0.9509237035110233,
          -0.6790266334749666,
          -1.1217225465501108,
          -0.023849822419364085,
          1.6051222874434823,
          -0.6812765347311643,
          -0.4816334258039321,
          -0.14468156036929591,
          -0.29733651649780524,
          2.385278091470169,
          0.20689619331509565,
          -0.23520766714276087,
          0.025476866102442083,
          1.556019855910128,
          0.3235616433645209,
          0.3116002791367431,
          3.723497716137653,
          0.7085080460815834,
          2.6427900184387108,
          1.0230214060682734,
          1.8599990895426366,
          -0.4098957630460532,
          -1.6359352828697842,
          -1.6520481759200971,
          -0.8099100303903242,
          1.2726678648862697,
          0.5020976138607518,
          0.8330937638779141,
          -0.07951336245848327,
          -1.3815466286390794,
          -0.303202130968598,
          -0.6577719064079157,
          -0.6417846660145146,
          -0.9445603982839635,
          -0.7470340736567299,
          1.0673321515873069,
          0.4954495392625653,
          1.2343035662135204,
          -0.7711745512256503,
          3.274650006073697,
          -1.5130488555631383,
          -0.8879933732034494,
          0.8554470367958207,
          -0.8189153692870286,
          -0.15659888428201982,
          -0.34362333512919147,
          0.7920124453151234,
          1.1253828041830582,
          -0.9824534103983343,
          -0.21554729430174285,
          0.2449637669932626,
          0.5106548364372753,
          -0.7333747491662481,
          -1.9085182266435923,
          -0.4985440325065242,
          -1.3588522095042115,
          0.24619643413669265,
          -0.5956820285071089,
          -1.22619658210755,
          -0.07303501175501939,
          1.7511421251705004,
          -0.34639970007899473,
          -0.842938453043523,
          -0.24575704632777362,
          1.1148289204998236,
          -0.8899144307126924,
          -0.7241570784921814,
          -0.8015775718228547,
          -0.8637867629430485,
          -2.804730713655922,
          -0.9634571559049203,
          0.0993056658686538,
          -0.6785515826072782,
          0.1519758407181743,
          -0.06807212923559924,
          -1.2620236461235412,
          -1.6687046669964292,
          1.0288376296945505,
          1.3166127116257023,
          1.7187391218145884,
          -1.6808005231009684,
          -0.3792017610132697,
          0.9956730389964352,
          -0.47597695722895983,
          -1.9652757216056997,
          -0.12530260606516339,
          -0.7399339580454646,
          -0.9131690742055308,
          -0.42203539271285584,
          1.334041709978442,
          1.3336098132618008,
          -3.002180203966472,
          -0.42735796277437194,
          -2.581968379587912,
          -0.2203081727120731,
          -0.07776873435295133,
          2.0255197914517074,
          0.5144860769328562,
          0.1924883534607798,
          -0.8696363012894628,
          1.9717266110336653,
          -0.6755860740702103,
          -2.581968379587912,
          -1.029010861540475,
          -1.1252999618621762,
          -0.057807996797422934,
          -1.6925661003722599,
          -0.07062743719347815,
          -0.619565338162614,
          -0.3969526323522482,
          -0.30987581782925105,
          0.5232863163787809,
          -0.06134478541345932,
          1.0578770024545987,
          -1.011706967483939,
          1.0964874579838773,
          -0.9983435704709355,
          -0.39373321603414746,
          0.37486435077582875,
          -0.4749820843412283,
          -0.4756777785177054,
          -1.1554643154498296,
          1.1915793053899022,
          -0.41441333240453704,
          -0.5737788919996696,
          -0.6131516612871012,
          -1.1775249235710916,
          0.024962002180165702,
          0.8366962715721393,
          -0.5953832102134694,
          -0.21762582764664004,
          -0.2461661858885655,
          0.24419357842037268,
          -1.0573691273154169,
          -1.7575151035658179,
          0.15613746861544672,
          1.3177464720180316,
          -0.08960316965407689,
          -1.2892210937022657,
          0.025660854850937866,
          -0.8493153378429593,
          3.4557661926276957,
          0.05753140717106828,
          -0.8116288697784483,
          -1.0308026952325453,
          -1.4042626828358689,
          2.4462395248734943,
          1.4968276385353103,
          1.6666319378345158,
          2.567840715042896,
          -0.3174609936712595,
          1.655612798158152,
          0.2464404173838646,
          -0.4631022013206886,
          1.527767322672943,
          -0.17385675952176666,
          1.8052068746567242,
          -0.25287252803486643,
          2.2733712550110807,
          0.04036559102808842,
          2.545402686998969,
          1.4599416401854068,
          0.7088937347571237,
          -0.969770529576857,
          -2.3533181665068827,
          0.3836158788936163,
          -0.6868324255418967,
          -0.6952952407023314,
          3.9121535143103534,
          1.3500478074301123,
          2.852897913206766,
          1.4144261430062834,
          1.2714754603891822,
          2.5302922627472277,
          1.9204175078431138,
          1.8125331051800246,
          4.163750685638674,
          2.456862359263134,
          0.825832608738731,
          2.6688973578486395,
          1.790406694727915,
          0.8079925137532148,
          2.6543090489543393,
          -1.3781698148464843,
          1.3846771549897137,
          0.0817889564800538,
          -0.37975131729005634,
          -0.6650113765588879,
          4.050305891192631,
          1.4377553943489478,
          2.5547793433304333,
          0.029341007675218633,
          -0.5860101953262696,
          -0.4528348927584494,
          -0.37244322468643853,
          2.987289696615461,
          -0.04648573850455352,
          -0.3379980835312244,
          2.6962440118169124,
          1.2446519388655177,
          1.1758294590895297,
          -0.14646352387073208,
          -2.25910303221298,
          -0.12436495318290294,
          0.24473913896173535,
          -1.7370187508671904,
          -1.257039008204367,
          -1.1837783298717544,
          1.1952354327407873,
          1.6335110711877394,
          1.014483010794913,
          0.5560897782496923,
          1.831974585277015,
          -1.4200442065377923,
          -0.5198516402536866,
          0.019136323575305276,
          -0.3315971607006379,
          0.5731927118492405,
          3.3705357985973508,
          0.004610883379722477,
          -1.0827707058086538,
          -0.7450626722081654,
          -0.5349729108085436,
          -0.7216696003221357,
          -0.9545840629662306,
          -0.6703678700103557,
          -1.3041342643193068,
          -0.9208978799023017,
          0.43585542476966627,
          -1.1067635539492164,
          1.2898266003564571,
          -1.0168263823905186,
          -0.8073537199743632,
          -1.9370930384448284,
          -1.115048444380209,
          -0.8374880688802196,
          0.1860346150168754,
          -1.291257529554826,
          -0.6155731441953555,
          -1.1425951270967614,
          1.4468690892135558,
          -1.4366022981319224,
          -0.3607193402543866,
          1.182971794381914,
          -2.0394224678541635,
          -0.22977882756749737,
          1.439929982346434,
          1.9104528983775428,
          -2.2898085764929714,
          2.146142936268338,
          -0.052263661332024404,
          -1.320021580332617,
          -1.40280782335583,
          0.6550629223613783,
          -0.3446832575673648,
          -1.6096238188485112,
          -0.9703037247495868,
          -0.8512634519100344,
          -1.1160188338193153,
          -0.771359884871317,
          -0.8203413665642236,
          2.124608679060247,
          -0.7112568098421141,
          -1.3855004861193967,
          -1.362977012324573,
          -1.2085592017923508,
          -1.1227650947518069,
          -1.505934845161103,
          1.9175246923694877,
          -0.3732925645151617,
          -0.04939057447128053,
          -0.45814819549047453,
          -1.416065021244275,
          -1.5646353096138927,
          0.3239880699088444,
          1.2386007109814816,
          -1.1255284250752882,
          0.801494593615796,
          -1.446924126345568,
          0.8945763181144594,
          -1.828105949776919,
          -0.6922448030385748,
          -0.5334205336360837,
          -0.554493082814027,
          0.03545909921297821,
          1.116941741178222,
          1.701959772602131,
          0.39449054369951175,
          -0.3185549823726907,
          0.8366962715721393,
          1.395086085390412,
          -2.0521814586917504,
          0.6276817427290722,
          -0.21229096123957372,
          -0.2513960392421268,
          -2.6970129755706576,
          0.912595598293102,
          -2.169628559835962,
          0.7955254533651143,
          -1.141125128557331,
          -1.3293924989727008,
          -1.4115844799151074,
          -1.8510207527899072,
          -0.2347239895237322,
          0.020927961923760945,
          0.2449637669932626,
          -0.3493048340702457,
          -0.29547131105579816,
          -0.7038695703917781,
          -0.3052818669213291,
          -1.6090614318840526,
          -0.32539241808793806,
          0.21202742010510878,
          -0.2405581565829709,
          -0.5677837600268806,
          -0.7300007381200733,
          0.1173853679869896,
          1.6860356095532447,
          2.378048173098343,
          -0.9826322763736774,
          0.16062247580841973,
          0.03428868241000833,
          2.695327758088314,
          1.9095792944758336,
          -0.1751519277851847,
          -1.0900336639864319,
          -1.8907162326520053,
          1.4114503369278282,
          1.4114503369278282,
          -0.0220066833558448,
          0.6441285556441038,
          -0.8842192907816215,
          1.009406296628362,
          -0.8566538281134773,
          -0.4133666541435672,
          0.2218950509436801,
          1.096116215384331,
          2.715981440998934,
          -1.7265310366696613,
          -1.3640810901712046,
          -1.5999103725105164,
          -1.1338679757425885,
          1.1373073067026593,
          -0.606230234161985,
          -1.1795505905128136,
          -1.3814505581463392,
          -1.0940817002940586,
          -0.8269698440025316,
          -2.13540899372579,
          -1.549298209109738,
          -1.3355365486018107,
          -1.3438319136440515,
          -0.791707071036884,
          -0.7940598631359452,
          -1.1365480890776136,
          -2.1439137230847565,
          -0.21897454130070707,
          -0.694498126940634,
          -1.3422609172430522,
          -0.6621384922537163,
          1.5954599528377094,
          -0.8336753504993104,
          -0.31809751348720594,
          -1.197669037712715,
          0.16869030107431157,
          -0.8028230076963406,
          0.04947699742854239,
          -0.9552244858829021,
          -0.41129744281582964,
          -0.5789326580506398,
          0.9032389870164721,
          -0.20598175554924417,
          0.3127285242490653,
          -0.1734443151954178,
          -0.5198516402536866,
          1.095856600607059,
          -1.8776641566929815,
          0.34907397340861474,
          -0.25779385403941985,
          0.09366797870459849,
          -0.8340600685946602,
          -0.9895145538948427,
          -0.5778128238546523,
          1.8745838464749585,
          -1.0373637493046841,
          0.33207191546780396,
          -1.2676122094845244,
          -1.0688832561543289,
          -0.8131095913842995,
          -0.4099141426692699,
          -0.9732560527159273,
          -0.9386435473166174,
          -1.274636452105446,
          -1.364638510118988,
          -0.8618634733814738,
          -0.5436476665008777,
          -0.31694834008070705,
          -1.050025344463235,
          0.2568742689665169,
          0.7061428779393721,
          -1.4470837095418183,
          1.398114331639569,
          -0.5365048374540702,
          0.6638591455603999,
          -0.7437856309006939,
          0.11272868948222442,
          1.7372713039022945,
          -0.7332329293356137,
          2.142356181049296,
          1.9750686413948695,
          -1.4197589430126045,
          0.047294201890813334,
          -0.28759011522048256,
          1.3714658570547904,
          -0.6142805251285989,
          0.9912605821413628,
          -1.1588032409081452,
          -0.9245898013956754,
          -0.646373613639286,
          -0.05838057960015903,
          -0.01936255169499283,
          0.1465941961688477,
          0.20014042432766205,
          -1.5178511126484944,
          1.342347485394929,
          -0.9094679003050397,
          0.08927199647858484,
          1.7590078115738554,
          -0.2934028294810776,
          0.9647086261397525,
          2.245018062722003,
          2.7337612547851173,
          1.9051930931837555,
          1.261995802398648,
          1.1213373973863372,
          1.5003980994802681,
          0.16379569590519866,
          -1.3592723579148456,
          3.9121535143103534,
          -0.6679180751547469,
          0.3888593305922614,
          2.2845214862373524,
          -0.1157798342690835,
          -0.41638874500104556,
          -0.28964264759541314,
          -0.9190396261908624,
          -1.341166817469628,
          1.2070074150473948,
          -0.5607322308005589,
          -1.6504852343473972,
          -0.4537476428152485,
          -0.11522827268870266,
          -1.2301189049406767,
          -1.7363387000501107,
          -1.9856872341757057,
          -0.8314814200983403,
          -2.7809627637652765,
          -0.9685699424143969,
          -0.9267896539439767,
          -1.0789518656722659,
          -0.3394072159521812,
          -0.12180266455732501,
          -0.9497645912100354,
          2.286531329130773,
          0.00224463878690553,
          2.134490505345323,
          -0.09565733145740435,
          0.6796853103264608,
          -0.6791241337984143,
          -1.5349981836130198,
          -1.5194401914944478,
          -0.38467026256934883,
          -1.195941373739164,
          -1.1145491947526176,
          -0.941083826916009,
          -0.8834024528164283,
          1.2067297159179753,
          -0.4833083510659842,
          -0.18302001406373325,
          2.764257973795777,
          1.1917698829449908,
          0.7559183022220441,
          -1.2962000668454576,
          -0.2579731286029965,
          -0.6889519943075147,
          1.8522956572705644,
          0.1995505884235137,
          -1.082666446068539,
          -1.0367927754074364,
          -1.2532340861839384,
          1.1985850955225572,
          2.1830535240494218,
          -0.5821099936626168,
          0.42200334069040957,
          1.4206583215882598,
          -1.4006354945507755,
          -0.1422263961113282,
          0.45896499442919675,
          1.4298503729885872,
          -0.8774941054702318,
          -0.861924272995224,
          -0.7391979269659892,
          1.6796439789799567,
          1.035316714883081,
          -0.0174436607253474,
          1.035316714883081,
          -0.37485001166278403,
          -0.7093372039130856,
          -1.225594699300957,
          -0.15654089563236656,
          -0.045701269171395324,
          1.386234885371341,
          0.22671815879292093,
          2.667461147918317,
          -1.1827410934524536,
          -0.3777555837952549,
          0.011707017788258183,
          -0.5463259939082085,
          -0.2363621004592975,
          0.013494554803513931,
          -0.47981654466150225,
          0.1343857186481274,
          -0.21765027262068093,
          -1.1718569707819881,
          -0.03011451860929488,
          -1.0480749589586185,
          -0.12443255602926119,
          -1.5559941286062149,
          0.04052223651596093,
          2.169092761027622,
          2.0210107148404055,
          1.5889524656186604,
          -0.08536370565250627,
          -0.3086341407964631,
          1.6459612657309222,
          0.46718847751291925,
          -0.6110708009268997,
          -0.7726250749081492,
          0.018265194128820956,
          0.5113990657595848,
          0.4337955490143941,
          -0.38813710707746796,
          1.8614945157732923,
          0.6954269023019782,
          -1.017207227624771,
          -0.47904182503239756,
          -0.8007455185503808,
          0.49354688142196745,
          0.015380646458188249,
          1.932834900961933,
          1.6990622023832487,
          -1.8517267573435092,
          -1.3907844700222813,
          -0.9201329256866454,
          1.4989608234377134,
          1.0232802191456563,
          -0.07507004378023406,
          3.249927659993529,
          1.0650522513866607,
          -0.04882580759911937,
          -1.7729692195110298,
          2.0152343905509045,
          2.945309508022897,
          -0.5444013480452152,
          0.18724596602508822,
          1.5067114846148388,
          0.62141705364342,
          1.4566830910099697,
          0.8207516495355839,
          -0.009681118434339006,
          -0.5444013480452152,
          1.1215225352922382,
          -0.6368777976558546,
          0.8280016375600139,
          1.1777691566930089,
          -0.21368845260136776,
          -2.287661163844196,
          0.3836171891524364,
          2.5964439078823927,
          2.948873719592813,
          -0.34915063811904057,
          0.8207516495355839,
          2.2702869913253867,
          1.6990622023832487,
          2.864242808837524,
          -0.7723025251648552,
          -0.02928803463370434,
          -0.5522173371945008,
          0.18989166584836178,
          1.233346695953443,
          0.25961216972605045,
          0.8495799624044377,
          -0.16044069824495077,
          -0.7869858891514624,
          -0.7658106864805997,
          0.46784858126812073,
          3.645515665410746,
          -0.8404373411382838,
          0.3072945079655322,
          3.059087837166534,
          -0.3592779814723333,
          0.9920574227004695,
          -0.14628671720141992,
          -0.4862496508478812,
          3.1223101049921627,
          2.214414214926782,
          0.5341119805550709,
          -0.8255009312479643,
          -0.4465145053005862,
          1.0652666248950695,
          0.06363025994199499,
          -0.8885207823943322,
          -1.9652757216056997,
          0.8943991402145808,
          -0.7420559381378882,
          0.4359696326796653,
          -0.2595497108512719,
          -0.4778294360125604,
          -0.4503533394695414,
          -0.37081790579885154,
          -2.846121480614718,
          -0.2708016784941326,
          -0.020504529131992067,
          -1.5083153706933974,
          -1.3826086342018502,
          -0.8237544545722728,
          -1.1344941289700858,
          -1.6177541102255693,
          1.1342547270381893,
          -1.373916638301112,
          -0.8247956569225442,
          0.4281596944238299,
          0.24718258943520208,
          2.759393041047574,
          -0.10129529766101611,
          3.129597977831748,
          2.758724108140322,
          3.0706768406216143,
          1.047144960229514,
          -0.024786895138905935,
          -1.4807825169658029,
          -0.46648008832757715,
          -1.2060969128313712,
          -0.3105060790763456,
          -0.9200956336669025,
          2.571722453219466,
          -1.2601596795000294,
          -0.6068544337142937,
          -0.02285148791252764,
          -1.2705252431179468,
          -0.005619189859707754,
          -0.10135964615225057,
          -1.5194422448861935,
          -0.20153317120785758,
          -0.1725417610452775,
          -1.6369759962946249,
          -1.0329390505444285,
          1.0186104026323792,
          0.35067847881041037,
          -0.2481497729549454,
          1.5841575816548596,
          2.4180422119193286,
          -2.281202986754523,
          -0.8127311672748205,
          -1.0943078510743949,
          1.8431816758012942,
          -1.6488925499948495,
          1.3179664949835308,
          -0.963237551483894,
          -0.30495232120036564,
          -0.6307375748816412,
          -0.6938806061442857,
          -0.8261081056456053,
          -1.1939963357764076,
          -0.5150443342281089,
          -1.3206583521772077,
          -0.5692370271412575,
          0.42943486067946757,
          -1.8288057809896652,
          -1.4520251478046724,
          -0.6047340606068276,
          1.9551121604328752,
          1.8036698760914032,
          1.8122889993003926,
          -0.6961976812175373,
          -0.6250138924108917,
          -0.24945541685084305,
          1.0101060528992,
          0.364761953597916,
          -0.6538452621933316,
          -1.6247709073585397,
          -1.1340592433144276,
          -0.7523356918351728,
          -0.2592086839909328,
          -1.4170953532296506,
          1.5217790149823194,
          1.0124338882907102,
          1.4061252262889044,
          -0.1505218805229844,
          -2.5484380062052363,
          -2.298919523458204,
          0.17789928458432214,
          -0.6116926229230849,
          -1.0449966632501295,
          0.06213011327222389,
          -1.0735369621058581,
          -0.8245234922384052,
          -0.672327206195079,
          -1.4346305441918437,
          -0.6178699219020537,
          -0.5060300559693997,
          0.04885781213426098,
          -2.287920612602459,
          -1.6777924838399927,
          -0.8795337534963561,
          0.27315355339837827,
          -0.10922579328896882,
          1.1025766468170917,
          1.2252760420892197,
          -0.4456810152173986,
          0.2055482512583923,
          -0.2673433431408301,
          -0.634360848453243,
          -0.4737009585810161,
          1.9207289188449759,
          -0.12841910272376122,
          -1.2716738149969478,
          0.16653678969338973,
          -1.4819282042093171,
          0.6104624802335903,
          -0.9607882075578191,
          -0.44805448017904803,
          -0.7745523104182244,
          -0.250012006676752,
          -0.5197323869593506,
          -0.21984361508708813,
          -0.1974368419754028,
          0.05518549929528374,
          -1.2312272651198375,
          2.7354910822819685,
          2.1330252657071154,
          2.0625401713167553,
          -1.7395874884948355,
          0.47552889865974124,
          -0.10965845329470404,
          -0.6786385122511709,
          -0.5313219617650203,
          -0.3687889277598532,
          2.130303437682898,
          -0.36810844871225273,
          -0.34390519667105723,
          0.17007793492011108,
          1.4603663529897,
          0.3924097246625514,
          -1.5599709660657881,
          0.8163349855648812,
          2.9182243972425885,
          0.8354832114197737,
          1.434968820946051,
          1.8585826334004416,
          -0.712425578325539,
          -0.2924044885198956,
          1.5431877315571096,
          -1.06923832310738,
          -0.1750590650955,
          -1.65522011046027,
          -0.5857136758647679,
          -0.007203663958007977,
          -1.1752473239136765,
          0.4954495392625653,
          2.1628488311799376,
          1.7477798215207379,
          -0.7519283933098024,
          -1.2047747910278503,
          2.291250116466344,
          -0.0013637447863350997,
          -2.846121480614718,
          -2.216742429348255,
          -1.3615872078224434,
          -1.100663390379319,
          -0.9223505670690928,
          -0.14627969002991367,
          3.9057363926072637,
          0.8779029265413761,
          -0.04104740656043401,
          -0.1947095390186884,
          -0.9735734534147867,
          0.6667039257459854,
          0.8899685962125019,
          -0.38194157603153583,
          -1.3499909113802044,
          -1.2089811524496465,
          -1.1406113269892806,
          1.1977943667024176,
          1.5502812491918567,
          -1.1315760521842053,
          -0.7240869916085345,
          -1.0744941083085071,
          -1.1411168171849648,
          -1.1333202115647092,
          -0.9115741370228185,
          -0.9663618002189456,
          1.4024781525465808,
          -1.3469212075141115,
          -0.03884961809271859,
          0.5786850071169813,
          0.845841078116857,
          -1.3615872078224434,
          -1.3615872078224434,
          3.249927659993529,
          1.0900427038051692,
          2.1338083238629255,
          -1.9933411748194103,
          -1.8136873323275433,
          -0.11777403458722464,
          -1.3561139681504695,
          -1.2551073997868616,
          -1.3727557670458208,
          0.3892896212284084,
          -0.863690149674918,
          -0.9131421814858607,
          -1.1713574634269015,
          -0.30639755193762525,
          -1.337133974927073,
          -1.729449871159367,
          -0.838583999735669,
          -1.576461551151008,
          -0.7845844587116778,
          -0.8964989799242733,
          -1.8214801941957968,
          -1.2499719245753262,
          0.14432252373284296,
          -0.4606240029832062,
          -1.1718838945146786,
          -0.016630693487211662,
          -0.18829331429333704,
          -1.1547164829915577,
          0.3325178302753429,
          -0.6858416812694302,
          -0.6847328022071997,
          2.3365543521448293,
          1.8262772254217507,
          -1.6755162874366423,
          1.9618603458281902,
          0.15072303023784525,
          -0.9823139385540692,
          -0.33276978144093117,
          -0.5643589939033438,
          1.3592711704933256,
          1.730040656248197,
          -1.6235923301056165,
          -1.8599793667626439,
          0.91227932427825,
          -0.7065970905629164,
          -0.30947013275347784,
          -1.4985247888033113,
          3.214589374373393,
          -1.3341224663764675,
          -0.9890294774626274,
          1.3206467834090638,
          1.5750244757536724,
          1.256558981186187,
          -0.15139861399664784,
          -0.0062447893663716775,
          -1.1635842512576395,
          -1.2860433550558976,
          -1.289462642358581,
          -0.6673397818417,
          0.06317139388703275,
          -0.57994120098466,
          -0.14558769382109224,
          -0.6178699219020537,
          -1.4883624337480792,
          -0.021206184761540292,
          -0.3247824503887264,
          -0.32493974343371035,
          0.7734790021373961,
          0.6480550913980894,
          2.8868416640016985,
          -0.6045801049709811,
          0.017102309514061786,
          0.19694659198045836,
          -0.657133016192985,
          0.30430272192824515,
          0.8929653479083955,
          1.43149344169042,
          0.6306708434465134,
          0.44294291233259164,
          -0.6160373098204077,
          1.3717169331816093,
          -0.44697379324022907,
          -0.9609421189223105,
          2.0473076338420997,
          -0.9062117805673936,
          -0.6847554804645206,
          -0.6428427847768083,
          -0.8896045882964363,
          1.2785089922317772,
          -1.0089549114015472,
          -1.399202367520198,
          0.4472245442542798,
          -0.9403449811675693,
          -0.2800707962374853,
          -2.009514264272488,
          2.0515100982595467,
          0.1501769303110512,
          -0.535908426132112,
          -0.06819688468214255,
          -1.52284189379711,
          -1.5904709187831356,
          -2.953646912498469,
          -1.4156973242053839
         ],
         "yaxis": "y"
        }
       ],
       "layout": {
        "coloraxis": {
         "colorbar": {
          "title": {
           "text": "cluster_pca"
          }
         },
         "colorscale": [
          [
           0,
           "#0d0887"
          ],
          [
           0.1111111111111111,
           "#46039f"
          ],
          [
           0.2222222222222222,
           "#7201a8"
          ],
          [
           0.3333333333333333,
           "#9c179e"
          ],
          [
           0.4444444444444444,
           "#bd3786"
          ],
          [
           0.5555555555555556,
           "#d8576b"
          ],
          [
           0.6666666666666666,
           "#ed7953"
          ],
          [
           0.7777777777777778,
           "#fb9f3a"
          ],
          [
           0.8888888888888888,
           "#fdca26"
          ],
          [
           1,
           "#f0f921"
          ]
         ]
        },
        "legend": {
         "tracegroupgap": 0
        },
        "margin": {
         "t": 60
        },
        "template": {
         "data": {
          "bar": [
           {
            "error_x": {
             "color": "#2a3f5f"
            },
            "error_y": {
             "color": "#2a3f5f"
            },
            "marker": {
             "line": {
              "color": "#E5ECF6",
              "width": 0.5
             },
             "pattern": {
              "fillmode": "overlay",
              "size": 10,
              "solidity": 0.2
             }
            },
            "type": "bar"
           }
          ],
          "barpolar": [
           {
            "marker": {
             "line": {
              "color": "#E5ECF6",
              "width": 0.5
             },
             "pattern": {
              "fillmode": "overlay",
              "size": 10,
              "solidity": 0.2
             }
            },
            "type": "barpolar"
           }
          ],
          "carpet": [
           {
            "aaxis": {
             "endlinecolor": "#2a3f5f",
             "gridcolor": "white",
             "linecolor": "white",
             "minorgridcolor": "white",
             "startlinecolor": "#2a3f5f"
            },
            "baxis": {
             "endlinecolor": "#2a3f5f",
             "gridcolor": "white",
             "linecolor": "white",
             "minorgridcolor": "white",
             "startlinecolor": "#2a3f5f"
            },
            "type": "carpet"
           }
          ],
          "choropleth": [
           {
            "colorbar": {
             "outlinewidth": 0,
             "ticks": ""
            },
            "type": "choropleth"
           }
          ],
          "contour": [
           {
            "colorbar": {
             "outlinewidth": 0,
             "ticks": ""
            },
            "colorscale": [
             [
              0,
              "#0d0887"
             ],
             [
              0.1111111111111111,
              "#46039f"
             ],
             [
              0.2222222222222222,
              "#7201a8"
             ],
             [
              0.3333333333333333,
              "#9c179e"
             ],
             [
              0.4444444444444444,
              "#bd3786"
             ],
             [
              0.5555555555555556,
              "#d8576b"
             ],
             [
              0.6666666666666666,
              "#ed7953"
             ],
             [
              0.7777777777777778,
              "#fb9f3a"
             ],
             [
              0.8888888888888888,
              "#fdca26"
             ],
             [
              1,
              "#f0f921"
             ]
            ],
            "type": "contour"
           }
          ],
          "contourcarpet": [
           {
            "colorbar": {
             "outlinewidth": 0,
             "ticks": ""
            },
            "type": "contourcarpet"
           }
          ],
          "heatmap": [
           {
            "colorbar": {
             "outlinewidth": 0,
             "ticks": ""
            },
            "colorscale": [
             [
              0,
              "#0d0887"
             ],
             [
              0.1111111111111111,
              "#46039f"
             ],
             [
              0.2222222222222222,
              "#7201a8"
             ],
             [
              0.3333333333333333,
              "#9c179e"
             ],
             [
              0.4444444444444444,
              "#bd3786"
             ],
             [
              0.5555555555555556,
              "#d8576b"
             ],
             [
              0.6666666666666666,
              "#ed7953"
             ],
             [
              0.7777777777777778,
              "#fb9f3a"
             ],
             [
              0.8888888888888888,
              "#fdca26"
             ],
             [
              1,
              "#f0f921"
             ]
            ],
            "type": "heatmap"
           }
          ],
          "heatmapgl": [
           {
            "colorbar": {
             "outlinewidth": 0,
             "ticks": ""
            },
            "colorscale": [
             [
              0,
              "#0d0887"
             ],
             [
              0.1111111111111111,
              "#46039f"
             ],
             [
              0.2222222222222222,
              "#7201a8"
             ],
             [
              0.3333333333333333,
              "#9c179e"
             ],
             [
              0.4444444444444444,
              "#bd3786"
             ],
             [
              0.5555555555555556,
              "#d8576b"
             ],
             [
              0.6666666666666666,
              "#ed7953"
             ],
             [
              0.7777777777777778,
              "#fb9f3a"
             ],
             [
              0.8888888888888888,
              "#fdca26"
             ],
             [
              1,
              "#f0f921"
             ]
            ],
            "type": "heatmapgl"
           }
          ],
          "histogram": [
           {
            "marker": {
             "pattern": {
              "fillmode": "overlay",
              "size": 10,
              "solidity": 0.2
             }
            },
            "type": "histogram"
           }
          ],
          "histogram2d": [
           {
            "colorbar": {
             "outlinewidth": 0,
             "ticks": ""
            },
            "colorscale": [
             [
              0,
              "#0d0887"
             ],
             [
              0.1111111111111111,
              "#46039f"
             ],
             [
              0.2222222222222222,
              "#7201a8"
             ],
             [
              0.3333333333333333,
              "#9c179e"
             ],
             [
              0.4444444444444444,
              "#bd3786"
             ],
             [
              0.5555555555555556,
              "#d8576b"
             ],
             [
              0.6666666666666666,
              "#ed7953"
             ],
             [
              0.7777777777777778,
              "#fb9f3a"
             ],
             [
              0.8888888888888888,
              "#fdca26"
             ],
             [
              1,
              "#f0f921"
             ]
            ],
            "type": "histogram2d"
           }
          ],
          "histogram2dcontour": [
           {
            "colorbar": {
             "outlinewidth": 0,
             "ticks": ""
            },
            "colorscale": [
             [
              0,
              "#0d0887"
             ],
             [
              0.1111111111111111,
              "#46039f"
             ],
             [
              0.2222222222222222,
              "#7201a8"
             ],
             [
              0.3333333333333333,
              "#9c179e"
             ],
             [
              0.4444444444444444,
              "#bd3786"
             ],
             [
              0.5555555555555556,
              "#d8576b"
             ],
             [
              0.6666666666666666,
              "#ed7953"
             ],
             [
              0.7777777777777778,
              "#fb9f3a"
             ],
             [
              0.8888888888888888,
              "#fdca26"
             ],
             [
              1,
              "#f0f921"
             ]
            ],
            "type": "histogram2dcontour"
           }
          ],
          "mesh3d": [
           {
            "colorbar": {
             "outlinewidth": 0,
             "ticks": ""
            },
            "type": "mesh3d"
           }
          ],
          "parcoords": [
           {
            "line": {
             "colorbar": {
              "outlinewidth": 0,
              "ticks": ""
             }
            },
            "type": "parcoords"
           }
          ],
          "pie": [
           {
            "automargin": true,
            "type": "pie"
           }
          ],
          "scatter": [
           {
            "fillpattern": {
             "fillmode": "overlay",
             "size": 10,
             "solidity": 0.2
            },
            "type": "scatter"
           }
          ],
          "scatter3d": [
           {
            "line": {
             "colorbar": {
              "outlinewidth": 0,
              "ticks": ""
             }
            },
            "marker": {
             "colorbar": {
              "outlinewidth": 0,
              "ticks": ""
             }
            },
            "type": "scatter3d"
           }
          ],
          "scattercarpet": [
           {
            "marker": {
             "colorbar": {
              "outlinewidth": 0,
              "ticks": ""
             }
            },
            "type": "scattercarpet"
           }
          ],
          "scattergeo": [
           {
            "marker": {
             "colorbar": {
              "outlinewidth": 0,
              "ticks": ""
             }
            },
            "type": "scattergeo"
           }
          ],
          "scattergl": [
           {
            "marker": {
             "colorbar": {
              "outlinewidth": 0,
              "ticks": ""
             }
            },
            "type": "scattergl"
           }
          ],
          "scattermapbox": [
           {
            "marker": {
             "colorbar": {
              "outlinewidth": 0,
              "ticks": ""
             }
            },
            "type": "scattermapbox"
           }
          ],
          "scatterpolar": [
           {
            "marker": {
             "colorbar": {
              "outlinewidth": 0,
              "ticks": ""
             }
            },
            "type": "scatterpolar"
           }
          ],
          "scatterpolargl": [
           {
            "marker": {
             "colorbar": {
              "outlinewidth": 0,
              "ticks": ""
             }
            },
            "type": "scatterpolargl"
           }
          ],
          "scatterternary": [
           {
            "marker": {
             "colorbar": {
              "outlinewidth": 0,
              "ticks": ""
             }
            },
            "type": "scatterternary"
           }
          ],
          "surface": [
           {
            "colorbar": {
             "outlinewidth": 0,
             "ticks": ""
            },
            "colorscale": [
             [
              0,
              "#0d0887"
             ],
             [
              0.1111111111111111,
              "#46039f"
             ],
             [
              0.2222222222222222,
              "#7201a8"
             ],
             [
              0.3333333333333333,
              "#9c179e"
             ],
             [
              0.4444444444444444,
              "#bd3786"
             ],
             [
              0.5555555555555556,
              "#d8576b"
             ],
             [
              0.6666666666666666,
              "#ed7953"
             ],
             [
              0.7777777777777778,
              "#fb9f3a"
             ],
             [
              0.8888888888888888,
              "#fdca26"
             ],
             [
              1,
              "#f0f921"
             ]
            ],
            "type": "surface"
           }
          ],
          "table": [
           {
            "cells": {
             "fill": {
              "color": "#EBF0F8"
             },
             "line": {
              "color": "white"
             }
            },
            "header": {
             "fill": {
              "color": "#C8D4E3"
             },
             "line": {
              "color": "white"
             }
            },
            "type": "table"
           }
          ]
         },
         "layout": {
          "annotationdefaults": {
           "arrowcolor": "#2a3f5f",
           "arrowhead": 0,
           "arrowwidth": 1
          },
          "autotypenumbers": "strict",
          "coloraxis": {
           "colorbar": {
            "outlinewidth": 0,
            "ticks": ""
           }
          },
          "colorscale": {
           "diverging": [
            [
             0,
             "#8e0152"
            ],
            [
             0.1,
             "#c51b7d"
            ],
            [
             0.2,
             "#de77ae"
            ],
            [
             0.3,
             "#f1b6da"
            ],
            [
             0.4,
             "#fde0ef"
            ],
            [
             0.5,
             "#f7f7f7"
            ],
            [
             0.6,
             "#e6f5d0"
            ],
            [
             0.7,
             "#b8e186"
            ],
            [
             0.8,
             "#7fbc41"
            ],
            [
             0.9,
             "#4d9221"
            ],
            [
             1,
             "#276419"
            ]
           ],
           "sequential": [
            [
             0,
             "#0d0887"
            ],
            [
             0.1111111111111111,
             "#46039f"
            ],
            [
             0.2222222222222222,
             "#7201a8"
            ],
            [
             0.3333333333333333,
             "#9c179e"
            ],
            [
             0.4444444444444444,
             "#bd3786"
            ],
            [
             0.5555555555555556,
             "#d8576b"
            ],
            [
             0.6666666666666666,
             "#ed7953"
            ],
            [
             0.7777777777777778,
             "#fb9f3a"
            ],
            [
             0.8888888888888888,
             "#fdca26"
            ],
            [
             1,
             "#f0f921"
            ]
           ],
           "sequentialminus": [
            [
             0,
             "#0d0887"
            ],
            [
             0.1111111111111111,
             "#46039f"
            ],
            [
             0.2222222222222222,
             "#7201a8"
            ],
            [
             0.3333333333333333,
             "#9c179e"
            ],
            [
             0.4444444444444444,
             "#bd3786"
            ],
            [
             0.5555555555555556,
             "#d8576b"
            ],
            [
             0.6666666666666666,
             "#ed7953"
            ],
            [
             0.7777777777777778,
             "#fb9f3a"
            ],
            [
             0.8888888888888888,
             "#fdca26"
            ],
            [
             1,
             "#f0f921"
            ]
           ]
          },
          "colorway": [
           "#636efa",
           "#EF553B",
           "#00cc96",
           "#ab63fa",
           "#FFA15A",
           "#19d3f3",
           "#FF6692",
           "#B6E880",
           "#FF97FF",
           "#FECB52"
          ],
          "font": {
           "color": "#2a3f5f"
          },
          "geo": {
           "bgcolor": "white",
           "lakecolor": "white",
           "landcolor": "#E5ECF6",
           "showlakes": true,
           "showland": true,
           "subunitcolor": "white"
          },
          "hoverlabel": {
           "align": "left"
          },
          "hovermode": "closest",
          "mapbox": {
           "style": "light"
          },
          "paper_bgcolor": "white",
          "plot_bgcolor": "#E5ECF6",
          "polar": {
           "angularaxis": {
            "gridcolor": "white",
            "linecolor": "white",
            "ticks": ""
           },
           "bgcolor": "#E5ECF6",
           "radialaxis": {
            "gridcolor": "white",
            "linecolor": "white",
            "ticks": ""
           }
          },
          "scene": {
           "xaxis": {
            "backgroundcolor": "#E5ECF6",
            "gridcolor": "white",
            "gridwidth": 2,
            "linecolor": "white",
            "showbackground": true,
            "ticks": "",
            "zerolinecolor": "white"
           },
           "yaxis": {
            "backgroundcolor": "#E5ECF6",
            "gridcolor": "white",
            "gridwidth": 2,
            "linecolor": "white",
            "showbackground": true,
            "ticks": "",
            "zerolinecolor": "white"
           },
           "zaxis": {
            "backgroundcolor": "#E5ECF6",
            "gridcolor": "white",
            "gridwidth": 2,
            "linecolor": "white",
            "showbackground": true,
            "ticks": "",
            "zerolinecolor": "white"
           }
          },
          "shapedefaults": {
           "line": {
            "color": "#2a3f5f"
           }
          },
          "ternary": {
           "aaxis": {
            "gridcolor": "white",
            "linecolor": "white",
            "ticks": ""
           },
           "baxis": {
            "gridcolor": "white",
            "linecolor": "white",
            "ticks": ""
           },
           "bgcolor": "#E5ECF6",
           "caxis": {
            "gridcolor": "white",
            "linecolor": "white",
            "ticks": ""
           }
          },
          "title": {
           "x": 0.05
          },
          "xaxis": {
           "automargin": true,
           "gridcolor": "white",
           "linecolor": "white",
           "ticks": "",
           "title": {
            "standoff": 15
           },
           "zerolinecolor": "white",
           "zerolinewidth": 2
          },
          "yaxis": {
           "automargin": true,
           "gridcolor": "white",
           "linecolor": "white",
           "ticks": "",
           "title": {
            "standoff": 15
           },
           "zerolinecolor": "white",
           "zerolinewidth": 2
          }
         }
        },
        "xaxis": {
         "anchor": "y",
         "domain": [
          0,
          1
         ],
         "title": {
          "text": "x"
         }
        },
        "yaxis": {
         "anchor": "x",
         "domain": [
          0,
          1
         ],
         "title": {
          "text": "y"
         }
        }
       }
      }
     },
     "metadata": {},
     "output_type": "display_data"
    }
   ],
   "source": [
    "px.scatter(\n",
    "     projection, x = 'x', y = 'y', color= 'cluster_pca', hover_data=['x', 'y', 'generos']\n",
    ")"
   ]
  },
  {
   "cell_type": "code",
   "execution_count": 82,
   "metadata": {},
   "outputs": [
    {
     "data": {
      "text/plain": [
       "0.472237223046475"
      ]
     },
     "execution_count": 82,
     "metadata": {},
     "output_type": "execute_result"
    }
   ],
   "source": [
    "# Verificando o quanto os clusters são explicados\n",
    "pca_pipeline[1].explained_variance_ratio_.sum()"
   ]
  },
  {
   "cell_type": "code",
   "execution_count": 83,
   "metadata": {},
   "outputs": [
    {
     "data": {
      "text/plain": [
       "5.66875342173824"
      ]
     },
     "execution_count": 83,
     "metadata": {},
     "output_type": "execute_result"
    }
   ],
   "source": [
    "# Verificando o quanto os clusters são explicadas por cada coluna\n",
    "pca_pipeline[1].explained_variance_.sum()"
   ]
  },
  {
   "cell_type": "markdown",
   "metadata": {},
   "source": []
  }
 ],
 "metadata": {
  "kernelspec": {
   "display_name": "Python 3",
   "language": "python",
   "name": "python3"
  },
  "language_info": {
   "codemirror_mode": {
    "name": "ipython",
    "version": 3
   },
   "file_extension": ".py",
   "mimetype": "text/x-python",
   "name": "python",
   "nbconvert_exporter": "python",
   "pygments_lexer": "ipython3",
   "version": "3.10.12"
  }
 },
 "nbformat": 4,
 "nbformat_minor": 2
}
